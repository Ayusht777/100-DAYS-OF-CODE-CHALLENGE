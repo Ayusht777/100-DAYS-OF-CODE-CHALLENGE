{
 "cells": [
  {
   "cell_type": "markdown",
   "metadata": {},
   "source": [
    "# Day-43 of 100dayofcode [27/08/2022 Saturday]\n"
   ]
  },
  {
   "cell_type": "markdown",
   "metadata": {},
   "source": [
    "# Python Debugger – Python pdb"
   ]
  },
  {
   "cell_type": "markdown",
   "metadata": {},
   "source": [
    "Debugging in Python is facilitated by pdb module(python debugger) which comes built-in to the Python standard library. It is actually defined as the class Pdb which internally makes use of bdb(basic debugger functions) and cmd(support for line-oriented command interpreters) modules. The major advantage of pdb is it runs purely in the command line thereby making it great for debugging code on remote servers when we don’t have the privilege of a GUI-based debugger. \n",
    "\n",
    "pdb supports- \n",
    "\n",
    "    Setting breakpoints\n",
    "    Stepping through code\n",
    "    Source code listing\n",
    "    Viewing stack traces\n",
    "\n",
    "Starting Python Debugger \n",
    "\n",
    "There are several ways to invoke a debugger \n",
    "\n",
    "    To start debugging within the program just insert import pdb, pdb.set_trace() commands.  Run your script normally and execution will stop where we have introduced a breakpoint. So basically we are hard coding a breakpoint on a line below where we call set_trace().  With python 3.7 and later versions, there is a built-in function called breakpoint() which works in the same manner. Refer following example on how to insert set_trace() function."
   ]
  },
  {
   "cell_type": "code",
   "execution_count": 1,
   "metadata": {},
   "outputs": [],
   "source": []
  },
  {
   "cell_type": "code",
   "execution_count": 6,
   "metadata": {},
   "outputs": [
    {
     "name": "stdout",
     "output_type": "stream",
     "text": [
      "12 12\n"
     ]
    },
    {
     "ename": "TypeError",
     "evalue": "unsupported operand type(s) for +: 'int' and 'str'",
     "output_type": "error",
     "traceback": [
      "\u001b[1;31m---------------------------------------------------------------------------\u001b[0m",
      "\u001b[1;31mTypeError\u001b[0m                                 Traceback (most recent call last)",
      "\u001b[1;32me:\\PROGAMMING\\100 DAYS OF CODE CHALLENGE\\DAY-043\\DAY-043.ipynb Cell 5\u001b[0m in \u001b[0;36m<cell line: 4>\u001b[1;34m()\u001b[0m\n\u001b[0;32m      <a href='vscode-notebook-cell:/e%3A/PROGAMMING/100%20DAYS%20OF%20CODE%20CHALLENGE/DAY-043/DAY-043.ipynb#X10sZmlsZQ%3D%3D?line=1'>2</a>\u001b[0m y \u001b[39m=\u001b[39m \u001b[39m'\u001b[39m\u001b[39m12\u001b[39m\u001b[39m'\u001b[39m\n\u001b[0;32m      <a href='vscode-notebook-cell:/e%3A/PROGAMMING/100%20DAYS%20OF%20CODE%20CHALLENGE/DAY-043/DAY-043.ipynb#X10sZmlsZQ%3D%3D?line=2'>3</a>\u001b[0m \u001b[39mprint\u001b[39m(x,y)\n\u001b[1;32m----> <a href='vscode-notebook-cell:/e%3A/PROGAMMING/100%20DAYS%20OF%20CODE%20CHALLENGE/DAY-043/DAY-043.ipynb#X10sZmlsZQ%3D%3D?line=3'>4</a>\u001b[0m x\u001b[39m+\u001b[39;49m y\n",
      "\u001b[1;31mTypeError\u001b[0m: unsupported operand type(s) for +: 'int' and 'str'"
     ]
    }
   ],
   "source": [
    "x  = 12\n",
    "y = '12'\n",
    "print(x,y)\n",
    "x+ y # so to fix this we need to create a breakpoint"
   ]
  },
  {
   "cell_type": "code",
   "execution_count": 7,
   "metadata": {},
   "outputs": [],
   "source": [
    "import pdb\n",
    "\n"
   ]
  },
  {
   "cell_type": "code",
   "execution_count": 8,
   "metadata": {},
   "outputs": [
    {
     "name": "stdout",
     "output_type": "stream",
     "text": [
      "12 12\n",
      "--Return--\n",
      "None\n",
      "> \u001b[1;32mc:\\users\\ayush\\appdata\\local\\temp\\ipykernel_8852\\1047441670.py\u001b[0m(4)\u001b[0;36m<cell line: 4>\u001b[1;34m()\u001b[0m\n",
      "\n",
      "12\n",
      "'12'\n",
      "*** TypeError: unsupported operand type(s) for +: 'int' and 'str'\n",
      "*** TypeError: unsupported operand type(s) for -: 'int' and 'str'\n",
      "*** TypeError: unsupported operand type(s) for -: 'int' and 'str'\n"
     ]
    }
   ],
   "source": [
    "x  = 12\n",
    "y = '12'\n",
    "print(x,y)\n",
    "pdb.set_trace() # q to quit\n",
    "x+ y # so to fix this we need to create a breakpoint"
   ]
  },
  {
   "cell_type": "markdown",
   "metadata": {},
   "source": [
    "# Timing the python code\n",
    "\n",
    "There are many python modules like time, timeit, and DateTime in Python which can store the time at which a particular section of the program is being executed. By manipulating or getting the difference between times of beginning and ending at which a particular section is being executed we can calculate the time it took to execute the section. \n",
    "\n",
    "The following methods can be used to compute time difference:\n",
    "\n",
    "    \n",
    "    The time module in Python provides various time-related functions. This module comes under Python’s standard utility modules. time.time() method of the Time module is used to get the time in seconds since epoch. The handling of leap seconds is platform-dependent.\n",
    "    \n",
    "    Python DateTime module defines a function that can be primarily used to get the current time and date. now() function Return the current local date and time, which is defined under the DateTime module.\n",
    "    \n",
    "    The timeit module runs your snippet of code millions of times (the default value is 1000000) so that you get the statistically most relevant measurement of code execution time."
   ]
  },
  {
   "cell_type": "markdown",
   "metadata": {},
   "source": []
  },
  {
   "cell_type": "code",
   "execution_count": 4,
   "metadata": {},
   "outputs": [],
   "source": [
    "def func1(n):\n",
    "    return ([str(i) for i in range(n)])"
   ]
  },
  {
   "cell_type": "code",
   "execution_count": 5,
   "metadata": {},
   "outputs": [],
   "source": [
    "def func2(n):\n",
    "    return (list(map(str,range(n))))"
   ]
  },
  {
   "cell_type": "code",
   "execution_count": 13,
   "metadata": {},
   "outputs": [
    {
     "data": {
      "text/plain": [
       "['0', '1', '2', '3', '4']"
      ]
     },
     "execution_count": 13,
     "metadata": {},
     "output_type": "execute_result"
    }
   ],
   "source": [
    "func1(5)"
   ]
  },
  {
   "cell_type": "code",
   "execution_count": 14,
   "metadata": {},
   "outputs": [
    {
     "data": {
      "text/plain": [
       "['0', '1', '2', '3', '4']"
      ]
     },
     "execution_count": 14,
     "metadata": {},
     "output_type": "execute_result"
    }
   ],
   "source": [
    "func2(5)"
   ]
  },
  {
   "cell_type": "code",
   "execution_count": 15,
   "metadata": {},
   "outputs": [],
   "source": [
    "import time"
   ]
  },
  {
   "cell_type": "code",
   "execution_count": 17,
   "metadata": {},
   "outputs": [
    {
     "name": "stdout",
     "output_type": "stream",
     "text": [
      "TOTAL TIME :-> 0.3762385845184326\n"
     ]
    }
   ],
   "source": [
    "start = time.time()\n",
    "\n",
    "# main code\n",
    "\n",
    "func1(1000000)\n",
    "\n",
    "end = time.time()\n",
    "\n",
    "print(f\"TOTAL TIME :-> {end-start}\")"
   ]
  },
  {
   "cell_type": "code",
   "execution_count": 18,
   "metadata": {},
   "outputs": [
    {
     "name": "stdout",
     "output_type": "stream",
     "text": [
      "TOTAL TIME :-> 0.40730834007263184\n"
     ]
    }
   ],
   "source": [
    "start = time.time()\n",
    "\n",
    "# main code\n",
    "\n",
    "func2(1000000)\n",
    "\n",
    "end = time.time()\n",
    "\n",
    "print(f\"TOTAL TIME :-> {end-start}\")"
   ]
  },
  {
   "cell_type": "code",
   "execution_count": 24,
   "metadata": {},
   "outputs": [
    {
     "name": "stdout",
     "output_type": "stream",
     "text": [
      "TOTAL TIME :-> 0.0\n"
     ]
    }
   ],
   "source": [
    "start = time.time()\n",
    "\n",
    "# main code\n",
    "\n",
    "func1(100)\n",
    "\n",
    "end = time.time()\n",
    "\n",
    "print(f\"TOTAL TIME :-> {end-start}\")\n",
    "\n",
    "\n",
    "\n"
   ]
  },
  {
   "cell_type": "code",
   "execution_count": 23,
   "metadata": {},
   "outputs": [
    {
     "name": "stdout",
     "output_type": "stream",
     "text": [
      "TOTAL TIME :-> 0.0\n"
     ]
    }
   ],
   "source": [
    "start = time.time()\n",
    "\n",
    "# main code\n",
    "\n",
    "func2(100)\n",
    "\n",
    "end = time.time()\n",
    "\n",
    "print(f\"TOTAL TIME :-> {end-start}\")\n",
    "\n",
    "# the draw back is percison\n"
   ]
  },
  {
   "cell_type": "code",
   "execution_count": 25,
   "metadata": {},
   "outputs": [],
   "source": [
    "import timeit"
   ]
  },
  {
   "cell_type": "code",
   "execution_count": 28,
   "metadata": {},
   "outputs": [
    {
     "name": "stdout",
     "output_type": "stream",
     "text": [
      "0.277560699993046\n"
     ]
    }
   ],
   "source": [
    "# timeit.timeit()\n",
    "\n",
    "stmt = \"\"\"\n",
    "func1(10000)\n",
    "\"\"\"\n",
    "# defination\n",
    "setup1 = \"\"\"\n",
    "def func1(n):\n",
    "    return ([str(i) for i in range(n)])\n",
    "\n",
    "\"\"\"\n",
    "\n",
    "print(timeit.timeit(stmt,setup1,number=100))"
   ]
  },
  {
   "cell_type": "code",
   "execution_count": 31,
   "metadata": {},
   "outputs": [
    {
     "name": "stdout",
     "output_type": "stream",
     "text": [
      "21.01168179999513\n"
     ]
    }
   ],
   "source": [
    "# timeit.timeit()\n",
    "\n",
    "stmt = \"\"\"\n",
    "func1(10000)\n",
    "\"\"\"\n",
    "# defination\n",
    "setup1 = \"\"\"\n",
    "def func1(n):\n",
    "    return ([str(i) for i in range(n)])\n",
    "\n",
    "\"\"\"\n",
    "\n",
    "print(timeit.timeit(stmt,setup1,number=10000))"
   ]
  },
  {
   "cell_type": "code",
   "execution_count": 32,
   "metadata": {},
   "outputs": [
    {
     "name": "stdout",
     "output_type": "stream",
     "text": [
      "16.753049100007047\n"
     ]
    }
   ],
   "source": [
    "# timeit.timeit()\n",
    "\n",
    "stmt1 = \"\"\"\n",
    "func2(10000)\n",
    "\"\"\"\n",
    "# defination\n",
    "setup2 = \"\"\"\n",
    "def func2(n):\n",
    "    return (list(map(str,range(n))))\n",
    "\n",
    "\"\"\"\n",
    "\n",
    "print(timeit.timeit(stmt1,setup2,number=10000))"
   ]
  },
  {
   "cell_type": "code",
   "execution_count": 35,
   "metadata": {},
   "outputs": [
    {
     "name": "stdout",
     "output_type": "stream",
     "text": [
      "207 µs ± 16.2 µs per loop (mean ± std. dev. of 7 runs, 1,000 loops each)\n"
     ]
    }
   ],
   "source": [
    "%%timeit\n",
    "func1(1000)\n"
   ]
  },
  {
   "cell_type": "code",
   "execution_count": 36,
   "metadata": {},
   "outputs": [
    {
     "name": "stdout",
     "output_type": "stream",
     "text": [
      "183 µs ± 18.7 µs per loop (mean ± std. dev. of 7 runs, 1,000 loops each)\n"
     ]
    }
   ],
   "source": [
    "%%timeit\n",
    "func2(1000)"
   ]
  },
  {
   "cell_type": "code",
   "execution_count": 6,
   "metadata": {},
   "outputs": [],
   "source": [
    "from datetime import datetime\n",
    "\n",
    "\n"
   ]
  },
  {
   "cell_type": "code",
   "execution_count": 9,
   "metadata": {},
   "outputs": [
    {
     "name": "stdout",
     "output_type": "stream",
     "text": [
      "0:00:00.029921\n"
     ]
    }
   ],
   "source": [
    "start = datetime.now()\n",
    "\n",
    "func1(100000)\n",
    "\n",
    "end = datetime.now()\n",
    "\n",
    "print(end-start)"
   ]
  },
  {
   "cell_type": "code",
   "execution_count": 10,
   "metadata": {},
   "outputs": [
    {
     "name": "stdout",
     "output_type": "stream",
     "text": [
      "0:00:00.031915\n"
     ]
    }
   ],
   "source": [
    "start = datetime.now()\n",
    "\n",
    "func2(100000)\n",
    "\n",
    "end = datetime.now()\n",
    "\n",
    "print(end-start)"
   ]
  },
  {
   "cell_type": "code",
   "execution_count": null,
   "metadata": {},
   "outputs": [],
   "source": []
  }
 ],
 "metadata": {
  "kernelspec": {
   "display_name": "Python 3.10.6 64-bit",
   "language": "python",
   "name": "python3"
  },
  "language_info": {
   "codemirror_mode": {
    "name": "ipython",
    "version": 3
   },
   "file_extension": ".py",
   "mimetype": "text/x-python",
   "name": "python",
   "nbconvert_exporter": "python",
   "pygments_lexer": "ipython3",
   "version": "3.10.6"
  },
  "orig_nbformat": 4,
  "vscode": {
   "interpreter": {
    "hash": "d818f4a5b132e7f66021d3e7c19c2b7a86b89f9388f799e2d6a66075690a4386"
   }
  }
 },
 "nbformat": 4,
 "nbformat_minor": 2
}
