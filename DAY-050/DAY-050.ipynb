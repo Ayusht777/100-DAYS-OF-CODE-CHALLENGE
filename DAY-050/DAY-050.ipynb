{
 "cells": [
  {
   "cell_type": "markdown",
   "metadata": {},
   "source": [
    "# Day- 5️⃣0️⃣ of 100dayofcode [04/09/2022 Sunday]"
   ]
  },
  {
   "cell_type": "markdown",
   "metadata": {},
   "source": [
    "### Treeview widgets\n",
    "\n",
    "This widget is helpful in visualizing and permitting navigation over a hierarchy of items. It can display more than one feature of every item in the hierarchy. It can build a tree view as a user interface like in Windows explorer. Therefore, here we will use Tkinter in order to construct a hierarchical treeview in the Python GUI application. \n",
    "Let’s see an example of constructing a hierarchical treeview in Python GUI application. "
   ]
  },
  {
   "cell_type": "code",
   "execution_count": 8,
   "metadata": {},
   "outputs": [],
   "source": [
    "from tkinter import *\n",
    "from tkinter.ttk import *\n",
    "\n",
    "\n",
    "r  = Tk()\n",
    "\n",
    "r.title(\"TREEVIEW\")\n",
    "\n",
    "tree =Treeview(r)\n",
    "\n",
    "tree.pack()\n",
    "\n",
    "tree.insert(\"\",\"0\",\"item1\",text=\"mainbranch\")\n",
    "\n",
    "tree.insert(\"\",\"1\",\"item2\",text=\"sub-branch\")\n",
    "\n",
    "tree.insert(\"\",\"2\",\"item3\",text=\"subbranch\")\n",
    "\n",
    "\n",
    "\n",
    "tree.move(\"item2\",\"item1\",\"end\")\n",
    "\n",
    "\n",
    "tree.move(\"item3\",\"item1\",\"end\")\n",
    "\n",
    "\n",
    "\n",
    "\n",
    "\n",
    "\n",
    "\n",
    "\n",
    "\n",
    "\n",
    "\n",
    "r.mainloop()\n",
    "\n",
    " "
   ]
  },
  {
   "cell_type": "code",
   "execution_count": 6,
   "metadata": {},
   "outputs": [],
   "source": [
    "# Python program to illustrate the usage\n",
    "# of hierarchical treeview in python GUI\n",
    "# application using tkinter\n",
    "\n",
    "# Importing tkinter\n",
    "from tkinter import *\n",
    "\n",
    "# Importing ttk from tkinter\n",
    "from tkinter import ttk\n",
    "\n",
    "# Creating app window\n",
    "app = Tk()\n",
    "\n",
    "# Defining title of the app\n",
    "app.title(\"GUI Application of Python\")\n",
    "\n",
    "# Defining label of the app and calling a geometry\n",
    "# management method i.e, pack in order to organize\n",
    "# widgets in form of blocks before locating them\n",
    "# in the parent widget\n",
    "ttk.Label(app, text =\"Treeview(hierarchical)\").pack()\n",
    "\n",
    "# Creating treeview window\n",
    "treeview = ttk.Treeview(app)\n",
    "\n",
    "# Calling pack method on the treeview\n",
    "treeview.pack()\n",
    "\n",
    "# Inserting items to the treeview\n",
    "# Inserting parent\n",
    "treeview.insert('', '0', 'item1',\n",
    "\t\t\t\ttext ='GeeksforGeeks')\n",
    "\n",
    "# Inserting child\n",
    "treeview.insert('', '1', 'item2',\n",
    "\t\t\t\ttext ='Computer Science')\n",
    "treeview.insert('', '2', 'item3',\n",
    "\t\t\t\ttext ='GATE papers')\n",
    "treeview.insert('', 'end', 'item4',\n",
    "\t\t\t\ttext ='Programming Languages')\n",
    "\n",
    "# Inserting more than one attribute of an item\n",
    "treeview.insert('item2', 'end', 'Algorithm',\n",
    "\t\t\t\ttext ='Algorithm')\n",
    "treeview.insert('item2', 'end', 'Data structure',\n",
    "\t\t\t\ttext ='Data structure')\n",
    "treeview.insert('item3', 'end', '2018 paper',\n",
    "\t\t\t\ttext ='2018 paper')\n",
    "treeview.insert('item3', 'end', '2019 paper',\n",
    "\t\t\t\ttext ='2019 paper')\n",
    "treeview.insert('item4', 'end', 'Python',\n",
    "\t\t\t\ttext ='Python')\n",
    "treeview.insert('item4', 'end', 'Java',\n",
    "\t\t\t\ttext ='Java')\n",
    "\n",
    "# Placing each child items in parent widget\n",
    "treeview.move('item2', 'item1', 'end')\n",
    "treeview.move('item3', 'item1', 'end')\n",
    "treeview.move('item4', 'item1', 'end')\n",
    "\n",
    "# Calling main()\n",
    "app.mainloop()\n"
   ]
  },
  {
   "cell_type": "markdown",
   "metadata": {},
   "source": [
    "## Toplevel widget\n",
    "\n",
    "A Toplevel widget is used to create a window on top of all other windows. The Toplevel widget is used to provide some extra information to the user and also when our program deals with more than one application. These windows are directly organized and managed by the Window Manager and do not need to have any parent window associated with them every time.\n",
    "\n",
    "Syntax:  \n",
    "\n",
    "toplevel = Toplevel(root, bg, fg, bd, height, width, font, ..)\n",
    "\n",
    "Optional parameters  \n",
    "\n",
    "    root = root window(optional) \n",
    "    bg = background colour \n",
    "    fg = foreground colour \n",
    "    bd = border \n",
    "    height = height of the widget. \n",
    "    width = width of the widget. \n",
    "    font = Font type of the text. \n",
    "    cursor = cursor that appears on the widget which can be an arrow, a dot etc. \n",
    "\n",
    "Common methods  \n",
    "\n",
    "    iconify turns the windows into icon. \n",
    "    deiconify turns back the icon into window. \n",
    "    state returns the current state of window. \n",
    "    withdraw removes the window from the screen. \n",
    "    title defines title for window. \n",
    "    frame returns a window identifier which is system specific. "
   ]
  },
  {
   "cell_type": "code",
   "execution_count": 17,
   "metadata": {},
   "outputs": [],
   "source": [
    "r = Tk()\n",
    "r.geometry(\"300x300\")\n",
    "r.title(\"UNDERlevel\")\n",
    "\n",
    "l = Label(r,text=\"TOPLEVEL\")\n",
    "\n",
    "t = Toplevel()\n",
    "t.geometry(\"200x200\")\n",
    "t.title(\"Toplevel\")\n",
    "\n",
    "l.pack()\n",
    "\n",
    "r.mainloop()"
   ]
  },
  {
   "cell_type": "code",
   "execution_count": 56,
   "metadata": {},
   "outputs": [],
   "source": [
    "r = Tk()\n",
    "r.geometry(\"300x300\")\n",
    "r.title(\"TOPB\")\n",
    "\n",
    "l = Label(r,text=\"BUTTON\",width=25,font=(45))\n",
    "l.place(x=125,y=25)\n",
    "def intp():\n",
    "    t = Toplevel()\n",
    "    t.geometry(\"200x200\")\n",
    "    t.title(\"Toplevel\")\n",
    "    t.config(bg=\"#1af727\")\n",
    "    b = Button(t,text=\"EXIT\",width=20,command=t.destroy)\n",
    "    b.place(x=30,y=100)\n",
    "    \n",
    "def tp():\n",
    "    t = Toplevel()\n",
    "    t.geometry(\"200x200\")\n",
    "    t.title(\"Toplevel\")\n",
    "    t.config(bg=\"#1af7ed\")\n",
    "    b = Button(t,text=\"CLICK HERE\",width=20,command=intp)\n",
    "    b.place(x=30,y=100)\n",
    "    \n",
    "    \n",
    "    \n",
    "b = Button(r,text=\"CLICK HERE\",width=40,command=tp)\n",
    "b.place(x=25,y=100)\n",
    "\n",
    "\n",
    "\n",
    "r.mainloop()"
   ]
  },
  {
   "cell_type": "markdown",
   "metadata": {},
   "source": [
    "### file dialogs\n",
    "tkinter filedialog\n",
    "\n",
    "The tkinter filedialog comes in several types. Which type you need really depends on your applications needs. All of them are methods calls.\n",
    "\n",
    "    tkinter.filedialog.asksaveasfilename()\n",
    "    tkinter.filedialog.asksaveasfile()\n",
    "    tkinter.filedialog.askopenfilename()\n",
    "    tkinter.filedialog.askopenfile() \n",
    "    tkinter.filedialog.askdirectory()\n",
    "    tkinter.filedialog.askopenfilenames()\n",
    "    tkinter.filedialog.askopenfiles()"
   ]
  },
  {
   "cell_type": "code",
   "execution_count": 66,
   "metadata": {},
   "outputs": [
    {
     "name": "stdout",
     "output_type": "stream",
     "text": [
      "<_io.TextIOWrapper name=\"E:/PROGAMMING/CODE'S/c/ARRAY/2-D-ARRAY--01--INITIALIZTION-OF-2-D-ARRAY.c\" mode='r' encoding='cp1252'>\n"
     ]
    }
   ],
   "source": [
    "from tkinter import *\n",
    "from tkinter import filedialog\n",
    "r = Tk()\n",
    "r.geometry(\"400x400\")\n",
    "r.title(\"file opener\")\n",
    "\n",
    "\n",
    "def opnef():\n",
    "    x = filedialog.askopenfile() # single file opner\n",
    "    print(x)\n",
    "    \n",
    "b  = Button(r,text=\"OPEN\",command=lambda:opnef(),width=40) # we have to use lambda \n",
    "b.place(x=25,y=100)\n",
    "\n",
    "r.mainloop()"
   ]
  },
  {
   "cell_type": "code",
   "execution_count": 67,
   "metadata": {},
   "outputs": [
    {
     "name": "stdout",
     "output_type": "stream",
     "text": [
      "[<_io.TextIOWrapper name=\"E:/PROGAMMING/CODE'S/c/ARRAY/2-D-ARRAY--01--INITIALIZTION-OF-2-D-ARRAY.c\" mode='r' encoding='cp1252'>, <_io.TextIOWrapper name=\"E:/PROGAMMING/CODE'S/c/ARRAY/2-D-ARRAY--02--INITIALIZTION-OF-2-D-ARRAY.c\" mode='r' encoding='cp1252'>]\n"
     ]
    }
   ],
   "source": [
    "from tkinter import *\n",
    "from tkinter import filedialog\n",
    "r = Tk()\n",
    "r.geometry(\"400x400\")\n",
    "r.title(\"file opener\")\n",
    "\n",
    "\n",
    "def opnef():\n",
    "    x = filedialog.askopenfiles() # multi file opner\n",
    "    print(x)\n",
    "    \n",
    "b  = Button(r,text=\"OPEN\",command=lambda:opnef(),width=40) # we have to use lambda \n",
    "b.place(x=25,y=100)\n",
    "\n",
    "r.mainloop()"
   ]
  },
  {
   "cell_type": "code",
   "execution_count": 76,
   "metadata": {},
   "outputs": [
    {
     "name": "stdout",
     "output_type": "stream",
     "text": [
      "<_io.TextIOWrapper name=\"E:/PROGAMMING/CODE'S/PYTHON/rough.py\" mode='r' encoding='cp1252'>\n"
     ]
    }
   ],
   "source": [
    "from tkinter import *\n",
    "from tkinter import filedialog\n",
    "r = Tk()\n",
    "r.geometry(\"400x400\")\n",
    "r.title(\"file opener\")\n",
    "\n",
    "\n",
    "def opnef():\n",
    "    x = filedialog.askopenfile(mode='r',filetypes=[(\"Python Files\",\".py\")])\n",
    "    print(x)\n",
    "    \n",
    "b  = Button(r,text=\"OPEN\",command=lambda:opnef(),width=40) # we have to use lambda \n",
    "b.place(x=25,y=100)\n",
    "\n",
    "r.mainloop()"
   ]
  },
  {
   "cell_type": "code",
   "execution_count": 82,
   "metadata": {},
   "outputs": [
    {
     "name": "stdout",
     "output_type": "stream",
     "text": [
      "<_io.TextIOWrapper name=\"E:/PROGAMMING/CODE'S/PYTHON/1/newfile.txt\" mode='r' encoding='cp1252'>\n",
      "line one\n",
      " \n",
      "line two\n",
      " \n",
      "line three\n",
      "\n"
     ]
    }
   ],
   "source": [
    "from tkinter import *\n",
    "from tkinter import filedialog\n",
    "r = Tk()\n",
    "r.geometry(\"400x400\")\n",
    "r.title(\"file opener\")\n",
    "\n",
    "\n",
    "def opnef():\n",
    "    x = filedialog.askopenfile(mode='r',filetypes=[(\"Text Files\",\".txt\")])\n",
    "    print(x)\n",
    "    print(x.read())\n",
    "    \n",
    "b  = Button(r,text=\"OPEN\",command=lambda:opnef(),width=40) # we have to use lambda \n",
    "b.place(x=25,y=100)\n",
    "\n",
    "r.mainloop()"
   ]
  },
  {
   "cell_type": "code",
   "execution_count": 87,
   "metadata": {},
   "outputs": [
    {
     "name": "stdout",
     "output_type": "stream",
     "text": [
      "E:/PROGAMMING/CODE'S/PYTHON/1/Files.ipynb\n"
     ]
    }
   ],
   "source": [
    "from tkinter import *\n",
    "from tkinter import filedialog\n",
    "r = Tk()\n",
    "r.geometry(\"400x400\")\n",
    "r.title(\"file opener\")\n",
    "\n",
    "\n",
    "def opnef():\n",
    "    x = filedialog.askopenfilename(defaultextension=\"*.*\")\n",
    "    print(x)\n",
    "    \n",
    "b  = Button(r,text=\"OPEN\",command=lambda:opnef(),width=40) # we have to use lambda \n",
    "b.place(x=25,y=100)\n",
    "\n",
    "r.mainloop()"
   ]
  },
  {
   "cell_type": "markdown",
   "metadata": {},
   "source": [
    "## asksaveasfile() function in Tkinter\n",
    "\n",
    "While working with files one may need to open files, do operations on files and after that to save file. asksaveasfile() is the function which is used to save user’s file (extension can be set explicitly or you can set default extensions also). This function comes under the class filedialog."
   ]
  },
  {
   "cell_type": "code",
   "execution_count": 105,
   "metadata": {},
   "outputs": [],
   "source": [
    "# importing all files from tkinter\n",
    "\n",
    "from tkinter import *\n",
    "from tkinter import ttk\n",
    "from tkinter.filedialog import asksaveasfile\n",
    "\n",
    "r = Tk()\n",
    "r.geometry(\"400x400\")\n",
    "r.title(\"savefiles\")\n",
    "r.config(bg=\"yellow\")\n",
    "\n",
    "def save():\n",
    "    s = asksaveasfile(filetypes=[(\"All Files *.*\",\".*\"),(\"Python Files *.py\",'.py'),(\"Text Files *.txt\",'.txt'),(\"Image Files *.png\",\".png\")],defaultextension=\"files\")\n",
    "    \n",
    "b = Button(r,text=\"Save AS\",command=lambda:save(),width=25,fg=\"white\",bg='blue')\n",
    "\n",
    "e = Button(r,text=\"Exit\",command=r.destroy,width=25,fg='white',bg=\"red\")\n",
    "\n",
    "\n",
    "b.place(x=100,y=10)\n",
    "e.place(x=100,y=50)\n",
    "\n",
    "r.mainloop()\n",
    "\n"
   ]
  },
  {
   "cell_type": "markdown",
   "metadata": {},
   "source": [
    "### askquestion Dialog\n",
    "\n",
    "In Every Application, we need some Message to Display like “Do You Want To Close ” or showing any warning or Something information. For this Tkinter provide a library like messagebox. By using the message box library we can show serval Information, Error, Warning, Cancellation ETC in the form of Message-Box. It has a Different message box for a different purpose. \n",
    "\n",
    "    showinfo() – To display some important information .\n",
    "    showwarning() – To display some type of Warning.\n",
    "    showerror() –To display some Error Message.\n",
    "    askquestion() – To display a dialog box that asks with two options YES or NO.\n",
    "    askokcancel() – To display a dialog box that asks with two options OK or CANCEL.\n",
    "    askretrycancel() – To display a dialog box that asks with two options RETRY or CANCEL.\n",
    "    askyesnocancel() – To display a dialog box that asks with three options YES or NO or CANCEL.\n",
    "\n",
    "Syntax of the Message-Box Functions:  \n",
    "\n",
    "  messagebox.name_of_function(Title, Message, [, options])\n",
    "\n",
    "    name_of_function – Function name that which we want to use .\n",
    "    Title – Message Box’s Title.\n",
    "    Message – Message that you want to show in the dialog.\n",
    "    Options –To configure the option\n",
    "    \n",
    "    \n",
    "    \n",
    "    \n",
    "    \n",
    "    \n",
    "**or**\n",
    "\n",
    "\n",
    "MessageBox Widget\n",
    "\n",
    "Python Tkinter – MessageBox Widget is used to display the message boxes in the python applications. This module is used to display a message using provides a number of functions.\n",
    "\n",
    "Syntax:\n",
    "\n",
    "messagebox.Function_Name(title, message [, options]) \n",
    "\n",
    "Parameters:\n",
    "There are various parameters :\n",
    "\n",
    "    Function_Name: This parameter is used to represents an appropriate message box function.\n",
    "    title: This parameter is a string which is shown as a title of a message box.\n",
    "    message: This parameter is the string to be displayed as a message on the message box.\n",
    "    options: There are two options that can be used are:\n",
    "        default: This option is used to specify the default button like ABORT, RETRY, or IGNORE in the message box.\n",
    "        parent: This option is used to specify the window on top of which the message box is to be displayed.\n",
    "\n",
    "Function_Name:\n",
    "There are functions or methods available in the messagebox widget.\n",
    "\n",
    "    showinfo(): Show some relevant information to the user.\n",
    "    showwarning(): Display the warning to the user.\n",
    "    showerror(): Display the error message to the user.\n",
    "    askquestion(): Ask question and user has to answered in yes or no.\n",
    "    askokcancel(): Confirm the user’s action regarding some application activity.\n",
    "    askyesno(): User can answer in yes or no for some action.\n",
    "    askretrycancel(): Ask the user about doing a particular task again or not."
   ]
  },
  {
   "cell_type": "code",
   "execution_count": 107,
   "metadata": {},
   "outputs": [],
   "source": [
    "from tkinter import *\n",
    "from tkinter import messagebox\n",
    "r= Tk()\n",
    "r.title(\"Message\")\n",
    "r.geometry(\"200x200\")\n",
    "\n",
    "def allm():\n",
    "    \n",
    "    messagebox.showinfo(\"INFO\",\"THIS IS SHOW INFO\")\n",
    "    messagebox.showerror(\"ERRO\",\"THIS IS A ERROR\")\n",
    "    messagebox.showwarning(\"WARNNG\",\"THIS IS A WARNING\")\n",
    "    messagebox.askokcancel(\"cancel\",\"are you sure\")\n",
    "    messagebox.askquestion(\"Q\",\"ANHY QUESTION\")\n",
    "    messagebox.askretrycancel(\"try c\",\"ask fore cancel\")\n",
    "    messagebox.askyesno(\"askeyno\",\"find the value?\")\n",
    "    \n",
    "\n",
    "b = Button(r,text=\"messagebox\",command=allm)\n",
    "b.pack()\n",
    "\n",
    "\n",
    "r.mainloop()\n",
    "    \n"
   ]
  },
  {
   "cell_type": "code",
   "execution_count": 110,
   "metadata": {},
   "outputs": [],
   "source": []
  },
  {
   "cell_type": "code",
   "execution_count": null,
   "metadata": {},
   "outputs": [],
   "source": []
  }
 ],
 "metadata": {
  "kernelspec": {
   "display_name": "Python 3.10.6 64-bit",
   "language": "python",
   "name": "python3"
  },
  "language_info": {
   "codemirror_mode": {
    "name": "ipython",
    "version": 3
   },
   "file_extension": ".py",
   "mimetype": "text/x-python",
   "name": "python",
   "nbconvert_exporter": "python",
   "pygments_lexer": "ipython3",
   "version": "3.10.6"
  },
  "orig_nbformat": 4,
  "vscode": {
   "interpreter": {
    "hash": "d818f4a5b132e7f66021d3e7c19c2b7a86b89f9388f799e2d6a66075690a4386"
   }
  }
 },
 "nbformat": 4,
 "nbformat_minor": 2
}
