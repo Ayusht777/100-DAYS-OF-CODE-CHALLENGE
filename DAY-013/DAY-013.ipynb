{
 "cells": [
  {
   "cell_type": "markdown",
   "metadata": {},
   "source": [
    "# Day-13 of 100dayofcode [27/07/2022 wednesday]"
   ]
  },
  {
   "cell_type": "code",
   "execution_count": 1,
   "metadata": {},
   "outputs": [
    {
     "name": "stdout",
     "output_type": "stream",
     "text": [
      "False True True True\n"
     ]
    }
   ],
   "source": [
    "#bool() function\n",
    "#bool() method takes a specified argument and returns its boolean value.\n",
    "#syntax -> bool(number)\n",
    "#number ->0 (false)\n",
    "#number -> 1,2,..any (true)\n",
    "print(bool(0),bool(1),bool(2.455),bool(-1))"
   ]
  },
  {
   "cell_type": "code",
   "execution_count": 3,
   "metadata": {},
   "outputs": [
    {
     "name": "stdout",
     "output_type": "stream",
     "text": [
      "True True\n"
     ]
    }
   ],
   "source": [
    "print(bool(\"hhaidaso\"),bool(True))"
   ]
  },
  {
   "cell_type": "code",
   "execution_count": 4,
   "metadata": {},
   "outputs": [
    {
     "name": "stdout",
     "output_type": "stream",
     "text": [
      "False False False\n"
     ]
    }
   ],
   "source": [
    "print(bool(False),bool([]),bool(None))"
   ]
  },
  {
   "cell_type": "code",
   "execution_count": 6,
   "metadata": {},
   "outputs": [
    {
     "data": {
      "text/html": [
       "<img src=\"https://i.postimg.cc/sfW0ds3Z/image.png\" width=\"976\" height=\"775\"/>"
      ],
      "text/plain": [
       "<IPython.core.display.Image object>"
      ]
     },
     "execution_count": 6,
     "metadata": {},
     "output_type": "execute_result"
    }
   ],
   "source": [
    "#bytearray() function\n",
    "#bytearray() method returns a bytearray object which is an array of the given bytes.\n",
    "#bytearray() method returns a bytearray object (i.e. array of bytes)\n",
    "#  which is mutable (can be modified) sequence of integers in the range 0 <= x < 256\n",
    "#syntax ->bytearray([source[, encoding[, errors]]])\n",
    "from IPython.display import Image\n",
    "Image(url= \"https://i.postimg.cc/sfW0ds3Z/image.png\", width=976, height=775)"
   ]
  },
  {
   "cell_type": "code",
   "execution_count": 7,
   "metadata": {},
   "outputs": [
    {
     "ename": "TypeError",
     "evalue": "string argument without an encoding",
     "output_type": "error",
     "traceback": [
      "\u001b[1;31m---------------------------------------------------------------------------\u001b[0m",
      "\u001b[1;31mTypeError\u001b[0m                                 Traceback (most recent call last)",
      "\u001b[1;32me:\\PROGAMMING\\100 DAYS OF CODE CHALLENGE\\DAY-013.ipynb Cell 6\u001b[0m in \u001b[0;36m<cell line: 1>\u001b[1;34m()\u001b[0m\n\u001b[1;32m----> <a href='vscode-notebook-cell:/e%3A/PROGAMMING/100%20DAYS%20OF%20CODE%20CHALLENGE/DAY-013.ipynb#ch0000007?line=0'>1</a>\u001b[0m a \u001b[39m=\u001b[39m \u001b[39mbytearray\u001b[39;49m(\u001b[39m\"\u001b[39;49m\u001b[39mayush\u001b[39;49m\u001b[39m\"\u001b[39;49m)\n",
      "\u001b[1;31mTypeError\u001b[0m: string argument without an encoding"
     ]
    }
   ],
   "source": [
    "a = bytearray(\"ayush\")"
   ]
  },
  {
   "cell_type": "code",
   "execution_count": 8,
   "metadata": {},
   "outputs": [],
   "source": [
    "a = bytearray(\"ayush\",'UTF-8')"
   ]
  },
  {
   "cell_type": "code",
   "execution_count": 9,
   "metadata": {},
   "outputs": [
    {
     "name": "stdout",
     "output_type": "stream",
     "text": [
      "bytearray(b'ayush')\n"
     ]
    }
   ],
   "source": [
    "print(a)"
   ]
  },
  {
   "cell_type": "code",
   "execution_count": 12,
   "metadata": {},
   "outputs": [
    {
     "ename": "TypeError",
     "evalue": "encoding without a string argument",
     "output_type": "error",
     "traceback": [
      "\u001b[1;31m---------------------------------------------------------------------------\u001b[0m",
      "\u001b[1;31mTypeError\u001b[0m                                 Traceback (most recent call last)",
      "\u001b[1;32me:\\PROGAMMING\\100 DAYS OF CODE CHALLENGE\\DAY-013.ipynb Cell 9\u001b[0m in \u001b[0;36m<cell line: 1>\u001b[1;34m()\u001b[0m\n\u001b[1;32m----> <a href='vscode-notebook-cell:/e%3A/PROGAMMING/100%20DAYS%20OF%20CODE%20CHALLENGE/DAY-013.ipynb#ch0000010?line=0'>1</a>\u001b[0m a \u001b[39m=\u001b[39m \u001b[39mbytearray\u001b[39;49m(\u001b[39m44564\u001b[39;49m,\u001b[39m'\u001b[39;49m\u001b[39mUTF-8\u001b[39;49m\u001b[39m'\u001b[39;49m)\n\u001b[0;32m      <a href='vscode-notebook-cell:/e%3A/PROGAMMING/100%20DAYS%20OF%20CODE%20CHALLENGE/DAY-013.ipynb#ch0000010?line=1'>2</a>\u001b[0m \u001b[39mprint\u001b[39m(a)\n",
      "\u001b[1;31mTypeError\u001b[0m: encoding without a string argument"
     ]
    }
   ],
   "source": [
    "a = bytearray(44564,'UTF-8')\n",
    "print(a)"
   ]
  },
  {
   "cell_type": "code",
   "execution_count": 15,
   "metadata": {},
   "outputs": [
    {
     "name": "stdout",
     "output_type": "stream",
     "text": [
      "bytearray(b'\\x00\\x00\\x00\\x00')\n"
     ]
    }
   ],
   "source": [
    "a = bytearray(4)\n",
    "print(a)"
   ]
  },
  {
   "cell_type": "code",
   "execution_count": 18,
   "metadata": {},
   "outputs": [
    {
     "name": "stdout",
     "output_type": "stream",
     "text": [
      "bytearray(b'6TT')\n"
     ]
    }
   ],
   "source": [
    "a = bytearray([54,84,84])# bytes must be range of (0-256)\n",
    "print(a)"
   ]
  },
  {
   "cell_type": "code",
   "execution_count": 19,
   "metadata": {},
   "outputs": [],
   "source": [
    "#callable()\n",
    "#callable() method returns True if the object passed appears callable. If not, it returns False.\n",
    "# the object is callable\n",
    "#True - if the object appears callable\n",
    "#False - if the object is not callable"
   ]
  },
  {
   "cell_type": "code",
   "execution_count": 25,
   "metadata": {},
   "outputs": [
    {
     "name": "stdout",
     "output_type": "stream",
     "text": [
      "False\n",
      "True\n"
     ]
    }
   ],
   "source": [
    "z = \"ayush\"\n",
    "print(callable(z))\n",
    "def anyf():\n",
    "    print(\"callable\")\n",
    "\n",
    "print(callable(anyf))"
   ]
  },
  {
   "cell_type": "code",
   "execution_count": 26,
   "metadata": {},
   "outputs": [
    {
     "data": {
      "text/html": [
       "<img src=\"https://i.postimg.cc/sfW0ds3Z/image.png\" width=\"976\" height=\"775\"/>"
      ],
      "text/plain": [
       "<IPython.core.display.Image object>"
      ]
     },
     "execution_count": 26,
     "metadata": {},
     "output_type": "execute_result"
    }
   ],
   "source": [
    "#bytes() functions\n",
    "#bytes() method returns an immutable bytes object initialized with the given size and data.\n",
    "#syntax ->bytes([source[, encoding[, errors]]])\n",
    "from IPython.display import Image\n",
    "Image(url= \"https://i.postimg.cc/sfW0ds3Z/image.png\", width=976, height=775)"
   ]
  },
  {
   "cell_type": "code",
   "execution_count": 29,
   "metadata": {},
   "outputs": [
    {
     "name": "stdout",
     "output_type": "stream",
     "text": [
      "b'ayush'\n",
      "b'\\x00\\x00\\x00\\x00\\x00'\n",
      "b'\\x01\\x08\\t'\n"
     ]
    }
   ],
   "source": [
    "s = \"ayush\"\n",
    "print(bytes(s,'utf-8'))\n",
    "print(bytes(5))\n",
    "print(bytes([1,8,9]))"
   ]
  },
  {
   "cell_type": "code",
   "execution_count": 30,
   "metadata": {},
   "outputs": [],
   "source": [
    "# classmethod() functions \n",
    "# skipping it due to class"
   ]
  },
  {
   "cell_type": "code",
   "execution_count": 32,
   "metadata": {},
   "outputs": [
    {
     "data": {
      "text/html": [
       "<img src=\"https://i.postimg.cc/76b3F7H2/image.png\" width=\"986\" height=\"477\"/>"
      ],
      "text/plain": [
       "<IPython.core.display.Image object>"
      ]
     },
     "execution_count": 32,
     "metadata": {},
     "output_type": "execute_result"
    }
   ],
   "source": [
    "#compile() functions\n",
    "#compile() method computes the Python code from a source object and returns it.\n",
    "#syntax : compile(source, filename, mode)\n",
    "from IPython.display import Image\n",
    "Image(url= \"https://i.postimg.cc/76b3F7H2/image.png\", width=986, height=477)"
   ]
  },
  {
   "cell_type": "code",
   "execution_count": 33,
   "metadata": {},
   "outputs": [
    {
     "name": "stdout",
     "output_type": "stream",
     "text": [
      "sum = 15\n"
     ]
    }
   ],
   "source": [
    "codeInString = 'a = 8\\nb=7\\nsum=a+b\\nprint(\"sum =\",sum)'\n",
    "codeObject = compile(codeInString, 'sumstring', 'exec')\n",
    "\n",
    "exec(codeObject)\n",
    "\n",
    "# Output: 15"
   ]
  },
  {
   "cell_type": "code",
   "execution_count": 38,
   "metadata": {},
   "outputs": [
    {
     "name": "stdout",
     "output_type": "stream",
     "text": [
      "(88-8j)\n",
      "0j\n",
      "(78-1j)\n"
     ]
    }
   ],
   "source": [
    "#complex()\n",
    "# complex() method returns a complex number when real and imaginary parts are provided, or it converts a string to a complex number. \n",
    "# syntax :complex(real, imag)\n",
    "# real - real part. If real is omitted, it defaults to 0.\n",
    "# imag - imaginary part. If imag is omitted, it defaults to 0.\n",
    "print(complex(88,-8))\n",
    "print(complex(0))\n",
    "print(complex('78-j'))\n",
    "\n",
    "\n",
    "\n"
   ]
  },
  {
   "cell_type": "code",
   "execution_count": 39,
   "metadata": {},
   "outputs": [
    {
     "ename": "ValueError",
     "evalue": "complex() arg is a malformed string",
     "output_type": "error",
     "traceback": [
      "\u001b[1;31m---------------------------------------------------------------------------\u001b[0m",
      "\u001b[1;31mValueError\u001b[0m                                Traceback (most recent call last)",
      "\u001b[1;32me:\\PROGAMMING\\100 DAYS OF CODE CHALLENGE\\DAY-013.ipynb Cell 20\u001b[0m in \u001b[0;36m<cell line: 1>\u001b[1;34m()\u001b[0m\n\u001b[1;32m----> <a href='vscode-notebook-cell:/e%3A/PROGAMMING/100%20DAYS%20OF%20CODE%20CHALLENGE/DAY-013.ipynb#ch0000021?line=0'>1</a>\u001b[0m \u001b[39mprint\u001b[39m(\u001b[39mcomplex\u001b[39;49m(\u001b[39m\"\u001b[39;49m\u001b[39mauhdashdjad\u001b[39;49m\u001b[39m\"\u001b[39;49m))\n",
      "\u001b[1;31mValueError\u001b[0m: complex() arg is a malformed string"
     ]
    }
   ],
   "source": [
    "print(complex(\"auhdashdjad\"))"
   ]
  },
  {
   "cell_type": "code",
   "execution_count": null,
   "metadata": {},
   "outputs": [],
   "source": [
    "#delattr() function (skipped due to class)\n",
    "#delattr() deletes an attribute from the object (if the object allows it).\n",
    "#syntax :-delattr(object, name)\n",
    "# object - the object from which name attribute is to be removed\n",
    "# name -  a string which must be the name of the attribute to be removed from the object\n"
   ]
  },
  {
   "cell_type": "code",
   "execution_count": 43,
   "metadata": {},
   "outputs": [
    {
     "name": "stdout",
     "output_type": "stream",
     "text": [
      "<class 'dict'> {'k1': 98, 'k2': 'hello'}\n",
      "{'a': 8, 'b': 9}\n"
     ]
    }
   ],
   "source": [
    "#dict() function\n",
    "#dict() constructor creates a dictionary in Python.\n",
    "#syntax :- dict(keyname1=value1,keyname2=value2)\n",
    "q = dict(k1=98,k2=\"hello\")\n",
    "print(type(q),q)\n",
    "q = dict([('a',8),('b',9)])\n",
    "print(q)\n"
   ]
  },
  {
   "cell_type": "code",
   "execution_count": 44,
   "metadata": {},
   "outputs": [
    {
     "ename": "TypeError",
     "evalue": "cannot convert dictionary update sequence element #0 to a sequence",
     "output_type": "error",
     "traceback": [
      "\u001b[1;31m---------------------------------------------------------------------------\u001b[0m",
      "\u001b[1;31mTypeError\u001b[0m                                 Traceback (most recent call last)",
      "\u001b[1;32me:\\PROGAMMING\\100 DAYS OF CODE CHALLENGE\\DAY-013.ipynb Cell 23\u001b[0m in \u001b[0;36m<cell line: 1>\u001b[1;34m()\u001b[0m\n\u001b[1;32m----> <a href='vscode-notebook-cell:/e%3A/PROGAMMING/100%20DAYS%20OF%20CODE%20CHALLENGE/DAY-013.ipynb#ch0000024?line=0'>1</a>\u001b[0m z \u001b[39m=\u001b[39m \u001b[39mdict\u001b[39;49m([\u001b[39m1\u001b[39;49m,\u001b[39m2\u001b[39;49m,\u001b[39m3\u001b[39;49m])\n",
      "\u001b[1;31mTypeError\u001b[0m: cannot convert dictionary update sequence element #0 to a sequence"
     ]
    }
   ],
   "source": [
    "z = dict([1,2,3])\n"
   ]
  },
  {
   "cell_type": "code",
   "execution_count": 47,
   "metadata": {},
   "outputs": [
    {
     "name": "stdout",
     "output_type": "stream",
     "text": [
      "<class 'int'>\n",
      "['__abs__', '__add__', '__and__', '__bool__', '__ceil__', '__class__', '__delattr__', '__dir__', '__divmod__', '__doc__', '__eq__', '__float__', '__floor__', '__floordiv__', '__format__', '__ge__', '__getattribute__', '__getnewargs__', '__gt__', '__hash__', '__index__', '__init__', '__init_subclass__', '__int__', '__invert__', '__le__', '__lshift__', '__lt__', '__mod__', '__mul__', '__ne__', '__neg__', '__new__', '__or__', '__pos__', '__pow__', '__radd__', '__rand__', '__rdivmod__', '__reduce__', '__reduce_ex__', '__repr__', '__rfloordiv__', '__rlshift__', '__rmod__', '__rmul__', '__ror__', '__round__', '__rpow__', '__rrshift__', '__rshift__', '__rsub__', '__rtruediv__', '__rxor__', '__setattr__', '__sizeof__', '__str__', '__sub__', '__subclasshook__', '__truediv__', '__trunc__', '__xor__', 'as_integer_ratio', 'bit_count', 'bit_length', 'conjugate', 'denominator', 'from_bytes', 'imag', 'numerator', 'real', 'to_bytes']\n",
      "<class 'str'>\n",
      "['__add__', '__class__', '__contains__', '__delattr__', '__dir__', '__doc__', '__eq__', '__format__', '__ge__', '__getattribute__', '__getitem__', '__getnewargs__', '__gt__', '__hash__', '__init__', '__init_subclass__', '__iter__', '__le__', '__len__', '__lt__', '__mod__', '__mul__', '__ne__', '__new__', '__reduce__', '__reduce_ex__', '__repr__', '__rmod__', '__rmul__', '__setattr__', '__sizeof__', '__str__', '__subclasshook__', 'capitalize', 'casefold', 'center', 'count', 'encode', 'endswith', 'expandtabs', 'find', 'format', 'format_map', 'index', 'isalnum', 'isalpha', 'isascii', 'isdecimal', 'isdigit', 'isidentifier', 'islower', 'isnumeric', 'isprintable', 'isspace', 'istitle', 'isupper', 'join', 'ljust', 'lower', 'lstrip', 'maketrans', 'partition', 'removeprefix', 'removesuffix', 'replace', 'rfind', 'rindex', 'rjust', 'rpartition', 'rsplit', 'rstrip', 'split', 'splitlines', 'startswith', 'strip', 'swapcase', 'title', 'translate', 'upper', 'zfill']\n",
      "<class 'dict'>\n",
      "['__class__', '__class_getitem__', '__contains__', '__delattr__', '__delitem__', '__dir__', '__doc__', '__eq__', '__format__', '__ge__', '__getattribute__', '__getitem__', '__gt__', '__hash__', '__init__', '__init_subclass__', '__ior__', '__iter__', '__le__', '__len__', '__lt__', '__ne__', '__new__', '__or__', '__reduce__', '__reduce_ex__', '__repr__', '__reversed__', '__ror__', '__setattr__', '__setitem__', '__sizeof__', '__str__', '__subclasshook__', 'clear', 'copy', 'fromkeys', 'get', 'items', 'keys', 'pop', 'popitem', 'setdefault', 'update', 'values']\n",
      "<class 'tuple'>\n",
      "['__add__', '__class__', '__class_getitem__', '__contains__', '__delattr__', '__dir__', '__doc__', '__eq__', '__format__', '__ge__', '__getattribute__', '__getitem__', '__getnewargs__', '__gt__', '__hash__', '__init__', '__init_subclass__', '__iter__', '__le__', '__len__', '__lt__', '__mul__', '__ne__', '__new__', '__reduce__', '__reduce_ex__', '__repr__', '__rmul__', '__setattr__', '__sizeof__', '__str__', '__subclasshook__', 'count', 'index']\n",
      "<class 'set'>\n",
      "['__and__', '__class__', '__class_getitem__', '__contains__', '__delattr__', '__dir__', '__doc__', '__eq__', '__format__', '__ge__', '__getattribute__', '__gt__', '__hash__', '__iand__', '__init__', '__init_subclass__', '__ior__', '__isub__', '__iter__', '__ixor__', '__le__', '__len__', '__lt__', '__ne__', '__new__', '__or__', '__rand__', '__reduce__', '__reduce_ex__', '__repr__', '__ror__', '__rsub__', '__rxor__', '__setattr__', '__sizeof__', '__str__', '__sub__', '__subclasshook__', '__xor__', 'add', 'clear', 'copy', 'difference', 'difference_update', 'discard', 'intersection', 'intersection_update', 'isdisjoint', 'issubset', 'issuperset', 'pop', 'remove', 'symmetric_difference', 'symmetric_difference_update', 'union', 'update']\n"
     ]
    }
   ],
   "source": [
    "# dir() function\n",
    "#dir() method returns the list of valid attributes of the passed object\n",
    "# syntax :-dir(datatype)\n",
    "# ex list,string,dictionary,tuple,sets\n",
    "n =466\n",
    "print(type(n))\n",
    "print(dir(n))\n",
    "s =\"ayush\"\n",
    "print(type(s))\n",
    "print(dir(s))\n",
    "d = {'k':8770}\n",
    "print(type(d))\n",
    "print(dir(d))\n",
    "t = (1,2,5)\n",
    "print(type(t))\n",
    "print(dir(t))\n",
    "se = {1,8,90}\n",
    "print(type(se))\n",
    "print(dir(se))"
   ]
  },
  {
   "cell_type": "code",
   "execution_count": 49,
   "metadata": {},
   "outputs": [
    {
     "name": "stdout",
     "output_type": "stream",
     "text": [
      "(2, 1)\n",
      "(2.0, 0.04999999999999982)\n"
     ]
    }
   ],
   "source": [
    "#divmod() function\n",
    "#divmod() method takes two numbers as arguments and returns their quotient and remainder in a tuple.\n",
    "# divmod(numerator(quotient), denomerter(reminder))\n",
    "print(divmod(5,2))\n",
    "print(divmod(4.05,2))"
   ]
  },
  {
   "cell_type": "code",
   "execution_count": 56,
   "metadata": {},
   "outputs": [
    {
     "name": "stdout",
     "output_type": "stream",
     "text": [
      "stx + 1\n",
      "2\n",
      "21*5\n",
      "105\n"
     ]
    }
   ],
   "source": [
    "#eval()\n",
    "#eval() method parses the expression passed to this method and runs python expression (code) within the program.\n",
    "stx = 1\n",
    "print('stx + 1')\n",
    "print(eval('stx + 1'))\n",
    "print(\"21*5\")\n",
    "print(eval(\"21*5\"))"
   ]
  },
  {
   "cell_type": "code",
   "execution_count": 107,
   "metadata": {},
   "outputs": [
    {
     "name": "stdout",
     "output_type": "stream",
     "text": [
      "2\n"
     ]
    },
    {
     "ename": "TypeError",
     "evalue": "unsupported operand type(s) for +: 'int' and 'str'",
     "output_type": "error",
     "traceback": [
      "\u001b[1;31m---------------------------------------------------------------------------\u001b[0m",
      "\u001b[1;31mTypeError\u001b[0m                                 Traceback (most recent call last)",
      "\u001b[1;32me:\\PROGAMMING\\100 DAYS OF CODE CHALLENGE\\DAY-013.ipynb Cell 27\u001b[0m in \u001b[0;36m<cell line: 3>\u001b[1;34m()\u001b[0m\n\u001b[0;32m      <a href='vscode-notebook-cell:/e%3A/PROGAMMING/100%20DAYS%20OF%20CODE%20CHALLENGE/DAY-013.ipynb#ch0000039?line=0'>1</a>\u001b[0m a\u001b[39m=\u001b[39m \u001b[39m1\u001b[39m\n\u001b[0;32m      <a href='vscode-notebook-cell:/e%3A/PROGAMMING/100%20DAYS%20OF%20CODE%20CHALLENGE/DAY-013.ipynb#ch0000039?line=1'>2</a>\u001b[0m \u001b[39mprint\u001b[39m(\u001b[39meval\u001b[39m(\u001b[39m\"\u001b[39m\u001b[39ma + 1\u001b[39m\u001b[39m\"\u001b[39m))\n\u001b[1;32m----> <a href='vscode-notebook-cell:/e%3A/PROGAMMING/100%20DAYS%20OF%20CODE%20CHALLENGE/DAY-013.ipynb#ch0000039?line=2'>3</a>\u001b[0m \u001b[39mprint\u001b[39m(\u001b[39meval\u001b[39m(a\u001b[39m+\u001b[39;49m \u001b[39m\"\u001b[39;49m\u001b[39m1\u001b[39;49m\u001b[39m\"\u001b[39;49m))\n\u001b[0;32m      <a href='vscode-notebook-cell:/e%3A/PROGAMMING/100%20DAYS%20OF%20CODE%20CHALLENGE/DAY-013.ipynb#ch0000039?line=3'>4</a>\u001b[0m \u001b[39mprint\u001b[39m(\u001b[39meval\u001b[39m(\u001b[39m\"\u001b[39m\u001b[39ma\u001b[39m\u001b[39m\"\u001b[39m \u001b[39m+\u001b[39m \u001b[39m'\u001b[39m\u001b[39m1\u001b[39m\u001b[39m'\u001b[39m))\n",
      "\u001b[1;31mTypeError\u001b[0m: unsupported operand type(s) for +: 'int' and 'str'"
     ]
    }
   ],
   "source": [
    "a= 1\n",
    "print(eval(\"a + 1\"))\n",
    "print(eval(a + \"1\"))\n",
    "print(eval(\"a\" + '1'))\n"
   ]
  },
  {
   "cell_type": "code",
   "execution_count": 57,
   "metadata": {},
   "outputs": [
    {
     "name": "stdout",
     "output_type": "stream",
     "text": [
      "Sum = 15\n"
     ]
    }
   ],
   "source": [
    "# exec() function\n",
    "# exec() method executes a dynamically created program, which is either a string or a code object.\n",
    "program = 'a = 5\\nb=10\\nprint(\"Sum =\", a+b)'\n",
    "exec(program)\n"
   ]
  },
  {
   "cell_type": "code",
   "execution_count": 77,
   "metadata": {},
   "outputs": [
    {
     "name": "stdout",
     "output_type": "stream",
     "text": [
      "1\n",
      "3\n",
      "5\n",
      "7\n",
      "9\n",
      "11\n",
      "13\n",
      "15\n",
      "17\n",
      "19\n",
      "21\n",
      "23\n",
      "25\n"
     ]
    }
   ],
   "source": [
    "#filter() function\n",
    "#filter() function extracts elements from an iterable (list, tuple etc.) for which a function returns True\n",
    "# fillter all true value in a funtion\n",
    "#syntax :filter(function, iterable)\n",
    "#function - a function\n",
    "#iterable - an iterable like sets, lists, tuples etc.\n",
    "la  = list(range(0,26))\n",
    "def ode(la):\n",
    "    \n",
    "        if(la%2==0):\n",
    "            return(False)\n",
    "        else:\n",
    "            return(True)\n",
    "\n",
    "\n",
    "alltruevalue =filter(ode,la)\n",
    "for i in alltruevalue:\n",
    "    print(i)\n"
   ]
  },
  {
   "cell_type": "code",
   "execution_count": 80,
   "metadata": {},
   "outputs": [
    {
     "name": "stdout",
     "output_type": "stream",
     "text": [
      "1.0\n",
      "1.45\n",
      "1.0\n"
     ]
    }
   ],
   "source": [
    "#float() function\n",
    "# float() method returns a floating point number from a number or a string.\n",
    "# syntax : float(object)\n",
    "# object - float,int,string\n",
    "print(float(1))\n",
    "print(float(1.45))\n",
    "print(float(\"1\"))\n",
    "\n"
   ]
  },
  {
   "cell_type": "code",
   "execution_count": 85,
   "metadata": {},
   "outputs": [
    {
     "name": "stdout",
     "output_type": "stream",
     "text": [
      "1\n",
      "1037629354146160648\n",
      "4796590247575923224\n",
      "2143910794424799510\n"
     ]
    }
   ],
   "source": [
    "#hash() function\n",
    "# syntax :- hash(object)\n",
    "# hash() method returns the hash value of an object if it has one.\n",
    "# Hash values are just integers that are used to compare dictionary keys during a dictionary look quickly.\n",
    "print(hash(1))\n",
    "print(hash(8.45))\n",
    "print(hash(\"ayush\"))\n",
    "# print(hash([0,1,5]))\n",
    "print(hash((1,2,5)))\n"
   ]
  },
  {
   "cell_type": "code",
   "execution_count": 90,
   "metadata": {},
   "outputs": [
    {
     "name": "stdout",
     "output_type": "stream",
     "text": [
      "0x35d4ad6\n",
      "-0x2d\n",
      "0x1.2333333333333p+2\n"
     ]
    }
   ],
   "source": [
    "# hex() function\n",
    "# hex() function converts an integer number to the corresponding hexadecimal string.\n",
    "# syntax : hex(integer)\n",
    "print(hex(56445654))\n",
    "print(hex(-45))\n",
    "print(float.hex(4.55))"
   ]
  },
  {
   "cell_type": "code",
   "execution_count": 97,
   "metadata": {},
   "outputs": [
    {
     "name": "stdout",
     "output_type": "stream",
     "text": [
      "489\n",
      "8\n",
      "122\n"
     ]
    }
   ],
   "source": [
    "#int() function\n",
    "# int() method converts any string, bytes-like object or a number to integer and returns.\n",
    "# syntax : -int(object,base)\n",
    "print(int(489.98))\n",
    "# print(int(\"ayushj\"))\n",
    "print(int(\"1000\",2))\n",
    "print(int(\"122\"))"
   ]
  },
  {
   "cell_type": "code",
   "execution_count": 98,
   "metadata": {},
   "outputs": [
    {
     "data": {
      "text/html": [
       "<img src=\"https://i.postimg.cc/P58d15kY/image.png\" width=\"1280\" height=\"190\"/>"
      ],
      "text/plain": [
       "<IPython.core.display.Image object>"
      ]
     },
     "execution_count": 98,
     "metadata": {},
     "output_type": "execute_result"
    }
   ],
   "source": [
    "#iter() function\n",
    "# iter() method returns an iterator for the given argument.\n",
    "#syntax :iter(object, sentinel) \n",
    "from IPython.display import Image\n",
    "Image(url= \"https://i.postimg.cc/P58d15kY/image.png\", width=1280, height=190)"
   ]
  },
  {
   "cell_type": "code",
   "execution_count": 103,
   "metadata": {},
   "outputs": [
    {
     "name": "stdout",
     "output_type": "stream",
     "text": [
      "<class 'list_iterator'>\n",
      "1\n",
      "ayush\n",
      "1.055\n"
     ]
    }
   ],
   "source": [
    "z  = iter([1,\"ayush\",1.055])\n",
    "print(type(z))\n",
    "for i in range(0,3):\n",
    "    print(next(z))"
   ]
  }
 ],
 "metadata": {
  "kernelspec": {
   "display_name": "Python 3.10.4 64-bit",
   "language": "python",
   "name": "python3"
  },
  "language_info": {
   "codemirror_mode": {
    "name": "ipython",
    "version": 3
   },
   "file_extension": ".py",
   "mimetype": "text/x-python",
   "name": "python",
   "nbconvert_exporter": "python",
   "pygments_lexer": "ipython3",
   "version": "3.10.4"
  },
  "orig_nbformat": 4,
  "vscode": {
   "interpreter": {
    "hash": "d818f4a5b132e7f66021d3e7c19c2b7a86b89f9388f799e2d6a66075690a4386"
   }
  }
 },
 "nbformat": 4,
 "nbformat_minor": 2
}
