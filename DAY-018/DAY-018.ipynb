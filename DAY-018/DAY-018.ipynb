{
 "cells": [
  {
   "cell_type": "markdown",
   "metadata": {},
   "source": [
    "# Day-18 of 100dayofcode [1/08/2022 monday]"
   ]
  },
  {
   "cell_type": "markdown",
   "metadata": {},
   "source": [
    "###  Python Package"
   ]
  },
  {
   "cell_type": "code",
   "execution_count": null,
   "metadata": {},
   "outputs": [],
   "source": [
    "#As our application program grows larger in size with a lot of modules, \n",
    "# we place similar modules in one package and different modules in different packages.\n",
    "#  This makes a project (program) easy to manage and conceptually clear.\n",
    "\n",
    "# created a folder and put a file name __init__.py\n",
    "# or \n",
    "#    Create a folder named mypckg.\n",
    "# Inside this folder create an empty Python file i.e. __init__.py#\n",
    "#     Then create two modules mod1 and mod2 in this folder."
   ]
  },
  {
   "cell_type": "code",
   "execution_count": 20,
   "metadata": {},
   "outputs": [],
   "source": [
    "from my_package.module1 import m\n",
    "from my_package.module2 import m2"
   ]
  },
  {
   "cell_type": "code",
   "execution_count": 19,
   "metadata": {},
   "outputs": [
    {
     "name": "stdout",
     "output_type": "stream",
     "text": [
      "HELLO ayush HOW ARE YOU?\n"
     ]
    }
   ],
   "source": [
    "m.greeting()"
   ]
  },
  {
   "cell_type": "code",
   "execution_count": 21,
   "metadata": {},
   "outputs": [
    {
     "name": "stdout",
     "output_type": "stream",
     "text": [
      "okay\n"
     ]
    }
   ],
   "source": [
    "m2.ans()"
   ]
  },
  {
   "cell_type": "markdown",
   "metadata": {},
   "source": [
    "# TIC TAC TOE"
   ]
  },
  {
   "cell_type": "code",
   "execution_count": 24,
   "metadata": {},
   "outputs": [
    {
     "data": {
      "text/html": [
       "<img src=\"https://i.postimg.cc/5yCMFjLN/Screenshot-23.png\" width=\"720\" height=\"480\"/>"
      ],
      "text/plain": [
       "<IPython.core.display.Image object>"
      ]
     },
     "execution_count": 24,
     "metadata": {},
     "output_type": "execute_result"
    }
   ],
   "source": [
    "from IPython.display import Image\n",
    "Image(url= \"https://i.postimg.cc/5yCMFjLN/Screenshot-23.png\", width=720, height=480)"
   ]
  },
  {
   "cell_type": "code",
   "execution_count": 28,
   "metadata": {},
   "outputs": [
    {
     "data": {
      "text/html": [
       "<img src=\"https://i.postimg.cc/zXkgckyN/Screenshot-24.png\" width=\"720\" height=\"480\"/>"
      ],
      "text/plain": [
       "<IPython.core.display.Image object>"
      ]
     },
     "execution_count": 28,
     "metadata": {},
     "output_type": "execute_result"
    }
   ],
   "source": [
    "from IPython.display import Image\n",
    "Image(url= \"https://i.postimg.cc/zXkgckyN/Screenshot-24.png\", width=720, height=480)"
   ]
  },
  {
   "cell_type": "code",
   "execution_count": 2,
   "metadata": {},
   "outputs": [],
   "source": [
    "#displaying the tic_tac_toe\n",
    "from IPython.display import clear_output as cl\n",
    "def display(block='less or none'):\n",
    "    cl()\n",
    "    print(block[7]+' | '+block[8]+ ' | '+block[9])\n",
    "    print(\"---------\")\n",
    "    print(block[4]+' | '+block[5]+ ' | '+block[6])\n",
    "    print(\"---------\")\n",
    "    print(block[1]+' | '+block[2]+ ' | '+block[3])\n",
    "    \n"
   ]
  },
  {
   "cell_type": "code",
   "execution_count": 3,
   "metadata": {},
   "outputs": [
    {
     "name": "stdout",
     "output_type": "stream",
     "text": [
      "x | o | x\n",
      "---------\n",
      "x | o | o\n",
      "---------\n",
      "o | o | x\n"
     ]
    }
   ],
   "source": [
    "display(['x','o','o','x','x','o','o','x','o','x'])\n",
    "guess_list =['x','o','o','x','x','o','o','x','o','x']"
   ]
  },
  {
   "cell_type": "code",
   "execution_count": 4,
   "metadata": {},
   "outputs": [],
   "source": [
    "def user_input():\n",
    "    a =''\n",
    "    while(a!='X' or a!='O'):\n",
    "        a = input(\"ENTER X OR O :\").upper()\n",
    "        if(a=='X'):\n",
    "            return('X','O')\n",
    "        else:\n",
    "            return('O','X')"
   ]
  },
  {
   "cell_type": "code",
   "execution_count": 5,
   "metadata": {},
   "outputs": [
    {
     "name": "stdout",
     "output_type": "stream",
     "text": [
      "('O', 'X')\n"
     ]
    }
   ],
   "source": [
    "player_1 = user_input()\n",
    "print(player_1)"
   ]
  },
  {
   "cell_type": "code",
   "execution_count": 6,
   "metadata": {},
   "outputs": [],
   "source": [
    "def place_check(block,value,index):\n",
    "    block[index]= value\n",
    "    # block is the area where we are goging to add the list"
   ]
  },
  {
   "cell_type": "code",
   "execution_count": 7,
   "metadata": {},
   "outputs": [
    {
     "name": "stdout",
     "output_type": "stream",
     "text": [
      "x | o | x\n",
      "---------\n",
      "x | @ | o\n",
      "---------\n",
      "o | o | x\n"
     ]
    }
   ],
   "source": [
    "guess_list =['x','o','o','x','x','o','o','x','o','x']\n",
    "place_check(guess_list,'@',5)\n",
    "display(guess_list)"
   ]
  },
  {
   "cell_type": "code",
   "execution_count": 8,
   "metadata": {},
   "outputs": [],
   "source": [
    "def win_check(board,mark):\n",
    "    return((board[7] == mark and board[8] == mark and board[9] == mark) or # across the top\n",
    "    (board[4] == mark and board[5] == mark and board[6] == mark) or # across the middle\n",
    "    (board[1] == mark and board[2] == mark and board[3] == mark) or # across the bottom\n",
    "    (board[7] == mark and board[4] == mark and board[1] == mark) or # down the middle\n",
    "    (board[8] == mark and board[5] == mark and board[2] == mark) or # down the middle\n",
    "    (board[9] == mark and board[6] == mark and board[3] == mark) or # down the right side\n",
    "    (board[7] == mark and board[5] == mark and board[3] == mark) or # diagonal\n",
    "    (board[9] == mark and board[5] == mark and board[1] == mark))"
   ]
  },
  {
   "cell_type": "code",
   "execution_count": 9,
   "metadata": {},
   "outputs": [
    {
     "data": {
      "text/plain": [
       "True"
      ]
     },
     "execution_count": 9,
     "metadata": {},
     "output_type": "execute_result"
    }
   ],
   "source": [
    "guess_list =['x','o','o','x','x','o','o','x','o','x']\n",
    "win_check(guess_list,'o')"
   ]
  },
  {
   "cell_type": "code",
   "execution_count": 10,
   "metadata": {},
   "outputs": [],
   "source": [
    "from random import randint\n",
    "def choice_first():\n",
    "    if randint(0,1)==0:\n",
    "        return(\"Player 1\")\n",
    "    else:\n",
    "        return(\"Player 2\")"
   ]
  },
  {
   "cell_type": "code",
   "execution_count": 11,
   "metadata": {},
   "outputs": [
    {
     "data": {
      "text/plain": [
       "'Player 2'"
      ]
     },
     "execution_count": 11,
     "metadata": {},
     "output_type": "execute_result"
    }
   ],
   "source": [
    "choice_first()"
   ]
  },
  {
   "cell_type": "code",
   "execution_count": 12,
   "metadata": {},
   "outputs": [
    {
     "data": {
      "text/plain": [
       "'Player 2'"
      ]
     },
     "execution_count": 12,
     "metadata": {},
     "output_type": "execute_result"
    }
   ],
   "source": [
    "choice_first()"
   ]
  },
  {
   "cell_type": "code",
   "execution_count": 13,
   "metadata": {},
   "outputs": [],
   "source": [
    "def check_empty_postion(block,index):\n",
    "    return(block[index]==' ')"
   ]
  },
  {
   "cell_type": "code",
   "execution_count": 14,
   "metadata": {},
   "outputs": [],
   "source": [
    "def full_board_check(block):\n",
    "    for i in range(1,10):\n",
    "        if(check_empty_postion(block,i)):\n",
    "            return False\n",
    "    return True\n",
    "    \n"
   ]
  },
  {
   "cell_type": "code",
   "execution_count": 15,
   "metadata": {},
   "outputs": [
    {
     "data": {
      "text/plain": [
       "True"
      ]
     },
     "execution_count": 15,
     "metadata": {},
     "output_type": "execute_result"
    }
   ],
   "source": [
    "full_board_check(guess_list)"
   ]
  },
  {
   "cell_type": "code",
   "execution_count": 16,
   "metadata": {},
   "outputs": [],
   "source": [
    "def player_choice(board):\n",
    "    position = 0\n",
    "    \n",
    "    while position not in [1,2,3,4,5,6,7,8,9] or not check_empty_postion(board, position):\n",
    "        position = int(input('Choose your next position: (1-9) '))\n",
    "        \n",
    "    return position"
   ]
  },
  {
   "cell_type": "code",
   "execution_count": 17,
   "metadata": {},
   "outputs": [],
   "source": [
    "def replay():\n",
    "    return(input(\"DID YOU WANT TO REPLAY THIS GAME AGIAN ? ENTER Y OR N:\").upper().startswith('Y'))"
   ]
  },
  {
   "cell_type": "code",
   "execution_count": 128,
   "metadata": {},
   "outputs": [
    {
     "data": {
      "text/plain": [
       "False"
      ]
     },
     "execution_count": 128,
     "metadata": {},
     "output_type": "execute_result"
    }
   ],
   "source": [
    "replay()\n",
    "\n"
   ]
  },
  {
   "cell_type": "code",
   "execution_count": 23,
   "metadata": {},
   "outputs": [
    {
     "name": "stdout",
     "output_type": "stream",
     "text": [
      "O |   | X\n",
      "---------\n",
      "  | O | X\n",
      "---------\n",
      "O | X | O\n",
      "Player 2 has won!\n"
     ]
    }
   ],
   "source": [
    "print(\"-------------------------------------------------------\")\n",
    "\n",
    "\n",
    "print(\"                WELCOME TO TIC TAC TOE                 \")\n",
    "print(\"-------------------------------------------------------\")\n",
    "while True:\n",
    "    theblock = [\" \"] * 10\n",
    "    p1, p2 = user_input()\n",
    "    \n",
    "    play_game = str(input(\"DID YOU WANT TO PLAY GAME Y OR N:\"))\n",
    "    if play_game[0] == \"y\" or play_game[0] == \"Y\":\n",
    "        game_status = True\n",
    "    else:\n",
    "        game_status = False\n",
    "    player_turn = choice_first()\n",
    "    print(f\"{player_turn} go first !!\")\n",
    "    while game_status:\n",
    "        if player_turn == \"Player 1\":\n",
    "            display(theblock)\n",
    "            index = player_choice(theblock)\n",
    "            place_check(theblock, p1, index)\n",
    "            if win_check(theblock, p1):\n",
    "                display(theblock)\n",
    "                print(\"Congratulations! You have won the game!\")\n",
    "                game_status = False\n",
    "            else:\n",
    "                if full_board_check(theblock):\n",
    "                    display(theblock)\n",
    "                    print(\"The game is a draw!\")\n",
    "                    break\n",
    "                else:\n",
    "                    player_turn = \"Player 2\"\n",
    "        else:\n",
    "            # Player2's turn.\n",
    "\n",
    "            display(theblock)\n",
    "            index = player_choice(theblock)\n",
    "            place_check(theblock, p2, index)\n",
    "\n",
    "            if win_check(theblock, p2):\n",
    "                display(theblock)\n",
    "                print(\"Player 2 has won!\")\n",
    "                game_status = False\n",
    "            else:\n",
    "                if full_board_check(theblock):\n",
    "                    display(theblock)\n",
    "                    print(\"The game is a draw!\")\n",
    "                    break\n",
    "                else:\n",
    "                    player_turn = \"Player 1\"\n",
    "\n",
    "    if not replay():\n",
    "        break\n"
   ]
  },
  {
   "cell_type": "code",
   "execution_count": null,
   "metadata": {},
   "outputs": [],
   "source": []
  }
 ],
 "metadata": {
  "kernelspec": {
   "display_name": "Python 3.10.4 64-bit",
   "language": "python",
   "name": "python3"
  },
  "language_info": {
   "codemirror_mode": {
    "name": "ipython",
    "version": 3
   },
   "file_extension": ".py",
   "mimetype": "text/x-python",
   "name": "python",
   "nbconvert_exporter": "python",
   "pygments_lexer": "ipython3",
   "version": "3.10.6"
  },
  "orig_nbformat": 4,
  "vscode": {
   "interpreter": {
    "hash": "d818f4a5b132e7f66021d3e7c19c2b7a86b89f9388f799e2d6a66075690a4386"
   }
  }
 },
 "nbformat": 4,
 "nbformat_minor": 2
}
