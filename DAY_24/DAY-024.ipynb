{
 "cells": [
  {
   "cell_type": "markdown",
   "metadata": {},
   "source": [
    "# Day-24 of 100dayofcode [07/08/2022 sunday]"
   ]
  },
  {
   "cell_type": "markdown",
   "metadata": {},
   "source": [
    "\n",
    "A CSV (Comma Separated Values) format is one of the most simple and common ways to store tabular data. To represent a CSV file, it must be saved with the .csv file extension."
   ]
  },
  {
   "cell_type": "markdown",
   "metadata": {},
   "source": [
    "ex \n",
    "\n",
    "SN, Name, City\n",
    "\n",
    "1, Michael, New Jersey\n",
    "\n",
    "2, Jack, California\n"
   ]
  },
  {
   "cell_type": "markdown",
   "metadata": {},
   "source": [
    "the csv file text has genrally separted by `,` called a delimite. but their more delimite `tab (\\t), colon (:) and semi-colon (;)`\n"
   ]
  },
  {
   "cell_type": "code",
   "execution_count": 13,
   "metadata": {},
   "outputs": [],
   "source": [
    "#let open a csv file\n",
    "with open(\"RAW_DATA_FOR_CSV_FILE - Sheet1.csv\") as csv:\n",
    "    freader = csv.read()\n",
    "    csv.seek(0)\n",
    "    freaderl = csv.readlines()"
   ]
  },
  {
   "cell_type": "code",
   "execution_count": 14,
   "metadata": {},
   "outputs": [
    {
     "name": "stdout",
     "output_type": "stream",
     "text": [
      "NAME,AGE,GENDER\n",
      "varun,25,Male\n",
      "John,21,Male\n",
      "veer,18,Male\n",
      "kushi,19,Female\n"
     ]
    }
   ],
   "source": [
    "print(freader)# this data is printed in raw fomate but we can not use it easily\n"
   ]
  },
  {
   "cell_type": "code",
   "execution_count": 15,
   "metadata": {},
   "outputs": [
    {
     "name": "stdout",
     "output_type": "stream",
     "text": [
      "['NAME,AGE,GENDER\\n', 'varun,25,Male\\n', 'John,21,Male\\n', 'veer,18,Male\\n', 'kushi,19,Female']\n"
     ]
    }
   ],
   "source": [
    "print(freaderl) # and this data is in list "
   ]
  },
  {
   "cell_type": "code",
   "execution_count": 16,
   "metadata": {},
   "outputs": [],
   "source": [
    "# lets use csv libary"
   ]
  },
  {
   "cell_type": "code",
   "execution_count": 17,
   "metadata": {},
   "outputs": [],
   "source": [
    "import csv"
   ]
  },
  {
   "cell_type": "code",
   "execution_count": 18,
   "metadata": {},
   "outputs": [],
   "source": [
    "with open(\"RAW_DATA_FOR_CSV_FILE - Sheet1.csv\") as file:\n",
    "    freader = csv.reader(file) # cvs.reader(file pointer)\n",
    "    "
   ]
  },
  {
   "cell_type": "code",
   "execution_count": 19,
   "metadata": {},
   "outputs": [
    {
     "name": "stdout",
     "output_type": "stream",
     "text": [
      "<_csv.reader object at 0x000002116A883F40>\n"
     ]
    }
   ],
   "source": [
    "print(freader) # so we need to itertor over it"
   ]
  },
  {
   "cell_type": "code",
   "execution_count": 20,
   "metadata": {},
   "outputs": [
    {
     "ename": "ValueError",
     "evalue": "I/O operation on closed file.",
     "output_type": "error",
     "traceback": [
      "\u001b[1;31m---------------------------------------------------------------------------\u001b[0m",
      "\u001b[1;31mValueError\u001b[0m                                Traceback (most recent call last)",
      "\u001b[1;32me:\\PROGAMMING\\100 DAYS OF CODE CHALLENGE\\DAY_24\\DAY-024.ipynb Cell 12\u001b[0m in \u001b[0;36m<cell line: 1>\u001b[1;34m()\u001b[0m\n\u001b[1;32m----> <a href='vscode-notebook-cell:/e%3A/PROGAMMING/100%20DAYS%20OF%20CODE%20CHALLENGE/DAY_24/DAY-024.ipynb#X16sZmlsZQ%3D%3D?line=0'>1</a>\u001b[0m \u001b[39mfor\u001b[39;00m row \u001b[39min\u001b[39;00m freader:\n\u001b[0;32m      <a href='vscode-notebook-cell:/e%3A/PROGAMMING/100%20DAYS%20OF%20CODE%20CHALLENGE/DAY_24/DAY-024.ipynb#X16sZmlsZQ%3D%3D?line=1'>2</a>\u001b[0m     \u001b[39mprint\u001b[39m(row)\n",
      "\u001b[1;31mValueError\u001b[0m: I/O operation on closed file."
     ]
    }
   ],
   "source": [
    "for row in freader:\n",
    "    print(row)"
   ]
  },
  {
   "cell_type": "code",
   "execution_count": 22,
   "metadata": {},
   "outputs": [
    {
     "name": "stdout",
     "output_type": "stream",
     "text": [
      "['NAME', 'AGE', 'GENDER']\n",
      "['varun', '25', 'Male']\n",
      "['John', '21', 'Male']\n",
      "['veer', '18', 'Male']\n",
      "['kushi', '19', 'Female']\n"
     ]
    }
   ],
   "source": [
    "with open(\"RAW_DATA_FOR_CSV_FILE - Sheet1.csv\") as file:\n",
    "    freader = csv.reader(file)\n",
    "    for row in freader:\n",
    "        print(row)\n",
    "# still good than the pervious one"
   ]
  },
  {
   "cell_type": "code",
   "execution_count": 28,
   "metadata": {},
   "outputs": [
    {
     "name": "stdout",
     "output_type": "stream",
     "text": [
      "['NAME', 'AGE', 'GENDER']\n",
      "['varun', '25', 'Male']\n",
      "['John', '21', 'Male']\n",
      "['veer', '18', 'Male']\n",
      "['kushi', '19', 'Female']\n"
     ]
    }
   ],
   "source": [
    "#lets sort this data in a list \n",
    "name = []\n",
    "\n",
    "with open(\"RAW_DATA_FOR_CSV_FILE - Sheet1.csv\") as file:\n",
    "    freader = csv.reader(file)\n",
    "    for row in freader:\n",
    "        print(row)\n",
    "        if(row[0]):\n",
    "            name.append(row[0])"
   ]
  },
  {
   "cell_type": "code",
   "execution_count": 29,
   "metadata": {},
   "outputs": [
    {
     "name": "stdout",
     "output_type": "stream",
     "text": [
      "['NAME', 'varun', 'John', 'veer', 'kushi']\n"
     ]
    }
   ],
   "source": [
    "print(name)"
   ]
  },
  {
   "cell_type": "code",
   "execution_count": 31,
   "metadata": {},
   "outputs": [
    {
     "name": "stdout",
     "output_type": "stream",
     "text": [
      "['AGE', '25', '21', '18', '19']\n"
     ]
    }
   ],
   "source": [
    "# lest seperated the age\n",
    "age = []\n",
    "with open(\"RAW_DATA_FOR_CSV_FILE - Sheet1.csv\") as file:\n",
    "    freader = csv.reader(file)\n",
    "    for row in freader:\n",
    "        # print(row)\n",
    "        if(row[1]):\n",
    "            age.append(row[1])\n",
    "\n",
    "print(age)\n",
    "# but their is 2 problem \n",
    "# first the nummber are str so we need it convert in int\n",
    "# the first element is a columm name"
   ]
  },
  {
   "cell_type": "code",
   "execution_count": 91,
   "metadata": {},
   "outputs": [
    {
     "name": "stdout",
     "output_type": "stream",
     "text": [
      "['25', '21', '18', '19']\n"
     ]
    }
   ],
   "source": [
    "age = []\n",
    "with open(\"RAW_DATA_FOR_CSV_FILE - Sheet1.csv\") as file:\n",
    "    freader = csv.reader(file)\n",
    "    for row in freader:\n",
    "        # print(row)\n",
    "        if(row[1] != 'AGE'):\n",
    "            age.append(row[1])\n",
    "\n",
    "print(age)"
   ]
  },
  {
   "cell_type": "code",
   "execution_count": 32,
   "metadata": {},
   "outputs": [
    {
     "name": "stdout",
     "output_type": "stream",
     "text": [
      "['NAME,AGE,GENDER']\n",
      "['varun,25,Male']\n",
      "['John,21,Male']\n",
      "['veer,18,Male']\n",
      "['kushi,19,Female']\n"
     ]
    }
   ],
   "source": [
    "# Read CSV file Having Tab Delimiter\n",
    "with open(\"RAW_DATA_FOR_CSV_FILE - Sheet1.csv\") as file:\n",
    "    freader = csv.reader(file,delimiter = '\\t')\n",
    "    for row in freader:\n",
    "        print(row)"
   ]
  },
  {
   "cell_type": "code",
   "execution_count": 47,
   "metadata": {},
   "outputs": [],
   "source": [
    "#Writing CSV files Using csv.writer()\n",
    "with open(\"temp.csv\",mode='w') as file:\n",
    "    fwrite = csv.writer(file)\n",
    "    fwrite.writerow(['Name','AGE','gender'])\n",
    "    fwrite.writerow(['ayush','25','male'])\n",
    "    fwrite.writerow(['veer','55','male'])"
   ]
  },
  {
   "cell_type": "code",
   "execution_count": 49,
   "metadata": {},
   "outputs": [
    {
     "name": "stdout",
     "output_type": "stream",
     "text": [
      "['Name', 'AGE', 'gender']\n",
      "[]\n",
      "['ayush', '25', 'male']\n",
      "[]\n",
      "['veer', '55', 'male']\n",
      "[]\n"
     ]
    }
   ],
   "source": [
    "with open(\"temp.csv\") as file:\n",
    "    fread = csv.reader(file)\n",
    "    for i in fread:\n",
    "        print(i)\n",
    "\n",
    "# their is problem it show empyt list etc\n"
   ]
  },
  {
   "cell_type": "code",
   "execution_count": 42,
   "metadata": {},
   "outputs": [],
   "source": [
    "\n",
    "with open('protagonist.csv', 'w', newline='') as file:\n",
    "    writer = csv.writer(file)\n",
    "    writer.writerow([\"SN\", \"Movie\", \"Protagonist\"])\n",
    "    writer.writerow([1, \"Lord of the Rings\", \"Frodo Baggins\"])\n",
    "    writer.writerow([2, \"Harry Potter\", \"Harry Potter\"])"
   ]
  },
  {
   "cell_type": "code",
   "execution_count": 63,
   "metadata": {},
   "outputs": [],
   "source": [
    "with open(\"temp.csv\",mode='w',newline='') as file:\n",
    "    fwrite = csv.writer(file)\n",
    "    fwrite.writerow(['SN NO.','Name','AGE','gender'])\n",
    "    fwrite.writerow([1,'ayush','25','male'])\n",
    "    fwrite.writerow([2,'veer','55','male'])"
   ]
  },
  {
   "cell_type": "code",
   "execution_count": 64,
   "metadata": {},
   "outputs": [
    {
     "name": "stdout",
     "output_type": "stream",
     "text": [
      "['SN NO.', 'Name', 'AGE', 'gender']\n",
      "['1', 'ayush', '25', 'male']\n",
      "['2', 'veer', '55', 'male']\n"
     ]
    }
   ],
   "source": [
    "with open(\"temp.csv\") as file:\n",
    "    fread = csv.reader(file)\n",
    "    for i in fread:\n",
    "        print(i)\n",
    "#fixed"
   ]
  },
  {
   "cell_type": "code",
   "execution_count": 70,
   "metadata": {},
   "outputs": [],
   "source": [
    "#Writing multiple rows with writerows()\n",
    "csv_rowlist = [[\"SN\", \"Movie\", \"Protagonist\"], [1, \"Lord of the Rings\", \"Frodo Baggins\"],[2, \"Harry Potter\", \"Harry Potter\"]]\n",
    "with open('temp.csv', 'w',newline='') as file:\n",
    "    writer = csv.writer(file)\n",
    "    writer.writerows(csv_rowlist)"
   ]
  },
  {
   "cell_type": "code",
   "execution_count": 71,
   "metadata": {},
   "outputs": [
    {
     "name": "stdout",
     "output_type": "stream",
     "text": [
      "['SN', 'Movie', 'Protagonist']\n",
      "['1', 'Lord of the Rings', 'Frodo Baggins']\n",
      "['2', 'Harry Potter', 'Harry Potter']\n"
     ]
    }
   ],
   "source": [
    "with open('temp.csv') as file:\n",
    "    fread = csv.reader(file)\n",
    "    for i in fread:\n",
    "        print(i)"
   ]
  },
  {
   "cell_type": "code",
   "execution_count": 76,
   "metadata": {},
   "outputs": [
    {
     "name": "stdout",
     "output_type": "stream",
     "text": [
      "{'SN': '1', 'Movie': 'Lord of the Rings', 'Protagonist': 'Frodo Baggins'}\n",
      "{'SN': '2', 'Movie': 'Harry Potter', 'Protagonist': 'Harry Potter'}\n"
     ]
    }
   ],
   "source": [
    "#Python csv.DictReader()\n",
    "with open('temp.csv') as file:\n",
    "    dictread = csv.DictReader(file)\n",
    "    for i in dictread:\n",
    "        print(i)\n",
    "#Note: Starting from Python 3.8, csv.DictReader() returns a dictionary for each row,\n",
    "#  and we do not need to use dict() explicitly."
   ]
  },
  {
   "cell_type": "code",
   "execution_count": null,
   "metadata": {},
   "outputs": [],
   "source": [
    "#Python csv.DictWriter()\n",
    "with open('temp.csv', 'w', newline='') as file:\n",
    "    keys = ['player_name', 'fide_rating']\n",
    "    writer = csv.DictWriter(file, fieldnames=keys)\n",
    "\n",
    "    writer.writeheader()\n",
    "    writer.writerow({'player_name': 'Magnus Carlsen', 'fide_rating': 2870})\n",
    "    writer.writerow({'player_name': 'Fabiano Caruana', 'fide_rating': 2822})\n",
    "    writer.writerow({'player_name': 'Ding Liren', 'fide_rating': 2801})"
   ]
  },
  {
   "cell_type": "code",
   "execution_count": 77,
   "metadata": {},
   "outputs": [
    {
     "data": {
      "text/plain": [
       "\"Pandas is a popular data science library in Python for data manipulation and analysis. \\nIf we are working with huge chunks of data, it's better to use pandas to handle CSV files for ease and efficiency.\""
      ]
     },
     "execution_count": 77,
     "metadata": {},
     "output_type": "execute_result"
    }
   ],
   "source": [
    "#Using the Pandas library to Handle CSV files\n",
    "\"\"\"Pandas is a popular data science library in Python for data manipulation and analysis. \n",
    "If we are working with huge chunks of data, it's better to use pandas to handle CSV files for ease and efficiency.\"\"\""
   ]
  },
  {
   "cell_type": "code",
   "execution_count": 78,
   "metadata": {},
   "outputs": [
    {
     "ename": "ModuleNotFoundError",
     "evalue": "No module named 'pandas'",
     "output_type": "error",
     "traceback": [
      "\u001b[1;31m---------------------------------------------------------------------------\u001b[0m",
      "\u001b[1;31mModuleNotFoundError\u001b[0m                       Traceback (most recent call last)",
      "\u001b[1;32me:\\PROGAMMING\\100 DAYS OF CODE CHALLENGE\\DAY_24\\DAY-024.ipynb Cell 29\u001b[0m in \u001b[0;36m<cell line: 1>\u001b[1;34m()\u001b[0m\n\u001b[1;32m----> <a href='vscode-notebook-cell:/e%3A/PROGAMMING/100%20DAYS%20OF%20CODE%20CHALLENGE/DAY_24/DAY-024.ipynb#X46sZmlsZQ%3D%3D?line=0'>1</a>\u001b[0m \u001b[39mimport\u001b[39;00m \u001b[39mpandas\u001b[39;00m\n",
      "\u001b[1;31mModuleNotFoundError\u001b[0m: No module named 'pandas'"
     ]
    }
   ],
   "source": [
    "import pandas\n",
    "# let install it "
   ]
  },
  {
   "cell_type": "code",
   "execution_count": 79,
   "metadata": {},
   "outputs": [],
   "source": [
    "import pandas"
   ]
  },
  {
   "cell_type": "code",
   "execution_count": 81,
   "metadata": {},
   "outputs": [
    {
     "data": {
      "text/html": [
       "<div>\n",
       "<style scoped>\n",
       "    .dataframe tbody tr th:only-of-type {\n",
       "        vertical-align: middle;\n",
       "    }\n",
       "\n",
       "    .dataframe tbody tr th {\n",
       "        vertical-align: top;\n",
       "    }\n",
       "\n",
       "    .dataframe thead th {\n",
       "        text-align: right;\n",
       "    }\n",
       "</style>\n",
       "<table border=\"1\" class=\"dataframe\">\n",
       "  <thead>\n",
       "    <tr style=\"text-align: right;\">\n",
       "      <th></th>\n",
       "      <th>SN</th>\n",
       "      <th>Movie</th>\n",
       "      <th>Protagonist</th>\n",
       "    </tr>\n",
       "  </thead>\n",
       "  <tbody>\n",
       "    <tr>\n",
       "      <th>0</th>\n",
       "      <td>1</td>\n",
       "      <td>Lord of the Rings</td>\n",
       "      <td>Frodo Baggins</td>\n",
       "    </tr>\n",
       "    <tr>\n",
       "      <th>1</th>\n",
       "      <td>2</td>\n",
       "      <td>Harry Potter</td>\n",
       "      <td>Harry Potter</td>\n",
       "    </tr>\n",
       "  </tbody>\n",
       "</table>\n",
       "</div>"
      ],
      "text/plain": [
       "   SN              Movie    Protagonist\n",
       "0   1  Lord of the Rings  Frodo Baggins\n",
       "1   2       Harry Potter   Harry Potter"
      ]
     },
     "execution_count": 81,
     "metadata": {},
     "output_type": "execute_result"
    }
   ],
   "source": [
    "pandas.read_csv('temp.csv')\n",
    "# it look;s good "
   ]
  },
  {
   "cell_type": "code",
   "execution_count": 83,
   "metadata": {},
   "outputs": [],
   "source": [
    "df = pandas.DataFrame([['Jack', 24], ['Rose', 22]], columns = ['Name', 'Age'])\n",
    "\n",
    "# writing data frame to a CSV file\n",
    "df.to_csv('temp.csv')"
   ]
  },
  {
   "cell_type": "code",
   "execution_count": 84,
   "metadata": {},
   "outputs": [
    {
     "data": {
      "text/html": [
       "<div>\n",
       "<style scoped>\n",
       "    .dataframe tbody tr th:only-of-type {\n",
       "        vertical-align: middle;\n",
       "    }\n",
       "\n",
       "    .dataframe tbody tr th {\n",
       "        vertical-align: top;\n",
       "    }\n",
       "\n",
       "    .dataframe thead th {\n",
       "        text-align: right;\n",
       "    }\n",
       "</style>\n",
       "<table border=\"1\" class=\"dataframe\">\n",
       "  <thead>\n",
       "    <tr style=\"text-align: right;\">\n",
       "      <th></th>\n",
       "      <th>Unnamed: 0</th>\n",
       "      <th>Name</th>\n",
       "      <th>Age</th>\n",
       "    </tr>\n",
       "  </thead>\n",
       "  <tbody>\n",
       "    <tr>\n",
       "      <th>0</th>\n",
       "      <td>0</td>\n",
       "      <td>Jack</td>\n",
       "      <td>24</td>\n",
       "    </tr>\n",
       "    <tr>\n",
       "      <th>1</th>\n",
       "      <td>1</td>\n",
       "      <td>Rose</td>\n",
       "      <td>22</td>\n",
       "    </tr>\n",
       "  </tbody>\n",
       "</table>\n",
       "</div>"
      ],
      "text/plain": [
       "   Unnamed: 0  Name  Age\n",
       "0           0  Jack   24\n",
       "1           1  Rose   22"
      ]
     },
     "execution_count": 84,
     "metadata": {},
     "output_type": "execute_result"
    }
   ],
   "source": [
    "pandas.read_csv('temp.csv')\n",
    "# it look;s good "
   ]
  },
  {
   "cell_type": "code",
   "execution_count": null,
   "metadata": {},
   "outputs": [],
   "source": [
    "# going to learn full pandas libary soon\n",
    "\n"
   ]
  }
 ],
 "metadata": {
  "kernelspec": {
   "display_name": "Python 3.10.4 64-bit",
   "language": "python",
   "name": "python3"
  },
  "language_info": {
   "codemirror_mode": {
    "name": "ipython",
    "version": 3
   },
   "file_extension": ".py",
   "mimetype": "text/x-python",
   "name": "python",
   "nbconvert_exporter": "python",
   "pygments_lexer": "ipython3",
   "version": "3.10.4"
  },
  "orig_nbformat": 4,
  "vscode": {
   "interpreter": {
    "hash": "d818f4a5b132e7f66021d3e7c19c2b7a86b89f9388f799e2d6a66075690a4386"
   }
  }
 },
 "nbformat": 4,
 "nbformat_minor": 2
}
