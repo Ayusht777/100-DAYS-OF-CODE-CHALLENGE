{
 "cells": [
  {
   "cell_type": "markdown",
   "metadata": {},
   "source": [
    "# Day-39 of 100dayofcode [23/08/2022 Tuesday]\n"
   ]
  },
  {
   "cell_type": "markdown",
   "metadata": {},
   "source": [
    "# Collections Module\n",
    "\n",
    "The collection Module in Python provides different types of containers. A Container is an object that is used to store different objects and provide a way to access the contained objects and iterate over them. Some of the built-in containers are Tuple, List, Dictionary, etc. In this article, we will discuss the different containers provided by the collections module."
   ]
  },
  {
   "cell_type": "markdown",
   "metadata": {},
   "source": [
    "## Counters\n",
    "A counter is a sub-class of the dictionary. It is used to keep the count of the elements in an iterable in the form of an unordered dictionary where the key represents the element in the iterable and value represents the count of that element in the iterable.\n",
    "\n",
    "Note: It is equivalent to bag or multiset of other languages.\n",
    "\n",
    "\n",
    "The counter object can be initialized using the counter() function and this function can be called in one of the following ways:\n",
    "\n",
    "    With a sequence of items\n",
    "    With a dictionary containing keys and counts\n",
    "    With keyword arguments mapping string names to counts"
   ]
  },
  {
   "cell_type": "code",
   "execution_count": 3,
   "metadata": {},
   "outputs": [],
   "source": [
    "from collections import Counter\n",
    "s = 'ayush talesara'\n"
   ]
  },
  {
   "cell_type": "code",
   "execution_count": 4,
   "metadata": {},
   "outputs": [
    {
     "name": "stdout",
     "output_type": "stream",
     "text": [
      "Counter({'a': 4, 's': 2, 'y': 1, 'u': 1, 'h': 1, ' ': 1, 't': 1, 'l': 1, 'e': 1, 'r': 1})\n"
     ]
    }
   ],
   "source": [
    "print(Counter(s))"
   ]
  },
  {
   "cell_type": "code",
   "execution_count": 5,
   "metadata": {},
   "outputs": [
    {
     "data": {
      "text/plain": [
       "['A',\n",
       " 'A',\n",
       " 'A',\n",
       " 'A',\n",
       " 'A',\n",
       " 'A',\n",
       " 'A',\n",
       " 'A',\n",
       " 'B',\n",
       " 'B',\n",
       " 'B',\n",
       " 'B',\n",
       " 'B',\n",
       " 'C',\n",
       " 'C',\n",
       " 'C',\n",
       " 'C',\n",
       " 'C']"
      ]
     },
     "execution_count": 5,
     "metadata": {},
     "output_type": "execute_result"
    }
   ],
   "source": [
    "x  ='A A A A A A A A B B B B B C C C C C'\n",
    "x.split()"
   ]
  },
  {
   "cell_type": "code",
   "execution_count": 6,
   "metadata": {},
   "outputs": [],
   "source": [
    "x  = ['A','A',\n",
    " 'A',\n",
    " 'A',\n",
    " 'A',\n",
    " 'A',\n",
    " 'A',\n",
    " 'A',\n",
    " 'B',\n",
    " 'B',\n",
    " 'B',\n",
    " 'B',\n",
    " 'B',\n",
    " 'C',\n",
    " 'C',\n",
    " 'C',\n",
    " 'C',\n",
    " 'C']"
   ]
  },
  {
   "cell_type": "code",
   "execution_count": 7,
   "metadata": {},
   "outputs": [
    {
     "data": {
      "text/plain": [
       "Counter({'A': 8, 'B': 5, 'C': 5})"
      ]
     },
     "execution_count": 7,
     "metadata": {},
     "output_type": "execute_result"
    }
   ],
   "source": [
    "Counter(x)"
   ]
  },
  {
   "cell_type": "code",
   "execution_count": 8,
   "metadata": {},
   "outputs": [
    {
     "data": {
      "text/plain": [
       "Counter({'A': 8, 'B': 5, 'C': 5})"
      ]
     },
     "execution_count": 8,
     "metadata": {},
     "output_type": "execute_result"
    }
   ],
   "source": [
    "# with dcitionary \n",
    "Counter({'A': 8, 'B': 5, 'C': 5})"
   ]
  },
  {
   "cell_type": "code",
   "execution_count": 10,
   "metadata": {},
   "outputs": [],
   "source": [
    "# with keyword arguments \n",
    "z  =Counter(A=5,B=7,C=8)"
   ]
  },
  {
   "cell_type": "code",
   "execution_count": 12,
   "metadata": {},
   "outputs": [
    {
     "data": {
      "text/plain": [
       "[('C', 8), ('B', 7), ('A', 5)]"
      ]
     },
     "execution_count": 12,
     "metadata": {},
     "output_type": "execute_result"
    }
   ],
   "source": [
    "z.most_common()"
   ]
  },
  {
   "cell_type": "code",
   "execution_count": 13,
   "metadata": {},
   "outputs": [
    {
     "data": {
      "text/plain": [
       "[('C', 8)]"
      ]
     },
     "execution_count": 13,
     "metadata": {},
     "output_type": "execute_result"
    }
   ],
   "source": [
    "z.most_common(1)"
   ]
  },
  {
   "cell_type": "code",
   "execution_count": 15,
   "metadata": {},
   "outputs": [
    {
     "data": {
      "text/plain": [
       "[]"
      ]
     },
     "execution_count": 15,
     "metadata": {},
     "output_type": "execute_result"
    }
   ],
   "source": [
    "z.most_common(0)"
   ]
  },
  {
   "cell_type": "code",
   "execution_count": 20,
   "metadata": {},
   "outputs": [
    {
     "name": "stdout",
     "output_type": "stream",
     "text": [
      "Counter({'C': 11, 'A': 2, 'B': -1})\n",
      "Counter({'B': 1, 'A': -2, 'C': -11})\n"
     ]
    }
   ],
   "source": [
    "# subtract method\n",
    "a1 = Counter(A=7,B=10,C=2)\n",
    "a2 = Counter(A=5,B=11,C=-9)\n",
    "a1.subtract(a2)\n",
    "print(a1)\n",
    "a1 = Counter(A=7,B=10,C=2)\n",
    "a2 = Counter(A=5,B=11,C=-9)\n",
    "a2.subtract(a1)\n",
    "print(a2)"
   ]
  },
  {
   "cell_type": "code",
   "execution_count": 22,
   "metadata": {},
   "outputs": [
    {
     "data": {
      "text/plain": [
       "19"
      ]
     },
     "execution_count": 22,
     "metadata": {},
     "output_type": "execute_result"
    }
   ],
   "source": [
    "a1.total()\n",
    "# 7 + 10 +2 = 19\n"
   ]
  },
  {
   "cell_type": "code",
   "execution_count": 23,
   "metadata": {},
   "outputs": [],
   "source": [
    "a1.update('z')"
   ]
  },
  {
   "cell_type": "code",
   "execution_count": 24,
   "metadata": {},
   "outputs": [
    {
     "data": {
      "text/plain": [
       "Counter({'A': 7, 'B': 10, 'C': 2, 'z': 1})"
      ]
     },
     "execution_count": 24,
     "metadata": {},
     "output_type": "execute_result"
    }
   ],
   "source": [
    "a1"
   ]
  },
  {
   "cell_type": "code",
   "execution_count": 27,
   "metadata": {},
   "outputs": [],
   "source": [
    "a1.update('q')"
   ]
  },
  {
   "cell_type": "code",
   "execution_count": 28,
   "metadata": {},
   "outputs": [
    {
     "data": {
      "text/plain": [
       "Counter({'A': 7, 'B': 10, 'C': 2, 'z': 1, 'q': 2})"
      ]
     },
     "execution_count": 28,
     "metadata": {},
     "output_type": "execute_result"
    }
   ],
   "source": [
    "a1"
   ]
  },
  {
   "cell_type": "code",
   "execution_count": 30,
   "metadata": {},
   "outputs": [],
   "source": [
    "a1.update(['w']*2)"
   ]
  },
  {
   "cell_type": "code",
   "execution_count": 31,
   "metadata": {},
   "outputs": [
    {
     "data": {
      "text/plain": [
       "Counter({'A': 7, 'B': 10, 'C': 2, 'z': 1, 'q': 2, 'a': 2, 'w': 2})"
      ]
     },
     "execution_count": 31,
     "metadata": {},
     "output_type": "execute_result"
    }
   ],
   "source": [
    "a1"
   ]
  },
  {
   "cell_type": "code",
   "execution_count": 32,
   "metadata": {},
   "outputs": [
    {
     "data": {
      "text/plain": [
       "dict_values([7, 10, 2, 1, 2, 2, 2])"
      ]
     },
     "execution_count": 32,
     "metadata": {},
     "output_type": "execute_result"
    }
   ],
   "source": [
    "a1.values()"
   ]
  },
  {
   "cell_type": "markdown",
   "metadata": {},
   "source": [
    "## OrderedDict\n",
    "An OrderedDict is also a sub-class of dictionary but unlike dictionary, it remembers the order in which the keys were inserted. \n",
    "\n",
    "\n",
    "OrderedDict preserves the order in which the keys are inserted. A regular dict doesn’t track the insertion order and iterating it gives the values in an arbitrary order. By contrast, the order the items are inserted is remembered by OrderedDict."
   ]
  },
  {
   "cell_type": "code",
   "execution_count": 33,
   "metadata": {},
   "outputs": [],
   "source": [
    "from collections import OrderedDict\n"
   ]
  },
  {
   "cell_type": "code",
   "execution_count": 50,
   "metadata": {},
   "outputs": [
    {
     "name": "stdout",
     "output_type": "stream",
     "text": [
      "<class 'dict'>\n",
      "\n",
      "{'a': 4, 'b': 5, 'c': 6}\n",
      "\n",
      "a --> 4\n",
      "b --> 5\n",
      "c --> 6\n",
      "\n",
      "<class 'collections.OrderedDict'>\n",
      "\n",
      "OrderedDict([('a', 4), ('b', 5), ('c', 6)])\n",
      "\n",
      "a --> 4\n",
      "b --> 5\n",
      "c --> 6\n"
     ]
    }
   ],
   "source": [
    "normal_dict = {}\n",
    "print(type(normal_dict))\n",
    "print()\n",
    "normal_dict['a'] = 4\n",
    "normal_dict['b'] = 5\n",
    "normal_dict['c'] = 6\n",
    "\n",
    "print(normal_dict)\n",
    "print()\n",
    "\n",
    "# loop\n",
    "for k,v in normal_dict.items():\n",
    "    print(k,\"-->\",v)\n",
    " \n",
    "print()    \n",
    "ordered_dict = OrderedDict()\n",
    "print(type(ordered_dict))\n",
    "print()\n",
    "ordered_dict['a'] = 4\n",
    "ordered_dict['b'] = 5\n",
    "ordered_dict['c'] = 6\n",
    "\n",
    "print(ordered_dict)\n",
    "print()\n",
    "\n",
    "# loop\n",
    "for k,v in ordered_dict.items():\n",
    "    print(k,\"-->\",v)"
   ]
  },
  {
   "cell_type": "markdown",
   "metadata": {},
   "source": [
    "1. Key value Change: If the value of a certain key is changed, the position of the key remains unchanged in OrderedDict.\n"
   ]
  },
  {
   "cell_type": "code",
   "execution_count": 44,
   "metadata": {},
   "outputs": [
    {
     "name": "stdout",
     "output_type": "stream",
     "text": [
      "a --> 4\n",
      "b --> 5\n",
      "c --> 6\n",
      "\n",
      "a --> 4\n",
      "b --> 5\n",
      "c --> 6\n",
      "\n",
      "a --> 4\n",
      "b --> 5\n",
      "c --> 15\n",
      "\n",
      "a --> 4\n",
      "b --> 5\n",
      "c --> 15\n",
      "\n"
     ]
    }
   ],
   "source": [
    "for k,v in normal_dict.items():\n",
    "    print(k,\"-->\",v)\n",
    "\n",
    "print()\n",
    "for k,v in ordered_dict.items():\n",
    "    print(k,\"-->\",v)\n",
    "    \n",
    "print()\n",
    "   \n",
    "normal_dict['c'] = 15\n",
    "\n",
    "ordered_dict['c'] = 15\n",
    "\n",
    "for k,v in normal_dict.items():\n",
    "    print(k,\"-->\",v)\n",
    "\n",
    "print()\n",
    "for k,v in ordered_dict.items():\n",
    "    print(k,\"-->\",v)\n",
    "    \n",
    "print()\n",
    "\n",
    "# all output are same beacuse in python 3.7 dictionary are order"
   ]
  },
  {
   "cell_type": "markdown",
   "metadata": {},
   "source": [
    "Deletion and Re-Inserting: Deleting and re-inserting the same key will push it to the back as OrderedDict, however, maintains the order of insertion."
   ]
  },
  {
   "cell_type": "code",
   "execution_count": 51,
   "metadata": {},
   "outputs": [
    {
     "name": "stdout",
     "output_type": "stream",
     "text": [
      "before\n",
      "a --> 4\n",
      "b --> 5\n",
      "c --> 6\n",
      "\n",
      "a --> 4\n",
      "b --> 5\n",
      "c --> 6\n",
      "\n",
      "after deletion\n",
      "a --> 4\n",
      "c --> 6\n",
      "\n",
      "a --> 4\n",
      "c --> 6\n",
      "\n",
      "after deletion\n",
      "a --> 4\n",
      "c --> 6\n",
      "b --> 10\n",
      "\n",
      "a --> 4\n",
      "c --> 6\n",
      "b --> 10\n",
      "\n"
     ]
    }
   ],
   "source": [
    "print('before')\n",
    "for k,v in normal_dict.items():\n",
    "    print(k,\"-->\",v)\n",
    "\n",
    "print()\n",
    "for k,v in ordered_dict.items():\n",
    "    print(k,\"-->\",v)\n",
    "    \n",
    "print()\n",
    "   \n",
    "normal_dict.pop('b')\n",
    "\n",
    "ordered_dict.pop('b')\n",
    "print(\"after deletion\")\n",
    "for k,v in normal_dict.items():\n",
    "    print(k,\"-->\",v)\n",
    "\n",
    "print()\n",
    "for k,v in ordered_dict.items():\n",
    "    print(k,\"-->\",v)\n",
    "    \n",
    "print()\n",
    "normal_dict['b'] = 10\n",
    "\n",
    "ordered_dict['b'] = 10\n",
    "print(\"after deletion\")\n",
    "for k,v in normal_dict.items():\n",
    "    print(k,\"-->\",v)\n",
    "\n",
    "print()\n",
    "for k,v in ordered_dict.items():\n",
    "    print(k,\"-->\",v)\n",
    "    \n",
    "print()\n",
    "\n"
   ]
  },
  {
   "cell_type": "markdown",
   "metadata": {},
   "source": [
    "## DefaultDict\n",
    "A DefaultDict is also a sub-class to dictionary. It is used to provide some default values for the key that does not exist and never raises a KeyError.\n",
    "\n",
    "defaultdict is a dictionary-like object which provides all methods provided by a dictionary but takes a first argument (default_factory) as a default data type for the dictionary. Using defaultdict is faster than doing the same using dict.set_default method.\n",
    "\n",
    "**A defaultdict will never raise a KeyError. Any key that does not exist gets the value returned by the default factory.**"
   ]
  },
  {
   "cell_type": "code",
   "execution_count": 52,
   "metadata": {},
   "outputs": [],
   "source": [
    "from collections import defaultdict"
   ]
  },
  {
   "cell_type": "code",
   "execution_count": 53,
   "metadata": {},
   "outputs": [
    {
     "ename": "KeyError",
     "evalue": "'x'",
     "output_type": "error",
     "traceback": [
      "\u001b[1;31m---------------------------------------------------------------------------\u001b[0m",
      "\u001b[1;31mKeyError\u001b[0m                                  Traceback (most recent call last)",
      "\u001b[1;32me:\\PROGAMMING\\100 DAYS OF CODE CHALLENGE\\DAY-039\\DAY-039.ipynb Cell 32\u001b[0m in \u001b[0;36m<cell line: 2>\u001b[1;34m()\u001b[0m\n\u001b[0;32m      <a href='vscode-notebook-cell:/e%3A/PROGAMMING/100%20DAYS%20OF%20CODE%20CHALLENGE/DAY-039/DAY-039.ipynb#X54sZmlsZQ%3D%3D?line=0'>1</a>\u001b[0m d  \u001b[39m=\u001b[39m {}\n\u001b[1;32m----> <a href='vscode-notebook-cell:/e%3A/PROGAMMING/100%20DAYS%20OF%20CODE%20CHALLENGE/DAY-039/DAY-039.ipynb#X54sZmlsZQ%3D%3D?line=1'>2</a>\u001b[0m \u001b[39mprint\u001b[39m(d[\u001b[39m'\u001b[39;49m\u001b[39mx\u001b[39;49m\u001b[39m'\u001b[39;49m])\n",
      "\u001b[1;31mKeyError\u001b[0m: 'x'"
     ]
    }
   ],
   "source": [
    "d  = {}\n",
    "print(d['x'])"
   ]
  },
  {
   "cell_type": "code",
   "execution_count": 60,
   "metadata": {},
   "outputs": [],
   "source": [
    "d  = defaultdict(object)"
   ]
  },
  {
   "cell_type": "code",
   "execution_count": 61,
   "metadata": {},
   "outputs": [
    {
     "name": "stdout",
     "output_type": "stream",
     "text": [
      "<class 'collections.defaultdict'>\n"
     ]
    }
   ],
   "source": [
    "print(type(d))"
   ]
  },
  {
   "cell_type": "code",
   "execution_count": 62,
   "metadata": {},
   "outputs": [
    {
     "data": {
      "text/plain": [
       "<object at 0x29adc08cef0>"
      ]
     },
     "execution_count": 62,
     "metadata": {},
     "output_type": "execute_result"
    }
   ],
   "source": [
    "d['x']"
   ]
  },
  {
   "cell_type": "code",
   "execution_count": 64,
   "metadata": {},
   "outputs": [
    {
     "data": {
      "text/plain": [
       "defaultdict(object, {'x': <object at 0x29adc08cef0>})"
      ]
     },
     "execution_count": 64,
     "metadata": {},
     "output_type": "execute_result"
    }
   ],
   "source": [
    "d"
   ]
  },
  {
   "cell_type": "code",
   "execution_count": 65,
   "metadata": {},
   "outputs": [],
   "source": [
    "d = defaultdict(lambda:'none')"
   ]
  },
  {
   "cell_type": "code",
   "execution_count": 66,
   "metadata": {},
   "outputs": [
    {
     "name": "stdout",
     "output_type": "stream",
     "text": [
      "defaultdict(<function <lambda> at 0x0000029ADC2E7490>, {})\n"
     ]
    }
   ],
   "source": [
    "print(d)"
   ]
  },
  {
   "cell_type": "markdown",
   "metadata": {},
   "source": [
    "## Chainmap\n",
    "Python contains a container called “ChainMap” which encapsulates many dictionaries into one unit."
   ]
  },
  {
   "cell_type": "code",
   "execution_count": 67,
   "metadata": {},
   "outputs": [],
   "source": [
    "from collections import ChainMap"
   ]
  },
  {
   "cell_type": "code",
   "execution_count": 110,
   "metadata": {},
   "outputs": [],
   "source": [
    "d1 = {'a':5,\"b\":6}\n",
    "d2 = {'a':7,\"b\":9}\n",
    "d3 = {'c':88,\"b\":6}"
   ]
  },
  {
   "cell_type": "code",
   "execution_count": 111,
   "metadata": {},
   "outputs": [
    {
     "name": "stdout",
     "output_type": "stream",
     "text": [
      "{'a': 5, 'b': 6} {'a': 7, 'b': 9} {'c': 88, 'b': 6}\n"
     ]
    }
   ],
   "source": [
    "print(d1,d2,d3)"
   ]
  },
  {
   "cell_type": "code",
   "execution_count": 112,
   "metadata": {},
   "outputs": [
    {
     "data": {
      "text/plain": [
       "ChainMap({'a': 5, 'b': 6}, {'a': 7, 'b': 9}, {'c': 88, 'b': 6})"
      ]
     },
     "execution_count": 112,
     "metadata": {},
     "output_type": "execute_result"
    }
   ],
   "source": [
    "ChainMap(d1,d2,d3)"
   ]
  },
  {
   "cell_type": "code",
   "execution_count": 113,
   "metadata": {},
   "outputs": [],
   "source": [
    "x =ChainMap(d1,d2,d3)"
   ]
  },
  {
   "cell_type": "code",
   "execution_count": 114,
   "metadata": {},
   "outputs": [
    {
     "data": {
      "text/plain": [
       "ChainMap({'a': 5, 'b': 6}, {'a': 7, 'b': 9}, {'c': 88, 'b': 6})"
      ]
     },
     "execution_count": 114,
     "metadata": {},
     "output_type": "execute_result"
    }
   ],
   "source": [
    "x"
   ]
  },
  {
   "cell_type": "code",
   "execution_count": 115,
   "metadata": {},
   "outputs": [
    {
     "ename": "TypeError",
     "evalue": "unhashable type: 'ChainMap'",
     "output_type": "error",
     "traceback": [
      "\u001b[1;31m---------------------------------------------------------------------------\u001b[0m",
      "\u001b[1;31mTypeError\u001b[0m                                 Traceback (most recent call last)",
      "\u001b[1;32me:\\PROGAMMING\\100 DAYS OF CODE CHALLENGE\\DAY-039\\DAY-039.ipynb Cell 46\u001b[0m in \u001b[0;36m<cell line: 1>\u001b[1;34m()\u001b[0m\n\u001b[1;32m----> <a href='vscode-notebook-cell:/e%3A/PROGAMMING/100%20DAYS%20OF%20CODE%20CHALLENGE/DAY-039/DAY-039.ipynb#Y106sZmlsZQ%3D%3D?line=0'>1</a>\u001b[0m x  \u001b[39m=\u001b[39m {ChainMap(d1,d2,d3)}\n",
      "\u001b[1;31mTypeError\u001b[0m: unhashable type: 'ChainMap'"
     ]
    }
   ],
   "source": [
    "x  = {ChainMap(d1,d2,d3)}"
   ]
  },
  {
   "cell_type": "markdown",
   "metadata": {},
   "source": [
    "Access Operations\n",
    "\n",
    "    keys() :- This function is used to display all the keys of all the dictionaries in ChainMap.\n",
    "\n",
    "    values() :- This function is used to display values of all the dictionaries in ChainMap.\n",
    "\n",
    "    maps() :- This function is used to display keys with corresponding values of all the dictionaries in ChainMap."
   ]
  },
  {
   "cell_type": "code",
   "execution_count": null,
   "metadata": {},
   "outputs": [
    {
     "name": "stdout",
     "output_type": "stream",
     "text": [
      "KeysView(ChainMap({'a': 5, 'b': 6}, {'a': 7, 'b': 9}, {'c': 88, 'b': 6}))\n",
      "ValuesView(ChainMap({'a': 5, 'b': 6}, {'a': 7, 'b': 9}, {'c': 88, 'b': 6}))\n",
      "[{'a': 5, 'b': 6}, {'a': 7, 'b': 9}, {'c': 88, 'b': 6}]\n",
      "['c', 'b', 'a']\n",
      "[88, 6, 5]\n"
     ]
    }
   ],
   "source": [
    "print(x.keys())\n",
    "print(x.values())\n",
    "print(x.maps)\n",
    "print(list(x.keys()))\n",
    "print(list(x.values()))"
   ]
  },
  {
   "cell_type": "markdown",
   "metadata": {},
   "source": [
    "Manipulating Operations\n",
    "\n",
    "    new_child() :- This function adds a new dictionary in the beginning of the ChainMap.\n",
    "\n",
    "    "
   ]
  },
  {
   "cell_type": "code",
   "execution_count": null,
   "metadata": {},
   "outputs": [
    {
     "name": "stdout",
     "output_type": "stream",
     "text": [
      "ChainMap({'a': 5, 'b': 6}, {'a': 7, 'b': 9}, {'c': 88, 'b': 6})\n",
      "ChainMap({'das': 5}, {'a': 5, 'b': 6}, {'a': 7, 'b': 9}, {'c': 88, 'b': 6})\n"
     ]
    }
   ],
   "source": [
    "print(x)\n",
    "d4 = {\"das\":5}\n",
    "x1 = x.new_child(d4)\n",
    "print(x1)\n"
   ]
  },
  {
   "cell_type": "markdown",
   "metadata": {},
   "source": [
    "## NamedTuple\n",
    "\n",
    "A NamedTuple returns a tuple object with names for each position which the ordinary tuples lack. "
   ]
  },
  {
   "cell_type": "code",
   "execution_count": null,
   "metadata": {},
   "outputs": [],
   "source": []
  },
  {
   "cell_type": "code",
   "execution_count": null,
   "metadata": {},
   "outputs": [],
   "source": []
  }
 ],
 "metadata": {
  "kernelspec": {
   "display_name": "Python 3.10.6 64-bit",
   "language": "python",
   "name": "python3"
  },
  "language_info": {
   "codemirror_mode": {
    "name": "ipython",
    "version": 3
   },
   "file_extension": ".py",
   "mimetype": "text/x-python",
   "name": "python",
   "nbconvert_exporter": "python",
   "pygments_lexer": "ipython3",
   "version": "3.10.6"
  },
  "orig_nbformat": 4,
  "vscode": {
   "interpreter": {
    "hash": "d818f4a5b132e7f66021d3e7c19c2b7a86b89f9388f799e2d6a66075690a4386"
   }
  }
 },
 "nbformat": 4,
 "nbformat_minor": 2
}
