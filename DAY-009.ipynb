{
 "cells": [
  {
   "cell_type": "code",
   "execution_count": null,
   "metadata": {},
   "outputs": [],
   "source": [
    "#Day-9 of 100dayofcode [23/07/2022 saturday]"
   ]
  },
  {
   "cell_type": "code",
   "execution_count": 13,
   "metadata": {},
   "outputs": [
    {
     "name": "stdout",
     "output_type": "stream",
     "text": [
      "[(0, 'a'), (1, 'y'), (2, 'u'), (3, 's'), (4, 'h')]\n",
      "{0: 'a', 1: 'y', 2: 'u', 3: 's', 4: 'h'}\n",
      "((0, 'a'), (1, 'y'), (2, 'u'), (3, 's'), (4, 'h'))\n",
      "{(3, 's'), (1, 'y'), (4, 'h'), (0, 'a'), (2, 'u')}\n"
     ]
    }
   ],
   "source": [
    "#enumerate() function\n",
    "#takes argument and returns (the enumerate object).\n",
    "#enumerate(\"anydatatypevariable\")\n",
    "#ysntax :enumerate(iterable, start=0)\n",
    "st = \"ayush\"\n",
    "est = enumerate(st)\n",
    "print(list(est))#we need it to type caste\n",
    "st = \"ayush\"\n",
    "est = enumerate(st)\n",
    "print(dict(est))\n",
    "st = \"ayush\"\n",
    "est = enumerate(st)\n",
    "print(tuple(est))\n",
    "st = \"ayush\"\n",
    "est = enumerate(st)\n",
    "print(set(est))\n",
    "\n"
   ]
  },
  {
   "cell_type": "code",
   "execution_count": 20,
   "metadata": {},
   "outputs": [
    {
     "name": "stdout",
     "output_type": "stream",
     "text": [
      "[(0, 'ayush'), (1, 'piyush'), (2, 'ayushi')]\n",
      "{0: 'ayush', 1: 'piyush', 2: 'ayushi'}\n",
      "[(5, 'ayush'), (6, 'piyush'), (7, 'ayushi')]\n",
      "[(-4, 'ayush'), (-3, 'piyush'), (-2, 'ayushi')]\n"
     ]
    }
   ],
   "source": [
    "ls = [\"ayush\",\"piyush\",\"ayushi\"]\n",
    "print(list(enumerate(ls)))\n",
    "ls = [\"ayush\",\"piyush\",\"ayushi\"]\n",
    "print(dict(enumerate(ls)))\n",
    "# lets change start\n",
    "ls = [\"ayush\",\"piyush\",\"ayushi\"]\n",
    "print(list(enumerate(ls,start=5)))\n",
    "\n",
    "ls = [\"ayush\",\"piyush\",\"ayushi\"]\n",
    "print(list(enumerate(ls,start=-4)))"
   ]
  },
  {
   "cell_type": "code",
   "execution_count": 22,
   "metadata": {},
   "outputs": [
    {
     "name": "stdout",
     "output_type": "stream",
     "text": [
      "(0, 'a')\n",
      "(1, 'y')\n",
      "(2, 'u')\n",
      "(3, 's')\n",
      "(4, 'h')\n",
      "INDEX 0 : letter a\n",
      "INDEX 1 : letter y\n",
      "INDEX 2 : letter u\n",
      "INDEX 3 : letter s\n",
      "INDEX 4 : letter h\n"
     ]
    }
   ],
   "source": [
    "#lets use with loop\n",
    "for i in enumerate(\"ayush\"):\n",
    "    print(i)\n",
    "for i,j in enumerate(\"ayush\"):\n",
    "    print(f\"INDEX {i} : letter {j}\")\n",
    "\n"
   ]
  },
  {
   "cell_type": "code",
   "execution_count": 146,
   "metadata": {},
   "outputs": [
    {
     "data": {
      "text/html": [
       "<img src=\"https://www.freecodecamp.org/news/content/images/size/w1000/2021/07/zipf.png\" width=\"1000\" height=\"500\"/>"
      ],
      "text/plain": [
       "<IPython.core.display.Image object>"
      ]
     },
     "execution_count": 146,
     "metadata": {},
     "output_type": "execute_result"
    }
   ],
   "source": [
    "#zip() function\n",
    "#The zip() function takes iterables (can be zero or more), aggregates them in a tuple, and returns it.\n",
    "#syntax : zip(*iterables)\n",
    "#it is use when you do not know the size of different list etc\n",
    "from IPython.display import Image\n",
    "Image(url= \"https://www.freecodecamp.org/news/content/images/size/w1000/2021/07/zipf.png\", width=1000, height=500)"
   ]
  },
  {
   "cell_type": "code",
   "execution_count": 38,
   "metadata": {},
   "outputs": [
    {
     "name": "stdout",
     "output_type": "stream",
     "text": [
      "<zip object at 0x000002180B65C780>\n",
      "[(0, 0), (4, 4), (7, 7), (5, 5), (5, 5)]\n",
      "<zip object at 0x000002180B65D140>\n",
      "((0, 0), (4, 4), (7, 7), (5, 5), (5, 5))\n"
     ]
    }
   ],
   "source": [
    "ls1 =[0,4,7,5,5]\n",
    "ls2 = ls1.copy()\n",
    "print(zip(ls1,ls2))#it is a genrator just like enumerater\n",
    "print(list(zip(ls1,ls2)))\n",
    "ls1 =[0,4,7,5,5]\n",
    "ls2 = ls1.copy()\n",
    "print(zip(ls1,ls2))#it is a genrator just like enumerater\n",
    "print(tuple(zip(ls1,ls2)))\n",
    "\n"
   ]
  },
  {
   "cell_type": "code",
   "execution_count": 40,
   "metadata": {},
   "outputs": [
    {
     "name": "stdout",
     "output_type": "stream",
     "text": [
      "0----0\n",
      "4----4\n",
      "7----7\n",
      "5----5\n",
      "5----5\n"
     ]
    }
   ],
   "source": [
    "# loop over it\n",
    "for i,j in zip(ls1,ls2):\n",
    "    print(f\"{i}----{j}\")\n"
   ]
  },
  {
   "cell_type": "code",
   "execution_count": 44,
   "metadata": {},
   "outputs": [
    {
     "name": "stdout",
     "output_type": "stream",
     "text": [
      "6 3\n",
      "ls1:0->ls2:ayush\n",
      "ls1:47->ls2:harsh\n",
      "ls1:8->ls2:vikram\n"
     ]
    }
   ],
   "source": [
    "# lets use 2 different size list \n",
    "ls1 =[0,47,8,9,9,6]\n",
    "ls2 = [\"ayush\",\"harsh\",\"vikram\"]\n",
    "print(len(ls1),len(ls2))\n",
    "for i,j in zip(ls1,ls2):\n",
    "    print(f\"ls1:{i}->ls2:{j}\")#so it will iterate by taking the length of shortest list "
   ]
  },
  {
   "cell_type": "markdown",
   "metadata": {},
   "source": [
    "# Comprehensions\n",
    "an another way to write loop in single line\n",
    "types:\n",
    "    \n",
    "    List Comprehensions\n",
    "    \n",
    "    Dictionary Comprehensions\n",
    "    \n",
    "    Set Comprehensions\n",
    "    \n",
    "    Generator Comprehensions\n"
   ]
  },
  {
   "cell_type": "markdown",
   "metadata": {},
   "source": []
  },
  {
   "cell_type": "code",
   "execution_count": 46,
   "metadata": {},
   "outputs": [
    {
     "data": {
      "text/plain": [
       "'the expression may be exactly the same as item which means that we don’t\\nwant to do anything to the items and just have the as-is.\\n\\nThe condition is optional. Only use it when you want to do a filter.'"
      ]
     },
     "execution_count": 46,
     "metadata": {},
     "output_type": "execute_result"
    }
   ],
   "source": [
    "#List Comprehension\n",
    "#my_list = [<expression> for <item> in <iterable> if <condition>]\n",
    "'''the expression may be exactly the same as item which means that we don’t\n",
    "want to do anything to the items and just have the as-is.\n",
    "\n",
    "The condition is optional. Only use it when you want to do a filter.'''"
   ]
  },
  {
   "cell_type": "code",
   "execution_count": 50,
   "metadata": {},
   "outputs": [
    {
     "name": "stdout",
     "output_type": "stream",
     "text": [
      "['a', 'y', 'u', 's', 'h']\n"
     ]
    }
   ],
   "source": [
    "ls = [ i for i in  \"ayush\"]\n",
    "print(ls)"
   ]
  },
  {
   "cell_type": "code",
   "execution_count": 53,
   "metadata": {},
   "outputs": [
    {
     "name": "stdout",
     "output_type": "stream",
     "text": [
      "['a', 'y', 'u', 's', 'h', ' ', 't', 'a', 'l', 'e', 's', 'a', 'r', 'a']\n"
     ]
    }
   ],
   "source": [
    "s = \"ayush talesara\"\n",
    "ls = [i for i in s]\n",
    "print(ls)"
   ]
  },
  {
   "cell_type": "code",
   "execution_count": 56,
   "metadata": {},
   "outputs": [
    {
     "name": "stdout",
     "output_type": "stream",
     "text": [
      "['a', 'y', 'u', 's', 'h', ' ', 't', 'a', 'l', 'e', 's', 'a', 'r', 'a']\n"
     ]
    }
   ],
   "source": [
    "# with loops\n",
    "ls = []\n",
    "for i in s:\n",
    "    ls.append(i)\n",
    "print(ls)\n"
   ]
  },
  {
   "cell_type": "code",
   "execution_count": 57,
   "metadata": {},
   "outputs": [
    {
     "name": "stdout",
     "output_type": "stream",
     "text": [
      "[0, 1, 2, 3, 4]\n"
     ]
    }
   ],
   "source": [
    "# num list\n",
    "ln = [i for i in range(0,5)]\n",
    "print(ln)"
   ]
  },
  {
   "cell_type": "code",
   "execution_count": 59,
   "metadata": {},
   "outputs": [
    {
     "name": "stdout",
     "output_type": "stream",
     "text": [
      "[0, 1, 2, 3, 4, 5, 6, 7, 8, 9]\n"
     ]
    }
   ],
   "source": [
    "# by loop method\n",
    "la = []\n",
    "for i in range(0,10):\n",
    "    la.append(i)\n",
    "print(la)"
   ]
  },
  {
   "cell_type": "code",
   "execution_count": 61,
   "metadata": {},
   "outputs": [
    {
     "name": "stdout",
     "output_type": "stream",
     "text": [
      "[0, 1, 4, 9, 16, 25, 36, 49, 64, 81]\n",
      "[0, 1, 4, 9, 16, 25, 36, 49, 64, 81]\n"
     ]
    }
   ],
   "source": [
    "# square \n",
    "ln = [i**2 for i in range(0,10)]\n",
    "print(ln)\n",
    "la = []\n",
    "for i in range(0,10):\n",
    "    la.append(i**2)\n",
    "print(la)"
   ]
  },
  {
   "cell_type": "code",
   "execution_count": 62,
   "metadata": {},
   "outputs": [
    {
     "name": "stdout",
     "output_type": "stream",
     "text": [
      "[0, 2, 4, 6, 8, 10, 12, 14, 16, 18]\n",
      "[0, 2, 4, 6, 8, 10, 12, 14, 16, 18]\n"
     ]
    }
   ],
   "source": [
    "#table \n",
    "ln = [i*2 for i in range(0,10)]\n",
    "print(ln)\n",
    "la = []\n",
    "for i in range(0,10):\n",
    "    la.append(i*2)\n",
    "print(la)\n"
   ]
  },
  {
   "cell_type": "markdown",
   "metadata": {},
   "source": [
    "# if else statment\n",
    "if \n",
    "\n",
    "syntax :`[i for i in iterable_object if condition]`"
   ]
  },
  {
   "cell_type": "markdown",
   "metadata": {},
   "source": []
  },
  {
   "cell_type": "code",
   "execution_count": 64,
   "metadata": {},
   "outputs": [
    {
     "name": "stdout",
     "output_type": "stream",
     "text": [
      "[0, 3, 6, 9, 12, 15, 18]\n"
     ]
    }
   ],
   "source": [
    "ls = [i for i in range(0,19) if (i%3==0) ]\n",
    "print(ls)"
   ]
  },
  {
   "cell_type": "code",
   "execution_count": 66,
   "metadata": {},
   "outputs": [
    {
     "name": "stdout",
     "output_type": "stream",
     "text": [
      "[0, 15, 30, 45]\n"
     ]
    }
   ],
   "source": [
    "ls = [i for i in range(0,50) if (i%3==0) if(i%5==0) ]\n",
    "print(ls)"
   ]
  },
  {
   "cell_type": "code",
   "execution_count": 67,
   "metadata": {},
   "outputs": [
    {
     "name": "stdout",
     "output_type": "stream",
     "text": [
      "[0, 75, 150, 225]\n"
     ]
    }
   ],
   "source": [
    "ls = [i * 5 for i in range(0,50) if (i%3==0) if(i%5==0) ]\n",
    "print(ls)"
   ]
  },
  {
   "cell_type": "code",
   "execution_count": 77,
   "metadata": {},
   "outputs": [
    {
     "ename": "SyntaxError",
     "evalue": "invalid syntax (4033827095.py, line 1)",
     "output_type": "error",
     "traceback": [
      "\u001b[1;36m  Input \u001b[1;32mIn [77]\u001b[1;36m\u001b[0m\n\u001b[1;33m    ls = [i for i in range(0,100) if (i%3==0) if(i%5==0) if(i==15):continue]\u001b[0m\n\u001b[1;37m                                                                  ^\u001b[0m\n\u001b[1;31mSyntaxError\u001b[0m\u001b[1;31m:\u001b[0m invalid syntax\n"
     ]
    }
   ],
   "source": [
    "ls = [i for i in range(0,100) if (i%3==0) if(i%5==0) if(i==15):continue]\n",
    "print(ls)\n",
    "# so every list comperhension can be coverted into loops but is not same as vise versa"
   ]
  },
  {
   "cell_type": "code",
   "execution_count": 93,
   "metadata": {},
   "outputs": [
    {
     "ename": "SyntaxError",
     "evalue": "invalid syntax (270456719.py, line 1)",
     "output_type": "error",
     "traceback": [
      "\u001b[1;36m  Input \u001b[1;32mIn [93]\u001b[1;36m\u001b[0m\n\u001b[1;33m    ls = [  if(i==15) if(i%5==0) if (i%3==0)for i in range(0,100) ]\u001b[0m\n\u001b[1;37m            ^\u001b[0m\n\u001b[1;31mSyntaxError\u001b[0m\u001b[1;31m:\u001b[0m invalid syntax\n"
     ]
    }
   ],
   "source": [
    "ls = [  if(i==15) if(i%5==0) if (i%3==0)for i in range(0,100) ]\n",
    "print(ls)"
   ]
  },
  {
   "cell_type": "markdown",
   "metadata": {},
   "source": [
    "Syntax : `[i if condition else statemnet for i in iterable_object]`\n"
   ]
  },
  {
   "cell_type": "code",
   "execution_count": 84,
   "metadata": {},
   "outputs": [
    {
     "name": "stdout",
     "output_type": "stream",
     "text": [
      "[0, 'odd', 2, 'odd', 4]\n"
     ]
    }
   ],
   "source": [
    "ls = [ i if(i%2==0) else \"odd\"  for i in range(0,5)]\n",
    "print(ls)"
   ]
  },
  {
   "cell_type": "code",
   "execution_count": 85,
   "metadata": {},
   "outputs": [
    {
     "name": "stdout",
     "output_type": "stream",
     "text": [
      "['even', 'odd', 'even', 'odd', 'even']\n"
     ]
    }
   ],
   "source": [
    "ls = [ \"even\" if(i%2==0) else \"odd\"  for i in range(0,5)]\n",
    "print(ls)"
   ]
  },
  {
   "cell_type": "code",
   "execution_count": 95,
   "metadata": {},
   "outputs": [
    {
     "name": "stdout",
     "output_type": "stream",
     "text": [
      "[(0, 0), (1, 1), (2, 2), (3, 3), (4, 4)]\n"
     ]
    }
   ],
   "source": [
    "ls = [ i for i in enumerate(range(0,5))]\n",
    "print(ls)"
   ]
  },
  {
   "cell_type": "code",
   "execution_count": 94,
   "metadata": {},
   "outputs": [],
   "source": [
    "#Nested List Comprehension"
   ]
  },
  {
   "cell_type": "code",
   "execution_count": 96,
   "metadata": {},
   "outputs": [],
   "source": [
    "# syntax : nested_list =[[i for i in range (y)]for j in range (x)]\n",
    "#         [x,[y]]\n",
    "# x --> outer loop\n",
    "# y --> inner loop"
   ]
  },
  {
   "cell_type": "code",
   "execution_count": 97,
   "metadata": {},
   "outputs": [],
   "source": [
    "ls = [[i for i in range(0,5)] for j in range(0,2)]"
   ]
  },
  {
   "cell_type": "code",
   "execution_count": 98,
   "metadata": {},
   "outputs": [
    {
     "name": "stdout",
     "output_type": "stream",
     "text": [
      "[[0, 1, 2, 3, 4], [0, 1, 2, 3, 4]]\n"
     ]
    }
   ],
   "source": [
    "print(ls)"
   ]
  },
  {
   "cell_type": "code",
   "execution_count": 99,
   "metadata": {},
   "outputs": [],
   "source": [
    "# Dictionary Comprehension"
   ]
  },
  {
   "cell_type": "markdown",
   "metadata": {},
   "source": [
    "syntax : `dic = {key:value for i in iterable}`"
   ]
  },
  {
   "cell_type": "code",
   "execution_count": 100,
   "metadata": {},
   "outputs": [
    {
     "name": "stdout",
     "output_type": "stream",
     "text": [
      "{0: 0, 1: 1, 2: 2, 3: 3, 4: 4}\n"
     ]
    }
   ],
   "source": [
    "d = {i:i for i in range(0,5)}\n",
    "print(d)"
   ]
  },
  {
   "cell_type": "code",
   "execution_count": 101,
   "metadata": {},
   "outputs": [
    {
     "name": "stdout",
     "output_type": "stream",
     "text": [
      "{0: 0, 1: 4, 2: 8, 3: 12, 4: 16}\n"
     ]
    }
   ],
   "source": [
    "d = {i:i*4 for i in range(0,5)}\n",
    "print(d)"
   ]
  },
  {
   "cell_type": "code",
   "execution_count": 102,
   "metadata": {},
   "outputs": [
    {
     "name": "stdout",
     "output_type": "stream",
     "text": [
      "{0: 'ayush', 1: 'ayush', 2: 'ayush', 3: 'ayush', 4: 'ayush'}\n"
     ]
    }
   ],
   "source": [
    "d = {i:'ayush' for i in range(0,5)}\n",
    "print(d)"
   ]
  },
  {
   "cell_type": "code",
   "execution_count": 104,
   "metadata": {},
   "outputs": [
    {
     "name": "stdout",
     "output_type": "stream",
     "text": [
      "{0: 'ayush', 1: 'piyush', 2: 'harsh', 3: 'dev'}\n"
     ]
    }
   ],
   "source": [
    "ls = [\"ayush\",\"piyush\",\"harsh\",\"dev\"]\n",
    "d = {i:ls[i] for i in range(0,4)}\n",
    "print(d)"
   ]
  },
  {
   "cell_type": "code",
   "execution_count": 105,
   "metadata": {},
   "outputs": [
    {
     "ename": "IndexError",
     "evalue": "list index out of range",
     "output_type": "error",
     "traceback": [
      "\u001b[1;31m---------------------------------------------------------------------------\u001b[0m",
      "\u001b[1;31mIndexError\u001b[0m                                Traceback (most recent call last)",
      "\u001b[1;32me:\\PROGAMMING\\100 DAYS OF CODE CHALLENGE\\DAY-009.ipynb Cell 40\u001b[0m in \u001b[0;36m<cell line: 2>\u001b[1;34m()\u001b[0m\n\u001b[0;32m      <a href='vscode-notebook-cell:/e%3A/PROGAMMING/100%20DAYS%20OF%20CODE%20CHALLENGE/DAY-009.ipynb#ch0000048?line=0'>1</a>\u001b[0m ls \u001b[39m=\u001b[39m [\u001b[39m\"\u001b[39m\u001b[39mayush\u001b[39m\u001b[39m\"\u001b[39m,\u001b[39m\"\u001b[39m\u001b[39mpiyush\u001b[39m\u001b[39m\"\u001b[39m,\u001b[39m\"\u001b[39m\u001b[39mharsh\u001b[39m\u001b[39m\"\u001b[39m,\u001b[39m\"\u001b[39m\u001b[39mdev\u001b[39m\u001b[39m\"\u001b[39m]\n\u001b[1;32m----> <a href='vscode-notebook-cell:/e%3A/PROGAMMING/100%20DAYS%20OF%20CODE%20CHALLENGE/DAY-009.ipynb#ch0000048?line=1'>2</a>\u001b[0m d \u001b[39m=\u001b[39m {i:ls[i] \u001b[39mfor\u001b[39;00m i \u001b[39min\u001b[39;00m \u001b[39mrange\u001b[39m(\u001b[39m0\u001b[39m,\u001b[39m9\u001b[39m)}\n\u001b[0;32m      <a href='vscode-notebook-cell:/e%3A/PROGAMMING/100%20DAYS%20OF%20CODE%20CHALLENGE/DAY-009.ipynb#ch0000048?line=2'>3</a>\u001b[0m \u001b[39mprint\u001b[39m(d)\n",
      "\u001b[1;32me:\\PROGAMMING\\100 DAYS OF CODE CHALLENGE\\DAY-009.ipynb Cell 40\u001b[0m in \u001b[0;36m<dictcomp>\u001b[1;34m(.0)\u001b[0m\n\u001b[0;32m      <a href='vscode-notebook-cell:/e%3A/PROGAMMING/100%20DAYS%20OF%20CODE%20CHALLENGE/DAY-009.ipynb#ch0000048?line=0'>1</a>\u001b[0m ls \u001b[39m=\u001b[39m [\u001b[39m\"\u001b[39m\u001b[39mayush\u001b[39m\u001b[39m\"\u001b[39m,\u001b[39m\"\u001b[39m\u001b[39mpiyush\u001b[39m\u001b[39m\"\u001b[39m,\u001b[39m\"\u001b[39m\u001b[39mharsh\u001b[39m\u001b[39m\"\u001b[39m,\u001b[39m\"\u001b[39m\u001b[39mdev\u001b[39m\u001b[39m\"\u001b[39m]\n\u001b[1;32m----> <a href='vscode-notebook-cell:/e%3A/PROGAMMING/100%20DAYS%20OF%20CODE%20CHALLENGE/DAY-009.ipynb#ch0000048?line=1'>2</a>\u001b[0m d \u001b[39m=\u001b[39m {i:ls[i] \u001b[39mfor\u001b[39;00m i \u001b[39min\u001b[39;00m \u001b[39mrange\u001b[39m(\u001b[39m0\u001b[39m,\u001b[39m9\u001b[39m)}\n\u001b[0;32m      <a href='vscode-notebook-cell:/e%3A/PROGAMMING/100%20DAYS%20OF%20CODE%20CHALLENGE/DAY-009.ipynb#ch0000048?line=2'>3</a>\u001b[0m \u001b[39mprint\u001b[39m(d)\n",
      "\u001b[1;31mIndexError\u001b[0m: list index out of range"
     ]
    }
   ],
   "source": [
    "ls = [\"ayush\",\"piyush\",\"harsh\",\"dev\"]\n",
    "d = {i:ls[i] for i in range(0,9)}\n",
    "print(d)"
   ]
  },
  {
   "cell_type": "code",
   "execution_count": 106,
   "metadata": {},
   "outputs": [
    {
     "name": "stdout",
     "output_type": "stream",
     "text": [
      "{0: ['ayush', 'piyush', 'harsh', 'dev'], 1: ['ayush', 'piyush', 'harsh', 'dev'], 2: ['ayush', 'piyush', 'harsh', 'dev'], 3: ['ayush', 'piyush', 'harsh', 'dev'], 4: ['ayush', 'piyush', 'harsh', 'dev'], 5: ['ayush', 'piyush', 'harsh', 'dev'], 6: ['ayush', 'piyush', 'harsh', 'dev'], 7: ['ayush', 'piyush', 'harsh', 'dev'], 8: ['ayush', 'piyush', 'harsh', 'dev']}\n"
     ]
    }
   ],
   "source": [
    "ls = [\"ayush\",\"piyush\",\"harsh\",\"dev\"]\n",
    "d = {i:ls for i in range(0,9)}\n",
    "print(d)"
   ]
  },
  {
   "cell_type": "code",
   "execution_count": 108,
   "metadata": {},
   "outputs": [
    {
     "name": "stdout",
     "output_type": "stream",
     "text": [
      "{'milk': 135.28, 'coffee': 1.9608, 'bread': 1.9076}\n"
     ]
    }
   ],
   "source": [
    "#item price in dollars\n",
    "old_price = {'milk': 178, 'coffee': 2.58, 'bread': 2.51}\n",
    "\n",
    "dollar_to_pound = 0.76\n",
    "new_price = {item: value*dollar_to_pound for (item, value) in old_price.items()}\n",
    "print(new_price)\n",
    "\n"
   ]
  },
  {
   "cell_type": "code",
   "execution_count": 109,
   "metadata": {},
   "outputs": [
    {
     "name": "stdout",
     "output_type": "stream",
     "text": [
      "{0: 'roti', 47: 'rice', 8: 'buttermilk', 96: 'sabzi'}\n"
     ]
    }
   ],
   "source": [
    "# 2 list into dict\n",
    "#<dict_name> = {<new_key>:<new_value> for (key,value) in zip(list1,list2)}\n",
    "ls1 = [0,47,8,96]\n",
    "ls2 = [\"roti\",\"rice\",\"buttermilk\",\"sabzi\"]\n",
    "d = {i:v for (i,v) in zip(ls1,ls2)}\n",
    "print(d)"
   ]
  },
  {
   "cell_type": "code",
   "execution_count": 111,
   "metadata": {},
   "outputs": [
    {
     "name": "stdout",
     "output_type": "stream",
     "text": [
      "{'roti': 0, 'rice': 94, 'buttermilk': 16, 'sabzi': 192}\n"
     ]
    }
   ],
   "source": [
    "ls1 = [0,47,8,96]\n",
    "ls2 = [\"roti\",\"rice\",\"buttermilk\",\"sabzi\"]\n",
    "d = {i:v*2 for (i,v) in zip(ls2,ls1)}\n",
    "print(d)"
   ]
  },
  {
   "cell_type": "markdown",
   "metadata": {},
   "source": [
    "syntax :`[i:i for i in iterable_object if condition]`"
   ]
  },
  {
   "cell_type": "code",
   "execution_count": 112,
   "metadata": {},
   "outputs": [
    {
     "name": "stdout",
     "output_type": "stream",
     "text": [
      "{0: 0, 2: 4, 4: 8}\n"
     ]
    }
   ],
   "source": [
    "d = {i:i*2 for i in range(5) if(i%2==0)}\n",
    "print(d)"
   ]
  },
  {
   "cell_type": "code",
   "execution_count": 113,
   "metadata": {},
   "outputs": [
    {
     "name": "stdout",
     "output_type": "stream",
     "text": [
      "{0: -1, 2: 1, 4: 3, 6: 5, 8: 7, 10: 9, 12: 11, 14: 13}\n"
     ]
    }
   ],
   "source": [
    "d = {i:i-1 for i in range(16) if(i%2==0)}\n",
    "print(d)"
   ]
  },
  {
   "cell_type": "markdown",
   "metadata": {},
   "source": [
    "`syntax`\n",
    "        \n",
    "        `[i:(i if condition else condition) for i in iterable_object ]`\n",
    "            \n",
    "                              or\n",
    "        `[i:i if condition else condition for i in iterable_object ]`"
   ]
  },
  {
   "cell_type": "code",
   "execution_count": 127,
   "metadata": {},
   "outputs": [
    {
     "name": "stdout",
     "output_type": "stream",
     "text": [
      "{1: 'odd', 2: 2, 3: 'odd', 4: 4, 5: 'odd', 6: 6, 7: 'odd', 8: 8, 9: 'odd'}\n"
     ]
    }
   ],
   "source": [
    "d = {i:(i if (i%2==0) else 'odd') for i in range(1,10)}\n",
    "print(d)"
   ]
  },
  {
   "cell_type": "code",
   "execution_count": 130,
   "metadata": {},
   "outputs": [
    {
     "name": "stdout",
     "output_type": "stream",
     "text": [
      "{1: 'odd', 2: 'even', 3: 'odd', 4: 'even', 5: 'odd', 6: 'even', 7: 'odd', 8: 'even', 9: 'odd'}\n"
     ]
    }
   ],
   "source": [
    "d = {i:(\"even\"if (i%2==0) else 'odd') for i in range(1,10)}\n",
    "print(d)"
   ]
  },
  {
   "cell_type": "markdown",
   "metadata": {},
   "source": [
    "# Set Comprehensions"
   ]
  },
  {
   "cell_type": "markdown",
   "metadata": {},
   "source": [
    "syntax :\n",
    "    new_set = `{expression for i in iterbale_items }`\n",
    "    "
   ]
  },
  {
   "cell_type": "code",
   "execution_count": 131,
   "metadata": {},
   "outputs": [],
   "source": [
    "s = {i for i in  range(8)}\n"
   ]
  },
  {
   "cell_type": "code",
   "execution_count": 133,
   "metadata": {},
   "outputs": [
    {
     "name": "stdout",
     "output_type": "stream",
     "text": [
      "{0, 1, 2, 3, 4, 5, 6, 7}\n"
     ]
    }
   ],
   "source": [
    "print(s)"
   ]
  },
  {
   "cell_type": "code",
   "execution_count": 134,
   "metadata": {},
   "outputs": [
    {
     "name": "stdout",
     "output_type": "stream",
     "text": [
      "{8199, 8, 9, 7, 78, 797}\n"
     ]
    }
   ],
   "source": [
    "ls = [78,7,7,8,8,9,9,7,8,9,9,8199,797]\n",
    "s = {i for i in ls}\n",
    "print(s)"
   ]
  },
  {
   "cell_type": "markdown",
   "metadata": {},
   "source": [
    "syntax : `{expression for i in iterbale_items if condition }`\n"
   ]
  },
  {
   "cell_type": "code",
   "execution_count": 135,
   "metadata": {},
   "outputs": [
    {
     "name": "stdout",
     "output_type": "stream",
     "text": [
      "{0, 1, 2, 3, 4}\n"
     ]
    }
   ],
   "source": [
    "s = {i for i in range(15) if(i<5)}\n",
    "print(s)"
   ]
  },
  {
   "cell_type": "code",
   "execution_count": 137,
   "metadata": {},
   "outputs": [
    {
     "ename": "SyntaxError",
     "evalue": "expected 'else' after 'if' expression (763672781.py, line 1)",
     "output_type": "error",
     "traceback": [
      "\u001b[1;36m  Input \u001b[1;32mIn [137]\u001b[1;36m\u001b[0m\n\u001b[1;33m    s = {\"even\" if(i%2==0)  for i in range(15)  }\u001b[0m\n\u001b[1;37m         ^\u001b[0m\n\u001b[1;31mSyntaxError\u001b[0m\u001b[1;31m:\u001b[0m expected 'else' after 'if' expression\n"
     ]
    }
   ],
   "source": [
    "s = {\"even\" if(i%2==0)  for i in range(15)  }\n",
    "print(s)"
   ]
  },
  {
   "cell_type": "markdown",
   "metadata": {},
   "source": [
    " syntax :`{i if condition else condition  for i in iterable_object}`"
   ]
  },
  {
   "cell_type": "code",
   "execution_count": 138,
   "metadata": {},
   "outputs": [],
   "source": [
    "s = {i if(i%2==0) else \"odd\"  for i in range(54)}\n"
   ]
  },
  {
   "cell_type": "code",
   "execution_count": 139,
   "metadata": {},
   "outputs": [
    {
     "name": "stdout",
     "output_type": "stream",
     "text": [
      "{0, 2, 4, 6, 8, 10, 12, 14, 16, 18, 20, 22, 24, 26, 28, 30, 32, 34, 36, 38, 40, 42, 44, 46, 48, 50, 52, 'odd'}\n"
     ]
    }
   ],
   "source": [
    "print(s)"
   ]
  },
  {
   "cell_type": "markdown",
   "metadata": {},
   "source": [
    "synatx :\n",
    "          `{(i,j) for j in iterable_object for i in iterable_object}`"
   ]
  },
  {
   "cell_type": "code",
   "execution_count": 142,
   "metadata": {},
   "outputs": [
    {
     "name": "stdout",
     "output_type": "stream",
     "text": [
      "{(0, 1), (1, 2), (0, 4), (0, 0), (1, 1), (0, 3), (1, 4), (0, 2), (1, 0), (1, 3)}\n"
     ]
    }
   ],
   "source": [
    "s = {(i,j) for j in range(5) for i in range(2) }\n",
    "print(s)"
   ]
  },
  {
   "cell_type": "code",
   "execution_count": null,
   "metadata": {},
   "outputs": [],
   "source": []
  }
 ],
 "metadata": {
  "kernelspec": {
   "display_name": "Python 3.10.4 64-bit",
   "language": "python",
   "name": "python3"
  },
  "language_info": {
   "codemirror_mode": {
    "name": "ipython",
    "version": 3
   },
   "file_extension": ".py",
   "mimetype": "text/x-python",
   "name": "python",
   "nbconvert_exporter": "python",
   "pygments_lexer": "ipython3",
   "version": "3.10.4"
  },
  "orig_nbformat": 4,
  "vscode": {
   "interpreter": {
    "hash": "d818f4a5b132e7f66021d3e7c19c2b7a86b89f9388f799e2d6a66075690a4386"
   }
  }
 },
 "nbformat": 4,
 "nbformat_minor": 2
}
