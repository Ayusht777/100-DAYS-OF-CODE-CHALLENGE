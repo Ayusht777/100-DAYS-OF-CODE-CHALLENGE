{
 "cells": [
  {
   "cell_type": "markdown",
   "metadata": {},
   "source": [
    "# Day-26 of 100dayofcode [10/08/2022 wednesday]"
   ]
  },
  {
   "cell_type": "markdown",
   "metadata": {},
   "source": [
    "Methods "
   ]
  },
  {
   "cell_type": "markdown",
   "metadata": {},
   "source": [
    "it is a function inside a class"
   ]
  },
  {
   "cell_type": "code",
   "execution_count": 56,
   "metadata": {},
   "outputs": [],
   "source": [
    "class laptop():\n",
    "     \n",
    "    def __init__(self,cpu,gpu,price):\n",
    "        self.cpu = cpu\n",
    "        self.gpu = gpu\n",
    "        self.price = price\n",
    "    def do(self):\n",
    "        print('do coding')\n",
    "            \n",
    "               "
   ]
  },
  {
   "cell_type": "code",
   "execution_count": 34,
   "metadata": {},
   "outputs": [
    {
     "data": {
      "text/plain": [
       "<function __main__.laptop.method()>"
      ]
     },
     "execution_count": 34,
     "metadata": {},
     "output_type": "execute_result"
    }
   ],
   "source": [
    "laptop.method# it is a function so we need ()"
   ]
  },
  {
   "cell_type": "code",
   "execution_count": 57,
   "metadata": {},
   "outputs": [],
   "source": [
    "asus = laptop(cpu='i5',gpu='rtx3060',price=1110000)"
   ]
  },
  {
   "cell_type": "code",
   "execution_count": 37,
   "metadata": {},
   "outputs": [
    {
     "data": {
      "text/plain": [
       "'i5'"
      ]
     },
     "execution_count": 37,
     "metadata": {},
     "output_type": "execute_result"
    }
   ],
   "source": [
    "asus.cpu"
   ]
  },
  {
   "cell_type": "code",
   "execution_count": 58,
   "metadata": {},
   "outputs": [
    {
     "name": "stdout",
     "output_type": "stream",
     "text": [
      "do coding\n"
     ]
    }
   ],
   "source": [
    "asus.do()"
   ]
  },
  {
   "cell_type": "code",
   "execution_count": 62,
   "metadata": {},
   "outputs": [],
   "source": [
    "class Laptop():\n",
    "     \n",
    "    def __init__(self,cpu,gpu,price):\n",
    "        self.cpu = cpu\n",
    "        self.gpu = gpu\n",
    "        self.price = price\n",
    "    def price_check(self):\n",
    "        if(self.price>100000):\n",
    "            print(\"epensive\")\n",
    "        else:\n",
    "            print(\"not expensive\")\n",
    "            \n",
    "               "
   ]
  },
  {
   "cell_type": "code",
   "execution_count": 64,
   "metadata": {},
   "outputs": [],
   "source": [
    "hp = Laptop(cpu='i7',gpu='1660',price=1000000)"
   ]
  },
  {
   "cell_type": "code",
   "execution_count": 65,
   "metadata": {},
   "outputs": [
    {
     "name": "stdout",
     "output_type": "stream",
     "text": [
      "epensive\n"
     ]
    }
   ],
   "source": [
    "hp.price_check()"
   ]
  },
  {
   "cell_type": "code",
   "execution_count": 66,
   "metadata": {},
   "outputs": [],
   "source": [
    "class Laptop():\n",
    "     \n",
    "    def __init__(self,cpu,gpu,price):\n",
    "        self.cpu = cpu\n",
    "        self.gpu = gpu\n",
    "        self.price = price\n",
    "    def spec(self):\n",
    "        print(f\"THE CPU IS {self.cpu},GPU {self.gpu},Price {self.price}\")\n",
    "        \n",
    "            \n",
    "               "
   ]
  },
  {
   "cell_type": "code",
   "execution_count": 70,
   "metadata": {},
   "outputs": [],
   "source": [
    "rog = Laptop(cpu='i9',gpu='3090',price=1500000)\n"
   ]
  },
  {
   "cell_type": "code",
   "execution_count": 71,
   "metadata": {},
   "outputs": [
    {
     "name": "stdout",
     "output_type": "stream",
     "text": [
      "THE CPU IS i9,GPU 3090,Price 1500000\n"
     ]
    }
   ],
   "source": [
    "rog.spec()"
   ]
  },
  {
   "cell_type": "code",
   "execution_count": 74,
   "metadata": {},
   "outputs": [],
   "source": [
    "apple  = Laptop(cpu='m2',gpu='m2',price=1500000)"
   ]
  },
  {
   "cell_type": "code",
   "execution_count": 77,
   "metadata": {},
   "outputs": [
    {
     "name": "stdout",
     "output_type": "stream",
     "text": [
      "THE CPU IS m2,GPU m2,Price 1500000\n",
      "THE CPU IS i9,GPU 3090,Price 1500000\n",
      "None None\n"
     ]
    }
   ],
   "source": [
    "print(f\"{apple.spec()} {rog.spec()}\")"
   ]
  },
  {
   "cell_type": "code",
   "execution_count": 80,
   "metadata": {},
   "outputs": [],
   "source": [
    "class Triangle:\n",
    "    #class define\n",
    "    def __init__(self,height=1,base=1):# default value\n",
    "        self.height = height\n",
    "        self.base = base\n",
    "    def area(self):\n",
    "        return(0.5*self.height*self.base)\n",
    "    \n",
    "        \n",
    "        "
   ]
  },
  {
   "cell_type": "code",
   "execution_count": 82,
   "metadata": {},
   "outputs": [
    {
     "name": "stdout",
     "output_type": "stream",
     "text": [
      "495.0\n"
     ]
    }
   ],
   "source": [
    "t1 = Triangle(45,22)\n",
    "print(t1.area())"
   ]
  },
  {
   "cell_type": "code",
   "execution_count": 89,
   "metadata": {},
   "outputs": [],
   "source": [
    "class Circle:\n",
    "    # class attribute\n",
    "    pi = 3.14\n",
    "    def __init__(self,radius=1):\n",
    "        self.r =radius\n",
    "        self.area = self.pi *self.r*self.r\n",
    "        # or you can a class objetc as\n",
    "        # class.pi\n",
    "    \n",
    "        "
   ]
  },
  {
   "cell_type": "code",
   "execution_count": 86,
   "metadata": {},
   "outputs": [],
   "source": [
    "c1 = Circle(10)"
   ]
  },
  {
   "cell_type": "code",
   "execution_count": 88,
   "metadata": {},
   "outputs": [
    {
     "data": {
      "text/plain": [
       "314.0"
      ]
     },
     "execution_count": 88,
     "metadata": {},
     "output_type": "execute_result"
    }
   ],
   "source": [
    "c1.area"
   ]
  },
  {
   "cell_type": "markdown",
   "metadata": {},
   "source": [
    "### Q1. create a car class\n"
   ]
  },
  {
   "cell_type": "code",
   "execution_count": 91,
   "metadata": {},
   "outputs": [
    {
     "data": {
      "text/html": [
       "<img src=\"https://i.postimg.cc/vBRFqGyX/image.png\" width=\"700\" height=\"400\"/>"
      ],
      "text/plain": [
       "<IPython.core.display.Image object>"
      ]
     },
     "execution_count": 91,
     "metadata": {},
     "output_type": "execute_result"
    }
   ],
   "source": [
    "from IPython.display import Image\n",
    "Image(url= \"https://i.postimg.cc/vBRFqGyX/image.png\", width=700, height=400)"
   ]
  },
  {
   "cell_type": "code",
   "execution_count": 96,
   "metadata": {},
   "outputs": [],
   "source": [
    "class Car:\n",
    "    def __init__(self,color='None',mileage=0):\n",
    "        # the value should be str\n",
    "        self.color = color\n",
    "        # the value should be a int \n",
    "        self.mileage = mileage\n",
    "    def car_spec(self):\n",
    "        print(f\"The {self.color} car has {self.mileage} miles.\")\n",
    "    "
   ]
  },
  {
   "cell_type": "code",
   "execution_count": 97,
   "metadata": {},
   "outputs": [],
   "source": [
    "tesla = Car('red',50000)"
   ]
  },
  {
   "cell_type": "code",
   "execution_count": 98,
   "metadata": {},
   "outputs": [
    {
     "name": "stdout",
     "output_type": "stream",
     "text": [
      "The red car has 50000 miles.\n"
     ]
    }
   ],
   "source": [
    "tesla.car_spec()\n"
   ]
  },
  {
   "cell_type": "code",
   "execution_count": 99,
   "metadata": {},
   "outputs": [],
   "source": [
    "swift = Car('bule',78888)\n"
   ]
  },
  {
   "cell_type": "code",
   "execution_count": 101,
   "metadata": {},
   "outputs": [
    {
     "name": "stdout",
     "output_type": "stream",
     "text": [
      "The red car has 50000 miles.\n",
      "The bule car has 78888 miles.\n"
     ]
    }
   ],
   "source": [
    "tesla.car_spec()\n",
    "swift.car_spec()"
   ]
  },
  {
   "cell_type": "code",
   "execution_count": null,
   "metadata": {},
   "outputs": [],
   "source": [
    "\n",
    "    "
   ]
  },
  {
   "cell_type": "code",
   "execution_count": null,
   "metadata": {},
   "outputs": [],
   "source": []
  }
 ],
 "metadata": {
  "kernelspec": {
   "display_name": "Python 3.10.6 64-bit",
   "language": "python",
   "name": "python3"
  },
  "language_info": {
   "codemirror_mode": {
    "name": "ipython",
    "version": 3
   },
   "file_extension": ".py",
   "mimetype": "text/x-python",
   "name": "python",
   "nbconvert_exporter": "python",
   "pygments_lexer": "ipython3",
   "version": "3.10.6"
  },
  "orig_nbformat": 4,
  "vscode": {
   "interpreter": {
    "hash": "d818f4a5b132e7f66021d3e7c19c2b7a86b89f9388f799e2d6a66075690a4386"
   }
  }
 },
 "nbformat": 4,
 "nbformat_minor": 2
}
