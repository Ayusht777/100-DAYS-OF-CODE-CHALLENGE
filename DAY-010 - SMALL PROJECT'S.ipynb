{
 "cells": [
  {
   "cell_type": "code",
   "execution_count": null,
   "metadata": {},
   "outputs": [],
   "source": [
    "#Day-10 of 100dayofcode [24/07/2022 sunday]\n",
    "#today i will going to create some small project in python\n",
    "# 1. Acronyms Using Python\n",
    "# it just coverts a pharse or word in to short from exmpale\n",
    "# youtube = YT\n",
    "# print(\"--------------------------------------------------\")\n",
    "print(\"Acronyms Porgram\")\n",
    "print(\"--------------------------------------------------\")\n",
    "s = str(input(\"ENTER A WORD/PHRASE:\"))\n",
    "x = s.split()\n",
    "\n",
    "c = \" \"\n",
    "for i in x:\n",
    "    c = c + str(i[0]).upper()\n",
    "print(f'THE WORD:{s} & ACRONYMS:{c}')"
   ]
  },
  {
   "cell_type": "code",
   "execution_count": null,
   "metadata": {},
   "outputs": [],
   "source": [
    "#2. BMI Calculator with Python\n",
    "print(\"--------------------------------------------------\")\n",
    "print(\"Body Mass Index (BMI)\")\n",
    "print(\"--------------------------------------------------\")\n",
    "w = float(input((\"ENTER YOUR WEIGHT IN KG:\")))\n",
    "h = float(input((\"ENTER YOUR HEIGHT IN CM:\")))\n",
    "h = h/100\n",
    "BMI = w/(h*h)\n",
    "\n",
    "print(\"---------------------------------------------------\")\n",
    "uw =\"you are underweight\"#underweight for bmi <=18.5\n",
    "nw =\"you are Healthy\"# normal weight for bmi 18.5 to 24.9\n",
    "ow = \"you are overweight\"\n",
    "obcw1= \"you are obesity class 1\"\n",
    "obcw2= \"you are obesity class 2\"\n",
    "obcw3 =\"you are obesity class 3\"\n",
    "\n",
    "if(BMI>0):\n",
    "    if (BMI<=18.5):\n",
    "        print(f\"YOUR WIEGHT {w} KG,HEIGHT {h*100} CM,{uw.title()} \")\n",
    "    elif(BMI <=24.9):\n",
    "        print(f\"YOUR WIEGHT {w} KG,HEIGHT {h*100} CM,{nw.title()} \")\n",
    "    elif(BMI <=29.9):\n",
    "        print(f\"YOUR WIEGHT {w} KG,HEIGHT {h*100} CM,{ow.title()} \")\n",
    "    elif(BMI<=35.0):\n",
    "        print(f\"YOUR WIEGHT {w} KG,HEIGHT {h*100} CM,{obcw1.title()} \")\n",
    "    elif(BMI <=39.9):\n",
    "        print(f\"YOUR WIEGHT {w} KG,HEIGHT {h*100} CM,{obcw2.title()} \")\n",
    "    else:\n",
    "        print(f\"YOUR WIEGHT {w} KG,HEIGHT {h*100} CM,{obcw3.title()} \")\n",
    "else:\n",
    "    print(\"ENTER INFO IS WRONG\")"
   ]
  }
 ],
 "metadata": {
  "kernelspec": {
   "display_name": "Python 3.10.4 64-bit",
   "language": "python",
   "name": "python3"
  },
  "language_info": {
   "name": "python",
   "version": "3.10.4"
  },
  "orig_nbformat": 4,
  "vscode": {
   "interpreter": {
    "hash": "d818f4a5b132e7f66021d3e7c19c2b7a86b89f9388f799e2d6a66075690a4386"
   }
  }
 },
 "nbformat": 4,
 "nbformat_minor": 2
}
