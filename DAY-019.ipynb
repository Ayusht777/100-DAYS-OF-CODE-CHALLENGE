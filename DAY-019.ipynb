{
 "cells": [
  {
   "cell_type": "markdown",
   "metadata": {},
   "source": [
    "# Day-19 of 100dayofcode [02/08/2022 tuesday]"
   ]
  },
  {
   "cell_type": "markdown",
   "metadata": {},
   "source": [
    "## File Handling"
   ]
  },
  {
   "cell_type": "code",
   "execution_count": null,
   "metadata": {},
   "outputs": [],
   "source": [
    "#Files\n",
    "# which contains data and use to store or read the data form the ram or system \n"
   ]
  },
  {
   "cell_type": "code",
   "execution_count": null,
   "metadata": {},
   "outputs": [],
   "source": [
    "# Opening Files in Python\n",
    "# open() function\n",
    "# syntax :- file_variable = open(\"path.txt\",'mode(r,w,a,x,t etc)',encoding = 'utf-8')\n",
    "# path :- replace \\ to \\\\\n"
   ]
  },
  {
   "cell_type": "code",
   "execution_count": 1,
   "metadata": {},
   "outputs": [],
   "source": [
    "f = open(\"E:\\\\PROGAMMING\\\\100 DAYS OF CODE CHALLENGE\\\\new1.txt\",'r')"
   ]
  },
  {
   "cell_type": "code",
   "execution_count": 2,
   "metadata": {},
   "outputs": [
    {
     "data": {
      "text/plain": [
       "_io.TextIOWrapper"
      ]
     },
     "execution_count": 2,
     "metadata": {},
     "output_type": "execute_result"
    }
   ],
   "source": [
    "type(f)"
   ]
  },
  {
   "cell_type": "code",
   "execution_count": 3,
   "metadata": {},
   "outputs": [
    {
     "data": {
      "text/plain": [
       "'hello\\nsalkdsaklfd\\na\\nsalkdsaklfdasdsa\\na\\nd\\nasdsa\\nd'"
      ]
     },
     "execution_count": 3,
     "metadata": {},
     "output_type": "execute_result"
    }
   ],
   "source": [
    "f.read()"
   ]
  },
  {
   "cell_type": "code",
   "execution_count": 5,
   "metadata": {},
   "outputs": [
    {
     "data": {
      "text/plain": [
       "0"
      ]
     },
     "execution_count": 5,
     "metadata": {},
     "output_type": "execute_result"
    }
   ],
   "source": [
    "f.seek(0)"
   ]
  },
  {
   "cell_type": "code",
   "execution_count": 6,
   "metadata": {},
   "outputs": [
    {
     "name": "stdout",
     "output_type": "stream",
     "text": [
      "48\n"
     ]
    },
    {
     "data": {
      "text/plain": [
       "55"
      ]
     },
     "execution_count": 6,
     "metadata": {},
     "output_type": "execute_result"
    }
   ],
   "source": [
    "print(len(f.read()))\n",
    "f.tell() #it will going to tell the pointer/cursor in the file \n",
    "# value = len(file_char) + 1\n"
   ]
  },
  {
   "cell_type": "code",
   "execution_count": 7,
   "metadata": {},
   "outputs": [
    {
     "data": {
      "text/plain": [
       "''"
      ]
     },
     "execution_count": 7,
     "metadata": {},
     "output_type": "execute_result"
    }
   ],
   "source": [
    "f.read() # if you run it again than \n",
    "# it will show  you  empty string due to the file pointer moved at last of the file\n"
   ]
  },
  {
   "cell_type": "code",
   "execution_count": 8,
   "metadata": {},
   "outputs": [
    {
     "name": "stdout",
     "output_type": "stream",
     "text": [
      "<_io.TextIOWrapper name='E:\\\\PROGAMMING\\\\100 DAYS OF CODE CHALLENGE\\\\new1.txt' mode='r' encoding='cp1252'>\n"
     ]
    }
   ],
   "source": [
    "print(f)"
   ]
  },
  {
   "cell_type": "code",
   "execution_count": 9,
   "metadata": {},
   "outputs": [],
   "source": [
    "# closing  a file \n",
    "# a file should be close after it open\n",
    "# with close function\n",
    "f.close()"
   ]
  },
  {
   "cell_type": "code",
   "execution_count": 11,
   "metadata": {},
   "outputs": [],
   "source": [
    "f = open(\"new1.txt\",'r')"
   ]
  },
  {
   "cell_type": "code",
   "execution_count": 12,
   "metadata": {},
   "outputs": [
    {
     "data": {
      "text/plain": [
       "'hello\\nsalkdsaklfd\\na\\nsalkdsaklfdasdsa\\na\\nd\\nasdsa\\nd'"
      ]
     },
     "execution_count": 12,
     "metadata": {},
     "output_type": "execute_result"
    }
   ],
   "source": [
    "\n",
    "f.read()\n"
   ]
  },
  {
   "cell_type": "code",
   "execution_count": null,
   "metadata": {},
   "outputs": [],
   "source": []
  },
  {
   "cell_type": "code",
   "execution_count": 13,
   "metadata": {},
   "outputs": [],
   "source": [
    "f.close()"
   ]
  },
  {
   "cell_type": "code",
   "execution_count": 14,
   "metadata": {},
   "outputs": [],
   "source": [
    "f  = open('new1.txt','r',encoding='utf-8')"
   ]
  },
  {
   "cell_type": "code",
   "execution_count": 15,
   "metadata": {},
   "outputs": [
    {
     "data": {
      "text/plain": [
       "'hello\\nsalkdsaklfd\\na\\nsalkdsaklfdasdsa\\na\\nd\\nasdsa\\nd'"
      ]
     },
     "execution_count": 15,
     "metadata": {},
     "output_type": "execute_result"
    }
   ],
   "source": [
    "f.read()\n"
   ]
  },
  {
   "cell_type": "code",
   "execution_count": 16,
   "metadata": {},
   "outputs": [],
   "source": [
    "f.close()"
   ]
  },
  {
   "cell_type": "code",
   "execution_count": 17,
   "metadata": {},
   "outputs": [
    {
     "data": {
      "text/html": [
       "<img src=\"https://i.postimg.cc/Qty6N492/image.png\" width=\"995\" height=\"578\"/>"
      ],
      "text/plain": [
       "<IPython.core.display.Image object>"
      ]
     },
     "execution_count": 17,
     "metadata": {},
     "output_type": "execute_result"
    }
   ],
   "source": [
    "# modes \n",
    "from IPython.display import Image\n",
    "Image(url= \"https://i.postimg.cc/Qty6N492/image.png\", width=995, height=578)"
   ]
  },
  {
   "cell_type": "code",
   "execution_count": 24,
   "metadata": {},
   "outputs": [],
   "source": [
    "# w mode \n",
    "# this will open it the file in write mode and going to \n",
    "f = open('new1.txt','w')\n"
   ]
  },
  {
   "cell_type": "code",
   "execution_count": 27,
   "metadata": {},
   "outputs": [
    {
     "data": {
      "text/plain": [
       "0"
      ]
     },
     "execution_count": 27,
     "metadata": {},
     "output_type": "execute_result"
    }
   ],
   "source": [
    "f.seek(0)"
   ]
  },
  {
   "cell_type": "code",
   "execution_count": 28,
   "metadata": {},
   "outputs": [
    {
     "data": {
      "text/plain": [
       "0"
      ]
     },
     "execution_count": 28,
     "metadata": {},
     "output_type": "execute_result"
    }
   ],
   "source": [
    "f.tell()"
   ]
  },
  {
   "cell_type": "code",
   "execution_count": 29,
   "metadata": {},
   "outputs": [
    {
     "ename": "UnsupportedOperation",
     "evalue": "not readable",
     "output_type": "error",
     "traceback": [
      "\u001b[1;31m---------------------------------------------------------------------------\u001b[0m",
      "\u001b[1;31mUnsupportedOperation\u001b[0m                      Traceback (most recent call last)",
      "\u001b[1;32me:\\PROGAMMING\\100 DAYS OF CODE CHALLENGE\\DAY-019.ipynb Cell 25\u001b[0m in \u001b[0;36m<cell line: 1>\u001b[1;34m()\u001b[0m\n\u001b[1;32m----> <a href='vscode-notebook-cell:/e%3A/PROGAMMING/100%20DAYS%20OF%20CODE%20CHALLENGE/DAY-019.ipynb#ch0000022?line=0'>1</a>\u001b[0m f\u001b[39m.\u001b[39;49mread()\n",
      "\u001b[1;31mUnsupportedOperation\u001b[0m: not readable"
     ]
    }
   ],
   "source": [
    "f.read()# becuase it is empty"
   ]
  },
  {
   "cell_type": "code",
   "execution_count": 30,
   "metadata": {},
   "outputs": [],
   "source": [
    "f.close()"
   ]
  },
  {
   "cell_type": "code",
   "execution_count": null,
   "metadata": {},
   "outputs": [],
   "source": [
    "# a mode\n",
    "# append mode it will going to open file in edit mode without overwritting the pervious data in it \n",
    "# you can not read the data in because the cursor will be at last\n"
   ]
  },
  {
   "cell_type": "code",
   "execution_count": 35,
   "metadata": {},
   "outputs": [],
   "source": [
    "f = open(\"new1.txt\",'a')"
   ]
  },
  {
   "cell_type": "code",
   "execution_count": 32,
   "metadata": {},
   "outputs": [
    {
     "data": {
      "text/plain": [
       "61"
      ]
     },
     "execution_count": 32,
     "metadata": {},
     "output_type": "execute_result"
    }
   ],
   "source": [
    "f.tell()\n"
   ]
  },
  {
   "cell_type": "code",
   "execution_count": 38,
   "metadata": {},
   "outputs": [
    {
     "data": {
      "text/plain": [
       "False"
      ]
     },
     "execution_count": 38,
     "metadata": {},
     "output_type": "execute_result"
    }
   ],
   "source": [
    "f.readable()"
   ]
  },
  {
   "cell_type": "code",
   "execution_count": 33,
   "metadata": {},
   "outputs": [
    {
     "data": {
      "text/plain": [
       "0"
      ]
     },
     "execution_count": 33,
     "metadata": {},
     "output_type": "execute_result"
    }
   ],
   "source": [
    "f.seek(0)"
   ]
  },
  {
   "cell_type": "code",
   "execution_count": 39,
   "metadata": {},
   "outputs": [],
   "source": [
    "f.close()"
   ]
  },
  {
   "cell_type": "code",
   "execution_count": 49,
   "metadata": {},
   "outputs": [],
   "source": [
    "# a+ mode / + mode\n",
    "# this is the best mode in it will open and readable\n",
    "#Opens a file for updating (reading and writing)\n",
    "f = open('new1.txt','a+')"
   ]
  },
  {
   "cell_type": "code",
   "execution_count": 45,
   "metadata": {},
   "outputs": [
    {
     "data": {
      "text/plain": [
       "True"
      ]
     },
     "execution_count": 45,
     "metadata": {},
     "output_type": "execute_result"
    }
   ],
   "source": [
    "f.readable()"
   ]
  },
  {
   "cell_type": "code",
   "execution_count": 50,
   "metadata": {},
   "outputs": [
    {
     "data": {
      "text/plain": [
       "61"
      ]
     },
     "execution_count": 50,
     "metadata": {},
     "output_type": "execute_result"
    }
   ],
   "source": [
    "f.tell()"
   ]
  },
  {
   "cell_type": "code",
   "execution_count": 51,
   "metadata": {},
   "outputs": [
    {
     "data": {
      "text/plain": [
       "0"
      ]
     },
     "execution_count": 51,
     "metadata": {},
     "output_type": "execute_result"
    }
   ],
   "source": [
    "f.seek(0)"
   ]
  },
  {
   "cell_type": "code",
   "execution_count": 52,
   "metadata": {},
   "outputs": [
    {
     "data": {
      "text/plain": [
       "'wd,lqdq\\nqdwdwqd\\nd\\nqdwdwqdqwd\\nqdwdwqdwq\\ndwq\\ndwqqd\\nwqd\\n'"
      ]
     },
     "execution_count": 52,
     "metadata": {},
     "output_type": "execute_result"
    }
   ],
   "source": [
    "f.read()"
   ]
  },
  {
   "cell_type": "code",
   "execution_count": 53,
   "metadata": {},
   "outputs": [],
   "source": [
    "f.close()"
   ]
  },
  {
   "cell_type": "code",
   "execution_count": 54,
   "metadata": {},
   "outputs": [],
   "source": [
    "#r+ Mode\n",
    "#The r+ mode is used to open a file for both reading and writing.\n",
    "f = open('new1.txt','r+')\n"
   ]
  },
  {
   "cell_type": "code",
   "execution_count": 55,
   "metadata": {},
   "outputs": [
    {
     "data": {
      "text/plain": [
       "0"
      ]
     },
     "execution_count": 55,
     "metadata": {},
     "output_type": "execute_result"
    }
   ],
   "source": [
    "f.tell()"
   ]
  },
  {
   "cell_type": "code",
   "execution_count": 56,
   "metadata": {},
   "outputs": [
    {
     "data": {
      "text/plain": [
       "'wd,lqdq\\nqdwdwqd\\nd\\nqdwdwqdqwd\\nqdwdwqdwq\\ndwq\\ndwqqd\\nwqd\\n'"
      ]
     },
     "execution_count": 56,
     "metadata": {},
     "output_type": "execute_result"
    }
   ],
   "source": [
    "f.read()"
   ]
  },
  {
   "cell_type": "code",
   "execution_count": 57,
   "metadata": {},
   "outputs": [],
   "source": [
    "f.close()"
   ]
  },
  {
   "cell_type": "code",
   "execution_count": 58,
   "metadata": {},
   "outputs": [],
   "source": [
    "# w+ mode\n",
    "#The w+ mode opens the file for reading and writing.\n",
    "#  If the file already exists, it is truncated, and otherwise, a new file is created if it doesn’t exist.\n",
    "f = open('new1.txt','w+')"
   ]
  },
  {
   "cell_type": "code",
   "execution_count": 59,
   "metadata": {},
   "outputs": [
    {
     "data": {
      "text/plain": [
       "0"
      ]
     },
     "execution_count": 59,
     "metadata": {},
     "output_type": "execute_result"
    }
   ],
   "source": [
    "f.tell()"
   ]
  },
  {
   "cell_type": "code",
   "execution_count": 60,
   "metadata": {},
   "outputs": [
    {
     "data": {
      "text/plain": [
       "''"
      ]
     },
     "execution_count": 60,
     "metadata": {},
     "output_type": "execute_result"
    }
   ],
   "source": [
    "f.read()# emppyt due to w+ mode\n"
   ]
  },
  {
   "cell_type": "code",
   "execution_count": 61,
   "metadata": {},
   "outputs": [],
   "source": [
    "f.close()"
   ]
  },
  {
   "cell_type": "code",
   "execution_count": 62,
   "metadata": {},
   "outputs": [],
   "source": [
    "# x mode \n",
    "#Opens a file for exclusive creation. If the file already exists, the operation fails.\n",
    "\n",
    "#This mode is available for the versions Python 3 and above. The x mode opens the file for exclusive creation, \n",
    "# failing if the file with that name is already existent. When exclusive creation is specified, \n",
    "# it means that this mode will not create a file if the file with the specified name already exists.\n",
    "#  In the x mode, the file is only writeable, but in x+ mode, the file is opened as both readable and writeable.\n",
    "#This mode is significant and comes in handy when we don’t want to accidentally truncate an already existing file with the a or w modes.\n",
    "f = open('new2.txt','x')\n"
   ]
  },
  {
   "cell_type": "code",
   "execution_count": 63,
   "metadata": {},
   "outputs": [
    {
     "data": {
      "text/plain": [
       "0"
      ]
     },
     "execution_count": 63,
     "metadata": {},
     "output_type": "execute_result"
    }
   ],
   "source": [
    "f.tell()"
   ]
  },
  {
   "cell_type": "code",
   "execution_count": 66,
   "metadata": {},
   "outputs": [
    {
     "data": {
      "text/plain": [
       "False"
      ]
     },
     "execution_count": 66,
     "metadata": {},
     "output_type": "execute_result"
    }
   ],
   "source": [
    "f.readable()# because it open in read mode /x"
   ]
  },
  {
   "cell_type": "code",
   "execution_count": 67,
   "metadata": {},
   "outputs": [],
   "source": [
    "f.close()"
   ]
  },
  {
   "cell_type": "code",
   "execution_count": 69,
   "metadata": {},
   "outputs": [
    {
     "ename": "FileExistsError",
     "evalue": "[Errno 17] File exists: 'new2.txt'",
     "output_type": "error",
     "traceback": [
      "\u001b[1;31m---------------------------------------------------------------------------\u001b[0m",
      "\u001b[1;31mFileExistsError\u001b[0m                           Traceback (most recent call last)",
      "\u001b[1;32me:\\PROGAMMING\\100 DAYS OF CODE CHALLENGE\\DAY-019.ipynb Cell 50\u001b[0m in \u001b[0;36m<cell line: 3>\u001b[1;34m()\u001b[0m\n\u001b[0;32m      <a href='vscode-notebook-cell:/e%3A/PROGAMMING/100%20DAYS%20OF%20CODE%20CHALLENGE/DAY-019.ipynb#ch0000051?line=0'>1</a>\u001b[0m \u001b[39m# x+ mode\u001b[39;00m\n\u001b[0;32m      <a href='vscode-notebook-cell:/e%3A/PROGAMMING/100%20DAYS%20OF%20CODE%20CHALLENGE/DAY-019.ipynb#ch0000051?line=1'>2</a>\u001b[0m \u001b[39m#x+ mode, the file is opened as both readable and writeable.\u001b[39;00m\n\u001b[1;32m----> <a href='vscode-notebook-cell:/e%3A/PROGAMMING/100%20DAYS%20OF%20CODE%20CHALLENGE/DAY-019.ipynb#ch0000051?line=2'>3</a>\u001b[0m f \u001b[39m=\u001b[39m \u001b[39mopen\u001b[39;49m(\u001b[39m'\u001b[39;49m\u001b[39mnew2.txt\u001b[39;49m\u001b[39m'\u001b[39;49m,\u001b[39m'\u001b[39;49m\u001b[39mx+\u001b[39;49m\u001b[39m'\u001b[39;49m)\n",
      "\u001b[1;31mFileExistsError\u001b[0m: [Errno 17] File exists: 'new2.txt'"
     ]
    }
   ],
   "source": [
    "# x+ mode\n",
    "#x+ mode, the file is opened as both readable and writeable.\n",
    "f = open('new2.txt','x+')"
   ]
  },
  {
   "cell_type": "code",
   "execution_count": 70,
   "metadata": {},
   "outputs": [],
   "source": [
    "f = open('new3.txt','x+')"
   ]
  },
  {
   "cell_type": "code",
   "execution_count": 71,
   "metadata": {},
   "outputs": [
    {
     "data": {
      "text/plain": [
       "0"
      ]
     },
     "execution_count": 71,
     "metadata": {},
     "output_type": "execute_result"
    }
   ],
   "source": [
    "f.tell()"
   ]
  },
  {
   "cell_type": "code",
   "execution_count": 72,
   "metadata": {},
   "outputs": [
    {
     "data": {
      "text/plain": [
       "True"
      ]
     },
     "execution_count": 72,
     "metadata": {},
     "output_type": "execute_result"
    }
   ],
   "source": [
    "f.readable() # because it is in + mode"
   ]
  },
  {
   "cell_type": "code",
   "execution_count": 73,
   "metadata": {},
   "outputs": [],
   "source": [
    "f.close()"
   ]
  },
  {
   "cell_type": "code",
   "execution_count": 76,
   "metadata": {},
   "outputs": [],
   "source": [
    "#t mode\n",
    "# Opens in text mode. (default)\n",
    "# syntax :- t(r/w/a,+)"
   ]
  },
  {
   "cell_type": "code",
   "execution_count": 79,
   "metadata": {},
   "outputs": [],
   "source": [
    "f = open('new1.txt','ta+')"
   ]
  },
  {
   "cell_type": "code",
   "execution_count": 80,
   "metadata": {},
   "outputs": [
    {
     "data": {
      "text/plain": [
       "58"
      ]
     },
     "execution_count": 80,
     "metadata": {},
     "output_type": "execute_result"
    }
   ],
   "source": [
    "f.tell()"
   ]
  },
  {
   "cell_type": "code",
   "execution_count": 83,
   "metadata": {},
   "outputs": [
    {
     "data": {
      "text/plain": [
       "0"
      ]
     },
     "execution_count": 83,
     "metadata": {},
     "output_type": "execute_result"
    }
   ],
   "source": [
    "f.seek(0)"
   ]
  },
  {
   "cell_type": "code",
   "execution_count": 84,
   "metadata": {},
   "outputs": [
    {
     "data": {
      "text/plain": [
       "'jndsfnslaffsw\\ndf\\nsf\\naf\\nwqf\\nwqfwq\\nfw\\nfwewf\\nwef\\nw\\n'"
      ]
     },
     "execution_count": 84,
     "metadata": {},
     "output_type": "execute_result"
    }
   ],
   "source": [
    "f.read()"
   ]
  },
  {
   "cell_type": "code",
   "execution_count": 86,
   "metadata": {},
   "outputs": [],
   "source": [
    "# b mode\n",
    "# binary mode\n",
    "#Opens in binary mode.\n",
    "f = open('new1.txt','rb')"
   ]
  },
  {
   "cell_type": "code",
   "execution_count": 87,
   "metadata": {},
   "outputs": [
    {
     "data": {
      "text/plain": [
       "0"
      ]
     },
     "execution_count": 87,
     "metadata": {},
     "output_type": "execute_result"
    }
   ],
   "source": [
    "f.tell()"
   ]
  },
  {
   "cell_type": "code",
   "execution_count": 89,
   "metadata": {},
   "outputs": [
    {
     "data": {
      "text/plain": [
       "0"
      ]
     },
     "execution_count": 89,
     "metadata": {},
     "output_type": "execute_result"
    }
   ],
   "source": [
    "f.seek(0)"
   ]
  },
  {
   "cell_type": "code",
   "execution_count": 90,
   "metadata": {},
   "outputs": [
    {
     "data": {
      "text/plain": [
       "0"
      ]
     },
     "execution_count": 90,
     "metadata": {},
     "output_type": "execute_result"
    }
   ],
   "source": [
    "f.tell()"
   ]
  },
  {
   "cell_type": "code",
   "execution_count": 91,
   "metadata": {},
   "outputs": [
    {
     "data": {
      "text/plain": [
       "True"
      ]
     },
     "execution_count": 91,
     "metadata": {},
     "output_type": "execute_result"
    }
   ],
   "source": [
    "f.readable()"
   ]
  },
  {
   "cell_type": "code",
   "execution_count": 92,
   "metadata": {},
   "outputs": [
    {
     "data": {
      "text/plain": [
       "b'jndsfnslaffsw\\r\\ndf\\r\\nsf\\r\\naf\\r\\nwqf\\r\\nwqfwq\\r\\nfw\\r\\nfwewf\\r\\nwef\\r\\nw\\r\\n'"
      ]
     },
     "execution_count": 92,
     "metadata": {},
     "output_type": "execute_result"
    }
   ],
   "source": [
    "f.read()"
   ]
  },
  {
   "cell_type": "code",
   "execution_count": 93,
   "metadata": {},
   "outputs": [],
   "source": [
    "f.close()"
   ]
  },
  {
   "cell_type": "code",
   "execution_count": 94,
   "metadata": {},
   "outputs": [],
   "source": [
    "f = open('real-python-logo-square.png','rb')"
   ]
  },
  {
   "cell_type": "code",
   "execution_count": 95,
   "metadata": {},
   "outputs": [
    {
     "data": {
      "text/plain": [
       "0"
      ]
     },
     "execution_count": 95,
     "metadata": {},
     "output_type": "execute_result"
    }
   ],
   "source": [
    "f.tell()"
   ]
  },
  {
   "cell_type": "code",
   "execution_count": 96,
   "metadata": {},
   "outputs": [
    {
     "data": {
      "text/plain": [
       "b'\\x89PNG\\r\\n\\x1a\\n\\x00\\x00\\x00\\rIHDR\\x00\\x00\\x00\\xfa\\x00\\x00\\x00\\xfa\\x08\\x06\\x00\\x00\\x00\\x88\\xecZ=\\x00\\x00\\x00\\x01sRGB\\x01\\xd9\\xc9,\\x7f\\x00\\x00\\x00\\tpHYs\\x00\\x00.#\\x00\\x00.#\\x01x\\xa5?v\\x00\\x00@&IDATx\\x9c\\xed]\\x07\\xb4\\x14E\\xda\\x9d\\xfd]\\xf3\\x06w]\\xc1\\x84>\\xf3\\xb2&\\x14\\x14Q\\x91GP$I\\x16\\x01\\x81\\'\\x92\\x04\\x89\\x12$\\xc9\\x08\\x06@$\\x88\"9J\\x92$\\n\\xa8\\x08\\x82\\x82 \\xa8<$\\xa3\\x08\\xa8\\x88$%#\\xd1\\xfa\\xe76\\xaf\\xa1\\xa7\\xfa\\xab\\xea\\xee\\t]=\\xf3\\xea\\x9es\\x8f\\x9e\\xc7tOwO\\xdd\\xae\\xaf\\xbe\\xfaB(\\xa4\\xa1\\xa1\\xa1\\xa1\\xa1\\xa1\\xa1\\xa1\\xa1\\xa1\\xa1\\xa1\\x91D\\\\\\x12a\\x81\\x08+E\\x98\\x15a\\xab\\x1c\\xf6\\xcb\\xe1\\xa8\\x08gD\\xb8 \\xc2\\xec\\x1cn\\x89po\\x0e\\xb7\\xe40;\\xe733r\\x8e\\x01\\xc39l\\x95sn03\\xd97\\xa4\\xa1\\x91\\x9b\\x01Ag\\x86\\xce\\x8a\\xd8\\x14.\\xc4\\xca\\x14\\x10/\\x07\\xf3\\xa5\\x10\\xce\\xb9\\xb6\\x8c\\xa4\\xdc\\xb9\\x86F\\x1a\\xc2\\x14t8tZH*\\xc5\\x1c+\\xb3s\\xae=\\x1c\\xd2\\x16\\x80\\x86\\x86\\x01\\xab\\xb0SQ\\xd4n\\xa9\\x85\\xaf\\x91\\xab`\\xae\\xa9a\\x82\\xc3\\xfcN\\xaa\\xb0/\\xbc\\xfcz\\xd5\\x02\\xd7\\xc2\\xd7\\xc85\\x80\\xb8\\xb3B\\t\\x166D\\xfc\\x97s\\xcee\\x7f\\xbd\\xe8\\x1f\\xec\\xbc\\x7f]\\xce.\\xf8O>va\\xde\\xeb\\x0c^\\x9c/?\\xfb\\xd7m\\xc5\\xd8\\x7f\\xee)\\x1f3q<\\xce\\x83\\xf3\\xe1\\xdc\\xe0\\xb9\\x7f\\xbf4\\x99\\xc2o\\x95\\x94\\xa7\\xaf\\xa1\\x91D\\x98&\\xf9\\xa8P\\x1c\\xe2>\\xef\\x92\\xbc\\xc6\\x7f!h\\x88,Q\"N\\x14\\xff~\\xc3\\xdd\\xec\\xfcK\\xaf2\\xae\\xed\\x9c\\xf3/J\\xa4\\xe8\\xb3\\x92\\xf8\\xdbhh\\xc4\\x8d\\xcc\\xd0i\\xafxL\\xe2\\x86\\xb0!\\x1a\\x88\\x07\"R-\\xe4D\\xbc\\x00by\\x0e\\x16\\xf6\\x0bi\\xf3^# \\xc0\\xec\\x1d\\x0e\\x9dv\\xa6\\xc5d\\x82\\xa7\\xba\\xb0}\\x10~v\\xce3\\xceH\\xf6\\x8f\\xa9\\xa1a\\x85i\\x9a{\\xf6\\x94_p\\xd95\\x813\\xc1SL\\xf8\\xda\\xb4\\xd7H:L\\xc7\\x9a\\xa7\\xd9\\x1b&\\xf9EW\\xdc\\xc8\\xfe\\x99\\xff~\\xe5\"\\x0b\\x1a\\xadN?/\\xcf4t:h\\'\\xcb\\x9f\\x9f]#\\xb7\\xc04\\xcf1\\xb8\\\\\\x8b;\\xddM\\xf2D\\x13/B\\xbc\\x10\\xe1\\xe1w\\xfb\\x9cC\\xa7-\\xaa~\\xbe\\x8d\\x04\\x8d\\xb4\\x84)pW\\xe6\\xf99\\x17\\\\\\xac\\xc5\\x9d \\xc6h\\xdek\\xc1kx\\x02\\x04\\xee\\xda{n\\x9a\\xe6\\x97\\x16,\\xa3\\\\ \\xe9\\xc8\\x8b\\xaf\\xceo\\xf86\\xdc\\xfc\\x16\\xa1\\xb3\\x82\\xcf\\xf0o\\xb8h\\xa4\\x1a<\\t\\x1c\\x83O\\xcf\\xde\\xfe\\x11\\xa6\\xbd\\x16\\xbcF<0\\x9dl\\x8e\\x02\\x87y\\xae\\x1dk\\xea\\x05\\xefq-\\xaf\\xa3\\xee4\\xcel\\x93\\xb9\\x12\\xb86\\xcf\\x83\\xc3\\x7f\\x17x\\x98]\\x90\\'\\x83\\xfd\\xdf\\xb9\\xe7\\xbb\\x11;~\\xe3\\x02\\xfe\\x0e-\\x8d \\xc0\\x95\\x99\\xae\\x05\\x1e|\\x9a\\x82\\xff\\xeb\\xc5\\xfftk\\xce_\\xe2\\xf3X\\xd3P\\x84\\xac\\x90\\xc3V\\x19\\xd6\\x82Z\\xe0\\xa9G8\\xee\\\\\\n>\\xcb\\xe71\\xa7\\xe1#`\\xba!\\xb2\\xca\\xd1\\xc9\\xa6z\\xc0j\\xc6G\\x97)\\xba0\\xe73\\xfc\\x1d\\x82\\x1a\\xc9\\x84+3\\x1d\\xdbd\\xda\\xc9\\x96>D\\xd4\\x9d\\xcb}x\\xbd\\xff\\x9e\\x06\\xc0,.u\\xb6\\xe9m\\xb2\\xf4\\xe6\\xdf2n7|-\\xb21\\x10\\xd2\\xce\\xba\\x94\\x06\\xb6U\\xa4\\xb3\\xb86\\xd3s\\x0f]\\xee\\xc1\\xeb\\xad\\xb8\\x14\\x02L\\xf5Q!\\xc9\\x0f\\n\\x93N\\x9b\\xe9\\xb9\\x8f\\xf8\\xcd]8\\xeb\\x16\\xf8?d5\\xbc\\x02\\xe6\\x97\\xd0\\xa3\\x0e\\x81\\xc3\\x94S=\\xe04\\xd5\\x12\\xdey\\x87\\xfd\\xf7-!m\\xca\\x07\\x16RS\\x1d\\x9e\\xd8K\\xef.\\xad|\\x90i\\x06\\x83\\x18\\x0b.\\x9cu\\xda\\x94\\x0f\\x10\\x1cMu\\x88\\\\\\xf5\\xc0\\xd2\\x0c&]l\\xc5iS>\\x00\\xc8\\x0c9\\x98\\xea\\xb9\\xb5\\x92\\x8b\\xa6{b\\x8c8\\x98\\xf2\\xb0\\x14\\xb5)\\xaf\\x08\\x99!m\\xaak&\\x88.M\\xf9J\\xfe\\x0f\\xf3\\xdc\\r\\xc7\\xf5\\xb8\\xea\\x81\\xa3\\x99\\x9ata\\xca\\xebu\\xbbO\\xc0\\x83&\\x7f\\x04D\\xb7iS]3^\\xba0\\xe5\\xc3*\\x06~n\\x02\\xc2\\x15\\x85\"\\xffO\\xa1r\\xca\\x07\\x89fz\\xd0\\x85)\\xafCg\\x93\\x00\\xa9g\\xdd0\\xd5\\xb5\\xc85\\x93\\xc0\\xf3\\xff}\\x95\\xf6\\xc8\\xfb\\x04\\x88\\\\\\x98u\\xa6\\xd7\\xe3\\x9a\\xc9\\xa6\\xc3\\xba]\\x8b=\\x01\\xd0\"\\xd7\\x0c\\x04\\x1d\\xd6\\xed\\xd9!]\\xd0\"fd\\x84\\x04{\\xe4\\xc8F\\xd2N7M\\xbfy\\xc9\\xadEeb\\xc7X\\xd5{\\xed\\x1e\\x81\\xb7#\\x99^j\\x88\\xfc\\xf6L\\xe5?\\xbaf\\xee\\xa4\\x0b\\xb1\\xeb\\x99\\xdd%\\x84\\xe6\\xba\\x16\\xb9f\\x10\\xe8 \\xf6l5\\xb2I-\\x08E\\x8e\\xf4B-r\\xcd\\xa0\\x10cQR\\xd0B;\\xe8\\x1c@n\\xa1\\xe1\\x81\\xfe\\xfb\\xceR\\xca\\x7f\\\\MM+\\x1d\\xf6\\xda\\xb5\\xd8\\x05 \\x83a\\xb4\\xb9\\xae\\x19d:\\xcc\\xec\\xa3\\x14i)\\xb0 \\xc3Z\\xb5\\xc85S\\x81\\x0ek\\xf6\\xb0\\x1aI\\x05\\x0f\\xa4\\xc8\\xf1\\xe0\\xb4\\xc85S\\x85\\x0eb\\xcfR#\\xad\\xe0 +$\\xc8B\\x0b\\xf2>y\\xde\\xc2\\x8f\\xb1k\\x1e\\xaaf0\\xef}\\x15\\x95_\\x8ff0\\xe8 \\xf6\\\\\\x9b\\xe2\\x8a\\xe0\\x02R\\xe4A\\x8ax\\x83\\x90\\x0bUj\\xc0\\x1eo\\xf1\\x02{\\xf9\\xed\\xb1\\xec\\x9d\\x99s\\xd9\\xa2\\xaf\\xbee+\\xd6~\\xc7\\xb2\\xd7}\\xc7\\xbe\\xf8fu\\xe4o\\x1f\\xb3\\x16\\xdd\\xfb\\xb3\\xfb\\xab?\\xc3./\\xa2\\x85\\x9f\\x9b\\x89\\x02\\x94\\xd4\\x98\\xcea\\xa6\\n\\xa1\\xa9\\x840 &\\x08\"\\xbf\\xec\\xde\\n\\xacP\\xe5\\x86\\xac\\xf5\\xcb\\x03\\xd9\\xbc/\\xbef\\xdbv\\xecb\\xa7N\\x9db2\\xfc\\xf9\\xe7\\x9fl\\xe7\\x9e\\xdf\\x8d\\xcf7\\xec\\xd4\\x8b][\\xac\\x9a\\xf2\\xfb\\xd0TCIi\\xe9\\xbd\\xa1\\\\\\x16PC\\xee\\x95\\xab\\xae\\xb3\\x0e\\x93\\xfc\\xe1z\\xad\\xd9\\x98\\x19\\x1fE\\xc4\\xbd[*l\\x19N\\x9e<\\xc9>\\x8f\\xcc\\xfa\\x8f\\xd6o\\xab|\\xd0i\\xaa\\xa1D\\xec\\xb9f\\xdb\\x8dt\\xbea?R\\xe5\\x0fS\\xa0B}6x\\xe2L\\xb6\\xff\\xe0\\xa1\\x98\\x05\\xce\\xe3\\xf7\\xfd\\x07X\\xcdV/*\\x1ft\\x9aj(IqM\\xfb*5\\xe4\\xba\\x1c\\xdbh\\xaa\\xea\\xbb]\\xf5@e\\xd6\\xbe\\xd7\\xdb\\x86\\xd9\\xed\\x16x\\x19,\\xf8r\\x05\\x1b8v\\x1ak\\xd7k\\x10k\\xdc\\xe55\\xd6\\xa4k\\x1f\\xd6\\xb1\\xcf\\x106h\\xfc\\x0c\\xb6pY6;z\\xec\\xb8\\xf1\\xd9#\\x7f\\x1ceu\\xda\\xf6P>\\xe84\\x15\\xb0P9\\xa3 \\n?\\xdes\\x98\\xb6\\t0\\xc2u\\xb9*\\x0f{\\xc9:\\xad\\xd8\\xf2U\\xeb]\\x89{\\xcdw\\x9b\\xd9\\xcb\\x83\\xc6\\xb2JM:\\x1a/\\x07\\xa7s\\xdf\\\\\\xaa\\x16\\xfbh\\xd1r\\xe3\\xd8\\x93\\'OE\\xc4\\xfe\\x92\\xfa\\x81\\xa7\\xe9;1\\xb6\\xa91\\x1fJ\\xe3\\xf5:\\x19\\xde\\xaa\\xc2\\xf9v\\xe5\\xfd\\x95\\xd9\\x8bo\\x8cb\\x87\\x8e\\xfc!\\x15\\xf7\\xa1\\xc3G\\xd8\\x88wg\\xb1b\\xb5\\x9a\\xc7\\xf4=\\xb7<R\\xfb\\x8c\\x13\\xef\\xc8\\xd1c\\xacD\\x9d\\x96\\xca\\x07\\x9e\\xa6\\xff\\x94\\x14\\xaeH\\xbb\\xf5z`\\xd6\\xe5\\xf9K?\\xc9f/X\\xca\\xfe\\xfcS,\\xf0}\\x07\\x0e\\xb1W\\xdf\\x1e\\xc7n,\\xf1D\\xdc\\xdf\\xb7\\xfe\\x87\\x1f\\xcf\\x9cw\\xf3O\\xbf\\xb0k\\x8aVU>\\xf04\\xfd\\xa7D\\xeci\\xb3^\\x0f\\xcc\\xba\\xbcH\\xb5&l\\xf5\\xc6\\xcdB\\x81\\x9f8y\\xd2p\\xc8\\xddX2~\\x81\\x9b\\xfc`\\xfe\\x17Q\\xdf\\xd1w\\xe4d\\xe5\\x83N\\xd3\\x7f:$\\xc0\\xa4\\xfcz=0\\xebrlu\\xfd\\xf8\\xcb\\x0eR\\xe0\\'#\\xe6\\xf5\\xb4\\x8f\\x16\\xb2\\xcc\\xda\\xb1\\x99\\xe82\\x8e\\x982+\\xea\\xbb\\xe0\\x9c\\x83I\\xafz\\xe0%\\x9b\\xf7Ti\\xc4J?\\xf5\\x1c\\xcb{\\xdfc\\xca\\xaf%(tX\\xaf\\xa74\\xc2\\xa1\\x00\\xac\\xcb\\xeb?\\xdf\\x93\\x1d?q\\x82\\x14\\xf9\\xef\\xfb\\x0e\\xb0\\xa6\\xdd\\xfa\\xb2<\\x85\\x933 \\xdf\\x183\\xd5\\xf6\\x9d\\xdd\\x07\\x8ef\\x97\\xa7q\\xe8\\xec\\xd5\\x0fVa_\\xae\\\\k\\x04\\x11}\\xbat\\x05+R\\xbd\\x89\\xf2k\\n\\n%&\\xfc(5\\x12\\x8d\\x1f\\xa4\\xc9\\xee\\xf7\\xba\\xbc\\xd23\\x9d\\xd8\\xb1\\xe3\\xc7I\\x91c\\xfd\\x9cY\\xbbER\\xbf\\xff\\xcdq\\xd3l\\xdf\\xbbr\\xfd&V\\xb8Zc\\xe5\\x83.Y,P\\xe1)\\xb6u\\xdb\\xafg\\xeew\\xdf\\x81\\x83\\xace\\x8f\\x01I{\\x99\\xa6\\x1a%bOI\\x13\\x1e\\x1eE\\xa5\\xebr\\xac\\xb5\\xb7\\xef\\xdcC\\x8a\\xfc\\xbb-?\\x1bk\\xf6d_\\xc3\\x88)\\xb3\\xc9\\xa5B\\xf5\\xe6/(\\x1fp\\xc9\\xe2}\\x91\\x97\\xd8\\x8e\\xdd\\xd1q\\t\\x7f\\x1c=f\\xc4\\x1a\\xa8\\xbe\\xb6 P\\xb2^\\xdf\\xa2L\\xad1\\x82\\xf4\\xb2\\xff-\\xe3v\\xdf\\x1e&\\xd6\\x86\\x13?\\x98G\\x8a|\\xc3\\xe6\\x9f|\\x0bO\\x9d>\\xf7s\\xf2\\x1a:\\xf4\\x1e\\xac|\\xc0%\\x8b\\x0f\\xd5z\\x96\\xed\\xdd\\x7f\\xd0v\\xcf\\x98\\xe5U_[P\\x08-P\\x1a\\t\\xa5PJ+\\x1cp\\xcaMv\\xac\\xbb\\xa9D\\x94M?n3\\x9cD~]\\xc7\\xf2o\\xd7\\x91B\\x7f}\\xc4$\\xe5\\x83-Y|\\xb8^\\x1b\\xc3\\xe9\\xc8\\xe3\\xf0\\x91?\\x94_[\\x90(\\x98\\xd5\\xa1\\x9d\\x0c5\\xd2\\xf5\\x06\\xb2$\\x94\\x9f^\\xf6\\xdb\\xca\\xd6c;\\x7f\\xdbk\\x1bh\\xbf\\xee\\xfa\\x8dU\\x8e\\xac\\xd9\\xfd\\xba\\x0ed\\xc1\\xed\\xd9\\xbb\\x9f\\x14z:o\\xb3\\x95o\\xd8\\xde\\x88\\x06\\xe4\\x01\\xc7\\xa7\\xeak\\x0b\\x12%)\\xad3\\x14i\\xd752C\\x01\\xf0\\xb2\\x8f{\\xefc\\xdb ;t\\xf8\\x0f\\xf6\\xcc\\x0b\\xaf\\x1b\\xe2\\xe3?_\\xa1Q\\x07\\xd6\\xae\\xe7 \\xf6\\xc0\\xe3M\\x13z\\x1d\\xb7\\x97\\xabG\\x8a\\x1ch\\xfb\\xea[\\xca\\x07Z\\xb2X\\xadyW\\xf2\\x9ew\\xee\\xd9\\xab\\xfc\\xda\\x82FI\\x96[\\xa6\\x12\\x05\\xbb\\x04\\xe9\\x80\\xf3\\xf3\\xc1=T\\xf3\\xd93\\t%&\\x8e\\x9f8\\xc9:\\xbd>\\x94]Q\\xa4\\x92\\xed\\xf3\\xf9\\x8aVe_\\xacXml\\x05\\xc1\\x81\\xd4\\xe6\\x957\\x8d\\xca1\\x89\\xb8\\x96z\\xed_&\\x07<L\\xd8\\x8a\\x8d;*\\x1fd\\xc9b\\xddv\\xf4}\\xc3\\xa2R}mA\\xa4@\\xec\\x81u\\xcc\\x91\\x0e\\xb8\\xbf\\xdfp\\xb7\\xaf\\x0fm\\x02\\xe1\\x80\\xc3\\x0c\\x9f\\x87\\x98\\xc9\\xc1\\xbb+>\\xcd~\\xda\\xbe\\xf3\\xccgar\\xa2xD\\xe1\\xaa\\x8d\\xe2\\xbe\\x96!\\x13g\\x92\\x03~I\\xe4\\xc5\\x82\\xefU=\\xc0\\x92\\xc5g^\\xe8C\\xde\\xf7\\xe6\\x9f\\xb7+\\xbf\\xb6 \\x12\\x1a\\xa1\\xb4\\x13\\n`x,\\xe9\\x803z\\x96\\xfb\\xf8\\xc0ny\\xb8\\x961[Z\\xb1g\\xef>\\xf6\\xbfG\\xeb\\x08\\x8fA\\xa1\\t\\xfe\\x18\\x00{\\xecH~\\x89\\xf5Z\\xb0D\\x80w\\x9f\\xc2k\\xc3&\\x92\\xd6E\\xba\\x10V\\x11\\x85\\xef\\xb6\\xfe\\xac\\xfc\\xda\\x82JA:k\\xe0\\x1cs\\xe1P\\x00\\xc2\\\\[t\\x1f`\\x1b\\\\\\xaf\\x0e\\x1e\\'=\\xa6\\xces=\\xc8A\\t\\xc4\\x13\\xf3~o\\x95F\\xec\\x94 s\\xa6\\\\\\xc3\\xf6\\xca\\x07V2\\xd99\\xb2L\\xa2\\x80T_\\xd5\\xd7\\x16TJ\\xc2c\\x03\\x131G\\xce\\xe6*\\xd2O\\xc7\\xce\\xf8(j`a\\xdd\\r\\xc1\\xc9\\x8e\\x11\\xcd>@<ku\\x14\\x8b\\xa4p\\xec\\xd8qvm\\xb1\\xea\\xca\\x07V2\\x89\\x14`\\n\\xd9k\\xbfS~mA\\xa6$b.C\\x8d\\xb4\\xa3\\x11\\x0e)v\\xc0\\x99D\\xb4\\x9b\\x15\\xa8\\xdb\\xe6t\\xcck\\xc3\\'\\x92\\x83\\x12\\xb31\\xe5\\xa1wKT\\x99\\xa1\\xf0Id\\xfd\\xafz@%\\x9b=\\x87\\x8c\\'\\xef\\x1d\\xf1\\xef\\xaa\\xaf-\\xe8\\x14\\x88]\\xf9\\xacN\\xce\\xe6\\x17]q\\xa3\\xef\\x0f\\x08\\xeb\\xe9\\x93\\\\\\x80\\x0c\\xca<9\\x1d7z\\xfa\\x87\\xe4\\xa0D\\xd1\\x89X\\xaf\\x05\\xb1\\xde\\xa2\\xaa\\xb1\\x98\\xe9\\xdd\\x9e\\x07\\xc9 \\x08\\xfc\\xe9\\xdcw\\x98q\\\\\\xf1\\'[\\xc6\\xf5\\xf2\\xf1\\x8b\\xfdG\\xbdK\\xde;^~\\xaa\\xaf-\\xe8\\xbc\\xf8\\xea\\xfc\\x81\\\\\\xab\\x87C\\xc4l~i\\xc12\\xbe? x\\xb1y\\x14\\xae\\xea\\x9c8\\xf2\\xfe\\xfc\\xc5\\xe4\\xa0\\xdc\\xb1;\\xf6\\xad D\\xbdQ@r\\x8dS1\\x8b\\x8c\\x88Y\\xdfm\\xc0H\\xc3CM\\x01a\\xa4\\x1dz\\xbf\\x1dhg\\xde\\xdb\\xe3\\xdf#\\xaf}\\xee\\xe2\\xaf\\x94_[*\\x10\\x9d\\x83y]\\x85\\x14\\xb6v\\xc2l\\xbe\\x85\\xbf \\x15\\xb39X\\xf4\\x89fQ\\x83\\xea\\xc0\\xa1#\\xaef\\xbf\\xcf\\x96\\xaf$\\x07\\xe5\\x0f?\\xfd\\x12\\xd3u@\\xa8\\xbb\\x7f\\xdfG\\x9e\\x13E(d\\xc7V{\\xb6+\\xfb~\\xeb6\\xf2X\\x1epla\\x86W=()R\\x89<n\\xee_\\xf34%\\xb3\\xba\\x12\\x84\\xf9\\x8bQ5\\x9b\\x83\\xc8\\x98\\xe2\\x85\\xe0t\\x0cf\\xc5e\\x82X\\xf4o7l\\xf2|\\r\\xa8\\x0b?j\\xea\\x1c\\xa18k\\xb6\\n\\x93\\xc7\\xa1\\xbb\\xcb\\x8b\\x03G\\x19\\x19^N8u\\xea\\xac\\'\\xff\\xb7}\\xfb\\x8d\\xedA\\xb7\\xd7w]\\xe6\\xe3\\xac}d932r\\x8do\\x8e\\x9b\\xce\\x9a\\x85\\xfb\\xb1\\xff>R\\xdb\\xf1\\x85\\xf8\\xe4s=\\xd8\\x801S\\x8d\\x8c;7\\xa9\\xa6Td\"\\xf0\\xee\\x9cO\\x95\\x8b(U\\x18\\x94Y=P\\xb39x}\\xf1\\x1aQ\\x83\\n\\xad\\x92\\x9c\\x8e\\x81W\\x1d\\xad\\x95(,\\xcd^\\xe3\\xf9\\x1a :\\xd4\\x9b\\xa3\\x80\\xa0\\x9c\\xbc\\x84H \\xf2\\xfe\\xa3\\xa7\\xd8\\xfc\\x0bV\\x1c;~\\xc2(#}_\\xb5&F\\x05Z\\x08\\xc6\\xc4\\x94\\x0f\\x17\\xb8\\xb2\\\\*5\\xe9d,G\\xec\\xe7>\\xce>^\\xb4\\xcc87u\\x1cb\\x10\\xbe\\xdfz\\xd6\\xc9\\xf9\\xf5\\xea\\rF\\xbc\\x82\\xec\\xbb&\\xcf\\x9eO\\xde\\x07\\xdaY\\xa9\\x16P\\xaa\\xf0\\x82<\\x19\\x81\\x98\\xd5\\xb3\\xf8\\x8b\\xb8\\xe0?\\xf9\\x94\\xcd\\xe6&\\xbf\\xb3\\x0c\\xc8e+\\xd79~\\xfe\\x86\\xc8z\\x193?\\x05\\xaf\\xebIT\\x8c\\x99\\xf6\\xd1gB\\xb1v\\x8f\\xcc\\xd8\\xfc1\\x10h\\xf8\\x8d\\x91F\\xad:\\x11~\\xfeuW\\xc4D\\x8f.\\x8e\\x81RT\\x7f\\xe6\\xec\\xd1\\xaf\\xfd~\\x0b\\xbb\\xa9dM\\xe9\\xb5\\xd5h\\xd9MX|\\xc3\\xc4\\xae\\xdf\\xf6\\x1aK\\x07\\xfe\\xd8\\xf2\\r;\\xd8B\\x8a\\xe1\\xd7\\x90}\\x9f(5w\\xf8\\xbb\\xb3\\x92>\\x06.+\\\\\\x91]S\\xa6\\x01\\xbb\\xb1\\xfas\\xec\\xd6\\xfa=X\\x81f}Y\\xc16\\x83\\xd8=\\xed\\x87\\xb3{;\\x8c`\\xf7t\\x18\\xce\\n=7\\x84\\xdd\\xd5r \\xbb\\xa3\\xc9k,\\x7f\\xbdn\\xec\\xfaJ\\xcdY\\xde\\xfb\\xab(\\x1d\\xbb<\\xff]\\xe0aQ\\xc3F\\xdf\\xa2\\xe5\\xc8:p*gs\\x93\\xbd\\x87M83\\xa80\\x83:}\\x1ef\\xab(z\\xed\\xbdO\\x16y\\xfa\\xee\\xcaM;\\x93\\x11v\\x00\\xcaJS\\xc175Z\\x86\\xd9\\xc1\\xc3G\\x84\\xe2C\\x8d;x\\xf0\\xa9\\xef;p\\xe8\\xb0\\xf1\\x19\\xf8\\x12n/[Ox]\\xf7?\\xfe\\x8ccYk\\x13\\x10;\\xbf\\x14\\xe8\\xfe\\xe6h\\xdb\\xe7\\xf0b\\xca\\'\\xa9f;k\\xc1\\x12\\xf2\\xfchx\\x91\\xac\\xdf\\xfe\\xb2\\x88\\xb5\\xf4\\xdf\\'\\xbb\\xb0\\xfb\\xba\\x8cc\\xf7\\x87\\'yf\\x91\\xae\\xef\\xb0[ju\\x0c\\xd4\\xae\\xc6\\xc5\\xf9\\xd4\\xae\\xd5+\\x11_n\\xa4\\xdc\\xa9~0Hh1\\xd7\\xb9\\xa8\\x11\\xe7\\xe4\\xe1\\xbe\\xb5L]#?\\x9d\\xc2\\xc4Y\\xf3\\\\\\x7f/\\xb6\\xf6DE.\\x00\\xca\\t\\x85\\xf5\\xf2\\'\\x11\\xabA\\x04\\xbc4\\x1at\\xeaE~\\x1f\\xcc}\\xb3\\x06\\x1e\\xbc\\xf3w\\x94\\xcb\"?\\x87\\xec\\xb9\\xa9\\x1f-\\xb4\\x9d\\x1b1\\x02\\x8b\\xbe^e\\xec\\x0el\\xdfu\\xb6\\x02\\x0fl\\x04,\\x0bP\\xf3\\xcd\\x10Od\\xd0O\\xff\\x98\\xb6Rn\\x96\\x98\\xef\\x1f~\\xf6%yL\\xbf\\x91\\xef&\\xed\\xb7\\xbf\\xf9\\x89\\xf6\\xac\\xc8\\x0b\\xe3c\\x12\\xb9\\xc9\\xfb\"b\\xbf\\xe9\\xf1\\xe0\\xf4\\xcb\\x93D\\xcbe\\xf9!t[\\x83D\\xd5\\xcd\\x11\\xadD\\x9e\\xb7\\t\\xa7*.|m3+\\xbc\\x98\\x99\\xb5\\xdbt\\x17\\xce\\x9a\\x98\\xfd\\x1e\\xc9j\\x13\\xf5\\xf9\\xcb\"\\xc4\\x1e?\\xb2\\xea(\\x1c<t\\xc4\\xd87\\x17\\xcd.\\x0f\\xd4hz\\xe6\\xb3\\xa2\\x19\\x1d\\xfe\\x807\\xc6N%\\xf7\\xf3\\x07O\\x98y&\\xea\\x0f\\x9dg\\xac\\xcb\\x17\\xbc(\\xeb\\xb5{\\xd9\\xf87\\xc3\\xe2\\xb1\\xd4\\xa57\\x01\\x87\\xa0l{o\\xfe\\x92\\xaf\\xc9\\xfbz\\xe5my8r\\xac\\xbc\\xbch\\xf5\\xc8\\x8c|Z\\xe4\\xf7v\\x1c\\x15\\x99\\xd9;\\xb3[\"\\xbc\\xa7\\xfd0\\xef3{\\xe4e\\x91\\xaft}\\xe5\\xe3\\xd8\\xa4 \\x80&;\\xd9\"\\xcf \\xbe\\x94\\xfd\\xe3\\xe6{\\x95?\\x10\\x93\\x98\\x8d\\xc6\\xcf\\x9ck\\x0cp\\x98\\xa2\\xa5\\xea\\x8a\\xbd\\xd2\\xf7Tn\\xc8~\\xd9IwM\\x1d0z\\x8a\\xab\\xef\\xbb-b\\x15d\\xaf\\xfb\\x9e<\\x070{\\xe1R\\x9b`Q\\x81E\\xb4d\\xc0\\xda\\x1b\\xfb\\xd02!5\\xb7\\x84\\xd7\\xae\\xdb\\xb4\\x95\\xdd\\\\\\xca\\xbeF/^\\xbb\\x85q\\xff<Vm\\xd8d3\\xbb\\xb1\\x1b`.\\x05\\x00l9\\xe2E\\x80J<\\xd4\\x0b\\xec\\xb7\\xbd\\xfb\\xa5\\xcfD\\xb4e\\xd9\\xb5\\xff\\xf0\\xa4\\xfc\\xe6\\xd7=\\xd6\\xf4\\x8cP3*<s\\xe6\\xef\\xd7\\x96md\\xcc\\xd2^\\xc5~G\\xe3\\xde\\xca\\xc7\\xb1IIq\\x8a\\x8cd\\n=\\xcc\\x7f!:F\\xaa~\\x18<!v\\xe4\\x9f\\xc3\\xacE\\x8e\\xf9\\x0b\\xfdG\\x90kJD\\x9e\\x89\\x9a+\\xba\\x99} \\xc6\\xb7\\'\\xbc\\'L^\\x81\\x13\\x8b\\xaa2\\x8b\\x1a\\xf2\\xa2\\xc89\\xcc\\xa0w\\n\\xd6\\xe5&GO;\\x1b\\xcd\\x87\\xedA>\\xcb\\x0e[`|=y\\x13Ow\\xeaI\\xde\\x87u\\xef\\xdb\\xc8\\x97\\x8f\\xcc\\xf4\\x9d\\xfa\\x0c!\\xcf\\x01\\x07\\xa0\\xec\\xfa\\x16\\x7f\\xb3\\x8a<\\x0e\\xcd,\\x93\\xf1{\\xc3\\xf1f\\x8a\\xf4\\x8a\\x87j\\x9c\\xf9\\xfb\\x95\\x99\\xb5\\xd8\\xbd\\xcf\\x8f\\xf2,\\xf4{:\\x8cP>\\x86\\xad\\x14\\xe4\\xab\\'\\xd5)gs\\xc2as_\\xf5\\x83\\x10\\x11k\\xd7\\xa7;\\xf6d\\xaf\\x0e~\\x87\\xddQ\\xde\\xbe\\x8e\\xc5\\x9a\\x1e\\xe5\\x8d( \\x03\\xcb\\xe9\\xfc8\\xf7!\\x893\\rI6\\xfc1X\\xdbR\\xf5\\xd4\\x00\\xe4\\xc2\\xb7\\xed)\\xaf<\\x03\\xeb\\xc0\\x1aTC\\xedM\\xdfS\\xa5!\\xd9\\xdf\\x1d3\\xb1\\xb9\\xfe\\xe6yo\\xd5FQ\\r.&\\xbc\\xff\\t\\x9b#Xk\\xcf\\x93\\xc4\\xebc\\xc9\\xb04{-y\\\\\\x8b\\x1e\\x03\\x92\\xf2;\\xdf\\xf4x\\xbb3\"\\xcd_\\xf7\\x05\\x96\\xf7\\x81\\xaa\\x06\\xe1\\\\\\xbb\\xbf\\xdbD\\xcfB/\\xdcq\\xb4\\xf2\\xb1k\\xa5\\xdfN\\xb9\\x02\\xfc\\x97\\xfd\\xf5\\xa2\\x7f(\\x7f\\x08\\xf1\\xb0d\\x9d\\x96B\\xafw\\xcb\\x97\\xde\\x90\\x1e\\x8b\\xae.[\\x04a\\xaa\\x00\\xa2\\xe3\\xa8\\xb53\\xcaY\\x89\\xb0\\xe6\\xbb-\\xec\\xbf\\xa5\\x9f\\x94~\\xef\\xfd\\xd5\\x9f9\\xb3\\xb5\\x06\\xb4\\xefm\\x9f%\\x11\"\\xfb\\'ae`\\xfbOt^\\xbc@\\xac\\xc9(0\\xe5\\xad\\xe6\\xbc\\x15\\xd4\\x0b\\xcc$\\xb6\\x19\\x91\\xbcB\\xa1Q\\x97\\xd7\\x92\\xf2;Z\\x85\\x0ea\\x17|n\\xb0\\xc1\"/L\\x88\\xc9)\\x174\\xa1K\\x9crI\\xa9\\x03\\x1f\\xe6\\xbf\\xe8\\xbcK\\xf2(\\x7f\\x08\\xf1\\x10k\\xd0\\xa3\\xc7\\xe8h\\xb4\\x86\\x9d\\xc4\\xeb4\\xac\\xcb\\xbf\\x10\\x98\\xa7&P\\x83\\x8e:V\\x14L\\x02\\xbc\\xf4\\xd6\\x18\\xc7k\\xee=\\xecl\\xb6\\xdd\\xde\\x03\\x07ma\\xb0W>PY\\x989\\x87\\x94\\\\\\xd9\\xb9\\xb1_O\\x95i\\xe6!\\xcb\\xf1G@\\xcfW\\x82V\\xd4\\xc9j\\x1d\\x1d%\\xf4\\x040hB\\x07\\xfd\\xcaj##\\xe1\\xfc\\xac\\xd3\\x9e\\x0c\"\\x18D\\xb4V\\xae\\xd5\\xba;y\\xcc\\r%j\\xb0i\\x1f\\x7fF\\xce\\x98&\\xe0\\x8c\\x12U\\xa7\\x11%\\xab\\xa0\\x12\\x0e\\x96\\x12\\xb2\\xeb\\xbd\\xea\\x81*Qe\\xaf\\xd0\\xee\\x88\\xf7=\\xc8\\xfc\\x0eNm\\x9bo\\x11x\\xd9y4\\xeb\\xd6Wx\\x0e,\\r\\x10=G\\xe1\\xf1\\x16\\xc9iZ\\x01\\x07\\\\\\x81f\\xfd\\x1cY\\xb0\\xf5\\xa0\\x94\\x15\\xba\\xa0\\x0e|\\xc2\\xcdw\\xdb\\xde\\xf9y\\xff\\xba\\\\\\xf9\\xcd\\xc7\\xcb*M;\\x0b\\x073U\\x16\\x1aN\\xae>\\xc3\\'F\\xd6\\xd2\\xe2H6\\xfc\\x9bH\\xb0\\x10\\xa5\\xe8\\xc5\\xb2\\xfc\\xdb\\xf5\\xc2\\xf5\\xb3Il\\xe3Y\\x81\\xea8\\xfcg\\x10\\x97.z\\t9\\x15\\xbc\\xc0\\xbf\\xaf\\x94\\xec \\x98\\xc0s\\x13\\x9d\\x03m\\xa1Ea\\xc5p\\xf0\\xa9\\xfc\\xbd\\xe1\\x85OU\\xa1\\x83\\x82:\\xf0Y\\x89\\x14\\xba}\\xef<O\\x86\\xf2\\x1b\\x8f\\x975[\\xbd(\\x1c\\xcc|\\x93\\x07\\x14\\x97\\x1c9u\\xb6\\xd0\\x91\\x06`\\x0f\\xba\\xa5\\xc4\\xe1\\x84\\x17\\x80\\x08o\\xbd3\\xdd\\xf1z\\x17\\x7f}v\\xb9\\x80\"\\x1bT\\xc1\\xcb>\\x82B\\x1a{\\x1c\\xb6\\xc4@\\x84\\x04\\xaf\\x16\\x84\\x04[\\x81h;\\xa1\\x98\"/\\x0bj\\xbb\\x11\\xb1\\xfc\\xb0\\xa0b\\xfd\\xad.\\x7f\\xb0:\\xbb\\xa9F;v\\xe73}\\xd8\\xdd-\\xdfdw\\xb7\\xf2\\xceB\\xed\\x86z\\x12\\xfa\\xbbCK\\xb2\\xaf\\xdf/q\\x86K\\xa7\\x97`\\xc3\\x07\\x94bE+\\x95U2^\\x11}J\\x08=a5\\xe0\\xc9\\xe2\\x12A\\xda;\\x8f\\x95Y\\xed_\\x11\\x0ef\\xa4\\xbd\\x9a\\x9fC{\\'\\xec\\xcd\\xcb\\x80I\\x14\\x9dSe\\xd9]\\xa2\\xef\\xc3\\xf6\\\\\\xad\\xd6/J\\xaf\\xb5\\x1ew,\\xe5,\\x84C\\r\\x1eq\\nh\\xec\\xe8\\xf4<Pv\\xcb\\x1a)\\'\\x02\\x96/^\\x85~\\xfc\\xf8\\tV\\xe6\\xe9v1\\xfdN\\xd7W|\\x96\\x15\\xee4&\\xa1\\xebp7B_\\xf3aq\\xc6\\xd6<d\\xe3\\xbe\\xe5\\xc5X\\x9dF\\x8f\\xfa>^\\x93\\xbd\\xa7n+\\xe3|a\\xde\\xeb\\x94\\x8b4\\x11l\\xd4\\xb9\\xb7p0\\x17\\xac\\xd8\\xe0\\xf4\\xc0}\\xa8\\x1a\\xfb\\xe8\\xf3e\\x8e\\x83\\x7f\\xce\\xc2/\\x8d\\\\t\\xd9\\xf7!\\x81\\x85\\x02\\xd6\\xd4\\xb2\\xd6\\xc2HZ\\xb1\\np\\xcb\\xb6_\\xc9\\x80\\x9a\\x9bJ\\xd54\\xf6\\xb8)\\xcc]\\xbc\\xdc\\xf1y<\\xd5\\xe1UaL\\xc0\\x19\\xc1\\x9e8!\\x17e\\xf1\\x1al\\xf5\\xc6\\x1fl\\xc7\\xc1\\xda\\x89\\xa5\\x15\\xd6u\\x8f53\\xe2\\xd0\\xfd\\x12\\xb9\\x1b\\xa1\\x83?\\x7f\\x96\\xc9\\n\\x96\\xf5\\x7ffO\\xe6\\x9e\\xba\\xcdl\\xc7\\xbe\\x9ej\\x91&\\x82\\xcf\\xbe\\xd8O8\\xa0\\x11\\xfe\\x89\\xc89Qv\\x9b\\x15\\xdf\\xac\\xd9(-)m\\x12a\\xb5\\x14\\x10\\xad\\x86\\xd8w\\xea\\x18\\xcc\\xd2x\\x89X\\x81\\xc6\\x10\\xd4ge3\\xf2\\xa4Y\\xf3\\xa5\\xd7\\x86\\x17\\x87\\x9b\\x17\\x1a\\xb6\\re\\xe7\\xc1l\\xbfz\\xa3\\xfd\\x99!\\xc2N\\x16\\xa5H\\x11\\xa1\\xad\\x85\\xda\\xba3\\xb7\\xfd\\x16:\\xd8\\xe7\\x95\\x87}\\x1f\\xb3\\x82=\\xf5\\x84\\x98\\xef6o\\xbb\\xdfe\\x9c\\x93\\xc56\\xaf\\x0c\\x14\\x0e\\xe8\\xd6/\\x0fd\\xfb\\x0f\\xd2\\xfb\\xc8V\\xc0K](\\xf2Bp\\xf3}\"!\\xcdY\\xb8Tx\\x8c5v\\x1f\\x98\\xbd@\\xfcY\\x08I\\x14s?l\\xf2\\x07\\xd2k+\\xdb\\xa0\\x9d4\\xf8\\xc7\\x84S\\x13\\x06\\x91\\xd0\\xf7\\x1f<d\\x84\\xe5z\\xf9}\\xae\\xaf\\xdc\\xd2w\\x91[\\x85\\xbe\\xf6#\\xb9\\xd0\\xbf\\x9d]\\x9c\\x15x\\xb4\\x9c\\xafcV\\xb0\\xa7\\x1e\\xb7\\xf7=\\xed\\x82d\\xac\\xc4^w<@\\x93\\x077u\\xe9LR&- \\x8a\\xabG\\xed8+~\\xd9\\xb1[Z\\xf4AT}\\x15\\x80\\xff@t\\x1c\\xfc\\n\\xef\\xceY\\xe0\\xea\\x9e!b\\xd9=\"\\xf2\\x0f\\xf1\\xf7<~\\xdf\\x7f\\xc0q\\xfb\\x90\\xe7\\xed\\x8dz*\\x11z\\xa1\\xe7\\x06G,\\xa9\\xf2\\x91\\xb5x\\xa6T\\xe8\\xfb\\xbf*\\xc6Z\\xb4)\\xed\\xfb\\xb8\\x15\\xec\\xa9g\\xc6#\\xf4\\xb4]\\x9f\\x83\\xa8\\xae\\x1a+\\xb0W|\\x97\\xc7\\xb6J\\xa2\\x04\\x9aV\\x9cc\\xed\\x96\\x87k\\x1b\\xd5X\\xac\\xc0L]\\xb2N+\\xe1\\xb9\\x0bUj\\xc0\\xb6\\xed\\xd8%\\xbc\\xde\\xd7\\x86M\\x10\\x1e\\x8b(?Q(0\\x0f\\xb4\\x81\\x96\\xdd#^D\\xeb\\x7f\\xb0\\x0b}O\\xc4\\xe4G\\xd6\\x9d\\xdbg\\x95\\xe7\\xfe*\\xac`\\x9b\\xb7\\x95\\x08=\\x7f\\xddn\\xacd\\xf52R\\x91\\x9b\\x1c7\\xa8\\x94\\xef\\xe3\\xf6\\xfcK\\xaf\\xa2\\x84\\x1e\\x8eG\\xe8i\\xbb>\\x07\\xbb\\xf6\\x1b\\xeejp\\xf3@\\xb2J,[ET+g\\xecyWm\\xd6\\xc5\\xf8\\xf7\\xeb\\x8b?n,\\x19\\xf8\\xd4Y\\x84\\xa2>\\xd6\\xf8y\\xe1y\\xb1\\x8e\\x1f<\\x81\\xae\\xbcj\\xa2\\xf7PZ\\xe88\\x16f\\xbd[|\\xbe|eLBwr8\\xf2\\xbc\\xb2x-#\\xe5\\xd4w\\xb3\\xbd\\xd3\\x18c+o\\xe2\\x90\\x92\\xae\\x84\\x9e=\\xab\\xb8\\xef\\xe3V\\xd0\\xab-\\xaeuz\\xda\\xad\\xcf\\xf3\\xdeW\\xd1\\xc8({y\\xd0X\\xd7\\x15W)\\xf4w\\x99\\xc6\\x1a%tA\\xc4\\x1a\\xea\\xdb\\xc1B\\xa0\\x8aC\"\\xf8\\x04\\x85/e\\xe7\\xc5L\\xef4#\\xf7\\x19>\\x89<\\xf6\\x89\\x96\\xe1(\\x07\\x1e\\xd6\\xd2\\xb2\\xe88\\xa7\\x06\\x14\"\\xa1o\\xdf\\xb9\\xc7H\\xb6q\\xfb\\xac\\xf2=\\x92\\x15w!\\t\\xaf\\xc4\\x8b\\xe5\\xea\\x87\\xb3X\\xcd\\x06\\x8f\\xb2?W;\\x8b\\xdc4\\xdfU\\x8cc\\xa2W[\\xcc\\xeb\\xf4\\x94^\\x9f\\xa3\\xce\\xfb\\x83\\x11S\\x11\\xf1\\xdb\\x98}\\xebw\\xeci\\x88\\x1be\\x8e\\x10l\\xc2\\xd7A\\xf3\\ndh]\\xeb\\xb1e\\xd3\\x8f\\x96\\xf0U\\x19 x\\xbc\\x84FN\\x99-,\\xdah\\x12{\\xfc\\xa8\\xe8*\\x0b\\xc9\\x05\\x06\\x08\\xd6\\xe8\\x93g\\x7f\\x1aU\\x98\\x12/\\x1c\\x14\\x9c\\x14\\x01\\xd5cd\\xd7#*\\xcf\\xb5\\xed\\xd7]\\xac`\\xa5\\x06\\xae\\x9f\\xd55\\x8f6\\x88M\\xb0\\xdd&\\xb2{\\x9f\\x1fi\\x04\\xc7\\xb8%\\x96\\x08\\xb77\\xee\\x15\\xf9\\xce\\xa7Y\\xb1*e\\xd9\\x86\\x8f\\xe5ks+OE^\\x08W\\x16\\xf1\\x7f|\\x0b\\xa2\\xe42c\\x11z\\xca\\xae\\xcf\\x11\\xd3\\x8d\\x98pD\\x83\\xc1s.\\x0bYu\\xc2\\xbe\\x03t\\x92\\x07\\xd6\\xcc2s\\x9ab\\xf6:{h(*\\xd0 w\\x1c\\x11m\\xbd\\x86\\x8c7v\\x02\\xd0\\x84\\xf1\\xd62u\\x8cJ4N\\xe7|\\xb4~[#\\xfd\\xd4\\tC\\'\\xbdo;\\x16\\xc2\\xb3Z\\x11\\xd8C\\xef\\xd8g\\x88\\xcd\\xd3o\\xc5\\xccy\\xf2\\xc2\\x90|\\xd5X\\x13H\\x81\\xbd\\xeb1\\xf7\\x95[\\xdc\\x86\\xabZ\\x05^\\xe0\\xd9\\xfeF\\xdc\\xfb\\xd5\\xc5k\\xb2\\xebJVg7\\x94\\xaa\\xe6\\x8a\\xff}\\xa42{\\xb0RY\\xd6#\\xfc0\\xdb\\xb1\\xb8\\x98k\\x91\\x9b\\xbc1\\xd3_\\xcf;\\x98\\xc8uz\\xca\\xae\\xcf\\x91\\x87\\xce\\xf7a\\xf3\\x02\\xccp\\xf0\\xa8\\xc3\\x02\\x80\\x98EUZ\\xc7L\\xff\\xd0U\\x9ds\\x93\\xb3>\\xb5\\x17MDH-_j\\xca\\xb5\\x18\\\\\\x06\\xf3\\x00\\xa8i\\xc7\\x1f?\\x98\\xeb\\xdf\\x8e\\xad3\\x94\\xd7B\\x8dy\\x11f\\xcc\\xfd<&\\xa1o\\xfei\\xbbQ\\xc3\\xce\\xed\\xbd\\xa1\\x92\\xab[\\x91\\x17\\x89\\x88\\xfc\\x96\\xda\\x9d\\xd9\\r\\xc5+\\xb26\\xedJ\\xb3\\x05\\x93K\\xb0\\x15\\x1f\\x147\\xd6\\xcfn\\xb8\\xee\\xa3\\xe2l\\xcf\\xd2b\\x9e\\x05n\\xf2\\x86b\\xfe\\x0b]\\xb0N\\xf7l\\xbe\\x93a\\xaf\\xa9\\xb4>\\x87\\xe9\\x8e\\xc2\\x86\\x07\\\\\\xec\\x85\\xf30j\\x97GLP\\xf3\\\\h\\xd6H\\x01\\xc5\\x1d\\x9c\\xba\\xb5Z\\xd9\\x8f\\xe8Iv\\xca\\xe2\\x8c\\xf3B8\\xd1P\\xa1\\xd5Z\\xc6\\x19b\\x12\\xe5\\xd7\\xe3\\x85`=>\\x7f\\xe9\\'\\x8d\\xf5\\xb8\\x15\\x98\\xc9q\\xde\\xb6\\xaf\\xbe%|60\\xf5c\\x11:\\x96\"\\xb7\\xba\\x08*2y\\xf5\\xc3\\xf5\\\\\\x97\\x81\\xfa\\xdfS\\xdd\\xd9\\xcd%\\xca\\xb3y\\x13K\\xb8^[\\'\\x8a\\xc7\\xbf}\\x88\\xe5-\\xacf\\x8c\\x0bz\\xaa_\\xe2E\\xe8\\x99\\xfc\\t\\xb0&P-^\\xafD\\xb5\\xd4\\x92u[\\x19m|\\xa7|\\xb8\\xd0\\x10,\\x8a\"\\xa09\\x03b\\xc27n\\xa1\\xeb\\xb6\\xf1\\xeb\\xd0\\xc6]^#?\\x87uq\\xf7\\x81\\xee3\\x9d\\x9ez\\xfeU\\xf2<NUe(V}\\xb6KT.=\\xccwT\\x8d\\xdd\"(v\\xb9\\x82kYl-\\x8d\\r\\xc0Yfz\\xc5E\\xf7\\x0b8U\\xc7\\x15\\t\\x1d\\x0e\\xbe\\xffZ^\\x9eN\\xbc\\xa2XMc\\xad\\xed\\xec%\\x1f\\xcd\\xf2>P\\xc5\\xb5\\x97<\\xd1\\xdc4/S\\xd9\\xf8F/\\x05B\\xe8Y^\\x84\\x9e\\xb2\\xebs\\x191[\\xa1\\x02\\x8a\\xd91e\\xc0\\x98)\\xe4`\\xe6\\xcdS\\x14J\\xa4\\n-\\x02\\x88-\\xcf\\xefP\\x15\\xc6\\xe4me\\xeb\\x92i\\xaa\\xc8\\x8a\\xf3r\\x1f\\x88\\'\\xdfhqx\\xc1*\\x80\\xb5\\x800Z\\x84\\xe3R\\x80\\xc7\\xdf<\\x1e\\xb1\\xf3|\\x7f8\\xd4\\xbe3\\x97!|:l\"\\x84\\xee\\xa6\\xd1\\x84\\x95y\\xee\\xab\\xc4\\xeen\\xf5\\x96\\xa3\\xd0\\xd1\\xa4\\xe1\\x9e\\xf2e\\x8d\\x99U\\x85\\xd0\\'\\x0f-\\xa9l<\\x0b\\xb2\\xd9\\xc2^\\x84\\x9e\\xb2\\xebs/\\x14\\t\\x9dZ\\xcf\\xbe9n\\x1a\\xf9Y\\xd4yk\\xd1\\xdd}-\\xb4U\\x1b\\xec\\xd1q_f\\xaf5*\\xb3\\xb89\\x1e/+8\\xd6\\xac\\x80\\x93\\x0f\\xce;\\xfc\\xfb4\\xa2\\x8e;\\x00\\xeb\\xe3\\x86\\x9c:\\xf7(|i\\xc5\\x8e\\xc8K\\xc0\\x9a\\xad\\x87\\xbcq\\x91\\x17?V\\xa1\\xe3\\xbe\\xf1\\x82\\xf2\\xf2\\xfb\\xdc\\xfa\\xf4K\\x8eB\\xbf\\xb1Z\\x1b\\xd6\\xacUi%\"\\xc7\\xba\\xbe\\xe1\\xb3\\xfeG\\xc6\\x99\\x14d\\xb3y\\xdaOO\\xbb\\xfds/B\\x1f5m\\x8e\\xed\\xb3X\\x8b#\\xd5\\x92\\xc2\\xf2U\\xeb\\xa5\\xa9\\x9bV\\xa2\\\\\\x14\\x0f/{\\xcc5[\\xbf\\x18u\\x1dX\\x93\\xd7js\\xb6\\x1aN\\x17I\\x10\\x10\\x8ai\\xc0|\\xe6gs\\xbc8\\xacNEx\\xf2E\\xdb\\x8f\\xb1\\n\\x1d\\xa9\\xabN\\x85/x\"s\\xcd\\xa9\\xb8\\xe3\\rUZ\\xb2\\xce\\x9d\\x1fQ\"\\xf4\\xf9\\x13K\\xb0\\xeb\\x1e\\xf2\\xdf\\x11g%\\x91\\xcd\\xe6\\xc9!g\\x13\\xbajQ\\xfa)\\xf4!\\x93f\\x92\\x9f\\x179\\xe5\\x90\\xba\\xe9\\xb6L\\x12\\x12`x\\xc0\\xcb\\xef\\xe6\\xf8\\xab#k\\xd1\\xad\\x96J\\xad\\x00\\x1c\\x8e\\xd6\\x94\\xd5J\\x111\\x8bv\\t\\xd0\\x99\\xa5\\xe7\\xe0w\\xa2\\xfe\\x86\\xf3\\x95\\xe2\\xda0\\x19E3\\x0f\\xd1N=?\\x85\\x8e\\xd2\\xcd\\xe8\\x99\\x16T\\xa1\\xb7n\\xabn67I\\xcc\\xe8\\xcc\\xad\\xc83\\xf8\\x03\\xcf9\\xff\"\\xe57\\x94\\x0c\\x8a\\x84.\\xea\\x11\\xd6\\xa4k\\x1f\\xa3U1\\x85\\x99\\xf3\\x17\\x1b\\xce?7\\xdf\\xbb\\xe8k{aI7}\\xc9\\xf8\\xed0\\xf8\\r\\x8a\\xd5j\\x1e\\xf5\\x19\\xec\\x8d#8\\x85\\x02\\x8aI\\xf2\\xd9mH\\x9c\\xe1s\\xdba\\xc6\\xff&\\x88\\xb4s\\x12\\xba(2\\xee\\xb4\\xe9N\\xa7\\xe2J\\xcfW\\xbbs \\x85\\xbei~&\\xbb\\xe3\\x11\\xb5\\xb39\\x88 6B\\xe8\\xae\\xaa\\xc3f\\xf2\\x07\\xa6\\xa2\\xc7\\xdd\\rQ\\xbe\\x89\\x02\\x82W\\xa8\\xcf_\\x11\\x11\\xf2\\x14A\\x96\\x17R<\\xdd\\xc6\\xbf\\x97\\x89\\x98\\xc6\\xd8\\n\\xb3\\xe2t\\xc7\\x15qfZ\\xd3n}\\xa3>\\x7f\\xda\\x8a\\xe8f\\xfb\\x1cB|\\xe7/\\xf9\\x86\\xbcF\\x1eX\\x9bSu\\xeaP\\xe3\\xfd\\xd7]\\xf6\\x16\\xcb\\x80\\x93\\xd0E\\xd9k\\x1b6{\\xf3\\xba\\x9b\\xccS\\xa4\\xb24\\x8bM\\x85\\xd0\\x0f~\\xad\\xa6\\xc2\\x0cE\\xd4n$\\x84^\\xc9\\x8d\\xd0\\xd3\\xd2\\xe3N\\x91\\x9f!M\\xc8\\xba\\xb4\\xc8\\xf2\\xb6\\xd1~\\xe9\\x8a\\xfb\\xc5\\xad\\x94\\xacD%U\\xb3Q\"\\x00\\xf3\\xbdag\\xba\\xc44\\xccq\\xbe\\xed\\xb1\\xac44:\\xa2\\xb8\\xc1\\xf3\\xaf\\xd1\\xbd\\xe9d=\\xe9\\x9c\\x84\\x0e\\x87\\x1b\\xe5p\\xdc*\\xe9\\x0c\\xebDtJEk\\xe3;\\x9b\\xf5e\\x85\\xda\\x0ea\\xf7\\xb4\\x1bz\\x86\\x88\\x84s+\\xf4#+\\x8a\\xb1\\xef\\xe7\\x15\\x8f\\x99\\xeb?.\\xce\\xa6\\r/\\xc9J?\\xa1\\xb6=\\xb8\\x95\\xd0&!tW\\x15gF\\xf1\\x07\\xa6\\xa3\\xc7\\x1d\\x14\\t\\x1d\\xfb\\xee\\xa2c`\\x9e\\x8b\\xda\\x02\\x1f9z\\xd4\\xd8\\x9ar\\xf3\\xddWF^\\x08\\xe3\\xdf\\x8fNE]\\xb5\\xf1\\x07\\xdb\\xac\\x07\\x91\\xf3\\xed\\x98\\x97\\xacXm\\xc4\\xb8\\x8b\\xce]\\xb0\\xe2\\xd3F_u\\x19\\xf0\\xef\"O?\\xb6\\x0b7\\nz\\xc39\\t\\xdd\\xa8\\xebN\\x94{\\xc62\\x03\\xcd\\'\\x92\\xf1;\\xba\\x15\\xfa\\xe2\\xa9%\\x94\\x8f\\xb9D3\\x9e\\x8a3\\xb6\\xad\\xb5t\\xf4\\xb8\\x83\"\\xa1#O]v\\x1c\\xc2bE\\x95\\\\P\\x9f\\xdd\\xad\\x89\\x8a}e\\xde\\xccF\\x98,\\x1aD\\xa0\\x9f:\\x82qxO\\xff\\xce={\\xa5\\xfd\\xd0MbV\\xb7Z\\x0c<d\\x9dh\\xae\\x8b\\xac\\xa5Q\\xde\\x8a\\x02\\xd5\\x02\\x8a\\'\\xd5\\x0e:\\x9eP_\\'\\xba\\x15\\xfa\\xf1\\x95\\x0f\\xb1\\x9dK2\\x1d\\x89\\xca2\\xaa\\xc7\\xa6[\\n*\\xce,p#\\xf4\\\\\\xe1q\\x07EBwj\\x06\\x88Y\\xfd\\xbdO\\x16\\tEDm\\xcf\\x89\\x88\\xbd\\xed\\xf1\\xef\\x7fb\\xec\\xc7\\x9b\\xc0\\x1e6\\xb5\\x8f\\xbd;2+\\xa2H\\x84\\x9b\\xf3b\\xbb\\x0c\\xbd\\xe1\\x16|\\x99m\\xb49\\xb6\\x02kh\\x04\\x0e\\x89\\x8eE\\xf3\\x89\\xe5\\x82n+N\\xb1\\xee\\xa0(\\xbf=KP\\xeb.^&z\\x8d\\x0e\\xb1\\xab\\x1e\\x9b^HT\\x9cq\\xdcb\\xbb\\x84\\x17\\xf9_\\xce9W\\xf9\\x8d$\\x8b\\x83\\xc6\\xcf \\x07\\xa4\\x9b\\x90T\\xccN\\xfb\\x0e\\x1c\"\\x8f\\xc7z\\x9b\\xf7\\x86\\xcb\\x88\\xfa\\xec\\x88wG+%\\xd1\\xd6\\x18\\xc2r\\xa9F\\x91n\\x08\\'\\x1f\\x96\\x14\\xf0=`m\\xef\\xc6\\xe2\\x10\\xb5>~o\\xde\"\\xc7cQ\\xdb\\x9e\\x82\\x9b\\xda\\xf5\\xb10\\x1e\\xa1#\\xe8\\xe5\\xbd\\x91%\\xd9\\xb6\\xcf3SV\\xe8\\xd0(1\\xabKc\\xdeS:\\x07\\xdd+E\\xdbkn\\x84n4t\\xb0\\xb4\\x1a\\xe6\\x81\\x98z\\xbe/\\xba\\x1b\\xc2a\\x85m<\\xd4\\x7fCX+\\xac\\x0b\\xa7\\xc2\\x13\\xc9 \\xd2Q)\\xa0\"\\xad\\xd3\\xb1H\\x13\\xa6\\x1a4\"O\\x9d\\xff,\\x9e\\xd15\\x1e\\xf3\\xfay\\xc6*\\xf4\\x03_\\x15;\\xb3E\\x86\\xc0\\x97\\x1f\\x17f\\xa6\\xa4\\xd0c\\xc9M\\xcf\\xe2\\x0f@\\xe0\\xbc\\xea\\x1bI\\x16\\xe3\\x11:\\xf8\\xe0\\x13\\xcdlQfV\\xd4MRSA?\\x88\\x8e\\xa9\\x14\\xdc\\xd4\\x87G\\x94\\xe0\\xb7\\x825\\xbe\\xe9y\\xc7\\x8b\\x12V\\xcf\\xa2\\xaf\\xbf%[Ky!RSc\\x11\\xfa\\xe7S\\xa2\\x9ds\\xe3\\xdf.e\\xfc\\x1d5\\xdbU?\\x7f/\\x8c\\xc5\\xf3\\xae\\x85\\xeeA\\xe8\\xd8\\xb3\\x86\\xf9/\\x8a\\x0b\\xc7ZXT\\xaf=\\xe8\\x1c8v*yO\\x0b\\xbe\\\\\\xe1x,\\nf \\n\\x8fz*o\\x8f\\x7f\\xcf\\xe8\\x0f\\x07\\xa7\\x1e\\n\\x83\\xe0\\x19]\\xc35\\x8a\\xf4J\\x14r<\\x15Cz\\xeaO\\x11Ag\\x14==\\xa3\\xa3J\\xccW3O\\x97w\\x9e5V]\\xa2J,\\x8cE\\xe8\\xb9f\\x0f\\x1d\\x84w\\x9d\\xeaL\\xe2%m\\x143\\xd4\\xba\\xef\\xed\\x01\"&P\\xe6I\\xf5}\\xc6B\\xbe\\xd4\\xb4\\x89e\\x0eU`M\\xa2*-U\\x93\\xcf\\xeah\\x845\\x94\\x08O|\\x9e{\\xcb\\xb3\\xf7G\\xc7\\x96\\xa6\\x8a\\x1cv\\x84\\xb2N\\x1d^\\xd2\\xc8e?\\xfcM1V\\xaeVp\\xf6\\xc9\\xddP\\xb0\\xc5\\x16\\x96\\t=\\xcc\\x1f\\x90\\xae{\\xe8 \\x8aK\\xcc\\xf8\\xe4sv\\xe2D\\xb4\\x03L\\x14H\"b\\xfd\\xe7_\\xb5\\xedu\\x9b@rH\\xb2\\xda\\x05\\'\\x93|$\\x9e\\tT\\xdeq{\\x0e8\\x00E\\x11v\\x88\\x87\\xf7Z\\x8aK\\xfa[\\x96(\\xc7\\xe6Df\\xe2\\x93\\xabb\\xf7\\xb6\\xefZR\\x8c5m\\xa5>~\\xdd+\\x05[l\\xfddB\\xef\\xc7\\x1f\\x90\\xae{\\xe8&aZc\\xf6\\xb2\\x0eH\\x08\\xd7\\xcb9\\x10\\xfc\\x82-%Q\\xdf2\\x04\\xa7x\\xa9\\x97\\x16\\x04V{\\xb6+\\xb9$A\\xe0\\x8b\\xdbs\\xc0\\xd1\\x86\\x19{\\xf2\\xec\\xf9F\\x97V\\xbc$\\x96\\xad\\\\k\\x94\\xe8\\xf2RV\\xca-\\xafy\\xb0<k\\xde\\xba\\xb4a\\x82\\xc3\\x9b\\xfe\\xa7\\x0bqc\\x16\\xc7\\x9a\\xfc\\x9dA\\xa5\\xd8C\\x95\\xd5tIM\\x04\\x89-\\xb6Q2\\xa1\\xdb\\xa2\\xe2T\\xdf\\x80\\x1f\\x84c\\x08\\xd5bQJ\\xe9\\xd3\\xa5+\\xa41\\xe7\"\"k\\x0b\\x95aE@Ig\\xb7\\xa9\\xacA *\\xf3Pe\\xa9\\xb0\\xdf\\xef6y\\xc7\\xfa|\\x11/\\x80\\x84\\x17\\xb7y\\xf7\\xf1\\xf0\\xda\\xc8\\xba\\xbbhD\\xb4\\xe8\\xa22\\xee\\xadRl\\xc9\\xf4\\x12F\\x1f\\xb5\\xef>\\xc94*\\xbc\\xa2\\x9e\\xdc\\'\\x13J\\xb0\\xb7\\xfa\\x94bu\\x1b?\\xca\\xee.[\\xd6\\xe8\\xcc\\xa2\\xfa\\x99\\xc7CbF\\x97F\\xc7\\xe5J\\xa1[\\xe9\\xa5\\xd8#O\\x88\\xe3\\x87\\x9f~\\x11\\x8a\\x1dA6N\\x1dW\\x83B\\xd4\\xdc\\xfbIP\\x9e:\\xd6\\xfd|U\\xbc\\xe2\\xbe\\xf2F\\xa5\\xd6\\xff\\x95*g\\x98\\xf8\\x98\\xf9S]\\xd8<\\xbd\\n\\xdd\\x16\\xfe\\xaa\\xfa\\x06R\\x89\\xf06c\\xcbH\\xd6\\x18\\x02b\\x17\\xf5O\\x83\\xa9\\x8b\\xf0W?f=\\'\\xe2\\x1a`\\xddPH\\xe4\\xdaZ31$\\x84.\\r\\x83]\\xa0\\x85\\x1e?\\x91\\xcf-*\\xd2\\x08 \\xe9\\xa3Y\\xb8o\\xd4\\xd6\\x1b\\xa2\\xd5\\xb0\\x0b\\x80\\x17APL|tq\\xa1\\xf2\\xef\\xdb\\xf5\\x1a\\xa4\\xfc\\xda4\\xa3I\\x08=[&\\xf4l-\\xf4\\xc4\\x10{\\xc5T\\x8b%\\x13\\x88\\x1c\\x1b\\xf1\\xee,V\\xa7\\xedKFL:*\\xc5\\xc0C\\x8fh8\\xd5\\xd7n\\x12)\\xb7\\xe1\\x01#\\xd9\\x9e\\xdf\\xa3\\xc5\\xee\\xd4\\x82Y\\xd3\\x7f\\x12B\\xdf\"\\x13z\\xaeIh1\\t\\'\\x1a\\xe2\\xcc\\xd1!%\\xfc\\xc6H\\xa3\\x19!\\xfe\\xfb\\xcc\\x0b\\xaf\\x1b\\t$\\xf1\\xac\\xd9\\xe1q\\x16uP\\xa5\\x80D\\x12Y[dU\\x843\\r-\\x8fQ\\x04\\x13\\x0eKtsQ}M\\x9a\\xd1$\\x84.MlI{\\xa1\\xa3\\xa2J\\x8d\\x16\\xdd\\xd8\\xa8\\xa9s\\x0c\\xc7\\x99S\\xcf2\\xd4KG6\\xda\\xfd\\x8f\\xc7\\x96K}S\\xa9\\x9al\\xc2\\x07\\x9f8~\\x0fj\\xaay\\xe9M\\xa6\\xa9i\\xa5W\\xa1\\xdb\\xba\\xb3\\xa8\\xbe\\x81D\\x11\\xdbg\\xa8].\\xaa\\xcf\\xee\\x04\\xa4z\\xa2\\x0c\\xb4\\xacG\\xb9\\x8cX\\xb7\\xe3\\x85\\xf1\\xeb\\xee\\xe8\\x00\\x92_w\\xed1\\xac\\x08\\xaf\\xa5\\x9055\\xad$\\x84\\xcer\\x95\\xd0\\x9fh\\x15f+\\xd6\\xd8\\x9b\\x1b\\xc6\\n\\x14\\x9c\\xe8\\xdcw\\xa84\\x9f\\xdb\\x89p\\xbc\\xa1|\\xf4\\xed\\xe5\\xb2\\xce4\\x93\\xb0]w\\xcbnl\\xf6\\x82%\\xac^\\x92r\\xb85\\xd3\\x8b\\xb9V\\xe8\\x0f\\xd6h&,\\xcf,\\x9a\\xb1Q\\xbd\\x05=\\xca\\x907\\x8duz\\x97\\xbe\\xc3X\\xaf\\xc8l\\x8b\\xc2\\x10\\xcb\\xbf]\\x7f\\xa6n\\x1b\\xba\\xad\\x0c\\x9d4\\x93,\\xac\\x98\\x08\"m\\xf3\\x9b\\xb5g;\\xae|\\xbch9\\xbb\\xcdEU\\x19\\xcd\\xdcK\\xaf\\xa6{\\xca{\\xddQ\\xba\\xf8\\xb5\\xe1\\x13\\xa5e\\x94L\\xfcq\\xec\\x18\\x9b\\xbb\\xf8+\\xd6\\xea\\xa57\\x8c \\x10\\xa7\\xfcq\\xa3\\xbc\\xd3\\x9b\\xa3\\x8d\\x9egXs\\x0f\\x7f\\xf7\\x83\\xa4\\xecy\\xc3A\\xc8w\\x83E\\xa6\\x17\\xaa\\xc7\\xaa~\\xbe\\x9a\\xc1$!t\\xa9\\xd7=\\xa5\\x85\\x0eg\\x16\\x9a\\t:\\x01\\x05\\x10\\xb0g\\xed\\xb6g\\x9a\\x95\\xf0\\xc2\\x9bE\\x1d1\\xb3\\xf7\\x1a:>.\\xcf<EQ\\x13\\x04\\xf8\\x17\\xdc|\\x17^v\\xb0F:\\xbd>4)1\\xe5\\x9a\\xc1\\xa3W\\xa1\\xa7l\\xc0\\x0c\\x920\\xf6\\xee?(\\x147\\x9c\\xdeh\\x87\\x8c\\xfd\\xed+<\\xc6j\\xf3\\xac\\xd0\\xa8\\xc3\\x99=r\\xfc\\xd7k\\x12\\x8c\\x13EB\\x07\\xdc\\xe4\\xb7?P\\xa3)\\xdb\\x93S\\x10\\x03\\xf1\\xea\\xa8R\\x13K\\xb5\\x1b\\xcd\\xd4!!ti\\xc0L\\xca\\x85\\xc0b\\xf6\\xaa\\xd5\\xba;\\xdb\\xfc\\xf3vR\\x18\\xc0\\xcf\\xbf\\xeed}FL2\\xca\\r\\xe7)\\x1c\\xff\\x80\\xbf\\xb3|t\\xdds\\xf8\\x02\\xcc\\x06\\x86\\x89\\xa0L\\xe8n\\xbe\\xa7\\xf4S\\xcfE\\xb5TFm;,9\\xdc\\xd6\\x9c\\xd7L=\\x12B\\x97\\x86\\xc0\\xa6TR\\x0b\\xd6\\xc7/\\x0e\\x1c%,\\xbd\\x8c\\xd9v\\xdc{\\x1f\\'|\\x7f\\x1a5\\xd5\\xe7/=[\\xa6\\x19\\xf9\\xec-z\\xb8\\xef\\xa8\\xeaD\\x99\\xd0\\xdd\\x14v,\\xd7\\xb0=;\\xc9\\x15\\x99D\\xc1\\xca\\xce\\x11S^\\xf5o\\xa6\\x99\\x1cz\\x15\\xba-\\x1f]\\xf5\\r\\x88\\x88\\x92\\xc4/\\xbf=V\\x18f\\xfa\\xe3/;XV\\xfbW\\xe2\\xda\\x06\\x93\\x91\\xaf \\xbbd\\xc5\\x1avm\\x9cE\\x0eM\\xca\\x84\\x8e\\x7fs:\\x9e\\x12:\\x80\\x9eo\\xaa\\x7f7\\xcd\\xe4\\x90\\x10\\xfa(OB\\x0fb\\xe1\\t\\x88\\xb7S\\x9f!FS\\x00\\n\\x9f-[\\xe9\\xba\\rq\\xac\\xec\\xd2oX\\xd4w\\xee?x\\xc8\\xa8~\\x9a\\x88s\\'K\\xe8\\xf0Q\\xa8\\xfe\\xed4\\x93C\\xaf\\x85\\'\\xc2\\xbc\\xd0\\x83VJ\\nN%$\\x81@X<P\\xe1e\\xfc\\xcc\\xb9\\xbed\\x7f\\xa1\\xae\\x1c\\x8f\\xe6\\xdd\\xfb\\'\\xe4\\xdc\\xc9\\x12\\xfa\\x8a\\xb5\\x1b\\x95\\xff~\\x9a\\x89g,\\xa5\\xa4\\x02_\\x1c\\x12\\xc5\\x1d\\xa8\\x82\\x08\\xd8\\xeaz\\xeb\\x9d\\x19I\\x0bb\\xe1\\xd9\\xbe\\xd7 \\xdb5\\x0c\\x1835!\\xe7\\x96\\t\\xddM\\xe0\\x8cH\\xe8\\xab7\\xfe\\xa0\\xfc\\xf7\\xd3L<c)\\x0e\\x99\\xc5\\x1f\\x10\\xa4r\\xcf\\xc8\\xec\\xa2z\\x8bc&\\xc7\\x9a\\x99\\xf7*?Z\\xbf-\\xab\\xdc\\xb4\\xb3\\xad\\xffw\"\\x88\\xae\\'<\\x10A\\x97\\x88s\\xcb\\x84\\x8e\\xca/N\\xc7\\x0b\\x85\\xfe\\xddf\\xe5\\xbf\\xa1f\\xe2\\x19K\\xb9\\xe7J\\xfc\\x01\\xe8\\xbf\\xac\\xfaF@x\\xbaQ+\\x1c3\\xb7\\x15X\\xa7\\xf7\\x1e6\\xc1\\x16\\xa1\\x86u\\xfc\\xf6]{\\x8c\\x1co$\\xa3\\x14\\xa9\\xdeD\\x18W\\x1e\\x0b\\xc7\\x10\\r\\x0eP4\"\\x11\\xe7\\xd6B\\xd7\\xf4BL\\xc6\\x84\\xd0\\xb3dB\\x0flK&\\xa4\\x89R\\x99g\\x13\"\\xb3(<\\xf0\\xfc\\xe7\\xd1:\\xd8\\x8a\\x1d\\xbb\\x7fg\\xad_\\x1e\\x98\\x90\\xc0\\x11\\x9c\\x03}\\xd2x\\xccY\\xb84!\\xf7\\xaa\\x85\\xae\\xe9\\x85\\x98\\x8c\\t\\xa1W\\x92\\t=\\x90M\\x16!\\xac!\\x93\\xde\\xb7\\r\\\\\\xc4\\x83#x\\x85:\\xa6\\xda\\xb3]l\\x9fGR\\n\\xbc\\xe5\\x97\\xc5y=7G\\x96\\x10\\xeb7\\xd9\\x9b6|\\xf0\\xe9\\x17\\t\\xb9\\xdfd\\t}\\xfd\\x0f[\\x95\\xff\\x96\\x9a\\x89\\xe79\\xe7_D\\t=C&t`\\x0b\\x7f\\x90\\xea\\x1b\\xa1f\\xf3\\xc3\\x7f\\xfca\\xa4\\xa0\\x8a\\x8e\\xe9\\xd0{0)\\x14\\xb4\\x00\\x8a\\xa5\\x9c\\xb3\\x95\\xc5k\\xb7 \\xbd\\xfenz\\x87\\xbba\\xb2\\x84\\x8es\\xaa\\xfe-5\\x13OB\\xe4\\x8em\\x93\\x81\\xc0\\xc5\\xbb\\xbf6l\\xa2m\\xd0\"\\xe2M\\xb6\\xe6\\x86\\x07\\x9e\\xc2\\x9a\\x88\\xf9\\x1ao\\xb8\\xea\\xb3/\\xf6#\\xcf=x\\xc2\\xcc\\x84\\xdc\\xaf\\x16\\xba\\xa6\\x17\\x9e\\xff\\xef\\xab<\\xc5\\xb9\\x9b\\xb0\\x05\\xcd\\xfc\\xe3\\xe6{\\x95\\xdd\\x04\\x06\\xf6\\xaa\\x8d?D\\r\\xd8\\x9d{~w,\\xed\\xf4\\xde\\xdc\\xcfI\\xa1 \\xbb-\\xde6\\xbd\\x98\\xb9)\\xbc\\xd0\\x7fDB\\xeeY\\x0b]\\xd3-\\xa1MbF\\x97\\x06\\xcb\\x98\\x08\\xf3\\x07^\\x90\\'C\\xd9\\x8d\\xa0\\x0f\\x1a\\x1f\\x01\\x87zoNN5tF\\xa1\\x80&\\x81\\xf1l\\xb7!\\xb5u\\xe3\\xe6\\x9f\\xc8s\\xa3\\xd7X\"\\xeeY\\x0b]\\xd3-\\xa1MB\\xe8\\xd2`\\x19\\x13\\x81\\xdab\\xc3\\x96\\x95\\x15\\x10}\\xd9\\x06\\xed\\x1d\\x8f\\xa3\\x9ce\\x002\\xcd\\xe2\\xb9\\x1e\\xec\\xcb\\x1f;n/j\\xf1\\xfb\\xfe\\x03F\\xa5\\xd4D\\xdc\\xb3\\x16\\xba\\xa6[\\xc6\\xe2q7\\x11(\\xcf;?{\\xae\\\\\\xbf\\xc9UN\\xf6\\xf6\\x9d{H\\xa1\\xa0TT<\\xd73r\\xeal\\xf2\\xbc\\xab6\\xfc\\xc0\\xae/\\x9e\\x98^\\xe8Z\\xe8\\x9an\\x19\\xab\\xc7\\xddD`j\\xc7\\x1d<\\x14\\xdd\\xe8\\x0fBss\\xdc!\\xa2A 0\\xe5\\xc3\\x851_K\\xb9\\x88%\\xb1U\\xd0\\x81ex\\x02\\x9b\\x1ah\\xa1k\\xba%&aB\\xe8\\x97\\xb8\\x15z`JJ\\xf1x\\xee\\x957]\\x1dw\\x92\\x8b\\xa031v\\xc6G1_\\x8bQ\\x9f\\x9d8\\':\\x8c\\xd6j\\xfdb\\xc2\\xee9\\xdd\\x84\\x8e\\x06\\x10\\xb8\\'8P\\xef\\xad\\xda\\x88e\\xb8\\xb0\\xc84\\xdd1V\\x8f\\xbb\\x89Q\\xbc\\xd0Uy\\xde\\xad\\x8d\\x0f\\xf0\\xff\\xd5\\x9bwu<\\xe6\\xaa\\x07\\xaa\\x90\"\\x01\\x06O\\x8cm\\x0b\\xac@\\x85\\xa7\\x8c6J\\x14\\x10\\xb8s[\\xd9\\xba\\t\\xbb\\xe7\\xb8\\x85\\x1e\\xb1<N\\x04D\\xe8xn\\xa8\\xa7\\x8fg\\x84X\\x08\\xf4\\xa1_\\xb9\\xfe{\\xa3\\xe3\\x0b*\\xfe\\xf8U\\xe2\\xea\\x9a\\xa2UY\\xbb\\x9e\\x83\\xd8\\xc4Y\\xf3\\x8cj;\\x15\\x1a=o\\x04>\\xf9\\xfd<\\x12I\\x81\\xc7}\\x81\\x17\\xa1\\x87\\xf9\\x13\\xa8\\xf2\\xbc[\\x03SPd\\x02e\\x92\\x9c\\x8e\\xb9\\xb1dM\\xa1\\xd0QR\\xca\\xeb5`0N\\x9a=_xN\\xec\\xf3\\'\\xb2\\ro\\xbcBG2\\x8fY\\x9aZ\\xa5\\xd0\\xef\\xab\\xd6\\xd8h3%jR\\x83m\\xd2\\xe9s?7\\x8aX\"+1\\xd1E6\\xad\\xbf\\x1f\\xaa\\xeb\\x1c\\xb78Q\\xf1|\\xd6}\\xbf\\xc5\\xf8n7>\\x9f 2\\x1e\\x8f\\xbb\\x89\\xc0x\\xde1PL\\x1c\\xfe\\xe3({\\xb8^k\\xc7c\\xee(\\x97%\\x14e\\xf7\\x81\\xa3=_C\\x95\\xa6\\x9d\\xd9\\xf1\\x13\\xf6\\x19\\x12\\xf8\\xf9\\xd7]\\x869\\x9a\\xc8{\\x8e[\\xe8F\\xcd8\\xb5BG\\xe7\\x99\\xb9\\x8b\\x97\\x0b\\x05\\x8e\\x96\\xcc\\xd6h\\xc7\\xfd\\x07\\x0f\\x1b\\xc9I\\xb2\\x19\\x1e-\\xa9\\xeb\\xb6{\\x89\\xdd\\xfdX}O\\xd7R\\xa8R\\x03aw[X\\x89\\xa8\\x9b\\x9f\\x8a\\x9dr\\xe2\\xf1\\xb8\\x9b\\x08\\x8c\\xe7\\x1d\\xe9\\xa0\\xe6\\xa0\\xc5\\xba\\xbbR\\x93\\x8e\\x8e\\xc7\\x14\\x8e\\xcc$\"\\xa0\"\\xaa\\x97\\xef\\xcf(V\\xddx\\xf3\\x8b\\x06\\x89\\xd3\\xe0\\x8c\\x85\\xa9.t\\xe4\\x12\\xa0\\x02\\x10\\xb5|\\xf8m\\xdf\\x01c\\xf6\\xc63\\x83\\xe5a]\\x0e\\xa1\\x16\\x7f\\xcdV\\xb4\\xaf\\x03)\\xc8\\x9f~\\xb9\\xc2\\xf0\\x87\\xfc\\xb8}\\x87\\x91\\xa0\\xe4\\xa6\\xf6\\x00\\xbe\\x07\\x1dj\\xadV\\x05f\\xf6\\xe3\\xdc\\x16)\\xc6\\x99\\x8a\\xf1\\x1d\\x0f\\x89\\xf5\\xb9\\'\\x8f\\xbb\\t[(\\xac\\x8au:\\x1a+Xs\\xd0;\\xbe\\xe6\\xdc\\xc93\\xb3v\\x0b\\xa1\\xd0\\x9b\\x85\\xfby\\xfa\\xfe\\x01\\xa3\\xa7\\x08\\xcf\\x85\\xad\\xbf;+\\xd0I5\\xf10\\x08BG\\xf4 ^r\\xb1\\xbc\\xc4\\xee\\x8c\\xfcf\\xdfo\\xddF^?\\xfa\\xccY?\\xcboWb\\xa6\\xa7\\xaa\\xd5\\xa2(\\xe6\\x86\\x1f~<\\xf398\\x1bg\\xce[\\x14yV\\xf2\\xda\\xfc\\x85\\xab66\\xac.+0\\x83\\x7f\\xbbaS\\xd4\\xdf\\xb0=\\xea\\xf7\\xd8\\x8e\\x87\\x82\\xf5\\xb9\\'G\\x9c\\x890\\x7f\"U\\xebt\\x98\\xce\\xbf\\xed;\\xdd\\xa3\\x1b\\x01/NE\\x18\\xd1\\xd1D\\x84z\\xed_q\\xfd\\xbdp\\xd8\\x88\\x8aO\"h\\x06\\x1d^\\x92q\\xbf*\\x85\\x8e\\xf5*By\\xbfZ\\xbd\\x81\\xad\\\\\\xf7=\\x1b=\\xfdC\\xa3f~\\xbe\\xa2U]_?f[\\xb4\\xb8\\xe2q4\\xf2,\\xf9\\x17#fp+\\xb0}I\\xbd<E\\xcf\\x04\\xd5xE/#\\xfc\\xbd?\\xf7\\xa2\\xde\\xb3w\\x9faI\\xa0\\x98\\xa7\\x15X\\x9a%\\xaa\\xb8\\xa7\\x1fL\\xc4\\xfa\\xdcD`\\xd6\\xe9H^A\"\\t\\xcc>8Q0\\x10e5\\xca\\xd1\\xef\\\\\\x84\\xea\\xcd_p\\xf5\\x9d\\xf0\\xc8\\xf2m\\x91\\xac\\xc0\\xac\\x80\\x19/\\xd6{B\\xff\\xf5\\xd9\\x0b\\x96\\x1a/\\xae\\xc5\\xdf\\xac2\\xf8\\xd9\\xf2\\x95l\\xde\\x17_\\xb3\\xf9K\\xbe\\x11\\xc6\\x01\\xe0{\\xe1\\xc0\\x02\\xe1A\\x06\\x91\\x93?z\\xda\\x87\\x11\\xceaC\\'\\xbd\\xcffD\\xfe\\r&.\\x0f\\'\\xa1#\\xd9g\\xf2\\xec\\xf96\\x93\\x1b\\xcf\\xfc\\xc3\\xcf\\xbet\\xb5\\xb3p\\xe5\\x03\\x95\\xd9\\x82\\x88\\x89Ma\\xd2\\xac\\xf9\\x84\\x80\\x9f\\x8c\\xdaY9|\\xe4\\x0f\\xd2\\x0f#\\x12:\\x8e\\x15\\x99\\xf0hdi\\x9d\\xcd\\xf1\\xd9\\x81c\\xa7\\x1a\\xd6\\n\\ne\\xf2(\\xf1db\\x8a{\\xfa\\xc1D\\xac\\xcfM`\\x9d\\x1e\\x158\\x83u\\xfa\\xa5\\x05\\xcb(\\x13;\\x04\\xbcd\\xc5j\\xa3#\\xcb\\xc8)\\xb3\\r\\xa7\\x1b\\xf5Ytc\\xa1\\x805~\\xf9\\x86\\x1d\\x1c\\xbf\\xeb\\xf2\"\\x15\\xd9\\x949\\x0b\\xc8s\\x00h}\\\\\\xaa\\xae\\xb3SPF\\x84\\xcbB\\xe4\\xa2\\xfd\\xfed@&\\xf4\\xbc\\xf7Ud\\xfdFN\\x8e\\xba\\x1ety\\xb1z\\xef\\x17G\\x96PN\\xeb\\xe2\\x07k4e\\xbbs\\xba\\xc4Xq\\xe4\\xe8QV\\x91\\xf0\\xaf`=\\x0f\\xe7\\x9c\\x15u\\xdb\\xbe\\xe4Z\\xe8\\x00U\\x0c\\x14\\xb3y\\x9f\\xe1\\x93\\xa2\\xd6\\xe6XN\\xdc\\xf5X}\\xe3\\xf3\\xab\\xb9D)\\xa0^\\xbb\\xd4\\xe9\\\\+X\\x9f\\xbb\\x0e\\x94\\xe1a[\\xa7_t\\xc5\\x8dJo\\x10\\xdeQx^\\xb1>C\\xc2\\x0b\\xf5\\x99\\x06\\x9dz\\x91\\x03\\x02\\xe6\\xec\\xa3\\xf5\\x9d\\xb7\\xe7p<ez\\x9a@\\x13\\xc7<\\tp\\xc0\\xc1j@\\xba\\xed\\x9f\\xa2\\xfd\\xa7\\x04C&t\\xf4o\\xb7\\n\\x14\\xd7\\x04\\xff\\x04\\xea\\xe3[\\xe1\\xd4~\\xaaq\\x97\\xd7\\xc8\\xfb\\xd9\\xf4\\xe36\\xa1E\\xb0l\\xe5\\xba\\xa8\\xcf\\xb6\\xeb5\\xc8\\x93\\xd0o*U\\xd3\\xf6\\xf9[\\xcb\\xd4a\\x1b\\xb7D\\x87O\\xbf<h\\xac\\xf1o\\xa2\\xc4\\xa4d-\\xc5\\x12\\xcdD\\xae\\xcfM\\x84\\xf9\\x13\\x9es\\xe1\\xdf\\x95\\xdf\\xa8\\x13\\xd15\\x85\\x02f\\xa8\\x92uZI\\x8f-P\\xa1>9#\\x99\\x80\\xd3&\\x96\\xe6\\x8c\"\\xc2zh\\xda\\xad/\\xfb\\xe9W{e\\xdbDC$t\\xcc~\\xbcS\\x0c\\xa9\\xc1\\x99\\xb5\\x9b\\xdbZ]\\xcdp\\xa8\\x8b\\'\\xca\\x05\\xc0\\x92D\\xb4O\\xce\\'.\\xbd:\\xf8\\x1d\\xdbg\\xa8\\x0e\\xb3&\\xa8\\x12\\xd8x\\xa6\\xd6\\xfa\\x82\\xa8\\x1cl\\xfa7P\\x95\\x88\\xdan\\xeb \\x988\\x82\\xc6D\\xae\\xcfM\\x04f\\x9b\\xcd\\x0bE\\xd5e~\\xdf\\'\\xcf0\\x83#j\\xad`+\\r\\xf8\\xe1\\xa7_\\x8c\\xa83/\\xd7\\x82\\x19\\x1b/\\x0e\\x94\\xb0B\\x81K\\xd1\\xe7\\x90\\x10\\x83\\xc1\\x89.\\xaf=#\\x03}7Q\\x1f\\x0f\\xe8\\x13\\xb1&\\xf0\\x99n\\x03F\\xb0\\x1eo\\x8e6\\xb6\\x85\\xb0\\xc5\\x07\\xa7\\xd3\\xc0\\xb1\\xd3\\xd8\\x90\\x893=\\xaf\\xd1\\xb1\\xddemP\\x89\\xaa\\xba\\xd8\\x9d@++\\xdec\\rg\\x99\\xe8\\x1e\\xe0\\xcc\\xca^Gw\\xb3}\\xe9\\xad1\\xc2\\xe3FL\\x99\\x15\\xf5\\xd97\\xc7M\\xb3}\\x06\\x15\\x80Q\\n\\x8b\\x02/t,\\xe9\\xf85\\xb89\\x9b\\x83\\x85\\xab62\"\\xf4x\\xe07R=v\\xdd0\\x91\\xebs+l\\t.\\xff\\xcc\\x7f\\xbf\\xf2\\x9b\\x95\\xb1\\xdb\\x80\\x91\\xe4\\x80@\\x81HDkQ\\xc7`\\xef\\x9d*\\xf8h\\x02\\xc1:\\xb1\\xa4\\xa1Z\\xd7\\x9f\\xb0\\x06\\x8a?\\xd9\\xc2\\xf1\\x98\\xdb\\xcb\\xd63^*\\x14\\xe2\\xf1\\xbao\\xd8\\xfc\\xa3\\xed\\xb3\\xc8\\xcd\\xe7\\xa3\\xfeP\\x85\\xe7\\xe6\\x889\\x8cg\\xb5\\x83[?\\xe3\\x85 \\xfa^T\\xda\\xa5\\nx\\xc2\\xb9W\\xe9\\x99N\\xc2\\xe3\\xf0r\\xb2\\x82\\nS\\x96\\t\\xfd\\xd62\\xd1K\\x82\\xc1\\x13\\xde\\x8br(\\xc2*\\xb1\\xfas\\xf0;\"\\xad\\x98\\x07^\\x9c\\xaa\\xc7\\xae\\x1b\\xfe\\xf5\\xe2\\x7f\\xf2\"\\xdf\\x1b\\x8ac}n\\xc2\\x16\\xf7\\xaez\\x9d\\xeeD\\xaa\\xe6:\\x80\\xd9\\x89j\\xb8\\x08\\x07\\xcd\\xea\\x8d\\x9b\\xc9c\\x00\\xac9\\x9f\\xea\\xe0\\xbd52\\xb6\\xa4\\xf8\\xf5*\\xb6\\xeb\\xca>\\xddNz\\x1c\\x06\\xa5\\xa8;l<B\\xa7\\xaa\\xc0\\xb6\\xe8\\xde\\x9f\\xed=\\x10\\xddn\\xbaSN3Fk\\xfbe\\x138\\xaf\\xe8{\\x1fo\\xf1\\x82a\\r\\xf0\\xd8\\xb6\\x83~\\xee&\\xe1X\\xb5\\x02\\xbe\\x01\\xfe32\\xa1[\\x9f\\t\\xfc\\x1e\\x87\\xb9\\xa6\\x9b\\xbc5\\xf1pV\\x1b\\xb2\\x9d\\x17\\xb5d\\x08\\x1a/\\xbe\\x9al\\xd6\\xe0)\\xbe]\\x84,\\xfe\\xc4Aj\\xea@\\x11\\xf1\\xec\\x14N\\xbf\\xd9\\xa3;\\x9d@\\xe4\\xdf\\xae\\xdfD~\\xde\\x04:\\xb6\\xc6r\\x1d\\xf0\\xccS\\x186\\xf9\\x03\\x96\\xefA\\xf1\\xbe\\xb4_B\\xc7\\x9a\\x99\\x0fl\\x81\\xf3\\xed\\xae\\x9c\\x10\\xd3\\xa2\\x98\\xf9\\xf6\\xd9g>\\xd1\\xf7\\x8a,)\\x841\\xf3u\\xf7\\xadD\\xf5\\\\+\\xba\\x133\\xab\\xa8\\xf2.\\x00K\\xc2\\xfc\\x1c__\\x10k\\xf3\\xbb\\xb8\\x90Y\\xf4\\xb7\\xe7\\xfb\\x03\\x008V\\xf5\\xd8u\\xa2\\xc0\\xdb\\x1eN\\x84\\xd0m\\xeb\\xf4\\x90\\xc2l67|c\\xccTr@\\xc0\\xd3ju\\xa4\\xddW\\xad\\x89Q\\x15V\\x06d^\\xc5z\\x1d\\x98-)\\xa0\\xa3\\x8b,\\xb6\\xda/\\xa1#x\\x88\\x07\\xf6\\xe1\\xcd\\x7f\\xcf\\x14T\\xbbEv \\xf5\\xbd\\xd8\\xcf\\xa7\\xe0\\x94\\x1a\\x8c\\xeb\\xb2\\x82\\x8a^<\\xbd%F[]\\xa6\\xd0\\xe1#\\xe0M\\xf27\\xc6N\\xb5\\x9d\\x8b\\x0f\\xd21\\x91\\xa8\\x96Z\\xc9\\xa2\\xc0\\xdb\\x1eS\\xd8\\xab\\x086\\xf3]e\\x1d9\\'\\xf2k>\\x13X{\\xdeX\\xf2t\\x05X8\\xd5\\xa8\\x1en\\xfc\\x00\\x8d\\'\\x8e\\x9d\\xaaE\\x0fL\\xfb\\xf83i\\xc9i\\xbf\\x84nM\\x18\\x02\\x10w\\x0e\\xb3\\xd6\\xfcwt\\x87=H\\x04\\xeeP\\xd9^\\xd8\\x87G\\x8c\\x03\\x85\\xb6\\xaf\\xbe%\\xbcV<_\\xab\\x19\\x8d\\xa5N\\x95f\\x9dm\\x9fs#\\xf4.}\\xa3;\\xdc\\xee\\xd9\\xbb\\xdf\\xd86\\xe4\\xcf\\x85-@\\nh\\xeb\\xa5z\\xec\\xca(\\xf0\\xb6\\xcfH\\x94\\xc8\\x81\\xc0D\\xc9\\xb9\\xe1\\xf0wg\\x91?$*\\xc0fdVg-{\\x0c g*+FD\\xd6\\x8d\\xf1\\xee\\x95/\\xc9^C\\x9e{\\xf6\\x82%\\xec\\x7f\\x92-:?\\x84\\xfe(\\x11&\\x8c8sk\\xd7\\x1b,=\\x0eq\\xeb]\\x80\\xda\\xb7\\xc6\\x8b\\x8b\\xb2\\x8eN\\x9c8i\\x84\\x12\\x8b\\xae\\x15\\xf9\\xeaV\\xe0eC\\xb5\\x9fv\\x12:\\x9c\\x8a\\xdbv\\xec\\x8e\\xfa\\xfb\\xb4\\x8f\\x16\\x92[zm^y\\x93<\\xcf\\x90\\x18k\\x15\\xf8E\\x81\\xd9\\x1e\\xb7\\xb7\\x9d\\x87\\xcd\\xfb\\xfe\\xb7\\x8c\\xdb\\x95\\xdf<E\\x84\\x83R\\xc0\\xde0\\xb6\\xa7\\x90%%\\xc3\\x94\\x0f\\x17\\xc4}\\r\\x98\\xa9~#\\xd6\\xb7\\x00\\xd27e\\xe1\\xa4~\\x08\\x1d\\xdb~V`&m\\xc3U\\xefy$\\xeb92\\xd6\\x9f\\xda\\xb7\\xc6uQ\\x16\\x12\\xbc\\xf0\\xb2\\xd2\\xdc\\x88\\x96\\xb3\\xe2\\x97\\x88X\\xef\\xa9l\\xefm\\x8f\\xa5\\x0e_\\xf6\\xdb\\xc4=U\\x1a\\xb2:m_\\x8a\\xfa\\x1b\\xb6\\x17\\x11!I}\\'\\xd5\\xf2\\x1a\\xc0\\xf6\\xa4\\xea\\xb1+\\xa2\\xc0lO\\x88\\xb7\\x9d\\x87\\xad\\xde\\xfby\\x97\\xe4Q\\xfe\\x00(\\xbe\\xc3\\rb\\x13\\x08\\xe7\\xa4\\n2X\\x07\\x07^\\x12\\xd7%\\xa0\\xc8#\\xb2\\xeeD@,82\\xbc\\x84\\xc7&Y\\xe8\\x98\\x1dy\\'\\x1b\\xc2z\\x8bTk\\xe2\\xea<w\\x10\\xd7\\x0e\\x13\\xd9L<\\xb2\\x02\\xd1i\\xb2\\x00#D\\xa3Y\\x01\\x87\\x1bU\\xf9\\xe5\\xdab\\xd5\\x8d$\\x1b\\xd13\\xf9d\\xf1W\\xb6\\xefEt\\x9c\\x17\\xa1\\x07y\\x8d\\xee\\x87\\xd9n\\x82l\\xc0\\xa8*\\xf6]F$zx\\x05\\x82I\\xba\\xf6\\x1b\\x1e1]\\xa3\\x93en+S\\xd7\\xd8\\x03\\x86\\xc9\\xef\\xe5\\x1a\\xea\\xb5\\x7fY\\xf8]\\xa89\\x7f\\xf7cb\\xc1&[\\xe8\\xc8\\xc9\\xe7\\x01\\xbf\\x01\\x1f\\xd0\\x83m@\\xca\\xfa\\xa1\\xae\\xa1\\x8c\\xa0\\xaa\\xcd\\x17\\x91u;\\xa2\\xffD\\xd7\\x8au\\xb1\\x15\\x88e\\xa0\\x02\\x8b \\xf4l\\x81\\xd01\\x9b\\xf3\\x898p\\xc2\\x89z\\xecu\\xea3\\x94<O\\x90\\x85~\\xee\\xdf/\\xf5\\xc5l7\\xb1\\x85\\xff\\xb2 \\xee\\xa9\\x8b:\\xa9P\\xc0@\\x9e\\xf5\\xe9\\x12\\xa3~\\x19u\\xaewf\\xce5\\x06\\x11\\xc4\\x89\\xa2\\x8b\\xf9\\\\\\x14;\\x00E\\x9e\\x7f\\xe0\\xabU\\xebI\\xf3\\xd4\\x0f\\xa1\\xa3\\x9d4\\xbf\\x96\\xc63\\xa0\\xcc\\\\Q\\x91I*\\xe8H\\x94H\\x84`\\x1c\\xd9\\xb5\\xf2\\x99n\\xaf\\x0bJ}\\xc9\\x84\\x8e\\xe4 +\\xb6\\xfd\\xbaKZr\\xac3\\xe7\\xb43\\x11T\\xa1c\\x89L\\x88|K\\xb2D\\x0e\\xd8\\xcc\\xf7\\x0b.\\xbbF\\xf9\\x83\\x001k@<\\r;\\xf7f\\x9b~\\xa4\\xa3\\xcax`\\xcf\\xb8C\\xef\\xb7\\xa5\\xe9\\xa6k,[?\\xfb\\x0e\\x1e2R-o\\xe7\\xf6\\xe2).\\x158\\xe2\\x008\\x05e\\xe5\\xa7\\x92)t\\xe4\\xf6\\xf3@\\x05\\x1d\\x14v\\xe0\\xcf\\x03\\'\\x1a\\x95\\xa0\\x82@\\x1a\\xfe\\xb3\\x88\\x13\\xa7 \\xdb\\x9b\\x86\\x1f\\x83\\xcf\\\\\\x13E\\xd0!\\xf8\\xe8\\x9b5\\x1b\\xc9\\xef\\xe03\\x001\\x9b\\xcb\\xf2\\xe7SM\\xe8X\"\\x13B\\x0f\\'S\\xe8\\xe4\\x9e\\xba_!\\xb1\\xf8\\xf1\\xe0aE\\x08#r\\x96Q\\x10\\x01\\xeb-\\xec\\xfd.\\x8a\\xbc\\xd5\\x7f\\xd9\\xb9\\xdbU&\\x18\\xd6\\xa7h\\xeb\\x845\\xa9\\xd3\\xf6\\x19\\x9f1\\x85\\xf3#7[\\xb6\\x8eG*\\'\\x15ye\\x02\\x82\\xb3\\x06y\\xf8)\\xf4Y\\x0b\\x96\\xb8\\x1e\\xe0\\xbc\\xa3\\xcc\\x04\\xba\\xc9\\xf2\\x9f\\x15Y0(B!\\xbaN\\xbc0\\xad\\xc03\\x13\\xa5\\xc1\\xe2\\xefT\\x0e9\\x0f\\xfc>\\xa8-\\'{>\\xa9$t,\\x8d\\xcf\\xb9\\xe0bJ\\xe8\\x05\\x92)t\\xc0f\\xbe\\xfb1\\xab\\xe3\\x87\\x1e3\\xfdCc\\x06@\\xbc5b\\xcf\\xbd\\xa6wB\\xe0\\x08Vy$\\xab\\x8da\\xc2\\xba\\xf9^*5r\\xdf\\x81CFf\\x97\\xe8\\x18\\x98\\xbc2 \\xe6\\x9c\\x9a\\x15\\x13%t\\xbc\\x04\\x0f\\x13/\\x1ax\\xc0\\x8fq/\\x80\\xed\\xbb\\xf6\\x18[m\\xd4y\\xa8\\xd9\\x1f(U\\xd7\\x9e\\x018T\\x103PW\\x92\\xe3\\x8d\\xfco+\\xb0\\xa4\\x91\\xfd\\xfen\\x84\\x8ee\\x89\\xd3\\xcb;\\x95\\x84\\x8e\\xa51!\\xf2\\xb8RR\\xdd\"\\x8b\\xf8\\xe2\\xa4\\xcf\\xea\\x98\\xcd\\xb1\\xde\\x8b\\xa7P\\x03\\x06c^\\x97\\x02\\x97\\t\\xfdt^;-\\x0eP\\x14ko\\x02\\xe7\\xa4\\x029L\\xc2\\x01\\x88\\xfcm\\nn\\x84.\\xda\\xff\\xa6\\x80\\xc8?Qw\\xd9\\xc7[t#\\x8f\\xa1\\xee\\xbd\\xff\\xa8w\\xc9\\xcf\\xe2\\x1c\\xa2\\xeb|s\\xdc\\xf4\\xe8k\\x19/\\x8eBD\\x08\\xedW\\\\\\x80\\x0f\\x85^C\\xc6;>\\x1f\\x844S\\x08\\x9a\\xd0%\\xb3y\\xd8\\x0f\\xa1\\x03J\\x9cr\\x88j\\xc3\\x9a\\x0fkk*V\\x19\\x02\\xc46\\x91\\xa8\\x0c\\x93\\x9bA\\xc0\\x93*P\\x00\\x07\\x15fm\\xd11\\x8b-\\xc5,) \\x17Zf^\\xc6[3\\xce\\xad\\xd0a\\x10\\xc9*\\xe5<\\xd12L\\x1eGU\\xe9\\x11\\xc5\\xb9\\xd7\\x88\\x9cCt~\\xf8*\\xac\\xc0N\\x85\\xe8\\xb3\\xb0\\xc0\\xbe\\\\\\xb9\\xd6\\xe1~\\xfet\\x95a\\x88Xz\\nA\\x13\\xba`6O\\xca\\xde\\xb9\\x08Y\\xfc\\x05 \\xd1\\xc5\\x8f\\xad6\\xfc\\xe0X;b\\x06\\x81w\\x1d\\xc1-\\xe3f|l\\xcc\\x0e0\\xc9j\\xb5\\xee.\\x14Z\\x0fIN\\xb4\\x88|\\x1c6 \\x13\\xfa\\x15E*\\x1a\\xa6\\xbd\\x0c\\x08,\\xc9$\\xd6\\xb9~\\x0b\\x1d!\\xa2\\xb2\\xad/>\\x08\\xc5\\x04U\\x12\\n5\\xfd(\\x88\\xca3]\\xfd@\\x15v\\x84\\x0b\\xc6\\x91\\xdd\\x9b\\x1b\\xa1c\\x1f\\xdf\\xcd\\x92,\\x15\\x84\\x1e\\x84\\xd9\\x1c\\xc0\\x1b%\\xb0[mp\\x96Q\\xe8\\xfc\\xba\\xf7\\xc2\\x02^\\x85\\xde\\xa0cO\\xe9`\\x04\\x82\"t8$e\\xe7A\\xc9.\\nX\\xbb\\xf3\\x9fEF\\x18U\\xc7]TG\\x9f_\\x16 \\xff^v-n\\x84>\\xd9a+\\xcfd*\\x08=\\x08\\xb3\\xb9\\x890\\x7f!x\\x03\\x05!\\x80\\x06%\\x80)\\xc8\\x92+D\\xf4\"tT\\xa6\\x15U@\\xb5\\x02\\x0eE\\xca\\xa1\\xe5\\xb7\\xd0\\x1fk,\\x8eA\\x07Q\\x1f\\x8eB\\rb\\xdd\\x8d]\\x04~\\xab\\x0c\\x18,\\xc8\\xfe\\x83c5\\xeas\\x0eq\\xe6p\\xb0!\\x96A\\x86\\xa7#/\\xd9t\\x11:Q\\\\\\xc2\\xf7\\xd9\\xdc\\x84\\xadJl( \\xb3\\xbaH\\xe80/\\xbd\\x9e\\x8b_G\\x02\"\\xa1\\x17\\xa9\\xfe\\x0cYa\\x85\\xc7\\xce\\xc8gdkc?\\x84\\x8e\\xca1N\\xbd\\xce\\x10\\x93@\\xa1f+\\xfb\\xba\\x1b\\x0e\\xbd\\x15\\xc4>\\xf7\\xe7\\xcbW\\xda\\x1c\\xa0(\\t\\xcd\\xa7\\x93:\\xbdt@\\x94\\xc4\\x16\\x01\\xe1\\xcb(W\\x9d\\x0eB\\x17\\x14\\x97P2\\x9b\\x9b\\x08\\xf3\\x17\\x14\\x84Y]$t\\x0c\\\\\\xaf\\xe7\\xa2\\xb6tDBo\\xd1\\x9d.J\\xc9#\\x08BG\\x86\\x9f\\xd3yDB\\x87IO}\\x9e\\xeajc-da\\xb2Q\\xe7\\xe84\\xd1\\xed;\\xf7\\xb8j\\xb0(\\x13\\xfar\\xc9\\xd6\\\\\\xaa\\t]\\x10\\xee\\x1aV\\xa4q\\x03d\\x00\\x8d\\xeaY]$t\\x99W7^\\xa1#>\\x1b\\xcd\\x15\\xac\\x10\\x15\\xb5@\\xb1HY\\xb3\\xc8[\\x1e\\xa9\\xcd\\xd6[\\xda\\x0fY\\x91(\\xa1Wj\"\\xae\\xe1fR\\xe8`\\x13<\\xc7\\xe2O\\xb6\\x8c*2\\t`w\\xa4I\\xd7>Q\\x9f[\\xf6mtyg\\xb7\\x95]d\\xcb\"d%\\xa6\\x83\\xd0\\x05\\xe1\\xae\\x98\\xcd3\\xd4H\\xfc,la\\xb1\\x98\\xd5\\x83(\\xf4\\x9a\\xad\\xe9\\x06~2.#\\x1c@\\x88\\r\\xe7\\xeb\\xbe\\xa1Z\\r\\xbfF\\xed\\xdaw8y\\x1d\\xc8\\x85\\x7fT\\x12\\x8b\\xed\\xb6>Z\\xacB\\xffm\\xaf;\\xef\\xb4H\\xe8\"\\xcb\\x08\\xb32\\x9f\\xfe\\n\\xac\\xfb~\\xeb\\x99\\xd4V\\xc4\\xa0[q\\xf4\\xd812\\xed\\xd5\\xcb\\xef\\nP;\\x01\\xa9(t\\xc1l>J\\x99\\xba- g\\xf5\\x0b/\\xbf>pBw\\xdb\\x8e\\xc9J\\xca\\x01d\\x04\\xccpB}\\x9e\\x8b\\xf5\\xc6^9?\\xa8M8\\t\\x1d\\x85\\x1dDe\\xa7\\x13!\\xf4\\x89\\x1f\\xccsu\\xef-\\x05\\xf5\\xf1eK\\xa0\\x82\\x91\\xeb\\xdbJ\\xd4L\\x87G\\x1c\\xeb\\xf8\\x05_FW\\xdau\\xb3\\x84p\\xfa]\\xf1{\\x88\\xca[\\xa5\\x92\\xd0%\\xb3y\\xd2\\xc3]\\xdd\\x02o\\x1c\\xdbE\\xfe\\xeb\\xb6b\\x81\\x12\\xba\\x97\\xb7\\xbe\\x17\\xa1_S\\xb4\\xaam\\xeb\\x07u\\xc4\\xa9*.\\x80\\x93\\xd0Q\\xaa\\x89\\xef\\xf6i\"\\x11B\\xcfr\\xd9hR\\x94\\xb7\\xed\\xe4\\xd4D\\x0e\\x02o\\xc2\\x03|\\x0e<r\\x13n!r\\xcfE\\x9c\\xb3\\x90\\xde6\\xfd2{\\xad\\xa7\\xdf4\\xa8B\\x17T\\x90IJ\\xcey\\xac g\\xf5\\xf3.\\xc9\\x1b,\\xa17\\xf6.\\xf4E\\\\\\n$p\\x8c\\x0b\\x81E\\xadv\\x98\\xc3&P\\xf2\\x18\\r\\xfb\\xca\\x0bb\\xde\\x9d\\x84\\x8e>sH\\xd7\\xa4\\xf6\\xa5\\xe3\\x15:B\\x88\\xa9\\xc2\\x11^\\x84\\xde\\xfc\\xc5\\xfe\\xd2\\xe3\\x10\\xae\\xda\\xb1\\xcf\\x10#\\x8e^\\x04\\xc4\\x12x-\\xa1=g\\xe1R\\xf2\\\\#\\x1d\\xe2\\x01RA\\xe8\\x02\\x91\\x07j67\\xd1*D\\x88\\xfd\\xef7\\xdc\\x1d\\x08\\xa1\\xbbm\\xb0\\xc8\\x13]Ox@\\x80f\\xc7\\x16\\xec\\xef\\xa2C\\xa7\\x15\\x88\\xc9\\xc6\\xdf+?\\xd3\\x89\\x1cPNB\\x07Q\\x03\\r]c\\xf7q5\\xd7\\xf3;\\xf4\\x03\\x07\\xf1\\xe2\\xd9\\x7f\\xf00\\xf9\\xddh.\\xe8\\xf6\\xde\\xdb\\xf7\\xb6\\x17\\xa8\\x00Z\\xba\\xe8Q\\x96\\xa7p\\x05\\xf6\\xc0\\xe3M\\x8d\\xd0\\xd8\\xe9\\x1f\\x7f\\xc6\\xe6-\\xf9\\xda\\xe8\\x1e\\x8b \\x1dd\\xb4\\xb9ya\\xf1\\xe4\\xcbB\\x9bh\\xda\\xed\\xf5\\x94\\x16\\xba\\xa4\\xbakX\\x8d\\x94\\x9d\\x81\\xac\\x1a\\xe5\\x8e9R\\xe8\\x0e\\xf1\\xe9\"\\xf6#\\x925\\xb0g[>\\xe7\\\\\\x85*7\\xb05\"l\\x16\\xeek\\xfc\\xdb\\x13\\xad\\xe8Xq\\x98\\xb5\\xb2\\xc2\\x08&Q!\\x05N?TW\\x85\\xf7\\x1a\\xcd\\x14\\xf2\\xba\\xd8\\x86\\x12\\x95i\\x06\\xa8\\xf2\\xc7\"\\x8a\\xb2\\xbc0\\xd3\\xab\\x10\\x04\\xc2\\x9d)\\x14\\xaeJw\\xdf\\x111hB\\x178\\xe0\\x10y\\xaal\\xdf\\xdc\\t\\x99!\\xe2\\xcd\\xe4wq\\x8a\\xb9\\\\\\xfd\\xb0\\xd3\\xe2\\x8cM\\xe8\\xa2\\xbddlOa\\xd6\\x82\\x89mM\\x97E#@3\\x1b\\x0c\\xa6)\\x05\\xa7}t\\x9eX\\xb3#\\xea\\xeb\\tI\\x82\\x88\\x95F\\xfd\\xb6\\xbd\\xf6\\xfam@\\xf5\\xe6]]\\x7f\\xafH\\xe8\\xedz\\xda\\xbb\\x9d\\xfaA\\xf4\\xa6\\xe3\\xf3\\x08\\xd0\\x80\\xc2\\xcd\\xcb\\xcf\\xca \\t]\\xe0\\x80\\x03\\x93V&*Q\\x80\\xf3\\xc0v\\xe1~\\xf6k\\x9b\\xcc\\xf5\\x12\\x03 FY\\xd9a\\x11Q\\x1c\\x01%\\x8by\\xd4n\\xd3\\xdd(K\\xbcc\\xf7\\xd9f}\\x87\\x0e\\xffa4\\x070\\x8f\\x15mO\\xa15\\x94\\x9b\\x1el\\xb1\\x12\\xb9\\xdb(r\\xc9\\xaf\\xf1\\xb1-H\\xd5d\\x17\\x115\\xf4(\\x98-\\x9b\\xfc&\\x963xn\\x88\\xcc\\xc3\\x0b\\x18\\xbfA,K\\x80\\xc0\\x08\\xbdP9\\xc3\\x8fE\\xe8%P\\x0e8\\x11\\xc8\\xd0X\\xc4\\xee\\xfa\\xf5\\x00\\x8b\\xd6lF\\x16n\\xa8,i\\xf4\\'\\xe3G\\x9f/\\xb3\\x9d\\x0b39\\x1f\\xc0\\x812S\\xd6\\xd6CpHQ\\xc0\\xac\\xff\\xa0$\\x1f=\\x11\\x84\\xa0\\xd1Kl\\xeb\\xb6\\xb3\\xcb\\x8aU\\x1e\\xd6\\xe72A`\\xa6\\xf7U\\x10\\t&\\xdf\\xe8A\\x95\\xd0\\x05\"\\x0f\\xa4\\x03N\\x84\\xac\\x101\\xab#\\x86\\xd7\\xaf\\x87X\\xa8R\\x036s\\xde\\xe2\\xc8,vzV\\xfb\\xe3\\xd81G\\x07\\x98\\x88H\\xd8\\xf8\\x99\\xeb_~\\xe4ht\\x85\\x1b\\x14.\\xe4g\\x17\\xb4?\\xa6`\\xd4\\x8c\\xab\"\\xae\\x19\\x97(\\xc2\\xa4\\xc55\\xa1\\xaa\\x0e,\\x8f>\\xc3\\xe9\\xc2\\x8b\"\\x8a\\x84\\x0e\\'\\xa1\\x9f\\x82H4\\xe1;\\xa1J}\\xf9)t8\\xa9)\\x8d\\x84\\x02\\xec\\x80\\x13\\x81t\\xcc]zwi\\xdf\\x1e&fW\\x84_~\\xb5z\\x83\\x91\\xbaJ\\x15@tKD\\xbeA0\\x9b\\x7f\\xda\\xceN\\x9d:+p\\x88=;\"\\\\\\x84\\x7f\\xf2\\xc7\\x0c\\x9dL\\x97Wr\\xaa\\xeb\\x9eh\"<\\x17\\x95[eE0)\\x8a\\x84\\x9e*\\xed\\x85EDR\\xcd\\xb3\\xe1~F\\x97W+\\xe0x\\xf5\\xeb\\x1a\\x04\\xdbi\\xd0L`\\x1dp\"d\\x84\\x887\\x16<\\x8c~\\xff\\xb0h\\xbew\\xad\\xa0\\\\\\x92\\x17\\xc2\\xf9vg\\x85\\xa7\\x8c\\xca\\xb1\\x08\\x90\\xd9\\x181\\xc1\\xdfzg\\xbaP\\xb4h\\tDa\\xfa\\xdc\\xcf\\xc8&\\x05Ac\\xba\\n\\xdd$,5\\xfc\\x86&\\xba\\xf8\\xb4$\\x11\\x88\\x1c\\xccT\\xa2\\xd4\\x04\\x80\\x8c\\x98\\x0bJ\\x89\\xe8d\\xf3\\xb3\\xe5+I\\xa18\\xb5M\\x0e\\n\\xa9F\\x0f\\x00\\xa2\\xfeT_[\\xa2\\x88VO\\xa8U\\x87\\xce.\\xa2\\xda\\xfe\\x89\\xa4d\\xcf\\xbc\\x9f\"\\x8d&\\x04d%\\x9a\\x90\\xcf^xUD\\xd5\\x14\\n\\xe17b\\xeb\\xb7\\xee7Q\\xa3\\x8f\\xaa\\xd6\\xd3s\\xc8;\\xca\\xaf-\\x15\\xf9\\xaf\\xdb3E\\xe5\\xa1\\x02\\xbdg\\xee\\x16\\xb6VN!3\\x90\\xa6P9\\xe5\\x0f?YDv\\x98\\xa8\\x99\\xa3\\xdbX\\xf3 \\x10[u\\xad_~\\x83\\xed\\xd8}63\\xef9\\xae\\x19\\xa3\\xa6;J\\xc2\\\\\\x03\\xbfg\\xee\\x16Y\\xa1\\x00\\xc5\\xc2\\xfbA8\\xbfD\\x90\\xd5t\\x0f*Q\\xbde\\xf0\\x84\\x99F\\xb2\\x8d\\x9f\\x8e\\xc4t\\xa1d]\\x1eV\\xa2\\xc8$\\x82\\x0c\\xa4Q\\x99\\xce\\x9aL6\\xe8\\xd8\\x8b\\x149\\xb6\\xe5\\xdc6\\x8f\\xd0L\\x0fJ\\xd6\\xe5\\xd0D\\xca\\x9b\\xec<\\x84\\xebuU\\xe9\\xac^\\x08\\x8f,:\\xa8\\xb8\\xfd<\\x1a#P@O6\\xd5\\xf7\\xa2\\xe9\\x1f\\xd3}].Bf(E\\xd7\\xeb\\xc8\\xbarj\\xdeg\\xe5\\x1a\\xa2z,\\xe0\\xb6l\\x92fzPb\\xb2\\xa7\\xcd\\xba\\\\\\x042\\x9d\\xd5X\\xaf\\x07X\\xech\\xe7t\\xe0\\xd0aV\\xcbE9*d\\xb4\\x89 \\xab\\x15\\xa7\\x99^\\xc4625\\xd6C)\\xbe\\x95\\xe6\\x05\\xe4z=\\xc8\\xce\\xb9\\x97\\xde\\x1ac\\x08u\\xc1\\xb2l\\xc7Y\\xbd\\x87 \\xd0\\x04a\\xa8N\\r\\x005\\xd3\\x83\\x12\\x91/\\x08\\xa5\\xb1\\xc9\\xceC\\xb8^\\x0f\\xaas\\xee\\xc9\\xe7z\\x18bE\\x19)\\xf4\\x02GX)\\xf59\\xd4{\\x13\\xed\\x9f#\\x8aN\\xf5}h&\\x9f\\x88\\x11\\xa1\\xc6vHqmvU\\xc8\\x0c\\xd1\\x0f#\\x90\\xce9l/!\\r\\x15\\xd8w\\xf0\\x90\\x91\\xaa\\xc9\\xc7\\x8e\\xdfV\\xb6\\xae\\xb0\\x1d\\xd4\\xc1\\xc3Gl\\xf5\\xcd5\\xd3\\x8f\\x97\\xdcZ\\x94\\xfd\\xdf\\xb9\\xe7\\xa7\\xfd~\\xb9Wd\\x86\\x08\\xa1\\xe3A\\xe1\\x81\\xa9\\xfe\\xd1x\\xa2\\x8d\\x90\\x19\\x04s\\xec\\xf8\\t\\xa3pd\\x97~\\xc3\\x8cu;\\xea\\xa8\\xa1^\\xf9)A\\xcfv\\x1dM\\x96\\xfe\\x94x\\xd8\\xc1,%\\n\\x0b\\x10H\\xe7\\\\\\x10\\xc5\\x8e@\\x11\\xbeI\\x83\\x1b\\xa0\\xc4\\xf15.\\xbd\\xf5\\x9a\\xa9I\\x07\\x91\\x87\\xd5H+x\\xb05\\x81\\x08\\xe5\\x88\\x1d\\x0fP\\xf5\\x8fh%\\xea\\x93!s\\xedO\\xc1\\xccM\\x89\\xdcm\\x83\\x02\\xcd\\xd4\\xa4\\x83\\xc8s\\x8d\\x87\\xdd-F\\x85\\x04{\\xecA\\x13;\\x02g\\xd0\\xfd\\x13=\\xc3(\\xc1\\xe3ohb\\x80\\xc2\\x137\\x94\\xa8\\xa1\\xfcz5\\x93\\xc7\\x7f\\xdfYJ\\xd4\\xf9T\\x8b\\\\\\x02r\\xdb\\rb\\xc7\\x03U\\xfd\\xa3Z\\x89\\xea-\\xa8\\x12\\x83\\xdae}GNf\\xa3\\xa6\\xcef#\\xa6\\xccb\\xbd\\x86\\x8e7\\x92V\\nTxJ\\xf95j&\\x97(\\xa2\"\\xa8\\xe0\\nb\\xe2\\xcau\\x1ev/\\xc0>\\xa3\\xed\\xc1\\xe1\\xad\\x19\\xb4\\x99]3\\xf7\\xd2a&O\\xc9J1~\\x03\\x0f\\xc8V\\x86*\\x14P3^3\\xf7\\xd1aM\\xaeE\\xee\\x01R\\xb1\\x07\\xcd\\x1b\\xaf\\x99{\\xe8 r\\x04\\x81e\\xa8\\x10L*##$\\x88\\x9e\\x0b\\xe2\\xd6\\x9bf\\xfa\\xd3\\x85\\xc8S\\xa6Ls\\xd0 \\x9c\\xd9\\xb5\\xd85\\xfd\\xa4$\\xe2\\xcd4\\xd73T\\x08$\\x9d\\x00\\xb1\\x93\\x0e:<x\\x15M\\x1c5s\\x17\\x11\\xbb\\xee r\\xbd&O \\xc8\\xad70\\xe8)\\xae\\x9a\\xa9KI\\x16\\x1a\\x88\\tH\\x8b<\\t \\x83jB9b\\xf7\\xb39\\x84f\\xfaSR4\\xc2\\x0c\\x86\\xd1\"O\"\\xc8pY\\x10\\xc1\\x0bz\\xfbM3^\"{R\\xb2G\\xae#\\xde|D8$\\xf8\\x11\\xe0\\x15E+Z\\xd5\\x83E35\\x89z\\x08\\xa2\\xb1\\x95\\xc3\\xb0\\xff\\xc3=w#3$\\xf9A0\\xbbkS^\\xd3\\x0b\\x1dLu\\xe4\\x93g\\xf9>\\xca5\\x0c`\\xdf\\x92\\xdck\\x0f\\x99\\xa6|\\x00\\x8bXh\\x06\\x8b.L\\xf5\\\\]4\"(\\x80CD\\xe8\\x91\\x07\\x83Z\\x9eJS=]\\x98\\xea\\xf0\\xacg\\xf8=\\xa85\\xc4\\x08\\x87\\x1c\\xc4\\xaeMyM+]\\x98\\xea(\\x8a\\xa2=\\xeb\\x01\\x84\\xa3)\\xaf\\x1du\\x9a\\x08\\xb2\\x92\\x84\\xb2jS=E\\xe0h\\xca\\xeb\\xb5{\\xee$~s\\xc4[\\xc8\\xc6FH\\x9b\\xea)\\x07\\xb2\\x16\\x9d\\x95z\\xed\\x9e{\\xe8b-\\xaeM\\xf5\\x14\\x86\\xd4\\x94\\x0f\\xe5\\x88]\\x9b\\xf3\\xe9K48t\\xf0\\xa8kS=\\x8d0*\\xe40\\xbbks>\\xbd\\x88\\xdf\\xd2\\xc1\\xd9f\\x12cC\\xcf\\xe2i\\x04\\xcc\\xeed\\xcak\\x88\\x9b\\xe1U\\x0fR\\xcd\\xf8\\xe8\\xc2Lg9c!\\xd3\\xdf!\\xa8\\xe1\\'\\\\\\xad\\xdd/\\xbe:\\xbf\\xf2\\x01\\xab\\xe9\\x8dX\\x82I\\x8a5\\xea\\xb5x.\\x04~dGs\\x1ek\\xbb\\x8b\\xf3\\xe5\\xd7&}\\xc0\\x89\\x97\\xb2\\x0b\\x81k\\x8fz.\\x86\\xa3\\xb3.d\\x99\\xe5\\xb5\\xe0\\x83\\xc3K\\x0b\\x96a\\x17]q\\xa3\\x1bG\\x9bi\\xa6kg\\x9b\\x86\\xb39\\x1f\\xd2\\x82\\x0f\\x04\\xf1\\xecae]\\x98\\xf7:7\\xbf\\x976\\xd35l\\xc8\\x08\\xb90\\xe7CZ\\xf0\\xca\\x04\\xee\\xd2\\xc9f\\n\\x1cf\\xba.\\xd6\\xa8!DF\\xc8\\xa3\\xe0\\xf5>|\\xf2\\x88g\\xebQ\\xe0(\\n\\xa1\\x05\\xae\\xe1\\t\\xaeMz8\\x83.\\xc8\\x93a\\x04h\\xa8\\x16G\\xaa\\x13\\xe2>\\xef\\x92<\\xec\\xaf\\x17\\xfd\\xc3\\x8b\\xc0\\xc3!\\xedh\\xd3\\x88\\x13\\xae\\x05\\x0f\"PC\\x8b\\xde\\x1b=\\xae\\xbdy\\x81\\xeb5\\xb8FB\\x01\\xc1\\xbb\\xf2\\xd2\\x87,\\xa2\\xd7[tbz4\\xcd\\xb5\\x93M\\xc3W`\\x909F\\xd9\\xf1\\xc4\\x80\\xce\\xed3\\xbd\\xd5,\\xff\\xcb9\\xe7z\\x15\\xf8\\x82\\x90\\x16\\xb8\\x86\\x02\\xc0\\xe9\\x13\\x0ey\\x9c\\xe5C93\\xfdy\\xff\\xba<\\xed\\x85\\x8f\\xdc\\xef\\xf3/\\xbd\\xca\\xf0a\\xc4 l\\xaby\\xae\\x1dl\\x1a\\x81\\x00\\x022F\\x85\\xbc\\x0f\\xe4\\xb4\\x12~\\x02\\x84m\\x8a\\x1b5\\x05 n={k\\x04\\x16\\x10=\\xcc\\xccX\\x07\\xfa\\x99\\xcc\\xabs\\xce\\xbf(\\x90/\\x00\\xab\\xa0c4\\xc3)qk\\xd3\\\\#%\\x81\\x01\\x8b\\x81\\x1b\\x97\\xe8\\xad4_\\x00\\x10\\x96\\xf1\\x02\\xf8O>\\xc3S\\x9dh\\x87\\x9f\\xd5\\x0b\\x0eB\\xd0x\\xe9$\\xea>B\\xd1\\xe2\\x0e\\x87\\xb4i\\xae\\x91F\\xc0L\\x1f\\x0e%P\\xf8<c\\xf0`\\xfbI^\\xd8z\\xe6\\xd6\\xc8\\x15H\\xba\\xf0\\x15\\x13\\xc2\\xc6\\xee\\x04\\xa2\\xd52CZ\\xd8\\x1a\\x1a\\x06\\xac\\xc2\\xdf\\x12R/T\\xaf\\xa2\\xc65\\xc3\\x89\\xa6\\x85\\xad\\xa1\\xe1\\x11\\x19\\xa1\\xb3/\\x80Q!\\xf5\\xb3\\xbf9K\\xcf\\xc8\\xb9\\xa6\\xcc\\x906\\xc354\\x92\\x06\\x08\\x0b/\\x80\\xac\\xd0i\\x87_8t\\xf6e`\\xbe\\x10@\\x88rK\\xc8n!\\xec\\r\\x9d\\x9d\\x85\\xb3s>;#\\x878\\xbe_\\xce\\xf9Z\\xe503\\xa4c\\xc9544444444444\\x92\\x89\\xff\\x07\\nLM\\x18p\\x13\\x90\\xf0\\x00\\x00\\x00\\x00IEND\\xaeB`\\x82'"
      ]
     },
     "execution_count": 96,
     "metadata": {},
     "output_type": "execute_result"
    }
   ],
   "source": [
    "f.read()# binary code"
   ]
  },
  {
   "cell_type": "code",
   "execution_count": 97,
   "metadata": {},
   "outputs": [],
   "source": [
    "f.close()"
   ]
  },
  {
   "cell_type": "code",
   "execution_count": 98,
   "metadata": {},
   "outputs": [
    {
     "data": {
      "text/html": [
       "<img src=\"https://i.postimg.cc/15LcjfNW/image.png\" width=\"589\" height=\"800\"/>"
      ],
      "text/plain": [
       "<IPython.core.display.Image object>"
      ]
     },
     "execution_count": 98,
     "metadata": {},
     "output_type": "execute_result"
    }
   ],
   "source": [
    "from IPython.display import Image\n",
    "Image(url= \"https://i.postimg.cc/15LcjfNW/image.png\", width=589, height=800)"
   ]
  },
  {
   "cell_type": "code",
   "execution_count": 99,
   "metadata": {},
   "outputs": [],
   "source": [
    "# read(n) function\n",
    "#Reads at most n characters from the file. Reads till end of file if it is negative or None.\n"
   ]
  },
  {
   "cell_type": "code",
   "execution_count": 100,
   "metadata": {},
   "outputs": [],
   "source": [
    "f = open(\"new1.txt\",'r')"
   ]
  },
  {
   "cell_type": "code",
   "execution_count": 101,
   "metadata": {},
   "outputs": [
    {
     "data": {
      "text/plain": [
       "'jndsfnslaffsw\\ndf\\nsf\\naf\\nwqf\\nwqfwq\\nfw\\nfwewf\\nwef\\nw\\n'"
      ]
     },
     "execution_count": 101,
     "metadata": {},
     "output_type": "execute_result"
    }
   ],
   "source": [
    "f.read()"
   ]
  },
  {
   "cell_type": "code",
   "execution_count": 102,
   "metadata": {},
   "outputs": [
    {
     "data": {
      "text/plain": [
       "0"
      ]
     },
     "execution_count": 102,
     "metadata": {},
     "output_type": "execute_result"
    }
   ],
   "source": [
    "f.seek(0)"
   ]
  },
  {
   "cell_type": "code",
   "execution_count": 103,
   "metadata": {},
   "outputs": [
    {
     "data": {
      "text/plain": [
       "'jndsf'"
      ]
     },
     "execution_count": 103,
     "metadata": {},
     "output_type": "execute_result"
    }
   ],
   "source": [
    "f.read(5)# it will read only partcilure of 5 length"
   ]
  },
  {
   "cell_type": "code",
   "execution_count": 105,
   "metadata": {},
   "outputs": [
    {
     "data": {
      "text/plain": [
       "0"
      ]
     },
     "execution_count": 105,
     "metadata": {},
     "output_type": "execute_result"
    }
   ],
   "source": [
    "f.seek(0)"
   ]
  },
  {
   "cell_type": "code",
   "execution_count": 106,
   "metadata": {},
   "outputs": [
    {
     "data": {
      "text/plain": [
       "'jndsfnslaffsw\\ndf\\nsf\\naf\\nwqf\\nwqfwq\\nfw\\nfwewf\\nwef\\nw\\n'"
      ]
     },
     "execution_count": 106,
     "metadata": {},
     "output_type": "execute_result"
    }
   ],
   "source": [
    "f.read(-1)"
   ]
  },
  {
   "cell_type": "code",
   "execution_count": 107,
   "metadata": {},
   "outputs": [
    {
     "data": {
      "text/plain": [
       "''"
      ]
     },
     "execution_count": 107,
     "metadata": {},
     "output_type": "execute_result"
    }
   ],
   "source": [
    "f.read(0)"
   ]
  },
  {
   "cell_type": "code",
   "execution_count": 108,
   "metadata": {},
   "outputs": [],
   "source": [
    "# readable() function\n",
    "# Returns True if the file stream can be read from.\n",
    "# false for non-readable\n",
    "# it depend on mode of open or data in it"
   ]
  },
  {
   "cell_type": "code",
   "execution_count": 109,
   "metadata": {},
   "outputs": [],
   "source": [
    "f = open('new1.txt','r')"
   ]
  },
  {
   "cell_type": "code",
   "execution_count": 111,
   "metadata": {},
   "outputs": [
    {
     "data": {
      "text/plain": [
       "0"
      ]
     },
     "execution_count": 111,
     "metadata": {},
     "output_type": "execute_result"
    }
   ],
   "source": [
    "f.tell()"
   ]
  },
  {
   "cell_type": "code",
   "execution_count": 112,
   "metadata": {},
   "outputs": [
    {
     "data": {
      "text/plain": [
       "True"
      ]
     },
     "execution_count": 112,
     "metadata": {},
     "output_type": "execute_result"
    }
   ],
   "source": [
    "f.readable()"
   ]
  },
  {
   "cell_type": "code",
   "execution_count": 113,
   "metadata": {},
   "outputs": [
    {
     "data": {
      "text/plain": [
       "'jndsfnslaffsw\\ndf\\nsf\\naf\\nwqf\\nwqfwq\\nfw\\nfwewf\\nwef\\nw\\n'"
      ]
     },
     "execution_count": 113,
     "metadata": {},
     "output_type": "execute_result"
    }
   ],
   "source": [
    "f.read()"
   ]
  },
  {
   "cell_type": "code",
   "execution_count": 114,
   "metadata": {},
   "outputs": [],
   "source": [
    "f.close()"
   ]
  },
  {
   "cell_type": "code",
   "execution_count": 117,
   "metadata": {},
   "outputs": [],
   "source": [
    "f  = open('new2.txt','a')"
   ]
  },
  {
   "cell_type": "code",
   "execution_count": 118,
   "metadata": {},
   "outputs": [
    {
     "data": {
      "text/plain": [
       "False"
      ]
     },
     "execution_count": 118,
     "metadata": {},
     "output_type": "execute_result"
    }
   ],
   "source": [
    "f.readable()# due to append mode"
   ]
  },
  {
   "cell_type": "code",
   "execution_count": 119,
   "metadata": {},
   "outputs": [],
   "source": [
    "f.close()"
   ]
  },
  {
   "cell_type": "code",
   "execution_count": 120,
   "metadata": {},
   "outputs": [],
   "source": [
    "# readline() function\n",
    "#Reads and returns one line from the file. Reads in at most n bytes if specified.\n",
    "# syntax = readline(n)\n"
   ]
  },
  {
   "cell_type": "code",
   "execution_count": 130,
   "metadata": {},
   "outputs": [],
   "source": [
    "f = open('new1.txt','r')"
   ]
  },
  {
   "cell_type": "code",
   "execution_count": 126,
   "metadata": {},
   "outputs": [
    {
     "data": {
      "text/plain": [
       "'jndsfnslaffsw\\n'"
      ]
     },
     "execution_count": 126,
     "metadata": {},
     "output_type": "execute_result"
    }
   ],
   "source": [
    "f.readline()# by degfault it will read only one line\n"
   ]
  },
  {
   "cell_type": "code",
   "execution_count": 127,
   "metadata": {},
   "outputs": [
    {
     "data": {
      "text/plain": [
       "'df\\n'"
      ]
     },
     "execution_count": 127,
     "metadata": {},
     "output_type": "execute_result"
    }
   ],
   "source": [
    "f.readline()# for next line\n"
   ]
  },
  {
   "cell_type": "code",
   "execution_count": 131,
   "metadata": {},
   "outputs": [
    {
     "data": {
      "text/plain": [
       "0"
      ]
     },
     "execution_count": 131,
     "metadata": {},
     "output_type": "execute_result"
    }
   ],
   "source": [
    "f.tell()"
   ]
  },
  {
   "cell_type": "code",
   "execution_count": 134,
   "metadata": {},
   "outputs": [
    {
     "data": {
      "text/plain": [
       "0"
      ]
     },
     "execution_count": 134,
     "metadata": {},
     "output_type": "execute_result"
    }
   ],
   "source": [
    "f.seek(0)"
   ]
  },
  {
   "cell_type": "code",
   "execution_count": 135,
   "metadata": {},
   "outputs": [
    {
     "data": {
      "text/plain": [
       "'jndsfnslaffsw\\n'"
      ]
     },
     "execution_count": 135,
     "metadata": {},
     "output_type": "execute_result"
    }
   ],
   "source": [
    "f.readline(500)# you do not need to use seek the pointer at zero"
   ]
  },
  {
   "cell_type": "code",
   "execution_count": 137,
   "metadata": {},
   "outputs": [
    {
     "data": {
      "text/plain": [
       "'jndsfnslaffsw\\n'"
      ]
     },
     "execution_count": 137,
     "metadata": {},
     "output_type": "execute_result"
    }
   ],
   "source": [
    "f.readline(-1)"
   ]
  },
  {
   "cell_type": "code",
   "execution_count": 138,
   "metadata": {},
   "outputs": [],
   "source": [
    "f.close()"
   ]
  },
  {
   "cell_type": "code",
   "execution_count": 139,
   "metadata": {},
   "outputs": [],
   "source": [
    "# readlines function\n",
    "#Reads and returns a list of lines from the file. Reads in at most n bytes/characters if specified."
   ]
  },
  {
   "cell_type": "code",
   "execution_count": 140,
   "metadata": {},
   "outputs": [],
   "source": [
    "f =open(\"new1.txt\",'r')"
   ]
  },
  {
   "cell_type": "code",
   "execution_count": 141,
   "metadata": {},
   "outputs": [
    {
     "data": {
      "text/plain": [
       "['jndsfnslaffsw\\n',\n",
       " 'df\\n',\n",
       " 'sf\\n',\n",
       " 'af\\n',\n",
       " 'wqf\\n',\n",
       " 'wqfwq\\n',\n",
       " 'fw\\n',\n",
       " 'fwewf\\n',\n",
       " 'wef\\n',\n",
       " 'w\\n']"
      ]
     },
     "execution_count": 141,
     "metadata": {},
     "output_type": "execute_result"
    }
   ],
   "source": [
    "f.readlines()"
   ]
  },
  {
   "cell_type": "code",
   "execution_count": 143,
   "metadata": {},
   "outputs": [
    {
     "data": {
      "text/plain": [
       "[]"
      ]
     },
     "execution_count": 143,
     "metadata": {},
     "output_type": "execute_result"
    }
   ],
   "source": [
    "f.readlines()# it will return a empty list"
   ]
  },
  {
   "cell_type": "code",
   "execution_count": 149,
   "metadata": {},
   "outputs": [
    {
     "data": {
      "text/plain": [
       "0"
      ]
     },
     "execution_count": 149,
     "metadata": {},
     "output_type": "execute_result"
    }
   ],
   "source": [
    "f.seek(0)"
   ]
  },
  {
   "cell_type": "code",
   "execution_count": 150,
   "metadata": {},
   "outputs": [
    {
     "data": {
      "text/plain": [
       "['jndsfnslaffsw\\n', 'df\\n']"
      ]
     },
     "execution_count": 150,
     "metadata": {},
     "output_type": "execute_result"
    }
   ],
   "source": [
    "f.readlines(15) # n = len of text"
   ]
  },
  {
   "cell_type": "code",
   "execution_count": 151,
   "metadata": {},
   "outputs": [],
   "source": [
    "f.close()"
   ]
  },
  {
   "cell_type": "code",
   "execution_count": 159,
   "metadata": {},
   "outputs": [],
   "source": [
    "# seek()\n",
    "#seek() function is used to change the position of the File Handle to a given specific position. File handle is like a cursor, \n",
    "# which defines from where the data has to be read or written in the file.\n",
    "#syntax : seek(offset,from=SEEK_SET)\n",
    "#Changes the file position to offset bytes, in reference to from (start, current, end).\n",
    "# or \n",
    "\n",
    "# Syntax: f.seek(offset, from_what), \n",
    "# where f is file pointer\n",
    "# Parameters: \n",
    "# Offset: Number of positions to move forward \n",
    "# from_what: It defines point of reference.\n",
    "# Returns: Return the new absolute position. "
   ]
  },
  {
   "cell_type": "code",
   "execution_count": 160,
   "metadata": {},
   "outputs": [],
   "source": [
    "f = open('new1.txt','r')"
   ]
  },
  {
   "cell_type": "code",
   "execution_count": 161,
   "metadata": {},
   "outputs": [
    {
     "data": {
      "text/plain": [
       "'jndsfnslaffsw\\ndf\\nsf\\naf\\nwqf\\nwqfwq\\nfw\\nfwewf\\nwef\\nw\\n'"
      ]
     },
     "execution_count": 161,
     "metadata": {},
     "output_type": "execute_result"
    }
   ],
   "source": [
    "f.read()"
   ]
  },
  {
   "cell_type": "code",
   "execution_count": 162,
   "metadata": {},
   "outputs": [
    {
     "data": {
      "text/plain": [
       "58"
      ]
     },
     "execution_count": 162,
     "metadata": {},
     "output_type": "execute_result"
    }
   ],
   "source": [
    "f.tell()"
   ]
  },
  {
   "cell_type": "code",
   "execution_count": 163,
   "metadata": {},
   "outputs": [
    {
     "data": {
      "text/plain": [
       "0"
      ]
     },
     "execution_count": 163,
     "metadata": {},
     "output_type": "execute_result"
    }
   ],
   "source": [
    "f.seek(0)"
   ]
  },
  {
   "cell_type": "code",
   "execution_count": 166,
   "metadata": {},
   "outputs": [],
   "source": [
    "# seekable() function\n",
    "# syntax : seekable()\n",
    "# Returns True if the file stream supports random access."
   ]
  },
  {
   "cell_type": "code",
   "execution_count": 167,
   "metadata": {},
   "outputs": [],
   "source": [
    "f = open(\"new1.txt\",'r')"
   ]
  },
  {
   "cell_type": "code",
   "execution_count": 169,
   "metadata": {},
   "outputs": [
    {
     "data": {
      "text/plain": [
       "True"
      ]
     },
     "execution_count": 169,
     "metadata": {},
     "output_type": "execute_result"
    }
   ],
   "source": [
    "f.seekable()"
   ]
  },
  {
   "cell_type": "code",
   "execution_count": 170,
   "metadata": {},
   "outputs": [],
   "source": [
    "f.close()"
   ]
  },
  {
   "cell_type": "code",
   "execution_count": 171,
   "metadata": {},
   "outputs": [],
   "source": [
    "f =open(\"real-python-logo-square.png\",'rb')"
   ]
  },
  {
   "cell_type": "code",
   "execution_count": 172,
   "metadata": {},
   "outputs": [
    {
     "data": {
      "text/plain": [
       "True"
      ]
     },
     "execution_count": 172,
     "metadata": {},
     "output_type": "execute_result"
    }
   ],
   "source": [
    "f.seekable()"
   ]
  },
  {
   "cell_type": "code",
   "execution_count": 173,
   "metadata": {},
   "outputs": [],
   "source": [
    "f.close()"
   ]
  },
  {
   "cell_type": "code",
   "execution_count": 178,
   "metadata": {},
   "outputs": [],
   "source": [
    "f = open('new2.txt','r')"
   ]
  },
  {
   "cell_type": "code",
   "execution_count": 183,
   "metadata": {},
   "outputs": [
    {
     "data": {
      "text/plain": [
       "True"
      ]
     },
     "execution_count": 183,
     "metadata": {},
     "output_type": "execute_result"
    }
   ],
   "source": [
    "f.seekable()"
   ]
  },
  {
   "cell_type": "code",
   "execution_count": 184,
   "metadata": {},
   "outputs": [],
   "source": [
    "f.close()"
   ]
  },
  {
   "cell_type": "code",
   "execution_count": 185,
   "metadata": {},
   "outputs": [],
   "source": [
    "# truncate() function\n",
    "# syntax : truncate(size=None)\n",
    "# Resizes the file stream to size bytes. If size is not specified, resizes to current location.\n",
    "f = open(\"new1.txt\",'r')\n",
    "#Note − This method would not work in case file is opened in read-only mode."
   ]
  },
  {
   "cell_type": "code",
   "execution_count": 190,
   "metadata": {},
   "outputs": [
    {
     "ename": "UnsupportedOperation",
     "evalue": "truncate",
     "output_type": "error",
     "traceback": [
      "\u001b[1;31m---------------------------------------------------------------------------\u001b[0m",
      "\u001b[1;31mUnsupportedOperation\u001b[0m                      Traceback (most recent call last)",
      "\u001b[1;32me:\\PROGAMMING\\100 DAYS OF CODE CHALLENGE\\DAY-019.ipynb Cell 121\u001b[0m in \u001b[0;36m<cell line: 1>\u001b[1;34m()\u001b[0m\n\u001b[1;32m----> <a href='vscode-notebook-cell:/e%3A/PROGAMMING/100%20DAYS%20OF%20CODE%20CHALLENGE/DAY-019.ipynb#ch0000127?line=0'>1</a>\u001b[0m f\u001b[39m.\u001b[39;49mtruncate()\n",
      "\u001b[1;31mUnsupportedOperation\u001b[0m: truncate"
     ]
    }
   ],
   "source": [
    "f.truncate()"
   ]
  },
  {
   "cell_type": "code",
   "execution_count": 207,
   "metadata": {},
   "outputs": [],
   "source": [
    "f.close()"
   ]
  },
  {
   "cell_type": "code",
   "execution_count": 208,
   "metadata": {},
   "outputs": [],
   "source": [
    "f = open(\"new1.txt\",'a+')"
   ]
  },
  {
   "cell_type": "code",
   "execution_count": 213,
   "metadata": {},
   "outputs": [
    {
     "data": {
      "text/html": [
       "<img src=\"https://i.postimg.cc/nrnwMTJw/Capture.png\" width=\"400\" height=\"500\"/>"
      ],
      "text/plain": [
       "<IPython.core.display.Image object>"
      ]
     },
     "execution_count": 213,
     "metadata": {},
     "output_type": "execute_result"
    }
   ],
   "source": [
    "# before truncate the file size\n",
    "from IPython.display import Image\n",
    "Image(url= \"https://i.postimg.cc/nrnwMTJw/Capture.png\", width=400, height=500)"
   ]
  },
  {
   "cell_type": "code",
   "execution_count": 214,
   "metadata": {},
   "outputs": [
    {
     "data": {
      "text/plain": [
       "71"
      ]
     },
     "execution_count": 214,
     "metadata": {},
     "output_type": "execute_result"
    }
   ],
   "source": [
    "f.truncate(71)"
   ]
  },
  {
   "cell_type": "code",
   "execution_count": 215,
   "metadata": {},
   "outputs": [
    {
     "data": {
      "text/html": [
       "<img src=\"https://i.postimg.cc/sx1HpxMp/Capture.png\" width=\"400\" height=\"500\"/>"
      ],
      "text/plain": [
       "<IPython.core.display.Image object>"
      ]
     },
     "execution_count": 215,
     "metadata": {},
     "output_type": "execute_result"
    }
   ],
   "source": [
    "# after truncate the file size\n",
    "from IPython.display import Image\n",
    "Image(url= \"https://i.postimg.cc/sx1HpxMp/Capture.png\", width=400, height=500)"
   ]
  },
  {
   "cell_type": "code",
   "execution_count": null,
   "metadata": {},
   "outputs": [],
   "source": [
    "#writable() function\n",
    "# Returns True if the file stream can be written to.\n"
   ]
  },
  {
   "cell_type": "code",
   "execution_count": 216,
   "metadata": {},
   "outputs": [],
   "source": [
    "f  = open(\"new1.txt\",'r')"
   ]
  },
  {
   "cell_type": "code",
   "execution_count": 217,
   "metadata": {},
   "outputs": [
    {
     "data": {
      "text/plain": [
       "False"
      ]
     },
     "execution_count": 217,
     "metadata": {},
     "output_type": "execute_result"
    }
   ],
   "source": [
    "f.writable()# because it open in r mode"
   ]
  },
  {
   "cell_type": "code",
   "execution_count": 218,
   "metadata": {},
   "outputs": [],
   "source": [
    "f.close()"
   ]
  },
  {
   "cell_type": "code",
   "execution_count": 219,
   "metadata": {},
   "outputs": [],
   "source": [
    "f = open(\"new1.txt\",'a+')"
   ]
  },
  {
   "cell_type": "code",
   "execution_count": 220,
   "metadata": {},
   "outputs": [
    {
     "data": {
      "text/plain": [
       "True"
      ]
     },
     "execution_count": 220,
     "metadata": {},
     "output_type": "execute_result"
    }
   ],
   "source": [
    "f.writable()"
   ]
  },
  {
   "cell_type": "code",
   "execution_count": 221,
   "metadata": {},
   "outputs": [],
   "source": [
    "f.close()"
   ]
  },
  {
   "cell_type": "code",
   "execution_count": 222,
   "metadata": {},
   "outputs": [],
   "source": [
    "# write()\n",
    "# syntax :write(s)\n",
    "#Writes the string s to the file and returns the number of characters written.\n",
    "# file should be open in write or append or + mode"
   ]
  },
  {
   "cell_type": "code",
   "execution_count": 227,
   "metadata": {},
   "outputs": [],
   "source": [
    "f  = open(\"new1.txt\",'a+')"
   ]
  },
  {
   "cell_type": "code",
   "execution_count": 229,
   "metadata": {},
   "outputs": [
    {
     "data": {
      "text/plain": [
       "0"
      ]
     },
     "execution_count": 229,
     "metadata": {},
     "output_type": "execute_result"
    }
   ],
   "source": [
    "f.seek(0)"
   ]
  },
  {
   "cell_type": "code",
   "execution_count": 230,
   "metadata": {},
   "outputs": [
    {
     "data": {
      "text/plain": [
       "'sfffwefew\\n\\naf\\nafaf\\nafafaf\\nafafaff\\naff\\na\\nf\\naf\\n\\x00\\x00\\x00\\x00\\x00\\x00\\x00\\x00\\x00\\x00\\x00\\x00\\x00\\x00\\x00\\x00'"
      ]
     },
     "execution_count": 230,
     "metadata": {},
     "output_type": "execute_result"
    }
   ],
   "source": [
    "f.read()"
   ]
  },
  {
   "cell_type": "code",
   "execution_count": 231,
   "metadata": {},
   "outputs": [
    {
     "data": {
      "text/plain": [
       "10"
      ]
     },
     "execution_count": 231,
     "metadata": {},
     "output_type": "execute_result"
    }
   ],
   "source": [
    "f.write(\"adadadddad\")"
   ]
  },
  {
   "cell_type": "code",
   "execution_count": 232,
   "metadata": {},
   "outputs": [
    {
     "data": {
      "text/plain": [
       "''"
      ]
     },
     "execution_count": 232,
     "metadata": {},
     "output_type": "execute_result"
    }
   ],
   "source": [
    "f.read()"
   ]
  },
  {
   "cell_type": "code",
   "execution_count": 233,
   "metadata": {},
   "outputs": [
    {
     "data": {
      "text/plain": [
       "0"
      ]
     },
     "execution_count": 233,
     "metadata": {},
     "output_type": "execute_result"
    }
   ],
   "source": [
    "f.seek(0)"
   ]
  },
  {
   "cell_type": "code",
   "execution_count": 234,
   "metadata": {},
   "outputs": [
    {
     "data": {
      "text/plain": [
       "'sfffwefew\\n\\naf\\nafaf\\nafafaf\\nafafaff\\naff\\na\\nf\\naf\\n\\x00\\x00\\x00\\x00\\x00\\x00\\x00\\x00\\x00\\x00\\x00\\x00\\x00\\x00\\x00\\x00adadadddad'"
      ]
     },
     "execution_count": 234,
     "metadata": {},
     "output_type": "execute_result"
    }
   ],
   "source": [
    "f.read()"
   ]
  },
  {
   "cell_type": "code",
   "execution_count": 235,
   "metadata": {},
   "outputs": [],
   "source": [
    "f.close()"
   ]
  },
  {
   "cell_type": "code",
   "execution_count": 236,
   "metadata": {},
   "outputs": [],
   "source": [
    "# writelines()\n",
    "# syntax :writelines([lines])\n",
    "#Writes a list of lines to the file. and add multiple line\n",
    "f = open('new1.txt','a+')"
   ]
  },
  {
   "cell_type": "code",
   "execution_count": 238,
   "metadata": {},
   "outputs": [
    {
     "data": {
      "text/plain": [
       "0"
      ]
     },
     "execution_count": 238,
     "metadata": {},
     "output_type": "execute_result"
    }
   ],
   "source": [
    "f.seek(0)"
   ]
  },
  {
   "cell_type": "code",
   "execution_count": 239,
   "metadata": {},
   "outputs": [
    {
     "data": {
      "text/plain": [
       "'sfffwefew\\n\\naf\\nafaf\\nafafaf\\nafafaff\\naff\\na\\nf\\naf\\n\\x00\\x00\\x00\\x00\\x00\\x00\\x00\\x00\\x00\\x00\\x00\\x00\\x00\\x00\\x00\\x00adadadddad'"
      ]
     },
     "execution_count": 239,
     "metadata": {},
     "output_type": "execute_result"
    }
   ],
   "source": [
    "f.read()"
   ]
  },
  {
   "cell_type": "code",
   "execution_count": 241,
   "metadata": {},
   "outputs": [],
   "source": [
    "f.writelines(['newline1','nnasa'])"
   ]
  },
  {
   "cell_type": "code",
   "execution_count": 249,
   "metadata": {},
   "outputs": [
    {
     "data": {
      "text/plain": [
       "0"
      ]
     },
     "execution_count": 249,
     "metadata": {},
     "output_type": "execute_result"
    }
   ],
   "source": [
    "f.seek(0)"
   ]
  },
  {
   "cell_type": "code",
   "execution_count": 246,
   "metadata": {},
   "outputs": [
    {
     "data": {
      "text/plain": [
       "'sfffwefew\\n\\naf\\nafaf\\nafafaf\\nafafaff\\naff\\na\\nf\\naf\\n\\x00\\x00\\x00\\x00\\x00\\x00\\x00\\x00\\x00\\x00\\x00\\x00\\x00\\x00\\x00\\x00adadadddadnewline1nnasa'"
      ]
     },
     "execution_count": 246,
     "metadata": {},
     "output_type": "execute_result"
    }
   ],
   "source": [
    "f.read()"
   ]
  },
  {
   "cell_type": "code",
   "execution_count": 247,
   "metadata": {},
   "outputs": [],
   "source": [
    "f.writelines(['\\nline5464'])"
   ]
  },
  {
   "cell_type": "code",
   "execution_count": 250,
   "metadata": {},
   "outputs": [
    {
     "data": {
      "text/plain": [
       "'sfffwefew\\n\\naf\\nafaf\\nafafaf\\nafafaff\\naff\\na\\nf\\naf\\n\\x00\\x00\\x00\\x00\\x00\\x00\\x00\\x00\\x00\\x00\\x00\\x00\\x00\\x00\\x00\\x00adadadddadnewline1nnasa\\nline5464'"
      ]
     },
     "execution_count": 250,
     "metadata": {},
     "output_type": "execute_result"
    }
   ],
   "source": [
    "f.read()\n",
    "\n"
   ]
  },
  {
   "cell_type": "code",
   "execution_count": null,
   "metadata": {},
   "outputs": [],
   "source": [
    "# fileno() function\n",
    "# Returns the file descriptor of the file stream as a number.\n"
   ]
  },
  {
   "cell_type": "code",
   "execution_count": 251,
   "metadata": {},
   "outputs": [],
   "source": [
    "f = open(\"new1.txt\",'r')"
   ]
  },
  {
   "cell_type": "code",
   "execution_count": 254,
   "metadata": {},
   "outputs": [
    {
     "data": {
      "text/plain": [
       "5"
      ]
     },
     "execution_count": 254,
     "metadata": {},
     "output_type": "execute_result"
    }
   ],
   "source": [
    "f.fileno()"
   ]
  },
  {
   "cell_type": "code",
   "execution_count": 255,
   "metadata": {},
   "outputs": [],
   "source": [
    "f.close()"
   ]
  },
  {
   "cell_type": "code",
   "execution_count": 256,
   "metadata": {},
   "outputs": [],
   "source": [
    "# flush() function\n",
    "#syntax : flush\n",
    "# clears the internal buffer of the file. In Python, \n",
    "# files are automatically flushed while closing them. However, a programmer can flush a file before closing it by using the flush() method.\n"
   ]
  },
  {
   "cell_type": "code",
   "execution_count": 257,
   "metadata": {},
   "outputs": [],
   "source": [
    "f  = open(\"new1.txt\",'r')"
   ]
  },
  {
   "cell_type": "code",
   "execution_count": 259,
   "metadata": {},
   "outputs": [
    {
     "data": {
      "text/html": [
       "<img src=\"https://i.postimg.cc/WbjpSBGq/Capture.png\" width=\"600\" height=\"500\"/>"
      ],
      "text/plain": [
       "<IPython.core.display.Image object>"
      ]
     },
     "execution_count": 259,
     "metadata": {},
     "output_type": "execute_result"
    }
   ],
   "source": [
    "# data before flush\n",
    "from IPython.display import Image\n",
    "Image(url= \"https://i.postimg.cc/WbjpSBGq/Capture.png\", width=600, height=500)"
   ]
  },
  {
   "cell_type": "code",
   "execution_count": 260,
   "metadata": {},
   "outputs": [
    {
     "data": {
      "text/plain": [
       "'sfffwefew\\n\\naf\\nafaf\\nafafaf\\nafafaff\\naff\\na\\nf\\naf\\n\\x00\\x00\\x00\\x00\\x00\\x00\\x00\\x00\\x00\\x00\\x00\\x00\\x00\\x00\\x00\\x00adadadddadnewline1nnasa\\nline5464'"
      ]
     },
     "execution_count": 260,
     "metadata": {},
     "output_type": "execute_result"
    }
   ],
   "source": [
    "f.read()"
   ]
  },
  {
   "cell_type": "code",
   "execution_count": 261,
   "metadata": {},
   "outputs": [],
   "source": [
    "f.flush()# it just clear the the ram"
   ]
  },
  {
   "cell_type": "code",
   "execution_count": 262,
   "metadata": {},
   "outputs": [
    {
     "data": {
      "text/plain": [
       "0"
      ]
     },
     "execution_count": 262,
     "metadata": {},
     "output_type": "execute_result"
    }
   ],
   "source": [
    "f.seek(0)"
   ]
  },
  {
   "cell_type": "code",
   "execution_count": 263,
   "metadata": {},
   "outputs": [
    {
     "data": {
      "text/plain": [
       "'sfffwefew\\n\\naf\\nafaf\\nafafaf\\nafafaff\\naff\\na\\nf\\naf\\n\\x00\\x00\\x00\\x00\\x00\\x00\\x00\\x00\\x00\\x00\\x00\\x00\\x00\\x00\\x00\\x00adadadddadnewline1nnasa\\nline5464'"
      ]
     },
     "execution_count": 263,
     "metadata": {},
     "output_type": "execute_result"
    }
   ],
   "source": [
    "f.read()"
   ]
  },
  {
   "cell_type": "code",
   "execution_count": null,
   "metadata": {},
   "outputs": [],
   "source": [
    "# isatty() function\n",
    "# Python file method isatty() returns True \n",
    "# if the file is connected (is associated with a terminal device) to a tty(-like) device, else False.\n",
    "#   tty = teletypewriter\n",
    "#The tty stands for teletypewriter, \n",
    "# is an input device (terminal device) used to perform the input/output operation based on character-by-character process.\n"
   ]
  },
  {
   "cell_type": "code",
   "execution_count": 264,
   "metadata": {},
   "outputs": [],
   "source": [
    "f  = open(\"new1.txt\",'r')"
   ]
  },
  {
   "cell_type": "code",
   "execution_count": 265,
   "metadata": {},
   "outputs": [
    {
     "data": {
      "text/plain": [
       "False"
      ]
     },
     "execution_count": 265,
     "metadata": {},
     "output_type": "execute_result"
    }
   ],
   "source": [
    "f.isatty()"
   ]
  },
  {
   "cell_type": "code",
   "execution_count": 266,
   "metadata": {},
   "outputs": [],
   "source": [
    "f.close()"
   ]
  }
 ],
 "metadata": {
  "kernelspec": {
   "display_name": "Python 3.10.4 64-bit",
   "language": "python",
   "name": "python3"
  },
  "language_info": {
   "codemirror_mode": {
    "name": "ipython",
    "version": 3
   },
   "file_extension": ".py",
   "mimetype": "text/x-python",
   "name": "python",
   "nbconvert_exporter": "python",
   "pygments_lexer": "ipython3",
   "version": "3.10.4"
  },
  "orig_nbformat": 4,
  "vscode": {
   "interpreter": {
    "hash": "d818f4a5b132e7f66021d3e7c19c2b7a86b89f9388f799e2d6a66075690a4386"
   }
  }
 },
 "nbformat": 4,
 "nbformat_minor": 2
}
