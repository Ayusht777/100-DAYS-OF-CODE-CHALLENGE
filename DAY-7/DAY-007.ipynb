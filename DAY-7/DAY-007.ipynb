{
 "cells": [
  {
   "cell_type": "code",
   "execution_count": null,
   "metadata": {},
   "outputs": [],
   "source": [
    "#Day-7 of 100dayofcode [21/07/2022 thursday]"
   ]
  },
  {
   "cell_type": "code",
   "execution_count": null,
   "metadata": {},
   "outputs": [],
   "source": [
    "#Output Using print() function\n",
    "# syntax : print(print statment, sep='char'(optional), end='\\n'(optional), file=sys.stdout(optional), flush=False(optional))"
   ]
  },
  {
   "cell_type": "code",
   "execution_count": 26,
   "metadata": {},
   "outputs": [
    {
     "name": "stdout",
     "output_type": "stream",
     "text": [
      "today i have completed a week 7 days countinues\n",
      "today i have completed a week 7 days countinues\n",
      " When someone loves you, the way they talk about you is different. You feel safe and comfortable.+today i have completed a week 7 days countinues When someone loves you, the way they talk about you is different. You feel safe and comfortable.\n"
     ]
    }
   ],
   "source": [
    "a = \"today i have completed a week 7 days countinues\"\n",
    "b = \"When someone loves you, the way they talk about you is different. You feel safe and comfortable.\"\n",
    "print(a)\n",
    "print(a,b,sep=\"\\n \",end=\"+\")\n",
    "print(a,b,sep=' ',end='\\n')\n"
   ]
  },
  {
   "cell_type": "code",
   "execution_count": 32,
   "metadata": {},
   "outputs": [
    {
     "name": "stdout",
     "output_type": "stream",
     "text": [
      "dwdwd\n",
      "<class 'str'>\n",
      "<class 'int'>\n"
     ]
    }
   ],
   "source": [
    "#Input Using input() function\n",
    "# takes input from terminal\n",
    "# syntax : input(\"statement\")\n",
    "s = input(\"ENTER A STRING:\")\n",
    "print(s)\n",
    "i = input(\"ENTER A INPUT:\")\n",
    "print(type(i))# the input is string\n",
    "# so we need to convert this input this string into int\n",
    "i = int(i)\n",
    "print(type(i))\n",
    "\n"
   ]
  },
  {
   "cell_type": "code",
   "execution_count": 34,
   "metadata": {},
   "outputs": [
    {
     "name": "stdout",
     "output_type": "stream",
     "text": [
      "789\n",
      "<class 'int'>\n"
     ]
    }
   ],
   "source": [
    "it = int(input(\"ENTER A NUMBER:\"))\n",
    "print(it)\n",
    "print(type(it))"
   ]
  },
  {
   "cell_type": "code",
   "execution_count": 37,
   "metadata": {},
   "outputs": [
    {
     "name": "stdout",
     "output_type": "stream",
     "text": [
      "3.141592653589793\n",
      "2.0\n"
     ]
    }
   ],
   "source": [
    "#Import modules\n",
    "#modules have inuilt code \n",
    "import math\n",
    "print(math.pi)\n",
    "print(math.sqrt(4))\n",
    "# we going to learn more function soon"
   ]
  },
  {
   "cell_type": "code",
   "execution_count": 42,
   "metadata": {},
   "outputs": [
    {
     "name": "stdout",
     "output_type": "stream",
     "text": [
      "CHECK WHEATHER A NUMBER IS EVEN OR ODD\n",
      "the numberodd number:9\n"
     ]
    }
   ],
   "source": [
    "# Flow Control\n",
    "# if\n",
    "# elif\n",
    "# else statement \n",
    "\n",
    "# if statement \n",
    "\n",
    "print(\"CHECK WHEATHER A NUMBER IS EVEN OR ODD\")\n",
    "x = int(input(\"ENTER A NUMBER:\"))\n",
    "if (x%2==0):\n",
    "    print(f\"the number is even:{x}\")\n",
    "else:\n",
    "    print(f\"the number is odd :{x}\")\n"
   ]
  },
  {
   "cell_type": "code",
   "execution_count": 45,
   "metadata": {},
   "outputs": [
    {
     "name": "stdout",
     "output_type": "stream",
     "text": [
      "TO CHECK NUMBER IS + OR - OR 0\n",
      "THE NUMBER IS ZERO\n"
     ]
    }
   ],
   "source": [
    "print(\"TO CHECK NUMBER IS + OR - OR 0\")\n",
    "n = float(input(\"ENTER THE NUMBER:\"))\n",
    "if(n>=1):\n",
    "    print(\"THE NUMBER IS +VE\")\n",
    "elif(n<=-1):\n",
    "    print(\"THE NUMBER IS -VE\")\n",
    "else:\n",
    "    print(\"THE NUMBER IS ZERO\")"
   ]
  },
  {
   "cell_type": "code",
   "execution_count": 73,
   "metadata": {},
   "outputs": [
    {
     "name": "stdout",
     "output_type": "stream",
     "text": [
      "------------------------------------------------------------------------------\n",
      "      PROGRAM TO CHECK THE COLOUR AND SIZE OF T-SHIRT AVILABLE IN STORE\n",
      "------------------------------------------------------------------------------\n",
      "THE SIZE SHOULD BE S/M/L/XL/XXL/XXXL\n",
      "ENTER YOUR T-SHIRT COLOUR\n",
      "THE COLOUR IS : white & SIZE IS : xxl\n"
     ]
    }
   ],
   "source": [
    "# Nested if else statements\n",
    "print(\"------------------------------------------------------------------------------\")\n",
    "print(\"      PROGRAM TO CHECK THE COLOUR AND SIZE OF T-SHIRT AVILABLE IN STORE\")\n",
    "print(\"------------------------------------------------------------------------------\")\n",
    "c1 = \"black\"\n",
    "c2 = \"white\"\n",
    "c3 =  \"grey\"\n",
    "c4 = \"pink\"\n",
    "c5 =\"blue\"\n",
    "c6 = \"orange\"\n",
    "c7 = \"green\"\n",
    "print(\"THE SIZE SHOULD BE S/M/L/XL/XXL/XXXL\")\n",
    "s = str(input(\"ENTER T-SHIRT SZIE:\"))\n",
    "print(\"ENTER YOUR T-SHIRT COLOUR\")\n",
    "c = str(input(\"ENTER YOUR T-SHIRT COLOUR:\"))\n",
    "if(s =='S' or s == 's' or s == 'M' or s == 'm' or s == 'L' or s == 'l' or s == 'XL' or s == 'xl' or s == 'XXL' or s == 'xxl' or s == 'XXL' or s == 'xxxl' or s == 'XXXL'):\n",
    "    if(c == c1.capitalize() or c ==  c1 or c==c1.upper() or c==c1.title() or c==c1.casefold()):\n",
    "        print(f\"THE COLOUR IS : {c1} & SIZE IS : {s}\")\n",
    "    elif(c2.capitalize() or c == c2 or c == c2.upper() or c == c2.title() or c == c2.casefold()):\n",
    "        print(f\"THE COLOUR IS : {c2} & SIZE IS : {s}\")\n",
    "    elif(c == c3.capitalize() or c == c3 or c == c3.upper() or c == c3.title() or c == c3.casefold()):\n",
    "        print(f\"THE COLOUR IS : {c3} & SIZE IS : {s}\")\n",
    "    elif(c == c4.capitalize() or c == c4 or c == c4.upper() or c == c4.title() or c == c4.casefold()):\n",
    "        print(f\"THE COLOUR IS : {c4} & SIZE IS : {s}\")\n",
    "    elif(c == c5.capitalize() or c == c5 or c == c5.upper() or c == c5.title() or c == c5.casefold()):\n",
    "        print(f\"THE COLOUR IS : {c5} & SIZE IS : {s}\")\n",
    "    elif(c == c6.capitalize() or c == c6 or c == c6.upper() or c == c6.title() or c == c6.casefold()):\n",
    "        print(f\"THE COLOUR IS : {c6} & SIZE IS : {s}\")\n",
    "    elif(c == c7.capitalize() or c == c7 or c == c7.upper() or c == c7.title() or c == c7.casefold()):\n",
    "        print(f\"THE COLOUR IS : {c7} & SIZE IS : {s}\")\n",
    "else:\n",
    "    print(\"THE SIZE AND COLOUR IS NOT AVILABLE IN STORE\")\n",
    "\n",
    "# some error logical\n",
    "\n"
   ]
  },
  {
   "cell_type": "code",
   "execution_count": 77,
   "metadata": {},
   "outputs": [
    {
     "data": {
      "text/plain": [
       "\"s =='S' or s == 's' or s == 'M' or s == 'm' or s == 'L' or s == 'l' or s == 'XL' or s == 'xl' or s == 'XXL' or s == 'xxl' or s == 'XXL' or s == 'xxxl' or s == 'XXXL' \""
      ]
     },
     "execution_count": 77,
     "metadata": {},
     "output_type": "execute_result"
    }
   ],
   "source": [
    "s = \"s =='S' or s == 's' or s == 'M' or s == 'm' or s == 'L' or s == 'l' or s == 'XL' or s == 'xl' or s == 'XXL' or s == 'xxl' or s == 'XXL' or s == 'xxxl' or s == 'XXXL' \"\n",
    "s.replace(',',' or s == ')\n"
   ]
  },
  {
   "cell_type": "code",
   "execution_count": null,
   "metadata": {},
   "outputs": [],
   "source": [
    "#LOOPING \n",
    "# for loop\n",
    "# to repated any task we use loop\n",
    "'''for i in iterable_variable:\n",
    "    loop body'''\n",
    "# value\n"
   ]
  },
  {
   "cell_type": "code",
   "execution_count": 79,
   "metadata": {},
   "outputs": [
    {
     "data": {
      "text/html": [
       "<img src=\"https://cdn.programiz.com/sites/tutorial2program/files/forLoop.jpg\" width=\"219\" height=\"384\"/>"
      ],
      "text/plain": [
       "<IPython.core.display.Image object>"
      ]
     },
     "execution_count": 79,
     "metadata": {},
     "output_type": "execute_result"
    }
   ],
   "source": [
    "from IPython.display import Image\n",
    "Image(url= \"https://cdn.programiz.com/sites/tutorial2program/files/forLoop.jpg\", width=219, height=384)"
   ]
  },
  {
   "cell_type": "code",
   "execution_count": 88,
   "metadata": {},
   "outputs": [
    {
     "name": "stdout",
     "output_type": "stream",
     "text": [
      "a\n",
      "y\n",
      "u\n",
      "s\n",
      "h\n",
      "\n",
      "\n",
      "A\n",
      "Y\n",
      "U\n",
      "S\n",
      "H\n",
      " \n",
      "T\n",
      "A\n",
      "L\n",
      "E\n",
      "S\n",
      "R\n",
      "A\n"
     ]
    }
   ],
   "source": [
    "#lets iterated over string\n",
    "a = \"ayush\"\n",
    "for i in a:\n",
    "    print(i)\n",
    "print(\"\\n\")\n",
    "for i in \"ayush talesra\":\n",
    "    print(i.upper())\n"
   ]
  },
  {
   "cell_type": "code",
   "execution_count": 92,
   "metadata": {},
   "outputs": [
    {
     "name": "stdout",
     "output_type": "stream",
     "text": [
      "0\n",
      "4\n",
      "7\n",
      "9\n",
      "78\n",
      "9\n",
      "9\n",
      "THE SUM OF LIST 116\n"
     ]
    }
   ],
   "source": [
    "# lets iterated over list\n",
    "ls = [0,4,7,9,78,9,9]\n",
    "for i in ls:\n",
    "    print(i)\n",
    "# lets sum all the element of the list\n",
    "s =0\n",
    "for i in ls:\n",
    "    s = s+i\n",
    "print(f\"THE SUM OF LIST {s}\")\n"
   ]
  },
  {
   "cell_type": "code",
   "execution_count": 93,
   "metadata": {},
   "outputs": [
    {
     "name": "stdout",
     "output_type": "stream",
     "text": [
      "THE NUMBER IS EVEN : 0\n",
      "THE NUMBER IS EVEN : 4\n",
      "THE NUMBER IS ODD : 7\n",
      "THE NUMBER IS ODD : 9\n",
      "THE NUMBER IS EVEN : 78\n",
      "THE NUMBER IS ODD : 9\n",
      "THE NUMBER IS ODD : 9\n"
     ]
    }
   ],
   "source": [
    "# check odd even in this list \n",
    "for i in ls:\n",
    "    if(i%2==0):\n",
    "        print(f\"THE NUMBER IS EVEN : {i}\")\n",
    "    else:\n",
    "        print(f\"THE NUMBER IS ODD : {i}\")"
   ]
  },
  {
   "cell_type": "code",
   "execution_count": null,
   "metadata": {},
   "outputs": [],
   "source": [
    "#iterating over dictionary\n"
   ]
  }
 ],
 "metadata": {
  "kernelspec": {
   "display_name": "Python 3.10.4 64-bit",
   "language": "python",
   "name": "python3"
  },
  "language_info": {
   "codemirror_mode": {
    "name": "ipython",
    "version": 3
   },
   "file_extension": ".py",
   "mimetype": "text/x-python",
   "name": "python",
   "nbconvert_exporter": "python",
   "pygments_lexer": "ipython3",
   "version": "3.10.4"
  },
  "orig_nbformat": 4,
  "vscode": {
   "interpreter": {
    "hash": "d818f4a5b132e7f66021d3e7c19c2b7a86b89f9388f799e2d6a66075690a4386"
   }
  }
 },
 "nbformat": 4,
 "nbformat_minor": 2
}
