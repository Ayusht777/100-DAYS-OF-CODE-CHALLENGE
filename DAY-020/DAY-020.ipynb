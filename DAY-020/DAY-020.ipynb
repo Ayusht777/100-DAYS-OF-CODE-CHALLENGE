{
 "cells": [
  {
   "cell_type": "markdown",
   "metadata": {},
   "source": [
    "# Day-20 of 100dayofcode [03/08/2022 wednesday]"
   ]
  },
  {
   "cell_type": "markdown",
   "metadata": {},
   "source": [
    "### try -finally way of file handling"
   ]
  },
  {
   "cell_type": "code",
   "execution_count": 12,
   "metadata": {},
   "outputs": [],
   "source": [
    "f  = open(\"new.txt\",'r')\n",
    "try:\n",
    "    f.read()\n",
    "    # further opertion \n",
    "finally: \n",
    "    f.close()\n"
   ]
  },
  {
   "cell_type": "code",
   "execution_count": 25,
   "metadata": {},
   "outputs": [],
   "source": [
    "# with statement\n",
    "# syntax : - with open(path,mode='r/w/a etc) as f(file_pointer_name):\n",
    "                      #furtehr statement\n",
    "                      # donot worry about closing the file"
   ]
  },
  {
   "cell_type": "code",
   "execution_count": 22,
   "metadata": {},
   "outputs": [],
   "source": [
    "with open(\"new.txt\") as f:\n",
    "    o = f.read()"
   ]
  },
  {
   "cell_type": "code",
   "execution_count": 23,
   "metadata": {},
   "outputs": [
    {
     "data": {
      "text/plain": [
       "'sdcsdcvsdvsdvds\\nv\\nsdcsdcvsdvsdvdsdsv\\ndsav\\nsdcsdcvsdvsdvdsvsad\\nv\\nsdcsdcvsdvsdvdsadsv\\nasdv\\n\\n'"
      ]
     },
     "execution_count": 23,
     "metadata": {},
     "output_type": "execute_result"
    }
   ],
   "source": [
    "o# advantage do not need to use seek option "
   ]
  },
  {
   "cell_type": "code",
   "execution_count": 24,
   "metadata": {},
   "outputs": [
    {
     "data": {
      "text/plain": [
       "'sdcsdcvsdvsdvds\\nv\\nsdcsdcvsdvsdvdsdsv\\ndsav\\nsdcsdcvsdvsdvdsvsad\\nv\\nsdcsdcvsdvsdvdsadsv\\nasdv\\n\\n'"
      ]
     },
     "execution_count": 24,
     "metadata": {},
     "output_type": "execute_result"
    }
   ],
   "source": [
    "o"
   ]
  },
  {
   "cell_type": "code",
   "execution_count": 26,
   "metadata": {},
   "outputs": [],
   "source": [
    "with open('new.txt',mode ='r') as f:\n",
    "    x = f.read()"
   ]
  },
  {
   "cell_type": "code",
   "execution_count": 27,
   "metadata": {},
   "outputs": [
    {
     "data": {
      "text/plain": [
       "'sdcsdcvsdvsdvds\\nv\\nsdcsdcvsdvsdvdsdsv\\ndsav\\nsdcsdcvsdvsdvdsvsad\\nv\\nsdcsdcvsdvsdvdsadsv\\nasdv\\n\\n'"
      ]
     },
     "execution_count": 27,
     "metadata": {},
     "output_type": "execute_result"
    }
   ],
   "source": [
    "x"
   ]
  },
  {
   "cell_type": "code",
   "execution_count": 32,
   "metadata": {},
   "outputs": [],
   "source": [
    "with open('new.txt',mode = 'w') as f:\n",
    "    w = f.read\n",
    "    f.write(\"fssfsfsfsfsfsfsfsfsdf\")"
   ]
  },
  {
   "cell_type": "code",
   "execution_count": 33,
   "metadata": {},
   "outputs": [
    {
     "data": {
      "text/plain": [
       "<function TextIOWrapper.read(size=-1, /)>"
      ]
     },
     "execution_count": 33,
     "metadata": {},
     "output_type": "execute_result"
    }
   ],
   "source": [
    "w"
   ]
  },
  {
   "cell_type": "code",
   "execution_count": 43,
   "metadata": {},
   "outputs": [
    {
     "name": "stdout",
     "output_type": "stream",
     "text": [
      "\n",
      "\n"
     ]
    }
   ],
   "source": [
    "with open('new.txt',mode='a+') as f:\n",
    "    \n",
    "    f.write(\"sfsfsfsfdsfdsfasfsfsaf\")\n"
   ]
  },
  {
   "cell_type": "code",
   "execution_count": 44,
   "metadata": {},
   "outputs": [
    {
     "name": "stdout",
     "output_type": "stream",
     "text": [
      "fssfsfsfsfsfsfsfsfsdfsfsfsfsfdsfdsfasfsfsafsfsfsfsfdsfdsfasfsfsafsfsfsfsfdsfdsfasfsfsafsfsfsfsfdsfdsfasfsfsaf\n"
     ]
    }
   ],
   "source": [
    "with open('new.txt',mode='r') as f:\n",
    "    print(f.read())"
   ]
  },
  {
   "cell_type": "code",
   "execution_count": 47,
   "metadata": {},
   "outputs": [
    {
     "data": {
      "text/plain": [
       "'e:\\\\PROGAMMING\\\\100 DAYS OF CODE CHALLENGE'"
      ]
     },
     "execution_count": 47,
     "metadata": {},
     "output_type": "execute_result"
    }
   ],
   "source": [
    "pwd # tell's working directory"
   ]
  },
  {
   "cell_type": "code",
   "execution_count": 48,
   "metadata": {},
   "outputs": [],
   "source": [
    "# Getting a Directory Listing"
   ]
  },
  {
   "cell_type": "code",
   "execution_count": null,
   "metadata": {},
   "outputs": [],
   "source": [
    "# The built-in os module has a number of useful functions that can be used to list directory contents and filter the results. \n",
    "# To get a list of all the files and folders in a particular directory in the filesystem, \n",
    "# use os.listdir() in legacy versions of Python or os.scandir() in Python 3.x. os.scandir() is the preferred method to use \n",
    "# if you also want to get file and directory properties such as file size and modification date."
   ]
  },
  {
   "cell_type": "code",
   "execution_count": 49,
   "metadata": {},
   "outputs": [],
   "source": [
    "import os"
   ]
  },
  {
   "cell_type": "code",
   "execution_count": 50,
   "metadata": {},
   "outputs": [
    {
     "data": {
      "text/plain": [
       "['.git',\n",
       " 'DAY-001.ipynb',\n",
       " 'DAY-002.ipynb',\n",
       " 'DAY-003.ipynb',\n",
       " 'DAY-004.ipynb',\n",
       " 'DAY-005.ipynb',\n",
       " 'DAY-006.ipynb',\n",
       " 'DAY-007.ipynb',\n",
       " 'DAY-008.ipynb',\n",
       " 'DAY-009.ipynb',\n",
       " \"DAY-010 - SMALL PROJECT'S.ipynb\",\n",
       " 'DAY-011.ipynb',\n",
       " 'DAY-012.ipynb',\n",
       " 'DAY-013.ipynb',\n",
       " 'DAY-014.ipynb',\n",
       " 'DAY-015.ipynb',\n",
       " 'DAY-016.ipynb',\n",
       " 'DAY-017.ipynb',\n",
       " 'DAY-018.ipynb',\n",
       " 'DAY-019.ipynb',\n",
       " 'DAY-020.ipynb',\n",
       " 'my_module.py',\n",
       " 'my_package',\n",
       " 'new.txt',\n",
       " 'README.md']"
      ]
     },
     "execution_count": 50,
     "metadata": {},
     "output_type": "execute_result"
    }
   ],
   "source": [
    "os.listdir() # this ffunction will print all file in your current directory"
   ]
  },
  {
   "cell_type": "code",
   "execution_count": 51,
   "metadata": {},
   "outputs": [],
   "source": [
    "#in modern versions of Python, an alternative to os.listdir() is to use os.scandir() and pathlib.Path().\n",
    "\n",
    "# os.scandir() was introduced in Python 3.5 and is documented in PEP 471. os.scandir() returns an iterator as opposed to a list when called:"
   ]
  },
  {
   "cell_type": "code",
   "execution_count": 52,
   "metadata": {},
   "outputs": [
    {
     "data": {
      "text/plain": [
       "<nt.ScandirIterator at 0x1d3fb969ca0>"
      ]
     },
     "execution_count": 52,
     "metadata": {},
     "output_type": "execute_result"
    }
   ],
   "source": [
    "os.scandir()# this return a itertor"
   ]
  },
  {
   "cell_type": "code",
   "execution_count": 53,
   "metadata": {},
   "outputs": [
    {
     "name": "stdout",
     "output_type": "stream",
     "text": [
      "<nt.ScandirIterator object at 0x000001D3FB96AA60>\n"
     ]
    }
   ],
   "source": [
    "print(os.scandir())"
   ]
  },
  {
   "cell_type": "code",
   "execution_count": 54,
   "metadata": {},
   "outputs": [],
   "source": [
    "f  = os.scandir()"
   ]
  },
  {
   "cell_type": "code",
   "execution_count": 55,
   "metadata": {},
   "outputs": [
    {
     "name": "stdout",
     "output_type": "stream",
     "text": [
      "<DirEntry '.git'>\n",
      "<DirEntry 'DAY-001.ipynb'>\n",
      "<DirEntry 'DAY-002.ipynb'>\n",
      "<DirEntry 'DAY-003.ipynb'>\n",
      "<DirEntry 'DAY-004.ipynb'>\n",
      "<DirEntry 'DAY-005.ipynb'>\n",
      "<DirEntry 'DAY-006.ipynb'>\n",
      "<DirEntry 'DAY-007.ipynb'>\n",
      "<DirEntry 'DAY-008.ipynb'>\n",
      "<DirEntry 'DAY-009.ipynb'>\n",
      "<DirEntry \"DAY-010 - SMALL PROJECT'S.ipynb\">\n",
      "<DirEntry 'DAY-011.ipynb'>\n",
      "<DirEntry 'DAY-012.ipynb'>\n",
      "<DirEntry 'DAY-013.ipynb'>\n",
      "<DirEntry 'DAY-014.ipynb'>\n",
      "<DirEntry 'DAY-015.ipynb'>\n",
      "<DirEntry 'DAY-016.ipynb'>\n",
      "<DirEntry 'DAY-017.ipynb'>\n",
      "<DirEntry 'DAY-018.ipynb'>\n",
      "<DirEntry 'DAY-019.ipynb'>\n",
      "<DirEntry 'DAY-020.ipynb'>\n",
      "<DirEntry 'my_module.py'>\n",
      "<DirEntry 'my_package'>\n",
      "<DirEntry 'new.txt'>\n",
      "<DirEntry 'README.md'>\n"
     ]
    }
   ],
   "source": [
    "for i in f:\n",
    "    print(i)"
   ]
  },
  {
   "cell_type": "code",
   "execution_count": 56,
   "metadata": {},
   "outputs": [],
   "source": [
    "# another way"
   ]
  },
  {
   "cell_type": "code",
   "execution_count": 57,
   "metadata": {},
   "outputs": [],
   "source": [
    "#pathlib module\n",
    "import pathlib "
   ]
  },
  {
   "cell_type": "code",
   "execution_count": 61,
   "metadata": {},
   "outputs": [
    {
     "data": {
      "text/plain": [
       "WindowsPath('.')"
      ]
     },
     "execution_count": 61,
     "metadata": {},
     "output_type": "execute_result"
    }
   ],
   "source": [
    "pathlib.Path()"
   ]
  },
  {
   "cell_type": "code",
   "execution_count": 62,
   "metadata": {},
   "outputs": [
    {
     "name": "stdout",
     "output_type": "stream",
     "text": [
      ".\n"
     ]
    }
   ],
   "source": [
    "print(pathlib.Path()) "
   ]
  },
  {
   "cell_type": "code",
   "execution_count": 71,
   "metadata": {},
   "outputs": [],
   "source": [
    "x  = pathlib.Path('my_package')"
   ]
  },
  {
   "cell_type": "code",
   "execution_count": 72,
   "metadata": {},
   "outputs": [
    {
     "name": "stdout",
     "output_type": "stream",
     "text": [
      "my_package\n"
     ]
    }
   ],
   "source": [
    "print(x)"
   ]
  },
  {
   "cell_type": "code",
   "execution_count": 73,
   "metadata": {},
   "outputs": [],
   "source": [
    "x = x.iterdir()"
   ]
  },
  {
   "cell_type": "code",
   "execution_count": 74,
   "metadata": {},
   "outputs": [
    {
     "name": "stdout",
     "output_type": "stream",
     "text": [
      "my_package\\module1\n",
      "my_package\\module2\n",
      "my_package\\__init__.py\n",
      "my_package\\__pycache__\n"
     ]
    }
   ],
   "source": [
    "for i in x:\n",
    "    print(i)"
   ]
  },
  {
   "cell_type": "markdown",
   "metadata": {},
   "source": [
    "## Making Directories\n"
   ]
  },
  {
   "cell_type": "code",
   "execution_count": 78,
   "metadata": {},
   "outputs": [
    {
     "data": {
      "text/html": [
       "<img src=\"https://i.postimg.cc/02j5J1Vx/image.png\" width=\"902\" height=\"275\"/>"
      ],
      "text/plain": [
       "<IPython.core.display.Image object>"
      ]
     },
     "execution_count": 78,
     "metadata": {},
     "output_type": "execute_result"
    }
   ],
   "source": [
    "# modes \n",
    "from IPython.display import Image\n",
    "Image(url= \"https://i.postimg.cc/02j5J1Vx/image.png\", width=902, height=275)"
   ]
  },
  {
   "cell_type": "code",
   "execution_count": 79,
   "metadata": {},
   "outputs": [],
   "source": [
    "# os.mkdir()"
   ]
  },
  {
   "cell_type": "code",
   "execution_count": 80,
   "metadata": {},
   "outputs": [],
   "source": [
    "os.mkdir(\"new\")#it will create a folder"
   ]
  },
  {
   "cell_type": "code",
   "execution_count": 81,
   "metadata": {},
   "outputs": [
    {
     "ename": "FileExistsError",
     "evalue": "[WinError 183] Cannot create a file when that file already exists: 'new'",
     "output_type": "error",
     "traceback": [
      "\u001b[1;31m---------------------------------------------------------------------------\u001b[0m",
      "\u001b[1;31mFileExistsError\u001b[0m                           Traceback (most recent call last)",
      "\u001b[1;32me:\\PROGAMMING\\100 DAYS OF CODE CHALLENGE\\DAY-020.ipynb Cell 36\u001b[0m in \u001b[0;36m<cell line: 1>\u001b[1;34m()\u001b[0m\n\u001b[1;32m----> <a href='vscode-notebook-cell:/e%3A/PROGAMMING/100%20DAYS%20OF%20CODE%20CHALLENGE/DAY-020.ipynb#ch0000042?line=0'>1</a>\u001b[0m os\u001b[39m.\u001b[39;49mmkdir(\u001b[39m\"\u001b[39;49m\u001b[39mnew\u001b[39;49m\u001b[39m\"\u001b[39;49m)\n",
      "\u001b[1;31mFileExistsError\u001b[0m: [WinError 183] Cannot create a file when that file already exists: 'new'"
     ]
    }
   ],
   "source": [
    "os.mkdir(\"new\")# if the folder exist it will give you an error"
   ]
  },
  {
   "cell_type": "code",
   "execution_count": 82,
   "metadata": {},
   "outputs": [],
   "source": [
    "#Creating Multiple Directories\n",
    "#os.makedirs()\n",
    "# this can create a tree of a folder"
   ]
  },
  {
   "cell_type": "code",
   "execution_count": 83,
   "metadata": {},
   "outputs": [],
   "source": [
    "os.makedirs('new1/1/2')"
   ]
  },
  {
   "cell_type": "code",
   "execution_count": 86,
   "metadata": {},
   "outputs": [
    {
     "ename": "FileExistsError",
     "evalue": "[WinError 183] Cannot create a file when that file already exists: 'new1/1/2'",
     "output_type": "error",
     "traceback": [
      "\u001b[1;31m---------------------------------------------------------------------------\u001b[0m",
      "\u001b[1;31mFileExistsError\u001b[0m                           Traceback (most recent call last)",
      "\u001b[1;32me:\\PROGAMMING\\100 DAYS OF CODE CHALLENGE\\DAY-020.ipynb Cell 39\u001b[0m in \u001b[0;36m<cell line: 1>\u001b[1;34m()\u001b[0m\n\u001b[1;32m----> <a href='vscode-notebook-cell:/e%3A/PROGAMMING/100%20DAYS%20OF%20CODE%20CHALLENGE/DAY-020.ipynb#ch0000046?line=0'>1</a>\u001b[0m os\u001b[39m.\u001b[39;49mmakedirs(\u001b[39m'\u001b[39;49m\u001b[39mnew1/1/2\u001b[39;49m\u001b[39m'\u001b[39;49m)\n",
      "File \u001b[1;32mc:\\Users\\Ayush\\AppData\\Local\\Programs\\Python\\Python310\\lib\\os.py:225\u001b[0m, in \u001b[0;36mmakedirs\u001b[1;34m(name, mode, exist_ok)\u001b[0m\n\u001b[0;32m    223\u001b[0m         \u001b[39mreturn\u001b[39;00m\n\u001b[0;32m    224\u001b[0m \u001b[39mtry\u001b[39;00m:\n\u001b[1;32m--> 225\u001b[0m     mkdir(name, mode)\n\u001b[0;32m    226\u001b[0m \u001b[39mexcept\u001b[39;00m \u001b[39mOSError\u001b[39;00m:\n\u001b[0;32m    227\u001b[0m     \u001b[39m# Cannot rely on checking for EEXIST, since the operating system\u001b[39;00m\n\u001b[0;32m    228\u001b[0m     \u001b[39m# could give priority to other errors like EACCES or EROFS\u001b[39;00m\n\u001b[0;32m    229\u001b[0m     \u001b[39mif\u001b[39;00m \u001b[39mnot\u001b[39;00m exist_ok \u001b[39mor\u001b[39;00m \u001b[39mnot\u001b[39;00m path\u001b[39m.\u001b[39misdir(name):\n",
      "\u001b[1;31mFileExistsError\u001b[0m: [WinError 183] Cannot create a file when that file already exists: 'new1/1/2'"
     ]
    }
   ],
   "source": [
    "os.makedirs('new1/1/2') # smae as mkdir it will give you an error"
   ]
  },
  {
   "cell_type": "markdown",
   "metadata": {},
   "source": [
    "## Filename Pattern Matching"
   ]
  },
  {
   "cell_type": "code",
   "execution_count": 88,
   "metadata": {},
   "outputs": [],
   "source": [
    "#endswith() and startswith() string methods"
   ]
  },
  {
   "cell_type": "code",
   "execution_count": 89,
   "metadata": {},
   "outputs": [
    {
     "name": "stdout",
     "output_type": "stream",
     "text": [
      "new.txt\n"
     ]
    }
   ],
   "source": [
    "for f_name in os.listdir():\n",
    "    if(f_name.endswith('.txt')):\n",
    "        print(f_name)"
   ]
  },
  {
   "cell_type": "code",
   "execution_count": 90,
   "metadata": {},
   "outputs": [
    {
     "name": "stdout",
     "output_type": "stream",
     "text": [
      "DAY-001.ipynb\n",
      "DAY-002.ipynb\n",
      "DAY-003.ipynb\n",
      "DAY-004.ipynb\n",
      "DAY-005.ipynb\n",
      "DAY-006.ipynb\n",
      "DAY-007.ipynb\n",
      "DAY-008.ipynb\n",
      "DAY-009.ipynb\n",
      "DAY-010 - SMALL PROJECT'S.ipynb\n",
      "DAY-011.ipynb\n",
      "DAY-012.ipynb\n",
      "DAY-013.ipynb\n",
      "DAY-014.ipynb\n",
      "DAY-015.ipynb\n",
      "DAY-016.ipynb\n",
      "DAY-017.ipynb\n",
      "DAY-018.ipynb\n",
      "DAY-019.ipynb\n",
      "DAY-020.ipynb\n"
     ]
    }
   ],
   "source": [
    "for f_name in os.listdir():\n",
    "    if(f_name.endswith('.ipynb')):\n",
    "        print(f_name)"
   ]
  },
  {
   "cell_type": "code",
   "execution_count": 91,
   "metadata": {},
   "outputs": [
    {
     "name": "stdout",
     "output_type": "stream",
     "text": [
      "DAY-001.ipynb\n",
      "DAY-002.ipynb\n",
      "DAY-003.ipynb\n",
      "DAY-004.ipynb\n",
      "DAY-005.ipynb\n",
      "DAY-006.ipynb\n",
      "DAY-007.ipynb\n",
      "DAY-008.ipynb\n",
      "DAY-009.ipynb\n",
      "DAY-010 - SMALL PROJECT'S.ipynb\n",
      "DAY-011.ipynb\n",
      "DAY-012.ipynb\n",
      "DAY-013.ipynb\n",
      "DAY-014.ipynb\n",
      "DAY-015.ipynb\n",
      "DAY-016.ipynb\n",
      "DAY-017.ipynb\n",
      "DAY-018.ipynb\n",
      "DAY-019.ipynb\n",
      "DAY-020.ipynb\n"
     ]
    }
   ],
   "source": [
    "for f_n in os.listdir():\n",
    "    if(f_n.startswith('D')):\n",
    "        print(f_n)"
   ]
  },
  {
   "cell_type": "code",
   "execution_count": 93,
   "metadata": {},
   "outputs": [],
   "source": [
    "#fnmatch.fnmatch() function\n",
    "# fnmatch.fnmatch(file_name(i),'.extension')\n"
   ]
  },
  {
   "cell_type": "code",
   "execution_count": 94,
   "metadata": {},
   "outputs": [],
   "source": [
    "import fnmatch"
   ]
  },
  {
   "cell_type": "code",
   "execution_count": 98,
   "metadata": {},
   "outputs": [
    {
     "name": "stdout",
     "output_type": "stream",
     "text": [
      "new.txt\n"
     ]
    }
   ],
   "source": [
    "for i in os.listdir():\n",
    "    if(fnmatch.fnmatch(i,'new.txt')):\n",
    "        print(i)"
   ]
  },
  {
   "cell_type": "code",
   "execution_count": 99,
   "metadata": {},
   "outputs": [],
   "source": [
    "# glob() function from glob module\n",
    "#.glob() in the glob module works just like fnmatch.fnmatch(),\n",
    "#  but unlike fnmatch.fnmatch(), it treats files beginning with a period (.) as special.\n",
    "from glob import glob as g"
   ]
  },
  {
   "cell_type": "code",
   "execution_count": 101,
   "metadata": {},
   "outputs": [
    {
     "data": {
      "text/plain": [
       "['DAY-001.ipynb',\n",
       " 'DAY-002.ipynb',\n",
       " 'DAY-003.ipynb',\n",
       " 'DAY-004.ipynb',\n",
       " 'DAY-005.ipynb',\n",
       " 'DAY-006.ipynb',\n",
       " 'DAY-007.ipynb',\n",
       " 'DAY-008.ipynb',\n",
       " 'DAY-009.ipynb',\n",
       " \"DAY-010 - SMALL PROJECT'S.ipynb\",\n",
       " 'DAY-011.ipynb',\n",
       " 'DAY-012.ipynb',\n",
       " 'DAY-013.ipynb',\n",
       " 'DAY-014.ipynb',\n",
       " 'DAY-015.ipynb',\n",
       " 'DAY-016.ipynb',\n",
       " 'DAY-017.ipynb',\n",
       " 'DAY-018.ipynb',\n",
       " 'DAY-019.ipynb',\n",
       " 'DAY-020.ipynb']"
      ]
     },
     "execution_count": 101,
     "metadata": {},
     "output_type": "execute_result"
    }
   ],
   "source": [
    "g('*ipynb')"
   ]
  },
  {
   "cell_type": "markdown",
   "metadata": {},
   "source": [
    "## Making Temporary Files and Directories"
   ]
  },
  {
   "cell_type": "code",
   "execution_count": 102,
   "metadata": {},
   "outputs": [],
   "source": [
    "from tempfile import TemporaryFile\n"
   ]
  },
  {
   "cell_type": "code",
   "execution_count": 120,
   "metadata": {},
   "outputs": [],
   "source": [
    "f  = TemporaryFile('a+')"
   ]
  },
  {
   "cell_type": "code",
   "execution_count": 121,
   "metadata": {},
   "outputs": [
    {
     "data": {
      "text/plain": [
       "10"
      ]
     },
     "execution_count": 121,
     "metadata": {},
     "output_type": "execute_result"
    }
   ],
   "source": [
    "f.write(\"hello temp\")\n"
   ]
  },
  {
   "cell_type": "code",
   "execution_count": 124,
   "metadata": {},
   "outputs": [
    {
     "data": {
      "text/plain": [
       "'hello temp'"
      ]
     },
     "execution_count": 124,
     "metadata": {},
     "output_type": "execute_result"
    }
   ],
   "source": [
    "f.read()\n"
   ]
  },
  {
   "cell_type": "code",
   "execution_count": 123,
   "metadata": {},
   "outputs": [
    {
     "data": {
      "text/plain": [
       "0"
      ]
     },
     "execution_count": 123,
     "metadata": {},
     "output_type": "execute_result"
    }
   ],
   "source": [
    "f.seek(0)"
   ]
  },
  {
   "cell_type": "code",
   "execution_count": 125,
   "metadata": {},
   "outputs": [],
   "source": [
    "f.close()"
   ]
  },
  {
   "cell_type": "code",
   "execution_count": 126,
   "metadata": {},
   "outputs": [],
   "source": [
    "# Deleting Files and Directories\n",
    "os.remove('new.txt')"
   ]
  },
  {
   "cell_type": "code",
   "execution_count": 132,
   "metadata": {},
   "outputs": [],
   "source": [
    "#Deleting Directories\n",
    "os.rmdir(\"new\") # it removes the folder"
   ]
  },
  {
   "cell_type": "markdown",
   "metadata": {},
   "source": [
    "## Copying, Moving, and Renaming Files and Directories"
   ]
  },
  {
   "cell_type": "code",
   "execution_count": 133,
   "metadata": {},
   "outputs": [],
   "source": [
    "import shutil"
   ]
  },
  {
   "cell_type": "code",
   "execution_count": 138,
   "metadata": {},
   "outputs": [
    {
     "data": {
      "text/plain": [
       "'E:/PROGAMMING/100 DAYS OF CODE CHALLENGE/new1\\\\n.txt'"
      ]
     },
     "execution_count": 138,
     "metadata": {},
     "output_type": "execute_result"
    }
   ],
   "source": [
    "shutil.copy('E:/PROGAMMING/100 DAYS OF CODE CHALLENGE/n.txt','E:/PROGAMMING/100 DAYS OF CODE CHALLENGE/new1')"
   ]
  },
  {
   "cell_type": "code",
   "execution_count": 142,
   "metadata": {},
   "outputs": [
    {
     "data": {
      "text/plain": [
       "'E:/PROGAMMING/100 DAYS OF CODE CHALLENGE/new/'"
      ]
     },
     "execution_count": 142,
     "metadata": {},
     "output_type": "execute_result"
    }
   ],
   "source": [
    "shutil.copytree('E:/PROGAMMING/100 DAYS OF CODE CHALLENGE/my_package','E:/PROGAMMING/100 DAYS OF CODE CHALLENGE/new/')"
   ]
  },
  {
   "cell_type": "code",
   "execution_count": 144,
   "metadata": {},
   "outputs": [
    {
     "data": {
      "text/plain": [
       "'E:/PROGAMMING/100 DAYS OF CODE CHALLENGE/new1/1\\\\n.txt'"
      ]
     },
     "execution_count": 144,
     "metadata": {},
     "output_type": "execute_result"
    }
   ],
   "source": [
    "shutil.move('E:/PROGAMMING/100 DAYS OF CODE CHALLENGE/n.txt','E:/PROGAMMING/100 DAYS OF CODE CHALLENGE/new1/1')"
   ]
  },
  {
   "cell_type": "code",
   "execution_count": 145,
   "metadata": {},
   "outputs": [],
   "source": [
    "os.rename(\"E:/PROGAMMING/100 DAYS OF CODE CHALLENGE/new1/n.txt\",'n2.png')"
   ]
  },
  {
   "cell_type": "code",
   "execution_count": null,
   "metadata": {},
   "outputs": [],
   "source": []
  }
 ],
 "metadata": {
  "kernelspec": {
   "display_name": "Python 3.10.4 64-bit",
   "language": "python",
   "name": "python3"
  },
  "language_info": {
   "codemirror_mode": {
    "name": "ipython",
    "version": 3
   },
   "file_extension": ".py",
   "mimetype": "text/x-python",
   "name": "python",
   "nbconvert_exporter": "python",
   "pygments_lexer": "ipython3",
   "version": "3.10.6"
  },
  "orig_nbformat": 4,
  "vscode": {
   "interpreter": {
    "hash": "d818f4a5b132e7f66021d3e7c19c2b7a86b89f9388f799e2d6a66075690a4386"
   }
  }
 },
 "nbformat": 4,
 "nbformat_minor": 2
}
