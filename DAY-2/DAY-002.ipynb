{
 "cells": [
  {
   "cell_type": "code",
   "execution_count": 1,
   "metadata": {},
   "outputs": [
    {
     "name": "stdout",
     "output_type": "stream",
     "text": [
      "TODAY IS THE DAY 2 OF 100DAYS OF CODE \n",
      "today is the day 2 of 100days of code \n",
      "Today Is The Day 2 Of 100Days Of Code \n",
      "Today is the day 2 of 100days of code \n"
     ]
    }
   ],
   "source": [
    "#Day-2 of 100dayofcode [16/07/2022 saturday]\n",
    "# string functions \n",
    "str = \"Today is the day 2 of 100days of Code \"\n",
    "print(str.upper())\n",
    "print(str.lower())\n",
    "print(str.title())\n",
    "print(str.capitalize())"
   ]
  },
  {
   "cell_type": "code",
   "execution_count": 2,
   "metadata": {},
   "outputs": [
    {
     "name": "stdout",
     "output_type": "stream",
     "text": [
      "today is the day 2 of 100days of code ss \n"
     ]
    }
   ],
   "source": [
    "str = \"Today is the day 2 of 100days of Code ß \"\n",
    "print(str.casefold())\n",
    "# casefold vs lower \n",
    "# casefold have more range of char to convert into lower and it is also aggresive"
   ]
  },
  {
   "cell_type": "code",
   "execution_count": 18,
   "metadata": {},
   "outputs": [
    {
     "name": "stdout",
     "output_type": "stream",
     "text": [
      "      hello something       \n",
      "----------------hello something----------------\n",
      "!!!!!!!Today is the day 2 of 100days of Code ß !!!!!!!\n",
      "40\n",
      "Today is the day 2 of 100days of Code ß $$$$$$$$$$$$$$$$$$$$$$$$$$$$$$$$$$$$$$\n",
      "+++++++++++++++++++++++++++++++++++++++++++++++++Today is the day 2 of 100days of Code ß \n"
     ]
    }
   ],
   "source": [
    "#center() method returns a new centered string after padding it with the specified character.\n",
    "#syntax center(spaces/width,any char(optional))\n",
    "#imp = len(string) <= width \n",
    "stx = \"hello something\"\n",
    "nstr = stx.center(28)\n",
    "print(nstr)\n",
    "nstr = stx.center(47,\"-\")\n",
    "print(nstr)\n",
    "print(str.center(54,\"!\"))\n",
    "# ljust() the string ljust() method returns a left-justified string of a given minimum width.\n",
    "#syntax ljust(spaces/width,any char(optional))\n",
    "#imp = len(string) <= width \n",
    "print(len(str))\n",
    "print(str.ljust(78,\"$\"))\n",
    "# rjust() the string rjust() method returns a right-justified string of a given minimum width.\n",
    "#syntax rjust(spaces/width,any char(optional))\n",
    "#imp = len(string) <= width \n",
    "\n",
    "print(str.rjust(89,\"+\"))"
   ]
  },
  {
   "cell_type": "code",
   "execution_count": 21,
   "metadata": {},
   "outputs": [
    {
     "name": "stdout",
     "output_type": "stream",
     "text": [
      "3\n",
      "1\n"
     ]
    }
   ],
   "source": [
    "#count() method\n",
    "#it will find the any particuler char in string\n",
    "#syntax = count(substring,start(optional,endwith(optional)))\n",
    "print(str.count('a'))\n",
    "print(str.count(\"t\",0,15))"
   ]
  },
  {
   "cell_type": "code",
   "execution_count": 25,
   "metadata": {},
   "outputs": [
    {
     "name": "stdout",
     "output_type": "stream",
     "text": [
      "True\n",
      "False\n"
     ]
    }
   ],
   "source": [
    "#startswith()\n",
    "#The startswith() method returns True if a string starts with the specified prefix(string). If not, it returns False.\n",
    "#syntax = str.startswith(suffix,start,end)\n",
    "# tip it is also casesensitive\n",
    "print(str.startswith('T'))\n",
    "print(str.startswith(\" \",0,25))"
   ]
  },
  {
   "cell_type": "code",
   "execution_count": 23,
   "metadata": {},
   "outputs": [
    {
     "name": "stdout",
     "output_type": "stream",
     "text": [
      "True\n",
      "False\n"
     ]
    }
   ],
   "source": [
    "#endswidth()\n",
    "#The endswith() method returns True if a string ends with the specified suffix. If not, it returns False.\n",
    "#syntax = str.endswith(suffix,start,end)\n",
    "print(str.endswith(' '))\n",
    "print(str.endswith(\" \",0,25))"
   ]
  },
  {
   "cell_type": "code",
   "execution_count": 28,
   "metadata": {},
   "outputs": [
    {
     "name": "stdout",
     "output_type": "stream",
     "text": [
      "there\tare\tmore\ttabs\n",
      "'there\\tare\\tmore\\ttabs'\n",
      "there   are     more    tabs\n",
      "there are more tabs\n"
     ]
    }
   ],
   "source": [
    "# expandtabs()\n",
    "#it just replace \\t in string with spaces by default of size 8\n",
    "#syntax  expandtabs(size of spaces(by default =8))\n",
    "st = \"there\\tare\\tmore\\ttabs\"\n",
    "print(st)\n",
    "print(\"%r\"%(st))\n",
    "print(st.expandtabs())\n",
    "print(st.expandtabs(1))\n",
    "\n"
   ]
  },
  {
   "cell_type": "code",
   "execution_count": 29,
   "metadata": {},
   "outputs": [
    {
     "name": "stdout",
     "output_type": "stream",
     "text": [
      "b'trying various method'\n"
     ]
    }
   ],
   "source": [
    "#encode() method\n",
    "# this method will convert string into UTF-8 unicode \n",
    "#synatx = encode()\n",
    "stn = \"trying various method in string \"\n",
    "print(stn.encode())"
   ]
  },
  {
   "cell_type": "code",
   "execution_count": 36,
   "metadata": {},
   "outputs": [
    {
     "name": "stdout",
     "output_type": "stream",
     "text": [
      "24\n",
      "3\n",
      "-1\n"
     ]
    }
   ],
   "source": [
    "#find() method\n",
    "#The find() method returns the index of first occurrence of the substring (if found). If not found, it returns -1.\n",
    "#syntax = find(char/string)\n",
    "stn = \"trying various method in string \"\n",
    "print(len(\"trying various method in\"))\n",
    "print(stn.find(\"in\"))\n",
    "# trying  various method in string\n",
    "# 0        1       2     3    4\n",
    "print(stn.find(\"hello\"))\n"
   ]
  },
  {
   "cell_type": "code",
   "execution_count": null,
   "metadata": {},
   "outputs": [],
   "source": [
    "#index() method\n",
    "# similar to find() method\n",
    "# diff that find() method returns -1 if the substring is not found, whereas index() throws an exception.\n",
    "#syntax = index(\"string\"/\"char\")\n",
    "print(stn.index(\"various\"))\n",
    "# print(stn.index('@'))\n",
    "# it will give an error\n",
    "print(stn.index(\"a\"))"
   ]
  },
  {
   "cell_type": "code",
   "execution_count": 53,
   "metadata": {},
   "outputs": [
    {
     "name": "stdout",
     "output_type": "stream",
     "text": [
      "50\n",
      "42\n",
      "42\n"
     ]
    }
   ],
   "source": [
    "#rfind() method\n",
    "#The rfind() method returns the highest index of the substring (if found). If not found, it returns -1.\n",
    "#syntax = str.rfind(sub,start,end)\n",
    "s = \"something in the string is reapted in the string x\"\n",
    "print(len(s))\n",
    "print(s.rfind(\"string\"))\n",
    "#               something  in  the  string  is  reapted  in  the  string  x\n",
    "#string lenth -> 9          2   3    6       2     7      2    3     6    1\n",
    "# spaces  = 8\n",
    "print(9+2+3+2+7+2+3+6+8)\n"
   ]
  },
  {
   "cell_type": "code",
   "execution_count": 54,
   "metadata": {},
   "outputs": [
    {
     "name": "stdout",
     "output_type": "stream",
     "text": [
      "42\n"
     ]
    }
   ],
   "source": [
    "#rindex() method\n",
    "#The rindex() method returns the highest index of the substring inside the string (if found). \n",
    "# If the substring is not found, it raises an exception.\n",
    "#syntax = str.rindex(sub,start,end)\n",
    "print(s.rindex(\"string\"))"
   ]
  },
  {
   "cell_type": "markdown",
   "metadata": {},
   "source": [
    "string format() previous learned in deep\n"
   ]
  },
  {
   "cell_type": "code",
   "execution_count": 57,
   "metadata": {},
   "outputs": [
    {
     "name": "stdout",
     "output_type": "stream",
     "text": [
      "True\n",
      "True\n",
      "False\n"
     ]
    }
   ],
   "source": [
    "#isalnum() method\n",
    "#The isalnum() method returns True \n",
    "# if all characters in the string are alphanumeric (either alphabets or numbers). If not, it returns False.\n",
    "ns = \"abcdefg\"\n",
    "print(ns.isalnum())\n",
    "ns = \"abcdefg546\"\n",
    "print(ns.isalnum())\n",
    "ns = \"abcdefg54.6\"\n",
    "print(ns.isalnum())\n",
    "\n"
   ]
  },
  {
   "cell_type": "code",
   "execution_count": 60,
   "metadata": {},
   "outputs": [
    {
     "name": "stdout",
     "output_type": "stream",
     "text": [
      "True\n",
      "True\n",
      "False\n"
     ]
    }
   ],
   "source": [
    "#isalpha() method\n",
    "#The isalpha() method returns True if all characters in the string are alphabets. If not, it returns False.\n",
    "ns = \"abcdefg\"\n",
    "print(ns.isalpha())\n",
    "ns = \"abcdeaisalpha6\"\n",
    "print(ns.isalpha())\n"
   ]
  },
  {
   "cell_type": "code",
   "execution_count": 61,
   "metadata": {},
   "outputs": [
    {
     "name": "stdout",
     "output_type": "stream",
     "text": [
      "True\n",
      "False\n",
      "False\n",
      "False\n"
     ]
    }
   ],
   "source": [
    "#isdecimal() method\n",
    "#The isdecimal() method returns True if all characters in a string are decimal characters. If not, it returns False.\n",
    "s = '23455'\n",
    "print(s.isdecimal())\n",
    "\n",
    "s =\"7.54\"\n",
    "print(s.isdecimal())\n",
    "\n",
    "#s = '²3455'\n",
    "s = '\\u00B23455'\n",
    "print(s.isdecimal())\n",
    "\n",
    "# s = '½'\n",
    "s = '\\u00BD'\n",
    "print(s.isdecimal())\n",
    "\n"
   ]
  },
  {
   "cell_type": "code",
   "execution_count": 62,
   "metadata": {},
   "outputs": [
    {
     "name": "stdout",
     "output_type": "stream",
     "text": [
      "True\n",
      "False\n"
     ]
    }
   ],
   "source": [
    "#isdigit() method\n",
    "#The isdigit() method returns True if all characters in a string are numbers. If not, it returns False.\n",
    "s = \"78663\"\n",
    "print(s.isdigit())\n",
    "s = \"ad5545\"\n",
    "print(s.isdigit())\n"
   ]
  },
  {
   "cell_type": "code",
   "execution_count": 66,
   "metadata": {},
   "outputs": [
    {
     "name": "stdout",
     "output_type": "stream",
     "text": [
      "True\n",
      "True\n",
      "False\n",
      "False\n"
     ]
    }
   ],
   "source": [
    "#isidentifier() methods\n",
    "#isidentifier \n",
    "# A-Z\n",
    "# a-z\n",
    "# 0-9\n",
    "a = \"ayush\"\n",
    "print(a.isidentifier())\n",
    "a = \"ayysu56787\"\n",
    "print(a.isidentifier())\n",
    "a = \"s@ss\"\n",
    "print(a.isidentifier())\n",
    "a =\"7.04az\"\n",
    "print(a.isidentifier())\n",
    "\n",
    "\n",
    "\n"
   ]
  },
  {
   "cell_type": "code",
   "execution_count": 67,
   "metadata": {},
   "outputs": [
    {
     "name": "stdout",
     "output_type": "stream",
     "text": [
      "True\n",
      "False\n"
     ]
    }
   ],
   "source": [
    "#isnumeric() method\n",
    "#checks if all the characters in the string are numeric.\n",
    "q =\"7885\"\n",
    "print(q.isnumeric())\n",
    "q =\"78ass85\"\n",
    "print(q.isnumeric())\n"
   ]
  },
  {
   "cell_type": "code",
   "execution_count": 70,
   "metadata": {},
   "outputs": [
    {
     "name": "stdout",
     "output_type": "stream",
     "text": [
      "True\n",
      "\t\t\t\n",
      "sdjahdasud\n",
      "False\n"
     ]
    }
   ],
   "source": [
    "#isnumeric() method\n",
    "#The isprintable() method returns True if all characters in the string are printable. If not, it returns False.\n",
    "x = \"aygasgdasidgasudh56464@2323230.4532\"\n",
    "print(x.isprintable())\n",
    "x = \"\\t\\t\\t\\nsdjahdasud\"\n",
    "print(x)\n",
    "print(x.isprintable())"
   ]
  },
  {
   "cell_type": "code",
   "execution_count": 71,
   "metadata": {},
   "outputs": [
    {
     "name": "stdout",
     "output_type": "stream",
     "text": [
      "False\n",
      "False\n",
      "True\n"
     ]
    }
   ],
   "source": [
    "#isspace() method\n",
    "#The isspace() method returns True if there are only whitespace characters in the string. If not, it return False.\n",
    "w = \"sdasdd\"\n",
    "print(w.isspace())\n",
    "w = \"sas@ \"\n",
    "print(w.isspace())\n",
    "w = \"    \"\n",
    "print(w.isspace())"
   ]
  },
  {
   "cell_type": "code",
   "execution_count": 73,
   "metadata": {},
   "outputs": [
    {
     "name": "stdout",
     "output_type": "stream",
     "text": [
      "True\n",
      "False\n",
      "False\n"
     ]
    }
   ],
   "source": [
    "#islower() method\n",
    "#The islower() method returns True if all alphabets in a string are lowercase alphabets. \n",
    "# If the string contains at least one uppercase alphabet, it returns False.\n",
    "a = \"dadaddd\"\n",
    "print(a.islower())\n",
    "a = \"ahdadaAa\"\n",
    "print(a.islower())\n",
    "a = \"789\"\n",
    "print(a.islower())"
   ]
  },
  {
   "cell_type": "code",
   "execution_count": 74,
   "metadata": {},
   "outputs": [
    {
     "name": "stdout",
     "output_type": "stream",
     "text": [
      "False\n",
      "True\n"
     ]
    }
   ],
   "source": [
    "#isupper() method\n",
    "#The string isupper() method returns whether or not all characters in a string are uppercased or not.\n",
    "e = \"AHadada\"\n",
    "print(e.isupper())\n",
    "e = \"AGYYS\"\n",
    "print(e.isupper())\n"
   ]
  },
  {
   "cell_type": "code",
   "execution_count": 78,
   "metadata": {},
   "outputs": [
    {
     "name": "stdout",
     "output_type": "stream",
     "text": [
      "True\n",
      "True\n",
      "False\n"
     ]
    }
   ],
   "source": [
    "#istitle() method\n",
    "#The istitle() returns True if the string is a titlecased string. If not, it returns False.\n",
    "q = \"Ayush\"\n",
    "print(q.istitle())\n",
    "q = \"Ayush Talesara\"\n",
    "print(q.istitle())\n",
    "q = \"adsnhdhd\"\n",
    "print(q.istitle())"
   ]
  },
  {
   "cell_type": "code",
   "execution_count": 102,
   "metadata": {},
   "outputs": [
    {
     "name": "stdout",
     "output_type": "stream",
     "text": [
      "basc\n",
      "1 2 3 4\n",
      "1,2,3,4,awud\n",
      "1,a,@\n",
      "m1,m2\n"
     ]
    }
   ],
   "source": [
    "# join() method\n",
    "#The join() string method returns a string by joining all \n",
    "# the elements of an iterable (list, string, tuple), separated by a string separator.\n",
    "s1 = \"as\"\n",
    "s2 = \"bc\"\n",
    "print(s1.join(s2)) # it will random it \n",
    "lx = [\"1\", '2', '3', '4']# list should have only string in it\n",
    "ld = ' '\n",
    "print(ld.join(lx))\n",
    "lx = [\"1\", '2', '3', '4',\"awud\"]\n",
    "ld = ','\n",
    "print(ld.join(lx))\n",
    "tus = ('1',\"a\",\"@\")\n",
    "print(ld.join(tus))\n",
    "dict = {\"m1\":7788,\"m2\":588}\n",
    "print(ld.join(dict))\n"
   ]
  },
  {
   "cell_type": "code",
   "execution_count": 105,
   "metadata": {},
   "outputs": [
    {
     "name": "stdout",
     "output_type": "stream",
     "text": [
      "SDAADD\n",
      "aYUSH tALESARA\n",
      "AS879a@@\n"
     ]
    }
   ],
   "source": [
    "#swapcase() method\n",
    "#The swapcase() method returns the string by converting all \n",
    "# the characters to their opposite letter case( uppercase to lowercase and vice versa).\n",
    "we = \"sdaadd\"\n",
    "print(we.swapcase())\n",
    "we = \"Ayush Talesara\"\n",
    "print(we.swapcase())\n",
    "we = \"as879A@@\"\n",
    "print(we.swapcase())"
   ]
  },
  {
   "cell_type": "code",
   "execution_count": 114,
   "metadata": {},
   "outputs": [
    {
     "name": "stdout",
     "output_type": "stream",
     "text": [
      " as sss xx yy aaa ass\n",
      "yush djada jdsajd\n",
      "ascsac          ?\n"
     ]
    }
   ],
   "source": [
    "#strip() method\n",
    "#The strip() method returns a copy of the string by removing both \n",
    "# the leading and the trailing characters (based on the string argument passed).\n",
    "#syntax = string.strip(chars)\n",
    "s  = \"xx as sss xx yy aaa ass\"\n",
    "print(s.strip(\"xx\"))\n",
    "s = \"ayush djada jdsajd\"\n",
    "print(s.strip(\"a\"))\n",
    "s = \"         ascsac          ?\"\n",
    "print(s.strip(\" \"))\n"
   ]
  },
  {
   "cell_type": "code",
   "execution_count": 116,
   "metadata": {},
   "outputs": [
    {
     "name": "stdout",
     "output_type": "stream",
     "text": [
      " as sss xx yy aaa ass\n",
      "yush djada jdsajd\n",
      "ascsac          ?\n"
     ]
    }
   ],
   "source": [
    "#lstrip()\n",
    "#The lstrip() method returns a copy of the string with leading characters removed (based on the string argument passed).\n",
    "s  = \"xx as sss xx yy aaa ass\"\n",
    "print(s.lstrip(\"xx\"))\n",
    "s = \"ayush djada jdsajd\"\n",
    "print(s.lstrip(\"a\"))\n",
    "s = \"!    !    ascsac          ?\"\n",
    "print(s.lstrip(\"!    \"))\n"
   ]
  },
  {
   "cell_type": "code",
   "execution_count": 118,
   "metadata": {},
   "outputs": [
    {
     "name": "stdout",
     "output_type": "stream",
     "text": [
      "xx as sss xx yy aaa \n",
      "ayush djada jdsajd\n",
      "!    !    ascsac          \n"
     ]
    }
   ],
   "source": [
    "#rstrip()\n",
    "#The rstrip() method returns a copy of the string with trailing characters removed (based on the string argument passed).\n",
    "s  = \"xx as sss xx yy aaa ass\"\n",
    "print(s.rstrip(\"ass\"))\n",
    "s = \"ayush djada jdsajd\"\n",
    "print(s.rstrip(\"a\"))\n",
    "s = \"!    !    ascsac          ?\"\n",
    "print(s.rstrip(\"?\"))\n"
   ]
  },
  {
   "cell_type": "code",
   "execution_count": null,
   "metadata": {},
   "outputs": [],
   "source": []
  }
 ],
 "metadata": {
  "kernelspec": {
   "display_name": "Python 3.10.4 64-bit",
   "language": "python",
   "name": "python3"
  },
  "language_info": {
   "codemirror_mode": {
    "name": "ipython",
    "version": 3
   },
   "file_extension": ".py",
   "mimetype": "text/x-python",
   "name": "python",
   "nbconvert_exporter": "python",
   "pygments_lexer": "ipython3",
   "version": "3.10.4"
  },
  "orig_nbformat": 4,
  "vscode": {
   "interpreter": {
    "hash": "d818f4a5b132e7f66021d3e7c19c2b7a86b89f9388f799e2d6a66075690a4386"
   }
  }
 },
 "nbformat": 4,
 "nbformat_minor": 2
}
