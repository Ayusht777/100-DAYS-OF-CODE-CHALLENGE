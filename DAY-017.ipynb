{
 "cells": [
  {
   "cell_type": "markdown",
   "metadata": {},
   "source": [
    "# Day-17 of 100dayofcode [31/07/2022 sunday]"
   ]
  },
  {
   "cell_type": "code",
   "execution_count": null,
   "metadata": {},
   "outputs": [],
   "source": [
    "#nested statement and scope\n"
   ]
  },
  {
   "cell_type": "markdown",
   "metadata": {},
   "source": []
  },
  {
   "cell_type": "markdown",
   "metadata": {},
   "source": [
    "**LEGB Rule:**\n",
    "\n",
    "L: Local — Names assigned in any way within a function (def or lambda), and not declared global in that function.\n",
    "\n",
    "E: Enclosing function locals — Names in the local scope of any and all enclosing functions (def or lambda), from inner to outer.\n",
    "\n",
    "G: Global (module) — Names assigned at the top-level of a module file, or declared global in a def within the file.\n",
    "\n",
    "B: Built-in (Python) — Names preassigned in the built-in names module : open, range, SyntaxError,..."
   ]
  },
  {
   "cell_type": "code",
   "execution_count": null,
   "metadata": {},
   "outputs": [],
   "source": []
  },
  {
   "cell_type": "code",
   "execution_count": null,
   "metadata": {},
   "outputs": [],
   "source": []
  },
  {
   "cell_type": "code",
   "execution_count": 1,
   "metadata": {},
   "outputs": [
    {
     "data": {
      "text/plain": [
       "'In Python and most programming languages, variables declared outside a function are known as global variables. \\nYou can access such variables inside and outside of a function, as they have global scope.'"
      ]
     },
     "execution_count": 1,
     "metadata": {},
     "output_type": "execute_result"
    }
   ],
   "source": [
    "#Global, Local and Nonlocal variables\n",
    "#Global\n",
    "\"\"\"In Python and most programming languages, variables declared outside a function are known as global variables. \n",
    "You can access such variables inside and outside of a function, as they have global scope.\"\"\""
   ]
  },
  {
   "cell_type": "code",
   "execution_count": 4,
   "metadata": {},
   "outputs": [
    {
     "name": "stdout",
     "output_type": "stream",
     "text": [
      "outer:  ayush\n",
      "inner:  ayush\n"
     ]
    }
   ],
   "source": [
    "a = \"ayush\"\n",
    "def fp():\n",
    "    print(\"inner: \",a)\n",
    "print(\"outer: \",a)\n",
    "fp()"
   ]
  },
  {
   "cell_type": "code",
   "execution_count": 16,
   "metadata": {},
   "outputs": [
    {
     "name": "stdout",
     "output_type": "stream",
     "text": [
      "10\n",
      "11\n"
     ]
    }
   ],
   "source": [
    "#Using the global Keyword\n",
    "z= 10\n",
    "print(z)\n",
    "def xp():\n",
    "    global z # by global keyword we can use this function varibale and can be modified outof scope\n",
    "    z+=1\n",
    "    print(z)\n",
    "\n",
    "xp()\n"
   ]
  },
  {
   "cell_type": "code",
   "execution_count": 18,
   "metadata": {},
   "outputs": [
    {
     "name": "stdout",
     "output_type": "stream",
     "text": [
      "q:10\n"
     ]
    }
   ],
   "source": [
    "#Local Variables \n",
    "#variable inside a function\n",
    "def inf():\n",
    "    q=10\n",
    "    print(f\"q:{q}\")\n",
    "inf()"
   ]
  },
  {
   "cell_type": "code",
   "execution_count": 19,
   "metadata": {},
   "outputs": [
    {
     "ename": "NameError",
     "evalue": "name 'q' is not defined",
     "output_type": "error",
     "traceback": [
      "\u001b[1;31m---------------------------------------------------------------------------\u001b[0m",
      "\u001b[1;31mNameError\u001b[0m                                 Traceback (most recent call last)",
      "\u001b[1;32me:\\PROGAMMING\\100 DAYS OF CODE CHALLENGE\\DAY-017.ipynb Cell 6\u001b[0m in \u001b[0;36m<cell line: 1>\u001b[1;34m()\u001b[0m\n\u001b[1;32m----> <a href='vscode-notebook-cell:/e%3A/PROGAMMING/100%20DAYS%20OF%20CODE%20CHALLENGE/DAY-017.ipynb#ch0000006?line=0'>1</a>\u001b[0m \u001b[39mprint\u001b[39m(q)\n",
      "\u001b[1;31mNameError\u001b[0m: name 'q' is not defined"
     ]
    }
   ],
   "source": [
    "print(q)"
   ]
  },
  {
   "cell_type": "code",
   "execution_count": 25,
   "metadata": {},
   "outputs": [],
   "source": [
    "#Nonlocal Variables\n",
    "\"\"\"Nonlocal variables are used in nested functions whose local scope is not defined. \n",
    "This means that the variable can be neither in the local nor the global scope.\"\"\"\n",
    "def outer():\n",
    "    x = \"outer f\"\n",
    "    print(f\"nonlocal:{x}, local {x}\")\n",
    "    def inner ():\n",
    "        nonlocal x\n",
    "        x = \"inner\"\n",
    "        print(f\"nonlocal:{x}, local {x}\")\n",
    "    inner()"
   ]
  },
  {
   "cell_type": "code",
   "execution_count": 26,
   "metadata": {},
   "outputs": [
    {
     "name": "stdout",
     "output_type": "stream",
     "text": [
      "nonlocal:outer f, local outer f\n",
      "nonlocal:inner, local inner\n"
     ]
    }
   ],
   "source": [
    "outer()"
   ]
  },
  {
   "cell_type": "code",
   "execution_count": null,
   "metadata": {},
   "outputs": [],
   "source": []
  },
  {
   "cell_type": "markdown",
   "metadata": {},
   "source": [
    "# Modules"
   ]
  },
  {
   "cell_type": "markdown",
   "metadata": {},
   "source": [
    "A file containing Python code, for example: example.py, is called a module, and its module name would be example.\n",
    "\n",
    "We use modules to break down large programs into small manageable and organized files. Furthermore, modules provide reusability of code."
   ]
  },
  {
   "cell_type": "markdown",
   "metadata": {},
   "source": [
    "### importing  modules\n",
    "1. import module_name\n",
    "2. import moduel_name  as new_name # for easy use\n",
    "3. from moduel_name import particluer_moduel_function \n",
    "4. from moduel_name import * # to import all fuction in it\n"
   ]
  },
  {
   "cell_type": "code",
   "execution_count": 28,
   "metadata": {},
   "outputs": [
    {
     "name": "stdout",
     "output_type": "stream",
     "text": [
      "\n",
      "Please wait a moment while I gather a list of all available modules...\n",
      "\n"
     ]
    },
    {
     "name": "stderr",
     "output_type": "stream",
     "text": [
      "c:\\Users\\Ayush\\AppData\\Local\\Programs\\Python\\Python310\\lib\\pkgutil.py:107: VisibleDeprecationWarning: zmq.eventloop.minitornado is deprecated in pyzmq 14.0 and will be removed.\n",
      "    Install tornado itself to use zmq with the tornado IOLoop.\n",
      "    \n",
      "  yield from walk_packages(path, info.name+'.', onerror)\n"
     ]
    },
    {
     "name": "stdout",
     "output_type": "stream",
     "text": [
      "IPython             bdb                 matplotlib_inline   stringprep\n",
      "__future__          binascii            mimetypes           struct\n",
      "_abc                binhex              mistune             subprocess\n",
      "_aix_support        bisect              mmap                sunau\n",
      "_argon2_cffi_bindings bleach              mmapfile            symtable\n",
      "_ast                bs4                 mmsystem            sys\n",
      "_asyncio            builtins            modulefinder        sysconfig\n",
      "_bisect             bz2                 msilib              tabnanny\n",
      "_blake2             cProfile            msvcrt              tarfile\n",
      "_bootsubprocess     calendar            multiprocessing     telnetlib\n",
      "_bz2                cffi                nbclient            tempfile\n",
      "_cffi_backend       cgi                 nbconvert           terminado\n",
      "_codecs             cgitb               nbformat            test\n",
      "_codecs_cn          chunk               nest_asyncio        textwrap\n",
      "_codecs_hk          cmath               netbios             this\n",
      "_codecs_iso2022     cmd                 netrc               threading\n",
      "_codecs_jp          code                nntplib             time\n",
      "_codecs_kr          codecs              notebook            timeit\n",
      "_codecs_tw          codeop              nt                  timer\n",
      "_collections        collections         ntpath              tinycss2\n",
      "_collections_abc    colorama            ntsecuritycon       tkinter\n",
      "_compat_pickle      colorsys            nturl2path          token\n",
      "_compression        commctrl            numbers             tokenize\n",
      "_contextvars        compileall          odbc                toml\n",
      "_csv                concurrent          opcode              tornado\n",
      "_ctypes             configparser        operator            trace\n",
      "_ctypes_test        contextlib          optparse            traceback\n",
      "_datetime           contextvars         os                  tracemalloc\n",
      "_decimal            copy                packaging           traitlets\n",
      "_distutils_hack     copyreg             pandocfilters       tty\n",
      "_elementtree        crypt               parso               turtle\n",
      "_functools          csv                 pathlib             turtledemo\n",
      "_hashlib            ctypes              pdb                 types\n",
      "_heapq              curses              perfmon             typing\n",
      "_imp                dataclasses         pickle              unicodedata\n",
      "_io                 datetime            pickleshare         unittest\n",
      "_json               dateutil            pickletools         urllib\n",
      "_locale             dbi                 pip                 uu\n",
      "_lsprof             dbm                 pipes               uuid\n",
      "_lzma               dde                 pkg_resources       venv\n",
      "_markupbase         debugpy             pkgutil             warnings\n",
      "_md5                decimal             platform            wave\n",
      "_msi                decorator           plistlib            wcwidth\n",
      "_multibytecodec     defusedxml          poplib              weakref\n",
      "_multiprocessing    difflib             posixpath           webbrowser\n",
      "_opcode             dis                 pprint              webencodings\n",
      "_operator           distutils           profile             widgetsnbextension\n",
      "_osx_support        doctest             prometheus_client   win2kras\n",
      "_overlapped         email               prompt_toolkit      win32api\n",
      "_pickle             encodings           pstats              win32clipboard\n",
      "_py_abc             ensurepip           psutil              win32com\n",
      "_pydecimal          entrypoints         pty                 win32con\n",
      "_pyio               enum                pure_eval           win32console\n",
      "_pyrsistent_version errno               pvectorc            win32cred\n",
      "_queue              executing           py_compile          win32crypt\n",
      "_random             fastjsonschema      pyclbr              win32cryptcon\n",
      "_sha1               faulthandler        pycodestyle         win32event\n",
      "_sha256             filecmp             pycparser           win32evtlog\n",
      "_sha3               fileinput           pydoc               win32evtlogutil\n",
      "_sha512             fnmatch             pydoc_data          win32file\n",
      "_signal             fractions           pyexpat             win32gui\n",
      "_sitebuiltins       ftplib              pygments            win32gui_struct\n",
      "_socket             functools           pyparsing           win32help\n",
      "_sqlite3            gc                  pyrsistent          win32inet\n",
      "_sre                genericpath         pythoncom           win32inetcon\n",
      "_ssl                getopt              pywin               win32job\n",
      "_stat               getpass             pywin32_bootstrap   win32lz\n",
      "_statistics         gettext             pywin32_testutil    win32net\n",
      "_string             glob                pywintypes          win32netcon\n",
      "_strptime           graphlib            qtconsole           win32pdh\n",
      "_struct             gzip                qtpy                win32pdhquery\n",
      "_symtable           hashlib             queue               win32pdhutil\n",
      "_testbuffer         heapq               quopri              win32pipe\n",
      "_testcapi           hmac                random              win32print\n",
      "_testconsole        html                rasutil             win32process\n",
      "_testimportmultiple http                re                  win32profile\n",
      "_testinternalcapi   idlelib             regcheck            win32ras\n",
      "_testmultiphase     imaplib             regutil             win32rcparser\n",
      "_thread             imghdr              reprlib             win32security\n",
      "_threading_local    imp                 rlcompleter         win32service\n",
      "_tkinter            importlib           runpy               win32serviceutil\n",
      "_tracemalloc        inspect             sched               win32timezone\n",
      "_uuid               io                  secrets             win32trace\n",
      "_warnings           ipaddress           select              win32traceutil\n",
      "_weakref            ipykernel           selectors           win32transaction\n",
      "_weakrefset         ipykernel_launcher  send2trash          win32ts\n",
      "_win32sysloader     ipython_genutils    servicemanager      win32ui\n",
      "_winapi             ipywidgets          setuptools          win32uiole\n",
      "_winxptheme         isapi               shelve              win32verstamp\n",
      "_xxsubinterpreters  itertools           shlex               win32wnet\n",
      "_zoneinfo           jedi                shutil              winerror\n",
      "abc                 jinja2              signal              winioctlcon\n",
      "adodbapi            json                site                winnt\n",
      "afxres              jsonschema          six                 winperf\n",
      "aifc                jupyter             smtpd               winpty\n",
      "antigravity         jupyter_client      smtplib             winreg\n",
      "argon2              jupyter_console     sndhdr              winsound\n",
      "argparse            jupyter_core        socket              winxpgui\n",
      "array               jupyterlab_pygments socketserver        winxptheme\n",
      "ast                 jupyterlab_widgets  soupsieve           wsgiref\n",
      "asttokens           keyword             sqlite3             xdrlib\n",
      "asynchat            lib2to3             sre_compile         xml\n",
      "asyncio             linecache           sre_constants       xmlrpc\n",
      "asyncore            locale              sre_parse           xxsubtype\n",
      "atexit              logging             ssl                 zipapp\n",
      "attr                lzma                sspi                zipfile\n",
      "attrs               mailbox             sspicon             zipimport\n",
      "audioop             mailcap             stack_data          zlib\n",
      "autopep8            markupsafe          stat                zmq\n",
      "backcall            marshal             statistics          zoneinfo\n",
      "base64              math                string              \n",
      "\n",
      "Enter any module name to get more help.  Or, type \"modules spam\" to search\n",
      "for modules whose name or summary contain the string \"spam\".\n",
      "\n"
     ]
    }
   ],
   "source": [
    "# list of modules\n",
    "help('modules')"
   ]
  },
  {
   "cell_type": "code",
   "execution_count": 29,
   "metadata": {},
   "outputs": [
    {
     "data": {
      "text/html": [
       "<img src=\"https://d1jnx9ba8s6j9r.cloudfront.net/blog/wp-content/uploads/2019/05/2019-05-10-17_16_33-Window.png\" width=\"533\" height=\"477\"/>"
      ],
      "text/plain": [
       "<IPython.core.display.Image object>"
      ]
     },
     "execution_count": 29,
     "metadata": {},
     "output_type": "execute_result"
    }
   ],
   "source": [
    "from IPython.display import Image\n",
    "Image(url= \"https://d1jnx9ba8s6j9r.cloudfront.net/blog/wp-content/uploads/2019/05/2019-05-10-17_16_33-Window.png\", width=533, height=477)"
   ]
  },
  {
   "cell_type": "code",
   "execution_count": 31,
   "metadata": {},
   "outputs": [
    {
     "name": "stdout",
     "output_type": "stream",
     "text": [
      "81\n",
      "9.0\n"
     ]
    }
   ],
   "source": [
    "# for leamring we are going to use math module\n",
    "import math \n",
    "x =81\n",
    "print(x)\n",
    "x= math.sqrt(x)\n",
    "print(x)"
   ]
  },
  {
   "cell_type": "code",
   "execution_count": 32,
   "metadata": {},
   "outputs": [
    {
     "name": "stdout",
     "output_type": "stream",
     "text": [
      "81\n",
      "9.0\n"
     ]
    }
   ],
   "source": [
    "import math as m\n",
    "x =81\n",
    "print(x)\n",
    "x= m.sqrt(x)\n",
    "print(x)"
   ]
  },
  {
   "cell_type": "code",
   "execution_count": 33,
   "metadata": {},
   "outputs": [
    {
     "name": "stdout",
     "output_type": "stream",
     "text": [
      "81\n",
      "9.0\n"
     ]
    }
   ],
   "source": [
    "from math import sqrt\n",
    "x =81\n",
    "print(x)\n",
    "x= sqrt(x)\n",
    "print(x)"
   ]
  },
  {
   "cell_type": "code",
   "execution_count": 34,
   "metadata": {},
   "outputs": [
    {
     "name": "stdout",
     "output_type": "stream",
     "text": [
      "9.0\n",
      "3.141592653589793\n"
     ]
    }
   ],
   "source": [
    "from math import sqrt,pi\n",
    "print(sqrt(81))\n",
    "print(pi)"
   ]
  },
  {
   "cell_type": "code",
   "execution_count": 35,
   "metadata": {},
   "outputs": [
    {
     "name": "stdout",
     "output_type": "stream",
     "text": [
      "9.0\n",
      "3.141592653589793\n",
      "3.847392632571009e+23\n"
     ]
    }
   ],
   "source": [
    "from math import *\n",
    "print(sqrt(81))\n",
    "print(pi)\n",
    "print(cosh(55))\n",
    "# but this a bad  habit as python coder"
   ]
  },
  {
   "cell_type": "code",
   "execution_count": 36,
   "metadata": {},
   "outputs": [
    {
     "data": {
      "text/plain": [
       "['__doc__',\n",
       " '__loader__',\n",
       " '__name__',\n",
       " '__package__',\n",
       " '__spec__',\n",
       " 'acos',\n",
       " 'acosh',\n",
       " 'asin',\n",
       " 'asinh',\n",
       " 'atan',\n",
       " 'atan2',\n",
       " 'atanh',\n",
       " 'ceil',\n",
       " 'comb',\n",
       " 'copysign',\n",
       " 'cos',\n",
       " 'cosh',\n",
       " 'degrees',\n",
       " 'dist',\n",
       " 'e',\n",
       " 'erf',\n",
       " 'erfc',\n",
       " 'exp',\n",
       " 'expm1',\n",
       " 'fabs',\n",
       " 'factorial',\n",
       " 'floor',\n",
       " 'fmod',\n",
       " 'frexp',\n",
       " 'fsum',\n",
       " 'gamma',\n",
       " 'gcd',\n",
       " 'hypot',\n",
       " 'inf',\n",
       " 'isclose',\n",
       " 'isfinite',\n",
       " 'isinf',\n",
       " 'isnan',\n",
       " 'isqrt',\n",
       " 'lcm',\n",
       " 'ldexp',\n",
       " 'lgamma',\n",
       " 'log',\n",
       " 'log10',\n",
       " 'log1p',\n",
       " 'log2',\n",
       " 'modf',\n",
       " 'nan',\n",
       " 'nextafter',\n",
       " 'perm',\n",
       " 'pi',\n",
       " 'pow',\n",
       " 'prod',\n",
       " 'radians',\n",
       " 'remainder',\n",
       " 'sin',\n",
       " 'sinh',\n",
       " 'sqrt',\n",
       " 'tan',\n",
       " 'tanh',\n",
       " 'tau',\n",
       " 'trunc',\n",
       " 'ulp']"
      ]
     },
     "execution_count": 36,
     "metadata": {},
     "output_type": "execute_result"
    }
   ],
   "source": [
    "# dir() function \n",
    "# tell all function in module\n",
    "dir(math)"
   ]
  },
  {
   "cell_type": "code",
   "execution_count": 37,
   "metadata": {},
   "outputs": [
    {
     "name": "stdout",
     "output_type": "stream",
     "text": [
      "['e:\\\\PROGAMMING\\\\100 DAYS OF CODE CHALLENGE', 'c:\\\\Users\\\\Ayush\\\\AppData\\\\Local\\\\Programs\\\\Python\\\\Python310\\\\python310.zip', 'c:\\\\Users\\\\Ayush\\\\AppData\\\\Local\\\\Programs\\\\Python\\\\Python310\\\\DLLs', 'c:\\\\Users\\\\Ayush\\\\AppData\\\\Local\\\\Programs\\\\Python\\\\Python310\\\\lib', 'c:\\\\Users\\\\Ayush\\\\AppData\\\\Local\\\\Programs\\\\Python\\\\Python310', '', 'c:\\\\Users\\\\Ayush\\\\AppData\\\\Local\\\\Programs\\\\Python\\\\Python310\\\\lib\\\\site-packages', 'c:\\\\Users\\\\Ayush\\\\AppData\\\\Local\\\\Programs\\\\Python\\\\Python310\\\\lib\\\\site-packages\\\\win32', 'c:\\\\Users\\\\Ayush\\\\AppData\\\\Local\\\\Programs\\\\Python\\\\Python310\\\\lib\\\\site-packages\\\\win32\\\\lib', 'c:\\\\Users\\\\Ayush\\\\AppData\\\\Local\\\\Programs\\\\Python\\\\Python310\\\\lib\\\\site-packages\\\\Pythonwin']\n"
     ]
    }
   ],
   "source": [
    "import sys\n",
    "print(sys.path)"
   ]
  },
  {
   "cell_type": "code",
   "execution_count": 38,
   "metadata": {},
   "outputs": [],
   "source": [
    "import my_module as mm"
   ]
  },
  {
   "cell_type": "code",
   "execution_count": 40,
   "metadata": {},
   "outputs": [
    {
     "data": {
      "text/plain": [
       "['__builtins__',\n",
       " '__cached__',\n",
       " '__doc__',\n",
       " '__file__',\n",
       " '__loader__',\n",
       " '__name__',\n",
       " '__package__',\n",
       " '__spec__',\n",
       " 'add',\n",
       " 'div',\n",
       " 'mod',\n",
       " 'multi',\n",
       " 'sub']"
      ]
     },
     "execution_count": 40,
     "metadata": {},
     "output_type": "execute_result"
    }
   ],
   "source": [
    "dir(mm)"
   ]
  },
  {
   "cell_type": "code",
   "execution_count": 42,
   "metadata": {},
   "outputs": [
    {
     "name": "stdout",
     "output_type": "stream",
     "text": [
      "6\n",
      "4\n",
      "25\n",
      "5.0\n",
      "1\n"
     ]
    }
   ],
   "source": [
    "print(mm.add(1,5))\n",
    "print(mm.sub(5,1))\n",
    "print(mm.multi(5,5))\n",
    "print(mm.div(10,2))\n",
    "print(mm.mod(55,2))\n",
    "# but this module have several probelms in it\n",
    "# so we cannot update it later"
   ]
  },
  {
   "cell_type": "code",
   "execution_count": null,
   "metadata": {},
   "outputs": [],
   "source": [
    "# Reloading a module\n",
    "# the module gets import only one time so if it get update than we have to reload it "
   ]
  },
  {
   "cell_type": "markdown",
   "metadata": {},
   "source": [
    "## Functions and Methods"
   ]
  },
  {
   "cell_type": "markdown",
   "metadata": {},
   "source": [
    "**Write a function that computes the volume of a sphere given its radius.**\n",
    "\n"
   ]
  },
  {
   "cell_type": "code",
   "execution_count": 44,
   "metadata": {},
   "outputs": [
    {
     "data": {
      "text/html": [
       "<img src=\"https://i.postimg.cc/kXdwxbDp/image.png\" width=\"248\" height=\"101\"/>"
      ],
      "text/plain": [
       "<IPython.core.display.Image object>"
      ]
     },
     "execution_count": 44,
     "metadata": {},
     "output_type": "execute_result"
    }
   ],
   "source": [
    "from IPython.display import Image\n",
    "Image(url= \"https://i.postimg.cc/kXdwxbDp/image.png\", width=248, height=101)"
   ]
  },
  {
   "cell_type": "code",
   "execution_count": 49,
   "metadata": {},
   "outputs": [],
   "source": [
    "def volume_of_sphere():\n",
    "    z = float(input(\"ENTER RADIUS OF A SPHERE:\"))\n",
    "    \n",
    "    return(4/3*3.14*z**3)"
   ]
  },
  {
   "cell_type": "code",
   "execution_count": 50,
   "metadata": {},
   "outputs": [
    {
     "data": {
      "text/plain": [
       "381510.0"
      ]
     },
     "execution_count": 50,
     "metadata": {},
     "output_type": "execute_result"
    }
   ],
   "source": [
    "volume_of_sphere()"
   ]
  },
  {
   "cell_type": "code",
   "execution_count": 52,
   "metadata": {},
   "outputs": [
    {
     "data": {
      "text/plain": [
       "381510.0"
      ]
     },
     "execution_count": 52,
     "metadata": {},
     "output_type": "execute_result"
    }
   ],
   "source": []
  },
  {
   "cell_type": "markdown",
   "metadata": {},
   "source": [
    "\n",
    "**Write a function that checks whether a number is in a given range (inclusive of high and low)**"
   ]
  },
  {
   "cell_type": "code",
   "execution_count": 53,
   "metadata": {},
   "outputs": [],
   "source": [
    "def ran_check(num,low,high):\n",
    "    if(num in range(low,high+1)):\n",
    "        print(f\"{num} is in the range of {low} and {high}\")\n",
    "    else:\n",
    "        print(f\"{num} is not in the range of {low} and {high}\")"
   ]
  },
  {
   "cell_type": "code",
   "execution_count": 54,
   "metadata": {},
   "outputs": [
    {
     "name": "stdout",
     "output_type": "stream",
     "text": [
      "8 is in the range of 5 and 10\n"
     ]
    }
   ],
   "source": [
    "ran_check(8,5,10)"
   ]
  },
  {
   "cell_type": "code",
   "execution_count": 55,
   "metadata": {},
   "outputs": [
    {
     "name": "stdout",
     "output_type": "stream",
     "text": [
      "2 is not in the range of 0 and -1\n"
     ]
    }
   ],
   "source": [
    "ran_check(2,0,-1)"
   ]
  },
  {
   "cell_type": "markdown",
   "metadata": {},
   "source": [
    "____\n",
    "**Write a Python function that accepts a string and calculates the number of upper case letters and lower case letters.**\n",
    "\n",
    "    Sample String : 'Hello Mr. Rogers, how are you this fine Tuesday?'\n",
    "    Expected Output : \n",
    "    No. of Upper case characters : 4\n",
    "    No. of Lower case Characters : 33\n",
    "\n",
    "HINT: Two string methods that might prove useful: **.isupper()** and **.islower()**"
   ]
  },
  {
   "cell_type": "code",
   "execution_count": 67,
   "metadata": {},
   "outputs": [],
   "source": [
    "def up_low(s = 'PUT A STRING'):\n",
    "    up = 0\n",
    "    low =0\n",
    "    for i  in s:\n",
    "        if(i.isupper()):\n",
    "            up+=1\n",
    "        elif(i.islower()):\n",
    "            low+=1\n",
    "        else:\n",
    "            pass\n",
    "    print(f\"No. of Upper case Characters : {up}\")\n",
    "    print(f\"No. of Lower case Characters : {low}\")"
   ]
  },
  {
   "cell_type": "code",
   "execution_count": 69,
   "metadata": {},
   "outputs": [
    {
     "name": "stdout",
     "output_type": "stream",
     "text": [
      "No. of Upper case Characters : 1\n",
      "No. of Lower case Characters : 4\n"
     ]
    }
   ],
   "source": [
    "up_low(\"Ayush\")"
   ]
  },
  {
   "cell_type": "markdown",
   "metadata": {},
   "source": [
    "____\n",
    "**Write a Python function that takes a list and returns a new list with unique elements of the first list.**\n",
    "\n",
    "    Sample List : [1,1,1,1,2,2,3,3,3,3,4,5]\n",
    "    Unique List : [1, 2, 3, 4, 5]"
   ]
  },
  {
   "cell_type": "code",
   "execution_count": 76,
   "metadata": {},
   "outputs": [],
   "source": [
    "def unqiue_list(ls):\n",
    "    print(f\"orignal list : {ls}\")\n",
    "    ls = set(ls)\n",
    "    print(f\"unquie list : {list(ls)}\")"
   ]
  },
  {
   "cell_type": "code",
   "execution_count": 77,
   "metadata": {},
   "outputs": [
    {
     "name": "stdout",
     "output_type": "stream",
     "text": [
      "orignal list : [0, 4, 5, 7, 8, 4]\n",
      "unquie list : [0, 4, 5, 7, 8]\n"
     ]
    }
   ],
   "source": [
    "unqiue_list([0,4,5,7,8,4])"
   ]
  },
  {
   "cell_type": "markdown",
   "metadata": {},
   "source": [
    "____\n",
    "**Write a Python function to multiply all the numbers in a list.**\n",
    "\n",
    "    Sample List : [1, 2, 3, -4]\n",
    "    Expected Output : -24"
   ]
  },
  {
   "cell_type": "code",
   "execution_count": 93,
   "metadata": {},
   "outputs": [],
   "source": [
    "def multi_list(ls='None'):\n",
    "    multi = 1\n",
    "    for i in ls:\n",
    "        multi = multi*i\n",
    "    return(multi)\n"
   ]
  },
  {
   "cell_type": "code",
   "execution_count": 94,
   "metadata": {},
   "outputs": [
    {
     "data": {
      "text/plain": [
       "-24"
      ]
     },
     "execution_count": 94,
     "metadata": {},
     "output_type": "execute_result"
    }
   ],
   "source": [
    "multi_list([1,2,3,-4])"
   ]
  },
  {
   "cell_type": "markdown",
   "metadata": {},
   "source": [
    "______\n",
    "_____\n",
    "**Write a Python function to check whether a string is pangram or not. (Assume the string passed in does not have any punctuation)**\n",
    "\n",
    "    Note : Pangrams are words or sentences containing every letter of the alphabet at least once.\n",
    "    For example : \"The quick brown fox jumps over the lazy dog\""
   ]
  },
  {
   "cell_type": "code",
   "execution_count": 102,
   "metadata": {},
   "outputs": [],
   "source": [
    "import string as s\n",
    "def ispangrams(st,alphas = s.ascii_lowercase):\n",
    "    alphaset = set(alphas)\n",
    "    st = st.replace(\" \",'')\n",
    "    st = st.lower()\n",
    "    st = set(st)\n",
    "    return(st==alphaset)\n"
   ]
  },
  {
   "cell_type": "code",
   "execution_count": 103,
   "metadata": {},
   "outputs": [
    {
     "data": {
      "text/plain": [
       "True"
      ]
     },
     "execution_count": 103,
     "metadata": {},
     "output_type": "execute_result"
    }
   ],
   "source": [
    "ispangrams(\"The quick brown fox jumps over the lazy dog\")"
   ]
  },
  {
   "cell_type": "code",
   "execution_count": 106,
   "metadata": {},
   "outputs": [
    {
     "data": {
      "text/plain": [
       "'abcdefghijklmnopqrstuvwxyz'"
      ]
     },
     "execution_count": 106,
     "metadata": {},
     "output_type": "execute_result"
    }
   ],
   "source": [
    "s.ascii_lowercase"
   ]
  },
  {
   "cell_type": "code",
   "execution_count": null,
   "metadata": {},
   "outputs": [],
   "source": []
  }
 ],
 "metadata": {
  "kernelspec": {
   "display_name": "Python 3.10.4 64-bit",
   "language": "python",
   "name": "python3"
  },
  "language_info": {
   "codemirror_mode": {
    "name": "ipython",
    "version": 3
   },
   "file_extension": ".py",
   "mimetype": "text/x-python",
   "name": "python",
   "nbconvert_exporter": "python",
   "pygments_lexer": "ipython3",
   "version": "3.10.4"
  },
  "orig_nbformat": 4,
  "vscode": {
   "interpreter": {
    "hash": "d818f4a5b132e7f66021d3e7c19c2b7a86b89f9388f799e2d6a66075690a4386"
   }
  }
 },
 "nbformat": 4,
 "nbformat_minor": 2
}
