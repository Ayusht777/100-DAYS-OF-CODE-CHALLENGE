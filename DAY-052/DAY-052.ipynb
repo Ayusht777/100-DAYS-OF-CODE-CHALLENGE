{
 "cells": [
  {
   "cell_type": "markdown",
   "metadata": {},
   "source": [
    "# Day- 5️2 of 100dayofcode [06/09/2022 Tuesday]"
   ]
  },
  {
   "cell_type": "markdown",
   "metadata": {},
   "source": [
    "Reading Images With Tkinter\n",
    "\n",
    "In order to do various operations and manipulations on images, we require Python Pillow package. If the Pillow package is not present in the system then it can be installed using the below command.\n",
    "\n",
    "    In Command prompt:\n",
    "\n",
    "    pip install Pillow"
   ]
  },
  {
   "cell_type": "code",
   "execution_count": 1,
   "metadata": {},
   "outputs": [],
   "source": [
    "# importing required packages\n",
    "import tkinter\n",
    "from PIL import ImageTk, Image ,ImageFilter\n",
    "import os\n",
    "\n",
    "# creating main window\n",
    "root = tkinter.Tk()\n",
    "root.geometry(\"400x400\")\n",
    "# loading the image\n",
    "img = ImageTk.PhotoImage(Image.open(\"m.jpg\"))\n",
    "\n",
    "# reading the image\n",
    "panel = tkinter.Label(image = img)\n",
    "\n",
    "# setting the application\n",
    "panel.pack()\n",
    "\n",
    "# running the application\n",
    "root.mainloop()\n"
   ]
  },
  {
   "cell_type": "code",
   "execution_count": 52,
   "metadata": {},
   "outputs": [],
   "source": [
    "from tkinter import *\n",
    "import time\n",
    "\n",
    "root = Tk()\n",
    "root.geometry(\"500x200\")\n",
    "root.title(\"Clock\")\n",
    "root.resizable(0,0)\n",
    "\n",
    "root.iconbitmap(\"Graphicloads-100-Flat-Clock.ico\")\n",
    "\n",
    "\n",
    "\n",
    "l = Label(root,font=(\"Boulder\", 70, 'bold'),bg=\"yellow\",fg='white',bd=70)\n",
    "l.grid(row=0,column=1)\n",
    "\n",
    "\n",
    "def timec():\n",
    "    st = time.strftime(\"%H:%M:%S\")\n",
    "    l.config(text=st)\n",
    "    l.after(1000,timec)\n",
    "    \n",
    "\n",
    "\n",
    "timec()\n",
    "\n",
    "\n",
    "\n",
    "\n",
    "root.mainloop()"
   ]
  },
  {
   "cell_type": "code",
   "execution_count": null,
   "metadata": {},
   "outputs": [],
   "source": []
  }
 ],
 "metadata": {
  "kernelspec": {
   "display_name": "Python 3.10.6 64-bit",
   "language": "python",
   "name": "python3"
  },
  "language_info": {
   "codemirror_mode": {
    "name": "ipython",
    "version": 3
   },
   "file_extension": ".py",
   "mimetype": "text/x-python",
   "name": "python",
   "nbconvert_exporter": "python",
   "pygments_lexer": "ipython3",
   "version": "3.10.6"
  },
  "orig_nbformat": 4,
  "vscode": {
   "interpreter": {
    "hash": "d818f4a5b132e7f66021d3e7c19c2b7a86b89f9388f799e2d6a66075690a4386"
   }
  }
 },
 "nbformat": 4,
 "nbformat_minor": 2
}
