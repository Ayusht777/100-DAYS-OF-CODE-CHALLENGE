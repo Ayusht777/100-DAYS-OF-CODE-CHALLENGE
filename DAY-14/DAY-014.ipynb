{
 "cells": [
  {
   "cell_type": "code",
   "execution_count": 1,
   "metadata": {},
   "outputs": [],
   "source": [
    "# Day-14 of 100dayofcode [28/07/2022 thrusday]"
   ]
  },
  {
   "cell_type": "code",
   "execution_count": 2,
   "metadata": {},
   "outputs": [
    {
     "data": {
      "text/html": [
       "<img src=\"https://i.postimg.cc/htCSTky0/image.png\" width=\"921\" height=\"323\"/>"
      ],
      "text/plain": [
       "<IPython.core.display.Image object>"
      ]
     },
     "execution_count": 2,
     "metadata": {},
     "output_type": "execute_result"
    }
   ],
   "source": [
    "#max() function\n",
    "#max() function returns the largest item in an iterable. It can also be used to find the largest item between two or more parameters.\n",
    "#syntax : max(iterable, *iterables, key, default)\n",
    "from IPython.display import Image\n",
    "Image(url= \"https://i.postimg.cc/htCSTky0/image.png\", width=921, height=323)"
   ]
  },
  {
   "cell_type": "code",
   "execution_count": 15,
   "metadata": {},
   "outputs": [
    {
     "name": "stdout",
     "output_type": "stream",
     "text": [
      "17\n",
      "piyush\n",
      "k3\n",
      "1042\n",
      "('k3', 1042)\n",
      "8\n",
      "89\n",
      "[8, 1, 10, 2]\n"
     ]
    }
   ],
   "source": [
    "ls = list(range(11,18))\n",
    "print(max(ls))\n",
    "lss = [\"ayush\",\"piyush\",\"divyanshu\",\"hunny\"]# by alphabetically\n",
    "print(max(lss))\n",
    "dic = {\"k1\":897,'k2':45,'k3':1042}\n",
    "print(max(dic))#bydefault key\n",
    "print(max(dic.values()))\n",
    "print(max(dic.items()))\n",
    "t = (1,8,5)\n",
    "print(max(t))\n",
    "se = {0,89,4,53}\n",
    "print(max(se))\n",
    "ls1 = [1,8,9]\n",
    "ls2 = [8,1,10,2]\n",
    "print(max(ls1,ls2))#compare two list by their len"
   ]
  },
  {
   "cell_type": "code",
   "execution_count": 16,
   "metadata": {},
   "outputs": [
    {
     "data": {
      "text/html": [
       "<img src=\"https://i.postimg.cc/5NZCCk0T/image.png\" width=\"921\" height=\"323\"/>"
      ],
      "text/plain": [
       "<IPython.core.display.Image object>"
      ]
     },
     "execution_count": 16,
     "metadata": {},
     "output_type": "execute_result"
    }
   ],
   "source": [
    "#min() function\n",
    "# min() function returns the smallest item in an iterable. It can also be used to find the smallest item between two or more parameters.\n",
    "# syntax : min(iterable, *iterables, key, default)\n",
    "from IPython.display import Image\n",
    "Image(url= \"https://i.postimg.cc/5NZCCk0T/image.png\", width=921, height=323)"
   ]
  },
  {
   "cell_type": "code",
   "execution_count": 17,
   "metadata": {},
   "outputs": [
    {
     "name": "stdout",
     "output_type": "stream",
     "text": [
      "11\n",
      "ayush\n",
      "k1\n",
      "45\n",
      "('k1', 897)\n",
      "1\n",
      "0\n",
      "[1, 8, 9]\n"
     ]
    }
   ],
   "source": [
    "\n",
    "print(min(ls))\n",
    "lss = [\"ayush\",\"piyush\",\"divyanshu\",\"hunny\"]# by alphabetically\n",
    "print(min(lss))\n",
    "dic = {\"k1\":897,'k2':45,'k3':1042}\n",
    "print(min(dic))#bydefault key\n",
    "print(min(dic.values()))\n",
    "print(min(dic.items()))\n",
    "t = (1,8,5)\n",
    "print(min(t))\n",
    "se = {0,89,4,53}\n",
    "print(min(se))\n",
    "ls1 = [1,8,9]\n",
    "ls2 = [8,1,10,2]\n",
    "print(min(ls1,ls2))"
   ]
  },
  {
   "cell_type": "code",
   "execution_count": 18,
   "metadata": {},
   "outputs": [
    {
     "data": {
      "text/html": [
       "<img src=\"https://i.postimg.cc/MHfykkH0/image.png\" width=\"987\" height=\"212\"/>"
      ],
      "text/plain": [
       "<IPython.core.display.Image object>"
      ]
     },
     "execution_count": 18,
     "metadata": {},
     "output_type": "execute_result"
    }
   ],
   "source": [
    "#next() function\n",
    "#next() function returns the next item from the iterator.\n",
    "# syntax :next(iterator, default)\n",
    "from IPython.display import Image\n",
    "Image(url= \"https://i.postimg.cc/MHfykkH0/image.png\", width=987, height=212)"
   ]
  },
  {
   "cell_type": "code",
   "execution_count": 22,
   "metadata": {},
   "outputs": [
    {
     "name": "stdout",
     "output_type": "stream",
     "text": [
      "544\n",
      "56464\n",
      "88499\n"
     ]
    },
    {
     "ename": "StopIteration",
     "evalue": "",
     "output_type": "error",
     "traceback": [
      "\u001b[1;31m---------------------------------------------------------------------------\u001b[0m",
      "\u001b[1;31mStopIteration\u001b[0m                             Traceback (most recent call last)",
      "\u001b[1;32me:\\PROGAMMING\\100 DAYS OF CODE CHALLENGE\\DAY-014.ipynb Cell 7\u001b[0m in \u001b[0;36m<cell line: 6>\u001b[1;34m()\u001b[0m\n\u001b[0;32m      <a href='vscode-notebook-cell:/e%3A/PROGAMMING/100%20DAYS%20OF%20CODE%20CHALLENGE/DAY-014.ipynb#ch0000007?line=3'>4</a>\u001b[0m \u001b[39mprint\u001b[39m(\u001b[39mnext\u001b[39m(ls))\n\u001b[0;32m      <a href='vscode-notebook-cell:/e%3A/PROGAMMING/100%20DAYS%20OF%20CODE%20CHALLENGE/DAY-014.ipynb#ch0000007?line=4'>5</a>\u001b[0m \u001b[39mprint\u001b[39m(\u001b[39mnext\u001b[39m(ls))\n\u001b[1;32m----> <a href='vscode-notebook-cell:/e%3A/PROGAMMING/100%20DAYS%20OF%20CODE%20CHALLENGE/DAY-014.ipynb#ch0000007?line=5'>6</a>\u001b[0m \u001b[39mprint\u001b[39m(\u001b[39mnext\u001b[39;49m(ls))\n",
      "\u001b[1;31mStopIteration\u001b[0m: "
     ]
    }
   ],
   "source": [
    "ls = [544,56464,88499]\n",
    "ls = iter(ls)\n",
    "print(next(ls))\n",
    "print(next(ls))\n",
    "print(next(ls))\n",
    "print(next(ls))# error due to out of range"
   ]
  },
  {
   "cell_type": "code",
   "execution_count": 25,
   "metadata": {},
   "outputs": [
    {
     "name": "stdout",
     "output_type": "stream",
     "text": [
      "0o20420\n",
      "-0o1\n"
     ]
    }
   ],
   "source": [
    "#oct() function\n",
    "# oct() function takes an integer number and returns its octal representation.\n",
    "# syntax : oct( integer number (binary, decimal or hexadecimal))\n",
    "print(oct(8464))\n",
    "print(oct(-1))\n"
   ]
  },
  {
   "cell_type": "code",
   "execution_count": 26,
   "metadata": {},
   "outputs": [
    {
     "data": {
      "text/html": [
       "<img src=\"https://i.postimg.cc/Y0Sm75SD/image.png\" width=\"1003\" height=\"317\"/>"
      ],
      "text/plain": [
       "<IPython.core.display.Image object>"
      ]
     },
     "execution_count": 26,
     "metadata": {},
     "output_type": "execute_result"
    }
   ],
   "source": [
    "# pow() function\n",
    "# pow() method computes the power of a number by raising the first argument to the second argument \n",
    "# syntax : pow(number, power, modulus [optional])\n",
    "from IPython.display import Image\n",
    "Image(url= \"https://i.postimg.cc/Y0Sm75SD/image.png\", width=1003, height=317)"
   ]
  },
  {
   "cell_type": "code",
   "execution_count": 28,
   "metadata": {},
   "outputs": [
    {
     "name": "stdout",
     "output_type": "stream",
     "text": [
      "4\n",
      "32\n",
      "0.25\n",
      "6\n"
     ]
    }
   ],
   "source": [
    "print(pow(2,2))\n",
    "print(pow(2,5))\n",
    "print(pow(2,-2))\n",
    "print(pow(2,8,10))\n"
   ]
  },
  {
   "cell_type": "code",
   "execution_count": 32,
   "metadata": {},
   "outputs": [
    {
     "name": "stdout",
     "output_type": "stream",
     "text": [
      "[\"DAY-010 - SMALL PROJECT'S.ipynb\"]\n",
      "DAY-014.ipynb\n",
      "'adada'\n",
      "\"'adada'\"\n"
     ]
    }
   ],
   "source": [
    "# repr() function\n",
    "# repr() function returns a printable representation of the given object.\n",
    "# syntax : repr(obj)\n",
    "# obj - the object whose printable representation has to be returned\n",
    "print(repr([\"DAY-010 - SMALL PROJECT'S.ipynb\"]))\n",
    "print(\"DAY-014.ipynb\")\n",
    "print(\"'adada'\")\n",
    "print(repr(\"'adada'\"))"
   ]
  },
  {
   "cell_type": "code",
   "execution_count": 33,
   "metadata": {},
   "outputs": [
    {
     "data": {
      "text/html": [
       "<img src=\"https://i.postimg.cc/mD3CS3cR/image.png\" width=\"973\" height=\"241\"/>"
      ],
      "text/plain": [
       "<IPython.core.display.Image object>"
      ]
     },
     "execution_count": 33,
     "metadata": {},
     "output_type": "execute_result"
    }
   ],
   "source": [
    "#round() function\n",
    "# round() function returns a floating-point number rounded to the specified number of decimals.\n",
    "# synatx : round(number, ndigits)\n",
    "from IPython.display import Image\n",
    "Image(url= \"https://i.postimg.cc/mD3CS3cR/image.png\", width=973, height=241)"
   ]
  },
  {
   "cell_type": "code",
   "execution_count": 39,
   "metadata": {},
   "outputs": [
    {
     "name": "stdout",
     "output_type": "stream",
     "text": [
      "13\n",
      "47.146\n"
     ]
    },
    {
     "ename": "TypeError",
     "evalue": "type str doesn't define __round__ method",
     "output_type": "error",
     "traceback": [
      "\u001b[1;31m---------------------------------------------------------------------------\u001b[0m",
      "\u001b[1;31mTypeError\u001b[0m                                 Traceback (most recent call last)",
      "\u001b[1;32me:\\PROGAMMING\\100 DAYS OF CODE CHALLENGE\\DAY-014.ipynb Cell 13\u001b[0m in \u001b[0;36m<cell line: 4>\u001b[1;34m()\u001b[0m\n\u001b[0;32m      <a href='vscode-notebook-cell:/e%3A/PROGAMMING/100%20DAYS%20OF%20CODE%20CHALLENGE/DAY-014.ipynb#ch0000014?line=1'>2</a>\u001b[0m \u001b[39mprint\u001b[39m(\u001b[39mround\u001b[39m(\u001b[39m47.14555\u001b[39m,\u001b[39m3\u001b[39m))\n\u001b[0;32m      <a href='vscode-notebook-cell:/e%3A/PROGAMMING/100%20DAYS%20OF%20CODE%20CHALLENGE/DAY-014.ipynb#ch0000014?line=2'>3</a>\u001b[0m n \u001b[39m=\u001b[39m \u001b[39m'\u001b[39m\u001b[39m1.145\u001b[39m\u001b[39m'\u001b[39m\n\u001b[1;32m----> <a href='vscode-notebook-cell:/e%3A/PROGAMMING/100%20DAYS%20OF%20CODE%20CHALLENGE/DAY-014.ipynb#ch0000014?line=3'>4</a>\u001b[0m \u001b[39mprint\u001b[39m(\u001b[39mround\u001b[39;49m(n,\u001b[39m2\u001b[39;49m))\n",
      "\u001b[1;31mTypeError\u001b[0m: type str doesn't define __round__ method"
     ]
    }
   ],
   "source": [
    "print(round(13.455))\n",
    "print(round(47.14555,3))\n",
    "n = '1.145'\n",
    "print(round(n,2))"
   ]
  },
  {
   "cell_type": "code",
   "execution_count": 41,
   "metadata": {},
   "outputs": [
    {
     "name": "stdout",
     "output_type": "stream",
     "text": [
      "1\n"
     ]
    }
   ],
   "source": [
    "print(round(eval('1.145')))"
   ]
  },
  {
   "cell_type": "code",
   "execution_count": 50,
   "metadata": {},
   "outputs": [
    {
     "name": "stdout",
     "output_type": "stream",
     "text": [
      "<class 'set'>\n",
      "{'k1'}\n",
      "<class 'set'>\n",
      "{'k1'}\n",
      "<class 'set'>\n",
      "<class 'set'>\n"
     ]
    }
   ],
   "source": [
    "#  set() function\n",
    "# set() function creates a set in Python.\n",
    "# syntax : set(iterable)\n",
    "# iterable (optional) - a sequence (string, tuple, etc.) or collection (set, dictionary, etc.) or an iterator object to be converted into a set.\n",
    "n  = [44,56,4]\n",
    "n =set(n)\n",
    "print(type(n))\n",
    "z  = {\"k1\":564}\n",
    "z = set(z)\n",
    "print(z)\n",
    "print(type(z))\n",
    "z = set(z)\n",
    "print(z)\n",
    "print(type(z))\n",
    "a =(54,89,840)\n",
    "a = set(a)\n",
    "print(type(a))\n",
    "\n",
    "\n"
   ]
  },
  {
   "cell_type": "code",
   "execution_count": 60,
   "metadata": {},
   "outputs": [
    {
     "data": {
      "text/html": [
       "<img src=\"https://i.postimg.cc/qMnd40bN/image.png\" width=\"1040\" height=\"409\"/>"
      ],
      "text/plain": [
       "<IPython.core.display.Image object>"
      ]
     },
     "execution_count": 60,
     "metadata": {},
     "output_type": "execute_result"
    }
   ],
   "source": [
    "#slice() function\n",
    "#slice() function returns a slice object that is used to slice any sequence (string, tuple, list, range, or bytes).\n",
    "# syntax :slice(start, stop, step)\n",
    "from IPython.display import Image\n",
    "Image(url= \"https://i.postimg.cc/qMnd40bN/image.png\", width=1040, height=409)\n"
   ]
  },
  {
   "cell_type": "code",
   "execution_count": 59,
   "metadata": {},
   "outputs": [
    {
     "name": "stdout",
     "output_type": "stream",
     "text": [
      "ay\n",
      "ayus\n",
      "au\n"
     ]
    }
   ],
   "source": [
    "x= \"ayush\"\n",
    "a  = slice(2)\n",
    "print(x[a])\n",
    "a  = slice(0,4)\n",
    "print(x[a])\n",
    "a  = slice(0,4,2)\n",
    "print(x[a])"
   ]
  },
  {
   "cell_type": "code",
   "execution_count": 62,
   "metadata": {},
   "outputs": [
    {
     "data": {
      "text/html": [
       "<img src=\"https://i.postimg.cc/1XgGqvnz/image.png\" width=\"990\" height=\"501\"/>"
      ],
      "text/plain": [
       "<IPython.core.display.Image object>"
      ]
     },
     "execution_count": 62,
     "metadata": {},
     "output_type": "execute_result"
    }
   ],
   "source": [
    "# str() function\n",
    "# str() method returns the string representation of a given object.\n",
    "# syntax : str(object, encoding='utf-8', errors='strict')\n",
    "from IPython.display import Image\n",
    "Image(url= \"https://i.postimg.cc/1XgGqvnz/image.png\", width=990, height=501)\n"
   ]
  },
  {
   "cell_type": "code",
   "execution_count": 66,
   "metadata": {},
   "outputs": [
    {
     "name": "stdout",
     "output_type": "stream",
     "text": [
      "<class 'str'>\n",
      "<class 'str'> ['1', '455', 1]\n"
     ]
    }
   ],
   "source": [
    "n = 56446\n",
    "n = str(n)\n",
    "print(type(n))\n",
    "l = [\"1\",\"455\",1]\n",
    "l = str(l)\n",
    "print(type(l),l)\n"
   ]
  },
  {
   "cell_type": "code",
   "execution_count": 67,
   "metadata": {},
   "outputs": [
    {
     "data": {
      "text/html": [
       "<img src=\"https://i.postimg.cc/j2RR7Hv3/image.png\" width=\"897\" height=\"197\"/>"
      ],
      "text/plain": [
       "<IPython.core.display.Image object>"
      ]
     },
     "execution_count": 67,
     "metadata": {},
     "output_type": "execute_result"
    }
   ],
   "source": [
    "# tuple fucntion\n",
    "# The tuple() builtin can be used to create tuples in Python.\n",
    "# syntax :tuple(iterable)\n",
    "from IPython.display import Image\n",
    "Image(url= \"https://i.postimg.cc/j2RR7Hv3/image.png\", width=897, height=197)"
   ]
  },
  {
   "cell_type": "code",
   "execution_count": 68,
   "metadata": {},
   "outputs": [
    {
     "name": "stdout",
     "output_type": "stream",
     "text": [
      "<class 'tuple'> ('a', 'y', 'u', 's', 'h')\n"
     ]
    }
   ],
   "source": [
    "a  = \"ayush\"\n",
    "a  = tuple(a)\n",
    "print(type(a),a)"
   ]
  },
  {
   "cell_type": "markdown",
   "metadata": {},
   "source": [
    "## Find 3 to next 3 function\n",
    "Given a list of ints, return True if the array contains a 3 next to a 3 somewhere.\n",
    "\n",
    "    f33([1, 3, 3]) → True\n",
    "    f33([1, 3, 1, 3]) → False\n",
    "    f33([3, 1, 3]) → False\n"
   ]
  },
  {
   "cell_type": "code",
   "execution_count": 96,
   "metadata": {},
   "outputs": [],
   "source": [
    "def f33(ls = 'None'):\n",
    "    for i in range(0,len(ls)-1):\n",
    "        if(ls[i]==3 and ls[i+1]==3):\n",
    "            return(True)\n",
    "    return(False)\n"
   ]
  },
  {
   "cell_type": "code",
   "execution_count": 99,
   "metadata": {},
   "outputs": [
    {
     "name": "stdout",
     "output_type": "stream",
     "text": [
      "True\n",
      "False\n",
      "True\n"
     ]
    }
   ],
   "source": [
    "print(f33([1,3,3]))\n",
    "print(f33([1,2,3,2]))\n",
    "print(f33([1,2,3,3]))\n"
   ]
  },
  {
   "cell_type": "markdown",
   "metadata": {},
   "source": [
    "#### PAPER DOLL: Given a string, return a string where for every character in the original there are three characters\n",
    "    paper_doll('Hello') --> 'HHHeeellllllooo'\n",
    "    paper_doll('Mississippi') --> 'MMMiiissssssiiippppppiii'"
   ]
  },
  {
   "cell_type": "code",
   "execution_count": 111,
   "metadata": {},
   "outputs": [],
   "source": [
    "def paper_doll(s=\"none\"):\n",
    "    ret = ''\n",
    "    for i in  s:\n",
    "        ret = ret + i*3\n",
    "    print(ret)"
   ]
  },
  {
   "cell_type": "code",
   "execution_count": 112,
   "metadata": {},
   "outputs": [
    {
     "name": "stdout",
     "output_type": "stream",
     "text": [
      "aaayyy\n"
     ]
    }
   ],
   "source": [
    "paper_doll(\"ay\")"
   ]
  },
  {
   "cell_type": "markdown",
   "metadata": {},
   "source": [
    "#### BLACKJACK: Given three integers between 1 and 11, if their sum is less than or equal to 21, return their sum. If their sum exceeds 21 *and* there's an eleven, reduce the total sum by 10. Finally, if the sum (even after adjustment) exceeds 21, return 'BUST'\n",
    "    blackjack(5,6,7) --> 18\n",
    "    blackjack(9,9,9) --> 'BUST'\n",
    "    blackjack(9,9,11) --> 19"
   ]
  },
  {
   "cell_type": "code",
   "execution_count": 137,
   "metadata": {},
   "outputs": [],
   "source": [
    "def blackjack(a,b,c='none'):\n",
    "    if(a <=11 and b<=11 and c<=11):\n",
    "        if(sum((a,b,c))<=21):\n",
    "            return(sum((a,b,c)))\n",
    "        elif(sum((a,b,c))<=31 and 11 in (a,b,c)):\n",
    "                return(sum((a,b,c))-10)\n",
    "        else:\n",
    "            return(\"BUST\")\n",
    "    else:\n",
    "        print(\"the number range should be between 1-11\")"
   ]
  },
  {
   "cell_type": "code",
   "execution_count": 138,
   "metadata": {},
   "outputs": [
    {
     "name": "stdout",
     "output_type": "stream",
     "text": [
      "6\n",
      "BUST\n",
      "19\n",
      "the number range should be between 1-11\n",
      "None\n"
     ]
    }
   ],
   "source": [
    "print(blackjack(1,2,3))\n",
    "print(blackjack(9,9,9))\n",
    "print(blackjack(8,10,11))\n",
    "print(blackjack(15,10,11))\n"
   ]
  },
  {
   "cell_type": "markdown",
   "metadata": {},
   "source": [
    "#### SUMMER OF '69: Return the sum of the numbers in the array, except ignore sections of numbers starting with a 6 and extending to the next 9 (every 6 will be followed by at least one 9). Return 0 for no numbers.\n",
    " \n",
    "    summer_69([1, 3, 5]) --> 9\n",
    "    summer_69([4, 5, 6, 7, 8, 9]) --> 9\n",
    "    summer_69([2, 1, 6, 9, 11]) --> 14"
   ]
  },
  {
   "cell_type": "code",
   "execution_count": 155,
   "metadata": {},
   "outputs": [],
   "source": [
    "def summer_69(ls):\n",
    "    sun = 0\n",
    "    b =True\n",
    "    for i in ls:\n",
    "        while b:\n",
    "            if(i!=6):\n",
    "                sun+=i\n",
    "                break\n",
    "            else:\n",
    "                b =False\n",
    "        while not b:\n",
    "            if(i!=9):\n",
    "                \n",
    "                break\n",
    "            else:\n",
    "                b =True\n",
    "                break\n",
    "    return(sun)\n",
    "            \n"
   ]
  },
  {
   "cell_type": "code",
   "execution_count": 156,
   "metadata": {},
   "outputs": [
    {
     "data": {
      "text/plain": [
       "9"
      ]
     },
     "execution_count": 156,
     "metadata": {},
     "output_type": "execute_result"
    }
   ],
   "source": [
    "summer_69([1,3,5])"
   ]
  },
  {
   "cell_type": "code",
   "execution_count": 159,
   "metadata": {},
   "outputs": [
    {
     "data": {
      "text/plain": [
       "12"
      ]
     },
     "execution_count": 159,
     "metadata": {},
     "output_type": "execute_result"
    }
   ],
   "source": [
    "summer_69([4,8, 6, 7, 8, 9])"
   ]
  },
  {
   "cell_type": "markdown",
   "metadata": {},
   "source": [
    "#### SPY GAME: Write a function that takes in a list of integers and returns True if it contains 007 in order\n",
    "\n",
    "     spy_game([1,2,4,0,0,7,5]) --> True\n",
    "     spy_game([1,0,2,4,0,5,7]) --> True\n",
    "     spy_game([1,7,2,0,4,5,0]) --> False\n",
    "\n"
   ]
  },
  {
   "cell_type": "code",
   "execution_count": 162,
   "metadata": {},
   "outputs": [],
   "source": [
    "def spy_game(ls):\n",
    "    check = [0,0,7,'counter']\n",
    "    for i in ls:\n",
    "        if (i==check[0]):\n",
    "            check.pop(0)# 0 index will going to pop out\n",
    "    return(len(check) == 1)\n"
   ]
  },
  {
   "cell_type": "code",
   "execution_count": 163,
   "metadata": {},
   "outputs": [
    {
     "data": {
      "text/plain": [
       "True"
      ]
     },
     "execution_count": 163,
     "metadata": {},
     "output_type": "execute_result"
    }
   ],
   "source": [
    "spy_game([1,2,4,0,0,7,5])"
   ]
  },
  {
   "cell_type": "code",
   "execution_count": 164,
   "metadata": {},
   "outputs": [
    {
     "data": {
      "text/plain": [
       "True"
      ]
     },
     "execution_count": 164,
     "metadata": {},
     "output_type": "execute_result"
    }
   ],
   "source": [
    "spy_game([1,0,2,4,0,5,7])"
   ]
  },
  {
   "cell_type": "code",
   "execution_count": null,
   "metadata": {},
   "outputs": [],
   "source": []
  }
 ],
 "metadata": {
  "kernelspec": {
   "display_name": "Python 3.10.4 64-bit",
   "language": "python",
   "name": "python3"
  },
  "language_info": {
   "codemirror_mode": {
    "name": "ipython",
    "version": 3
   },
   "file_extension": ".py",
   "mimetype": "text/x-python",
   "name": "python",
   "nbconvert_exporter": "python",
   "pygments_lexer": "ipython3",
   "version": "3.10.4"
  },
  "orig_nbformat": 4,
  "vscode": {
   "interpreter": {
    "hash": "d818f4a5b132e7f66021d3e7c19c2b7a86b89f9388f799e2d6a66075690a4386"
   }
  }
 },
 "nbformat": 4,
 "nbformat_minor": 2
}
