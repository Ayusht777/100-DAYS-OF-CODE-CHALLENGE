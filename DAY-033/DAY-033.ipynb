{
 "cells": [
  {
   "cell_type": "markdown",
   "metadata": {},
   "source": [
    "# Day-33 of 100dayofcode [17/08/2022 Wednesday]\n"
   ]
  },
  {
   "cell_type": "markdown",
   "metadata": {},
   "source": [
    "##  Pylint\n",
    "Pylint  it is a python libary which check's error in your code and give infromation of it not just checking error it also show the indention problems and follows PEP8  style in python\n",
    "\n",
    "let test it in .py file\n",
    "\n",
    "pip installation\n",
    "<code> py -m pip install --upgrade pip <code>"
   ]
  },
  {
   "cell_type": "markdown",
   "metadata": {},
   "source": [
    "<code>Installation\n",
    "\n",
    "To install pylint, make sure Python is installed on your PC. Open the command prompt(Windows) / terminal(Linux) on your PC and type the following command\n",
    "\n",
    "pip install pylint \n",
    "\n",
    "To verify the pylint installation, type the following command\n",
    "\n",
    "pylint --version <code>"
   ]
  },
  {
   "cell_type": "markdown",
   "metadata": {},
   "source": [
    "\n",
    "PS E:\\PROGAMMING\\100 DAYS OF CODE CHALLENGE> cd .\\DAY-033\\\n",
    "PS E:\\PROGAMMING\\100 DAYS OF CODE CHALLENGE\\DAY-033> dir\n",
    "\n",
    "\n",
    "    Directory: E:\\PROGAMMING\\100 DAYS OF CODE CHALLENGE\\DAY-033\n",
    "\n",
    "Mode                 LastWriteTime         Length Name                                                                                                              \n",
    "----                 -------------         ------ ----                                                                                                              \n",
    "d-----        17-08-2022  07:17 PM                .ipynb_checkpoints                                                                                                \n",
    "-a----        17-08-2022  07:00 PM           1462 DAY-033.ipynb                                                                                                     \n",
    "-a----        17-08-2022  07:17 PM             34 test1.py                                                                                                          \n",
    "\n",
    "\n",
    "PS E:\\PROGAMMING\\100 DAYS OF CODE CHALLENGE\\DAY-033> pylint test1.py\n",
    "************* Module test1\n",
    "\n",
    "test1.py:1:5: C0303: Trailing whitespace (trailing-whitespace)\n",
    "test1.py:4:0: C0304: Final newline missing (missing-final-newline)\n",
    "test1.py:1:0: C0114: Missing module docstring (missing-module-docstring)\n",
    "test1.py:1:0: C0103: Constant name \"x\" doesn't conform to UPPER_CASE naming style (invalid-name)\n",
    "test1.py:2:0: C0103: Constant name \"y\" doesn't conform to UPPER_CASE naming style (invalid-name)\n",
    "test1.py:4:6: E0602: Undefined variable 'Y' (undefined-variable)\n",
    "\n",
    "------------------------------------------------------------------\n",
    "Your code has been rated at 0.00/10 (previous run: 0.00/10, +0.00)\n",
    "\n",
    "************* Module test1\n",
    "test1.py:1:5: C0303: Trailing whitespace (trailing-whitespace)\n",
    "test1.py:2:5: C0303: Trailing whitespace (trailing-whitespace)\n",
    "test1.py:4:0: C0304: Final newline missing (missing-final-newline)\n",
    "test1.py:1:0: C0114: Missing module docstring (missing-module-docstring)\n",
    "test1.py:1:0: C0103: Constant name \"x\" doesn't conform to UPPER_CASE naming style (invalid-name)\n",
    "test1.py:2:0: C0103: Constant name \"y\" doesn't conform to UPPER_CASE naming style (invalid-name)\n",
    "\n",
    "------------------------------------------------------------------\n",
    "Your code has been rated at 0.00/10 (previous run: 0.00/10, +0.00)\n",
    "\n",
    "PS E:\\PROGAMMING\\100 DAYS OF CODE CHALLENGE\\DAY-033> pylint test1.py\n",
    "************* Module test1\n",
    "test1.py:1:5: C0303: Trailing whitespace (trailing-whitespace)\n",
    "test1.py:2:5: C0303: Trailing whitespace (trailing-whitespace)\n",
    "test1.py:4:0: C0304: Final newline missing (missing-final-newline)\n",
    "test1.py:1:0: C0114: Missing module docstring (missing-module-docstring)\n",
    "\n",
    "------------------------------------------------------------------\n",
    "Your code has been rated at 0.00/10 (previous run: 0.00/10, +0.00)\n",
    "\n",
    "PS E:\\PROGAMMING\\100 DAYS OF CODE CHALLENGE\\DAY-033> pylint test1.py\n",
    "************* Module test1\n",
    "test1.py:4:5: C0303: Trailing whitespace (trailing-whitespace)\n",
    "test1.py:5:5: C0303: Trailing whitespace (trailing-whitespace)\n",
    "\n",
    "------------------------------------------------------------------\n",
    "Your code has been rated at 5.00/10 (previous run: 0.00/10, +5.00)"
   ]
  },
  {
   "cell_type": "markdown",
   "metadata": {},
   "source": [
    "## Unittest\n",
    "Unit Testing is the first level of software testing where the smallest testable parts of a software are tested. This is used to validate that each unit of the software performs as designed.\n",
    "The unittest test framework is python’s xUnit style framework.\n",
    "\n",
    "Method:\n",
    "White Box Testing method is used for Unit testing.\n",
    "\n",
    "OOP concepts supported by unittest framework:\n",
    "\n",
    "    test fixture:\n",
    "    A test fixture is used as a baseline for running tests to ensure that there is a fixed environment in which tests are run so that results are repeatable.\n",
    "    Examples :\n",
    "        creating temporary databases.\n",
    "        starting a server process.\n",
    "    test case:\n",
    "    A test case is a set of conditions which is used to determine whether a system under test works correctly.\n",
    "    test suite:\n",
    "    Test suite is a collection of testcases that are used to test a software program to show that it has some specified set of behaviours by executing the aggregated tests together.\n",
    "    test runner:\n",
    "    A test runner is a component which set up the execution of tests and provides the outcome to the user."
   ]
  },
  {
   "cell_type": "markdown",
   "metadata": {},
   "source": [
    "______________________\n",
    "Basic Test Structure :\n",
    "unittest defines tests by the following two ways :\n",
    "\n",
    "    Manage test “fixtures” using code.\n",
    "    test itself.\n",
    "\n",
    "import unittest\n",
    "  \n",
    "class SimpleTest(unittest.TestCase):\n",
    "  \n",
    "    # Returns True or False. \n",
    "    def test(self):        \n",
    "        self.assertTrue(True)\n",
    "  \n",
    "if __name__ == '__main__':\n",
    "    unittest.main()"
   ]
  },
  {
   "cell_type": "markdown",
   "metadata": {},
   "source": [
    "# War_card_game\n",
    "#### Simple War Game"
   ]
  },
  {
   "cell_type": "markdown",
   "metadata": {},
   "source": [
    " cards class \n",
    " \n",
    " all global class are at top\n",
    "\n",
    "total cards - 52\n",
    " \n",
    " suits = ('Hearts', 'Diamonds', 'Spades', 'Clubs')\n",
    " \n",
    " ranks = ('Two', 'Three', 'Four', 'Five', 'Six', 'Seven', 'Eight', 'Nine', 'Ten', 'Jack', 'Queen', 'King', 'Ace')\n",
    " \n",
    " values = {'Two':2, 'Three':3, 'Four':4, 'Five':5, 'Six':6, 'Seven':7, 'Eight':8, \n",
    "             'Nine':9, 'Ten':10, 'Jack':11, 'Queen':12, 'King':13, 'Ace':14}"
   ]
  },
  {
   "cell_type": "code",
   "execution_count": 4,
   "metadata": {},
   "outputs": [],
   "source": [
    "suits = ('Hearts', 'Diamonds', 'Spades', 'Clubs')\n",
    "ranks = ('Two', 'Three', 'Four', 'Five', 'Six', 'Seven', 'Eight', 'Nine', 'Ten', 'Jack', 'Queen', 'King', 'Ace')\n",
    "values = {'Two':2, 'Three':3, 'Four':4, 'Five':5, 'Six':6, 'Seven':7, 'Eight':8, 'Nine':9, 'Ten':10, 'Jack':11, 'Queen':12, 'King':13, 'Ace':14}"
   ]
  },
  {
   "cell_type": "code",
   "execution_count": 7,
   "metadata": {},
   "outputs": [],
   "source": [
    "class Card:\n",
    "    \n",
    "    def __init__(self,suit,rank):\n",
    "        self.suit = suit\n",
    "        self.rank = rank\n",
    "        self.value = values[rank]\n",
    "    def __str__(self):\n",
    "        return(f\"{self.rank} of {self.suit}\")\n",
    "        "
   ]
  },
  {
   "cell_type": "code",
   "execution_count": 15,
   "metadata": {},
   "outputs": [],
   "source": [
    "two_clubs = Card(suit= 'Clubs',rank= 'Six' )"
   ]
  },
  {
   "cell_type": "code",
   "execution_count": 10,
   "metadata": {},
   "outputs": [
    {
     "data": {
      "text/plain": [
       "<__main__.Card at 0x1ad27a5d840>"
      ]
     },
     "execution_count": 10,
     "metadata": {},
     "output_type": "execute_result"
    }
   ],
   "source": [
    "two_clubs"
   ]
  },
  {
   "cell_type": "code",
   "execution_count": 11,
   "metadata": {},
   "outputs": [
    {
     "name": "stdout",
     "output_type": "stream",
     "text": [
      "Six of Hearts\n"
     ]
    }
   ],
   "source": [
    "print(two_clubs)"
   ]
  },
  {
   "cell_type": "code",
   "execution_count": 13,
   "metadata": {},
   "outputs": [
    {
     "data": {
      "text/plain": [
       "'Six'"
      ]
     },
     "execution_count": 13,
     "metadata": {},
     "output_type": "execute_result"
    }
   ],
   "source": [
    "two_clubs.rank\n"
   ]
  },
  {
   "cell_type": "code",
   "execution_count": 14,
   "metadata": {},
   "outputs": [
    {
     "data": {
      "text/plain": [
       "'Hearts'"
      ]
     },
     "execution_count": 14,
     "metadata": {},
     "output_type": "execute_result"
    }
   ],
   "source": [
    "two_clubs.suit"
   ]
  },
  {
   "cell_type": "code",
   "execution_count": 16,
   "metadata": {},
   "outputs": [],
   "source": [
    "two_Hearts = Card(\"Clubs\",'Five')"
   ]
  },
  {
   "cell_type": "code",
   "execution_count": 17,
   "metadata": {},
   "outputs": [
    {
     "ename": "TypeError",
     "evalue": "'>' not supported between instances of 'Card' and 'Card'",
     "output_type": "error",
     "traceback": [
      "\u001b[1;31m---------------------------------------------------------------------------\u001b[0m",
      "\u001b[1;31mTypeError\u001b[0m                                 Traceback (most recent call last)",
      "\u001b[1;32me:\\PROGAMMING\\100 DAYS OF CODE CHALLENGE\\DAY-033\\DAY-033.ipynb Cell 17\u001b[0m in \u001b[0;36m<cell line: 1>\u001b[1;34m()\u001b[0m\n\u001b[1;32m----> <a href='vscode-notebook-cell:/e%3A/PROGAMMING/100%20DAYS%20OF%20CODE%20CHALLENGE/DAY-033/DAY-033.ipynb#X24sZmlsZQ%3D%3D?line=0'>1</a>\u001b[0m two_clubs \u001b[39m>\u001b[39;49m two_Hearts\n",
      "\u001b[1;31mTypeError\u001b[0m: '>' not supported between instances of 'Card' and 'Card'"
     ]
    }
   ],
   "source": [
    "two_clubs > two_Hearts"
   ]
  },
  {
   "cell_type": "code",
   "execution_count": 18,
   "metadata": {},
   "outputs": [
    {
     "data": {
      "text/plain": [
       "5"
      ]
     },
     "execution_count": 18,
     "metadata": {},
     "output_type": "execute_result"
    }
   ],
   "source": [
    "values[two_Hearts.rank]"
   ]
  },
  {
   "cell_type": "code",
   "execution_count": 21,
   "metadata": {},
   "outputs": [
    {
     "data": {
      "text/plain": [
       "False"
      ]
     },
     "execution_count": 21,
     "metadata": {},
     "output_type": "execute_result"
    }
   ],
   "source": [
    "values[two_Hearts.rank] == values[two_clubs.rank]"
   ]
  },
  {
   "cell_type": "code",
   "execution_count": 22,
   "metadata": {},
   "outputs": [
    {
     "data": {
      "text/plain": [
       "True"
      ]
     },
     "execution_count": 22,
     "metadata": {},
     "output_type": "execute_result"
    }
   ],
   "source": [
    "values[two_Hearts.rank] != values[two_clubs.rank]"
   ]
  },
  {
   "cell_type": "code",
   "execution_count": null,
   "metadata": {},
   "outputs": [],
   "source": []
  }
 ],
 "metadata": {
  "kernelspec": {
   "display_name": "Python 3.10.6 64-bit",
   "language": "python",
   "name": "python3"
  },
  "language_info": {
   "codemirror_mode": {
    "name": "ipython",
    "version": 3
   },
   "file_extension": ".py",
   "mimetype": "text/x-python",
   "name": "python",
   "nbconvert_exporter": "python",
   "pygments_lexer": "ipython3",
   "version": "3.10.6"
  },
  "orig_nbformat": 4,
  "vscode": {
   "interpreter": {
    "hash": "d818f4a5b132e7f66021d3e7c19c2b7a86b89f9388f799e2d6a66075690a4386"
   }
  }
 },
 "nbformat": 4,
 "nbformat_minor": 2
}
