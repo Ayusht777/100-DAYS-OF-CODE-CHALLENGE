{
 "cells": [
  {
   "cell_type": "markdown",
   "metadata": {},
   "source": [
    "# Day-12 of 100dayofcode [26/07/2022 tuesday]"
   ]
  },
  {
   "cell_type": "code",
   "execution_count": 1,
   "metadata": {},
   "outputs": [],
   "source": [
    "#let create a function with n times argument in it \n",
    "def add(a,b,c):\n",
    "    return(sum((a,b,c)))\n"
   ]
  },
  {
   "cell_type": "code",
   "execution_count": 2,
   "metadata": {},
   "outputs": [
    {
     "data": {
      "text/plain": [
       "13"
      ]
     },
     "execution_count": 2,
     "metadata": {},
     "output_type": "execute_result"
    }
   ],
   "source": [
    "add(0,5,8)"
   ]
  },
  {
   "cell_type": "code",
   "execution_count": 3,
   "metadata": {},
   "outputs": [
    {
     "ename": "TypeError",
     "evalue": "add() takes 3 positional arguments but 4 were given",
     "output_type": "error",
     "traceback": [
      "\u001b[1;31m---------------------------------------------------------------------------\u001b[0m",
      "\u001b[1;31mTypeError\u001b[0m                                 Traceback (most recent call last)",
      "\u001b[1;32me:\\PROGAMMING\\100 DAYS OF CODE CHALLENGE\\DAY-012.ipynb Cell 4\u001b[0m in \u001b[0;36m<cell line: 1>\u001b[1;34m()\u001b[0m\n\u001b[1;32m----> <a href='vscode-notebook-cell:/e%3A/PROGAMMING/100%20DAYS%20OF%20CODE%20CHALLENGE/DAY-012.ipynb#ch0000005?line=0'>1</a>\u001b[0m add(\u001b[39m0\u001b[39;49m,\u001b[39m8\u001b[39;49m,\u001b[39m9\u001b[39;49m,\u001b[39m9\u001b[39;49m)\n",
      "\u001b[1;31mTypeError\u001b[0m: add() takes 3 positional arguments but 4 were given"
     ]
    }
   ],
   "source": [
    "add(0,8,9,9)#it have limitation that we can only pass 3 arugment so in real world it is not applicable so we need to  use the *args in it"
   ]
  },
  {
   "cell_type": "markdown",
   "metadata": {},
   "source": [
    "## Arbitrary Arguments\n",
    "`syntax - def function_name(*args/name):\n",
    "   statement (name)\n",
    "`\n",
    "\n",
    "it returns back tuple"
   ]
  },
  {
   "cell_type": "code",
   "execution_count": 4,
   "metadata": {},
   "outputs": [],
   "source": [
    "def p10(*args):\n",
    "    return((sum(args)/100)*10)\n"
   ]
  },
  {
   "cell_type": "code",
   "execution_count": 5,
   "metadata": {},
   "outputs": [
    {
     "data": {
      "text/plain": [
       "40.0"
      ]
     },
     "execution_count": 5,
     "metadata": {},
     "output_type": "execute_result"
    }
   ],
   "source": [
    "p10(100,50,200,50)# you can pass n numbers of args here"
   ]
  },
  {
   "cell_type": "code",
   "execution_count": 18,
   "metadata": {},
   "outputs": [],
   "source": [
    "# hello function with multiple name /list\n",
    "def hm(*mn):\n",
    "    for i in mn:\n",
    "        print(f\"Hello {i}\")\n",
    "\n"
   ]
  },
  {
   "cell_type": "code",
   "execution_count": 22,
   "metadata": {},
   "outputs": [
    {
     "name": "stdout",
     "output_type": "stream",
     "text": [
      "hello ayush\n",
      "hello henry\n",
      "hello sam\n",
      "hello louis\n"
     ]
    }
   ],
   "source": [
    "hm(\"ayush\",\"henry\",\"sam\",\"louis\")"
   ]
  },
  {
   "cell_type": "code",
   "execution_count": 23,
   "metadata": {},
   "outputs": [],
   "source": [
    "#Keyword Argument "
   ]
  },
  {
   "cell_type": "code",
   "execution_count": 25,
   "metadata": {},
   "outputs": [
    {
     "data": {
      "text/plain": [
       "'syntax : def function(**kwargs/name):\\n           statemnet(kwargs/name)\\n'"
      ]
     },
     "execution_count": 25,
     "metadata": {},
     "output_type": "execute_result"
    }
   ],
   "source": [
    "\"\"\"syntax : def function(**kwargs/name):\n",
    "           statemnet(kwargs/name)\n",
    "\"\"\"\n",
    "#it return dictionary"
   ]
  },
  {
   "cell_type": "code",
   "execution_count": 30,
   "metadata": {},
   "outputs": [],
   "source": [
    "def dkv(**kv):\n",
    "    \"\"\"function to take key and value from user and print it\"\"\"\n",
    "    for k,v in kv.items():\n",
    "        print(f\"{k}:{v}\")\n",
    "        \"\"\"to use it just pass (variablename = value)\"\"\"\n"
   ]
  },
  {
   "cell_type": "code",
   "execution_count": 29,
   "metadata": {},
   "outputs": [
    {
     "name": "stdout",
     "output_type": "stream",
     "text": [
      "ayush:59636366\n"
     ]
    }
   ],
   "source": [
    "dkv(ayush=59636366)"
   ]
  },
  {
   "cell_type": "code",
   "execution_count": 32,
   "metadata": {},
   "outputs": [
    {
     "name": "stdout",
     "output_type": "stream",
     "text": [
      "j:78999\n",
      "y:895949\n",
      "k:894849489\n",
      "z:194897979\n"
     ]
    }
   ],
   "source": [
    "dkv(j =78999,y=895949,k=894849489,z=194897979)"
   ]
  },
  {
   "cell_type": "code",
   "execution_count": 39,
   "metadata": {},
   "outputs": [],
   "source": [
    "#function to see total number of empolyes and the total slary \n",
    "def total_emp(**data):\n",
    "    s = 0\n",
    "    nl = 0\n",
    "    for i,j in data.items():\n",
    "        s= s+ int(j)\n",
    "        nl = nl + int(i)\n",
    "    print(f\"THE TOTAL NUMBER OF EMPLOYES = {nl} & TOTAL PAYMENT = {s} \")"
   ]
  },
  {
   "cell_type": "code",
   "execution_count": 40,
   "metadata": {},
   "outputs": [
    {
     "ename": "ValueError",
     "evalue": "invalid literal for int() with base 10: 'ayush'",
     "output_type": "error",
     "traceback": [
      "\u001b[1;31m---------------------------------------------------------------------------\u001b[0m",
      "\u001b[1;31mValueError\u001b[0m                                Traceback (most recent call last)",
      "\u001b[1;32me:\\PROGAMMING\\100 DAYS OF CODE CHALLENGE\\DAY-012.ipynb Cell 16\u001b[0m in \u001b[0;36m<cell line: 1>\u001b[1;34m()\u001b[0m\n\u001b[1;32m----> <a href='vscode-notebook-cell:/e%3A/PROGAMMING/100%20DAYS%20OF%20CODE%20CHALLENGE/DAY-012.ipynb#ch0000020?line=0'>1</a>\u001b[0m total_emp(ayush\u001b[39m=\u001b[39;49m\u001b[39m78999\u001b[39;49m,jay\u001b[39m=\u001b[39;49m\u001b[39m57888\u001b[39;49m,arun\u001b[39m=\u001b[39;49m\u001b[39m879948949\u001b[39;49m)\n",
      "\u001b[1;32me:\\PROGAMMING\\100 DAYS OF CODE CHALLENGE\\DAY-012.ipynb Cell 16\u001b[0m in \u001b[0;36mtotal_emp\u001b[1;34m(**data)\u001b[0m\n\u001b[0;32m      <a href='vscode-notebook-cell:/e%3A/PROGAMMING/100%20DAYS%20OF%20CODE%20CHALLENGE/DAY-012.ipynb#ch0000020?line=4'>5</a>\u001b[0m \u001b[39mfor\u001b[39;00m i,j \u001b[39min\u001b[39;00m data\u001b[39m.\u001b[39mitems():\n\u001b[0;32m      <a href='vscode-notebook-cell:/e%3A/PROGAMMING/100%20DAYS%20OF%20CODE%20CHALLENGE/DAY-012.ipynb#ch0000020?line=5'>6</a>\u001b[0m     s\u001b[39m=\u001b[39m s\u001b[39m+\u001b[39m \u001b[39mint\u001b[39m(j)\n\u001b[1;32m----> <a href='vscode-notebook-cell:/e%3A/PROGAMMING/100%20DAYS%20OF%20CODE%20CHALLENGE/DAY-012.ipynb#ch0000020?line=6'>7</a>\u001b[0m     nl \u001b[39m=\u001b[39m nl \u001b[39m+\u001b[39m \u001b[39mint\u001b[39;49m(i)\n\u001b[0;32m      <a href='vscode-notebook-cell:/e%3A/PROGAMMING/100%20DAYS%20OF%20CODE%20CHALLENGE/DAY-012.ipynb#ch0000020?line=7'>8</a>\u001b[0m \u001b[39mprint\u001b[39m(\u001b[39mf\u001b[39m\u001b[39m\"\u001b[39m\u001b[39mTHE TOTAL NUMBER OF EMPLOYES = \u001b[39m\u001b[39m{\u001b[39;00mnl\u001b[39m}\u001b[39;00m\u001b[39m & TOTAL PAYMENT = \u001b[39m\u001b[39m{\u001b[39;00ms\u001b[39m}\u001b[39;00m\u001b[39m \u001b[39m\u001b[39m\"\u001b[39m)\n",
      "\u001b[1;31mValueError\u001b[0m: invalid literal for int() with base 10: 'ayush'"
     ]
    }
   ],
   "source": [
    "total_emp(ayush=78999,jay=57888,arun=879948949)"
   ]
  },
  {
   "cell_type": "code",
   "execution_count": 99,
   "metadata": {},
   "outputs": [],
   "source": [
    "#let use both *args and **kwargs\n",
    "def combo(*a,**kwa):\n",
    "    l=0\n",
    "    for i,j in kwa.items():\n",
    "        for k in a:\n",
    "            print(f\"the furit is {a[l]} price {j} qunatity {i}\")\n",
    "            l+=1\n",
    "            break\n"
   ]
  },
  {
   "cell_type": "code",
   "execution_count": 101,
   "metadata": {},
   "outputs": [
    {
     "name": "stdout",
     "output_type": "stream",
     "text": [
      "the furit is kiwi price 4564 qunatity ten\n",
      "the furit is apple price 546464 qunatity twenty\n"
     ]
    }
   ],
   "source": [
    "combo(\"kiwi\",\"apple\",ten = 4564,twenty = 546464)"
   ]
  },
  {
   "cell_type": "markdown",
   "metadata": {},
   "source": [
    "#### LESSER OF TWO EVENS: Write a function that returns the lesser of two given numbers *if* both numbers are even, but returns the greater if one or both numbers are odd\n",
    "    lesser_of_two_evens(2,4) --> 2\n",
    "    lesser_of_two_evens(2,5) --> 5\n"
   ]
  },
  {
   "cell_type": "code",
   "execution_count": 132,
   "metadata": {},
   "outputs": [],
   "source": [
    "# LESSER OF TWO EVENS\n",
    "def LESSER_OF_TWO_EVENS(a,b='ENTER 2 NUMBER'):\n",
    "    \"\"\"DOCSTRING:function that returns the lesser of two given numbers *if* both numbers are even,\n",
    "    but returns the greater if one or both numbers are odd\n",
    "    \n",
    "    TEST CASE:lesser_of_two_evens(2,4) --> 2\n",
    "              lesser_of_two_evens(2,5) --> 5\"\"\"\n",
    "    if(a%2==0 and b%2==0):\n",
    "        return(min(a,b))\n",
    "    else:\n",
    "        return(max(a,b))\n",
    "    "
   ]
  },
  {
   "cell_type": "code",
   "execution_count": 133,
   "metadata": {},
   "outputs": [
    {
     "data": {
      "text/plain": [
       "4"
      ]
     },
     "execution_count": 133,
     "metadata": {},
     "output_type": "execute_result"
    }
   ],
   "source": [
    "LESSER_OF_TWO_EVENS(8,4)\n",
    "\n"
   ]
  },
  {
   "cell_type": "code",
   "execution_count": 135,
   "metadata": {},
   "outputs": [
    {
     "name": "stdout",
     "output_type": "stream",
     "text": [
      "Help on function LESSER_OF_TWO_EVENS in module __main__:\n",
      "\n",
      "LESSER_OF_TWO_EVENS(a, b='ENTER 2 NUMBER')\n",
      "    DOCSTRING:function that returns the lesser of two given numbers *if* both numbers are even,\n",
      "    but returns the greater if one or both numbers are odd\n",
      "    \n",
      "    TEST CASE:lesser_of_two_evens(2,4) --> 2\n",
      "              lesser_of_two_evens(2,5) --> 5\n",
      "\n"
     ]
    }
   ],
   "source": [
    "help(LESSER_OF_TWO_EVENS)"
   ]
  },
  {
   "cell_type": "markdown",
   "metadata": {},
   "source": [
    "#### ANIMAL CRACKERS: Write a function takes a two-word string and returns True if both words begin with same letter\n",
    "    animal_crackers('Levelheaded Llama') --> True\n",
    "    animal_crackers('Crazy Kangaroo') --> False"
   ]
  },
  {
   "cell_type": "code",
   "execution_count": 148,
   "metadata": {},
   "outputs": [],
   "source": [
    "def animal_crackers(a):\n",
    "    \"\"\"DOCSTRING:function takes a two-word string and returns True if both words begin with same letter\n",
    "       TEST CASE:animal_crackers('Levelheaded Llama') --> True\n",
    "                 animal_crackers('Crazy Kangaroo') --> False\"\"\"\n",
    "    x = a.split()\n",
    "    \n",
    "    if(a[0][0]==x[1][0]):\n",
    "        return(True)\n",
    "    else:\n",
    "        return(False)\n"
   ]
  },
  {
   "cell_type": "code",
   "execution_count": 147,
   "metadata": {},
   "outputs": [
    {
     "name": "stdout",
     "output_type": "stream",
     "text": [
      "['ayush', 'aka']\n"
     ]
    },
    {
     "data": {
      "text/plain": [
       "True"
      ]
     },
     "execution_count": 147,
     "metadata": {},
     "output_type": "execute_result"
    }
   ],
   "source": [
    "animal_crackers(\"ayush aka\")"
   ]
  },
  {
   "cell_type": "code",
   "execution_count": 149,
   "metadata": {},
   "outputs": [
    {
     "name": "stdout",
     "output_type": "stream",
     "text": [
      "Help on function animal_crackers in module __main__:\n",
      "\n",
      "animal_crackers(a)\n",
      "    DOCSTRING:function takes a two-word string and returns True if both words begin with same letter\n",
      "    TEST CASE:animal_crackers('Levelheaded Llama') --> True\n",
      "              animal_crackers('Crazy Kangaroo') --> False\n",
      "\n"
     ]
    }
   ],
   "source": [
    "help(animal_crackers)"
   ]
  },
  {
   "cell_type": "markdown",
   "metadata": {},
   "source": [
    "#### MAKES TWENTY: Given two integers, return True if the sum of the integers is 20 *or* if one of the integers is 20. If not, return False\n",
    "\n",
    "    makes_twenty(20,10) --> True\n",
    "    makes_twenty(12,8) --> True\n",
    "    makes_twenty(2,3) --> False"
   ]
  },
  {
   "cell_type": "code",
   "execution_count": 153,
   "metadata": {},
   "outputs": [],
   "source": [
    "def makes_twenty(a,b):\n",
    "    \"\"\"DOCSTRING:Given two integers, return True if the sum of the integers is 20 OR if one of the integers is 20. If not, return False\n",
    "       TEST CASE: \n",
    "                  makes_twenty(20,10) --> True\n",
    "                  makes_twenty(12,8) --> True\n",
    "                  makes_twenty(2,3) --> False\n",
    "    \"\"\"\n",
    "    if(a==20):\n",
    "        return(True)\n",
    "    elif(a==20 or b==20):\n",
    "        return(True)\n",
    "    else:\n",
    "        return(False)"
   ]
  },
  {
   "cell_type": "code",
   "execution_count": 154,
   "metadata": {},
   "outputs": [
    {
     "name": "stdout",
     "output_type": "stream",
     "text": [
      "True True False\n",
      "Help on function makes_twenty in module __main__:\n",
      "\n",
      "makes_twenty(a, b)\n",
      "    DOCSTRING:Given two integers, return True if the sum of the integers is 20 OR if one of the integers is 20. If not, return False\n",
      "    TEST CASE: \n",
      "               makes_twenty(20,10) --> True\n",
      "               makes_twenty(12,8) --> True\n",
      "               makes_twenty(2,3) --> False\n",
      "\n"
     ]
    }
   ],
   "source": [
    "print(makes_twenty(10,20),makes_twenty(20,5),makes_twenty(40,88))\n",
    "help(makes_twenty)"
   ]
  },
  {
   "cell_type": "markdown",
   "metadata": {},
   "source": [
    "#### CHANGE_1OR4_LETTER: Write a function that capitalizes the first and fourth letters of a name\n",
    "     \n",
    "    change_1or4_letter('macdonald') --> MacDonald\n",
    "    \n",
    "Note: `'macdonald'.capitalize()` returns `'Macdonald'`"
   ]
  },
  {
   "cell_type": "code",
   "execution_count": 173,
   "metadata": {},
   "outputs": [],
   "source": [
    "def change_1and4_letter(string=\"TYPE A STRING\"):\n",
    "    \"\"\"function that capitalizes the first and fourth letters of a name\n",
    "    change_1or4_letter('macdonald') --> MacDonald\"\"\"\n",
    "    if(len(string)>=4):\n",
    "        string = string[0].capitalize() + string[1:4]+string[4].capitalize()+string[5:]\n",
    "        print(string)\n",
    "    else:\n",
    "        print(\"STRING IS LESS THAN 4 LETTER\")\n",
    "    "
   ]
  },
  {
   "cell_type": "code",
   "execution_count": 170,
   "metadata": {},
   "outputs": [
    {
     "name": "stdout",
     "output_type": "stream",
     "text": [
      "AyusTalesara\n",
      "Help on function change_1or4_letter in module __main__:\n",
      "\n",
      "change_1or4_letter(string='TYPE A STRING')\n",
      "    function that capitalizes the first and fourth letters of a name\n",
      "    change_1or4_letter('macdonald') --> MacDonald\n",
      "\n"
     ]
    }
   ],
   "source": [
    "change_1and4_letter(\"ayustalesara\")\n",
    "help(change_1and4_letter)"
   ]
  },
  {
   "cell_type": "markdown",
   "metadata": {},
   "source": [
    "#### reverse_phrase: Given a sentence, return a sentence with the words reversed\n",
    "\n",
    "    reverse_phrase('I am home') --> 'home am I'\n",
    "    reverse_phrase('We are ready') --> 'ready are We'"
   ]
  },
  {
   "cell_type": "code",
   "execution_count": 188,
   "metadata": {},
   "outputs": [],
   "source": [
    "def reverse_phrase(string=\"enter a string\"):\n",
    "    \"\"\"return a sentence with the words reversed\n",
    "    \"\"\"\n",
    "    string= string.split()\n",
    "    string = ' '.join(string[::-1])\n",
    "    \n",
    "    print(string)"
   ]
  },
  {
   "cell_type": "code",
   "execution_count": 189,
   "metadata": {},
   "outputs": [
    {
     "name": "stdout",
     "output_type": "stream",
     "text": [
      "talesra ayush\n"
     ]
    }
   ],
   "source": [
    "reverse_phrase(\"ayush talesra\")"
   ]
  },
  {
   "cell_type": "markdown",
   "metadata": {},
   "source": [
    "### Built-in Functions"
   ]
  },
  {
   "cell_type": "code",
   "execution_count": 195,
   "metadata": {},
   "outputs": [
    {
     "name": "stdout",
     "output_type": "stream",
     "text": [
      "100\n",
      "141.4213562373095\n",
      "3.2452\n"
     ]
    }
   ],
   "source": [
    "#abs() function\n",
    "# abs() function returns the absolute value of the given number. If the number is a complex number, abs() returns its magnitude.\n",
    "# syntax(number)\n",
    "# number -> float,integer,complex\n",
    "print(abs(-100))\n",
    "print(abs(100-100j))\n",
    "print(abs(-3.2452))"
   ]
  },
  {
   "cell_type": "code",
   "execution_count": 206,
   "metadata": {},
   "outputs": [
    {
     "name": "stdout",
     "output_type": "stream",
     "text": [
      "True False\n",
      "True False\n"
     ]
    }
   ],
   "source": [
    "#all() function \n",
    "#syntax = all() function returns True if all elements in the given iterable are true. If not, it returns False\n",
    "#syntax = all(list/tuple/dictionary)\n",
    "ls = [True,True]\n",
    "ls1 = [True,False]\n",
    "print(all(ls),all(ls1))\n",
    "ls = tuple([True,True])\n",
    "ls1 = tuple([True,False])\n",
    "print(all(ls),all(ls1))\n",
    "\n"
   ]
  },
  {
   "cell_type": "code",
   "execution_count": 215,
   "metadata": {},
   "outputs": [
    {
     "data": {
      "text/html": [
       "<img src=\"https://i.im.ge/2022/07/26/FhbUSC.png\" width=\"1000\" height=\"400\"/>"
      ],
      "text/plain": [
       "<IPython.core.display.Image object>"
      ]
     },
     "execution_count": 215,
     "metadata": {},
     "output_type": "execute_result"
    }
   ],
   "source": [
    "from IPython.display import Image\n",
    "Image(url= \"https://i.im.ge/2022/07/26/FhbUSC.png\", width=1000, height=400)"
   ]
  },
  {
   "cell_type": "code",
   "execution_count": 213,
   "metadata": {},
   "outputs": [
    {
     "name": "stdout",
     "output_type": "stream",
     "text": [
      "True True\n",
      "True True False\n"
     ]
    }
   ],
   "source": [
    "#any()function\n",
    "#syntax = any() function returns True if any element of an iterable is True. If not, it returns False.\n",
    "#syntax = any(list/tuple/dictionary)\n",
    "ls = [True,True]\n",
    "ls1 = [True,False]\n",
    "print(any(ls),any(ls1))\n",
    "ls = tuple([True,True])\n",
    "ls1 = tuple([True,False])\n",
    "ls2 = (False,False)\n",
    "print(any(ls),any(ls1),any(ls2))\n"
   ]
  },
  {
   "cell_type": "code",
   "execution_count": 220,
   "metadata": {},
   "outputs": [
    {
     "data": {
      "text/html": [
       "<img src=\"https://i.postimg.cc/KckHP3LR/image.png\" width=\"1000\" height=\"400\"/>"
      ],
      "text/plain": [
       "<IPython.core.display.Image object>"
      ]
     },
     "execution_count": 220,
     "metadata": {},
     "output_type": "execute_result"
    }
   ],
   "source": [
    "from IPython.display import Image\n",
    "Image(url= \"https://i.postimg.cc/KckHP3LR/image.png\", width=1000, height=400)"
   ]
  },
  {
   "cell_type": "code",
   "execution_count": 226,
   "metadata": {},
   "outputs": [
    {
     "name": "stdout",
     "output_type": "stream",
     "text": [
      "'ayush \\u221a talesara'\n",
      "['\\u03a0', '\\u03a6', '\\u03b7']\n",
      "('\\u03a0', '\\u03a6', '\\u03b7')\n",
      "{'\\u03b7', '\\u03a0', '\\u03a6'}\n"
     ]
    }
   ],
   "source": [
    "#ascii()\n",
    "#ascii() method replaces a non-printable character with its corresponding ascii value and returns it.\n",
    "#syntax -> asscii(object) : list,tuple,set\n",
    "print(ascii(\"ayush √ talesara\"))\n",
    "# ascii -> ( √ ) -> \\u221a\n",
    "ls = ['Π', 'Φ', 'η']\n",
    "print(ascii(ls))\n",
    "t = ('Π', 'Φ', 'η')\n",
    "print(ascii(t))\n",
    "s = {'Π', 'Φ', 'η'}\n",
    "print(ascii(s))\n"
   ]
  },
  {
   "cell_type": "code",
   "execution_count": 229,
   "metadata": {},
   "outputs": [
    {
     "name": "stdout",
     "output_type": "stream",
     "text": [
      "c T h\n"
     ]
    },
    {
     "ename": "ValueError",
     "evalue": "chr() arg not in range(0x110000)",
     "output_type": "error",
     "traceback": [
      "\u001b[1;31m---------------------------------------------------------------------------\u001b[0m",
      "\u001b[1;31mValueError\u001b[0m                                Traceback (most recent call last)",
      "\u001b[1;32me:\\PROGAMMING\\100 DAYS OF CODE CHALLENGE\\DAY-012.ipynb Cell 43\u001b[0m in \u001b[0;36m<cell line: 5>\u001b[1;34m()\u001b[0m\n\u001b[0;32m      <a href='vscode-notebook-cell:/e%3A/PROGAMMING/100%20DAYS%20OF%20CODE%20CHALLENGE/DAY-012.ipynb#ch0000058?line=0'>1</a>\u001b[0m \u001b[39m#chr()\u001b[39;00m\n\u001b[0;32m      <a href='vscode-notebook-cell:/e%3A/PROGAMMING/100%20DAYS%20OF%20CODE%20CHALLENGE/DAY-012.ipynb#ch0000058?line=1'>2</a>\u001b[0m \u001b[39m#chr() method converts an integer to its unicode character and returns it.\u001b[39;00m\n\u001b[0;32m      <a href='vscode-notebook-cell:/e%3A/PROGAMMING/100%20DAYS%20OF%20CODE%20CHALLENGE/DAY-012.ipynb#ch0000058?line=2'>3</a>\u001b[0m \u001b[39m#syntax -> chr(number) \u001b[39;00m\n\u001b[0;32m      <a href='vscode-notebook-cell:/e%3A/PROGAMMING/100%20DAYS%20OF%20CODE%20CHALLENGE/DAY-012.ipynb#ch0000058?line=3'>4</a>\u001b[0m \u001b[39mprint\u001b[39m(\u001b[39mchr\u001b[39m(\u001b[39m99\u001b[39m),\u001b[39mchr\u001b[39m(\u001b[39m84\u001b[39m),\u001b[39mchr\u001b[39m(\u001b[39m104\u001b[39m))\n\u001b[1;32m----> <a href='vscode-notebook-cell:/e%3A/PROGAMMING/100%20DAYS%20OF%20CODE%20CHALLENGE/DAY-012.ipynb#ch0000058?line=4'>5</a>\u001b[0m \u001b[39mprint\u001b[39m(\u001b[39mchr\u001b[39;49m(\u001b[39m64594894\u001b[39;49m))\n",
      "\u001b[1;31mValueError\u001b[0m: chr() arg not in range(0x110000)"
     ]
    }
   ],
   "source": [
    "#chr()\n",
    "#chr() method converts an integer to its unicode character and returns it.\n",
    "#syntax -> chr(number) \n",
    "print(chr(99),chr(84),chr(104))\n",
    "print(chr(64594894))# out of range"
   ]
  },
  {
   "cell_type": "code",
   "execution_count": 235,
   "metadata": {},
   "outputs": [
    {
     "name": "stdout",
     "output_type": "stream",
     "text": [
      "97 59\n"
     ]
    }
   ],
   "source": [
    "#ord()\n",
    "#ord() function returns an integer representing the Unicode character. or inverse of chr()\n",
    "#syntax -> ord(char)\n",
    "print(ord('a'),ord(';'))\n"
   ]
  },
  {
   "cell_type": "code",
   "execution_count": 231,
   "metadata": {},
   "outputs": [
    {
     "name": "stdout",
     "output_type": "stream",
     "text": [
      "2573929110448 2574035388720 2574033829136 2574035996096\n"
     ]
    }
   ],
   "source": [
    "#id()\n",
    "#id() method returns a unique integer or memory address\n",
    "#syntax -> id(object)\n",
    "# object - can be a class, variable, list, tuple, set\n",
    "print(id('a'),id('did'),id(9784),id([0,5,7,8]))"
   ]
  },
  {
   "cell_type": "code",
   "execution_count": 242,
   "metadata": {},
   "outputs": [
    {
     "name": "stdout",
     "output_type": "stream",
     "text": [
      "0b10 -0b1011\n"
     ]
    }
   ],
   "source": [
    "#bin()\n",
    "#bin() method converts a specified integer number to its binary representation and returns it. or number to binary/decimanl/hex/oct\n",
    "#syntax -> bin(number)\n",
    "# number - int(only)(+ve or -ve)\n",
    "print(bin(2),bin(-11))\n"
   ]
  },
  {
   "cell_type": "code",
   "execution_count": null,
   "metadata": {},
   "outputs": [],
   "source": []
  }
 ],
 "metadata": {
  "kernelspec": {
   "display_name": "Python 3.10.4 64-bit",
   "language": "python",
   "name": "python3"
  },
  "language_info": {
   "codemirror_mode": {
    "name": "ipython",
    "version": 3
   },
   "file_extension": ".py",
   "mimetype": "text/x-python",
   "name": "python",
   "nbconvert_exporter": "python",
   "pygments_lexer": "ipython3",
   "version": "3.10.4"
  },
  "orig_nbformat": 4,
  "vscode": {
   "interpreter": {
    "hash": "d818f4a5b132e7f66021d3e7c19c2b7a86b89f9388f799e2d6a66075690a4386"
   }
  }
 },
 "nbformat": 4,
 "nbformat_minor": 2
}
