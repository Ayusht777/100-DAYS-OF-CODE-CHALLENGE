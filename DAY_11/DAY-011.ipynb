{
 "cells": [
  {
   "cell_type": "markdown",
   "metadata": {},
   "source": [
    "# Day-11 of 100dayofcode [25/07/2022 monday]"
   ]
  },
  {
   "cell_type": "markdown",
   "metadata": {},
   "source": [
    "### functions \n",
    "**it is a block of code which we can use again and agian for repitive task**\n"
   ]
  },
  {
   "cell_type": "markdown",
   "metadata": {},
   "source": [
    "###syntax:\n",
    "\n",
    "`\n",
    "def function_name(arg1,arg2...arg(n) optional):\n",
    "   \n",
    "    DOCSTRING : INFO ABOUT FUNCTION (OPTIONAL)\n",
    "    \n",
    "    INPUT : ?/NONE\n",
    "    \n",
    "    OUTPUT :?\n",
    "    \n",
    "    statements\n",
    "   \n",
    "    return #on condition\n",
    "`"
   ]
  },
  {
   "cell_type": "code",
   "execution_count": 113,
   "metadata": {},
   "outputs": [
    {
     "data": {
      "text/html": [
       "<img src=\"https://cdn.programiz.com/sites/tutorial2program/files/python-how-function-works_1.jpg\" width=\"322\" height=\"313\"/>"
      ],
      "text/plain": [
       "<IPython.core.display.Image object>"
      ]
     },
     "execution_count": 113,
     "metadata": {},
     "output_type": "execute_result"
    }
   ],
   "source": [
    "from IPython.display import Image\n",
    "Image(url= \"https://cdn.programiz.com/sites/tutorial2program/files/python-how-function-works_1.jpg\", width=322, height=313)"
   ]
  },
  {
   "cell_type": "code",
   "execution_count": 1,
   "metadata": {},
   "outputs": [],
   "source": [
    "# without agr and return\n",
    "def welcome():\n",
    "    print(\"hello world\")\n"
   ]
  },
  {
   "cell_type": "code",
   "execution_count": 4,
   "metadata": {},
   "outputs": [
    {
     "name": "stdout",
     "output_type": "stream",
     "text": [
      "hello world\n",
      "None\n",
      "hello world\n"
     ]
    }
   ],
   "source": [
    "print(welcome())\n",
    "welcome()# without print because functions knows how to use these print statement"
   ]
  },
  {
   "cell_type": "code",
   "execution_count": 5,
   "metadata": {},
   "outputs": [
    {
     "name": "stdout",
     "output_type": "stream",
     "text": [
      "hello world\n"
     ]
    },
    {
     "data": {
      "text/plain": [
       "NoneType"
      ]
     },
     "execution_count": 5,
     "metadata": {},
     "output_type": "execute_result"
    }
   ],
   "source": [
    "type(welcome())"
   ]
  },
  {
   "cell_type": "code",
   "execution_count": 7,
   "metadata": {},
   "outputs": [
    {
     "name": "stdout",
     "output_type": "stream",
     "text": [
      "Help on function welcome in module __main__:\n",
      "\n",
      "welcome()\n",
      "    # without agr and return\n",
      "\n"
     ]
    }
   ],
   "source": [
    "help(welcome) # it doesnot have any info about the function"
   ]
  },
  {
   "cell_type": "code",
   "execution_count": 9,
   "metadata": {},
   "outputs": [],
   "source": [
    "def welcome():\n",
    "    \"\"\"\n",
    "    DOCSTRING:fucntion to print hello world\n",
    "    INPUT : NONE\n",
    "    OUPUT : hello world\n",
    "    \"\"\"\n",
    "    \n",
    "    print(\"hello world\")\n"
   ]
  },
  {
   "cell_type": "code",
   "execution_count": 10,
   "metadata": {},
   "outputs": [
    {
     "name": "stdout",
     "output_type": "stream",
     "text": [
      "Help on function welcome in module __main__:\n",
      "\n",
      "welcome()\n",
      "    DOCSTRING:fucntion to print hello world\n",
      "    INPUT : NONE\n",
      "    OUPUT : hello world\n",
      "\n"
     ]
    }
   ],
   "source": [
    "help(welcome)"
   ]
  },
  {
   "cell_type": "code",
   "execution_count": 11,
   "metadata": {},
   "outputs": [],
   "source": [
    "#function with arg and no return\n",
    "def inpwelcome(name):\n",
    "    \"\"\"this function going to print greeting statement \n",
    "        with the inout name\n",
    "    \"\"\"\n",
    "    print(f\"HELLO {name}\")\n"
   ]
  },
  {
   "cell_type": "code",
   "execution_count": 13,
   "metadata": {},
   "outputs": [
    {
     "name": "stdout",
     "output_type": "stream",
     "text": [
      "HELLO AYUSH\n"
     ]
    }
   ],
   "source": [
    "n = str(input(\"ENTER YOUR NAME:\")).upper()\n",
    "inpwelcome(n)"
   ]
  },
  {
   "cell_type": "code",
   "execution_count": 14,
   "metadata": {},
   "outputs": [
    {
     "ename": "TypeError",
     "evalue": "inpwelcome() missing 1 required positional argument: 'name'",
     "output_type": "error",
     "traceback": [
      "\u001b[1;31m---------------------------------------------------------------------------\u001b[0m",
      "\u001b[1;31mTypeError\u001b[0m                                 Traceback (most recent call last)",
      "\u001b[1;32me:\\PROGAMMING\\100 DAYS OF CODE CHALLENGE\\DAY-011.ipynb Cell 12\u001b[0m in \u001b[0;36m<cell line: 1>\u001b[1;34m()\u001b[0m\n\u001b[1;32m----> <a href='vscode-notebook-cell:/e%3A/PROGAMMING/100%20DAYS%20OF%20CODE%20CHALLENGE/DAY-011.ipynb#ch0000016?line=0'>1</a>\u001b[0m inpwelcome()\n",
      "\u001b[1;31mTypeError\u001b[0m: inpwelcome() missing 1 required positional argument: 'name'"
     ]
    }
   ],
   "source": [
    "inpwelcome()\n",
    "# it will give error because this will take an argument as it in "
   ]
  },
  {
   "cell_type": "code",
   "execution_count": 15,
   "metadata": {},
   "outputs": [
    {
     "name": "stdout",
     "output_type": "stream",
     "text": [
      "HELLO ayush\n"
     ]
    }
   ],
   "source": [
    "inpwelcome(\"ayush\")"
   ]
  },
  {
   "cell_type": "code",
   "execution_count": 24,
   "metadata": {},
   "outputs": [],
   "source": [
    "#to avoid this type error we can define name as bydefault in function\n",
    "def inpwelcome(name = \"'type name' \"):\n",
    "    \"\"\"this function going to print greeting statement \n",
    "        with the inout name\n",
    "    \"\"\"\n",
    "    print(f\"HELLO {name}\")\n"
   ]
  },
  {
   "cell_type": "code",
   "execution_count": 25,
   "metadata": {},
   "outputs": [
    {
     "name": "stdout",
     "output_type": "stream",
     "text": [
      "HELLO 'type name' \n"
     ]
    }
   ],
   "source": [
    "inpwelcome()"
   ]
  },
  {
   "cell_type": "code",
   "execution_count": 26,
   "metadata": {},
   "outputs": [
    {
     "name": "stdout",
     "output_type": "stream",
     "text": [
      "HELLO ayush\n"
     ]
    }
   ],
   "source": [
    "# disadvantge of not returning\n",
    "r = inpwelcome(\"ayush\")"
   ]
  },
  {
   "cell_type": "code",
   "execution_count": 27,
   "metadata": {},
   "outputs": [
    {
     "name": "stdout",
     "output_type": "stream",
     "text": [
      "None\n",
      "<class 'NoneType'>\n"
     ]
    }
   ],
   "source": [
    "print(r)\n",
    "print(type(r))#because the program is not saving the output statement"
   ]
  },
  {
   "cell_type": "code",
   "execution_count": 28,
   "metadata": {},
   "outputs": [],
   "source": [
    "# with arg and return \n",
    "def inpwelcome(name = \"'type name' \"):\n",
    "    \"\"\"this function going to print greeting statement \n",
    "        with the inout name\n",
    "    \"\"\"\n",
    "    return(f\"hello {name}\")"
   ]
  },
  {
   "cell_type": "code",
   "execution_count": 29,
   "metadata": {},
   "outputs": [
    {
     "name": "stdout",
     "output_type": "stream",
     "text": [
      "hello ayush\n",
      "<class 'str'>\n"
     ]
    }
   ],
   "source": [
    "r = inpwelcome(\"ayush\")\n",
    "print(r)\n",
    "print(type(r))"
   ]
  },
  {
   "cell_type": "code",
   "execution_count": 30,
   "metadata": {},
   "outputs": [
    {
     "name": "stdout",
     "output_type": "stream",
     "text": [
      "hello 7999\n",
      "<class 'str'>\n"
     ]
    }
   ],
   "source": [
    "r = inpwelcome(7999)# their is problem that we need str only as input\n",
    "print(r)\n",
    "print(type(r))"
   ]
  },
  {
   "cell_type": "code",
   "execution_count": 40,
   "metadata": {},
   "outputs": [],
   "source": [
    "# two number addittion function\n",
    "def add2(n1 = '\"NONE\"',n2 =' \"NONE\"'):\n",
    "    \"\"\"to add 2 numbers\"\"\"\n",
    "    return(n1+n2)\n"
   ]
  },
  {
   "cell_type": "code",
   "execution_count": 41,
   "metadata": {},
   "outputs": [
    {
     "data": {
      "text/plain": [
       "'\"NONE\" \"NONE\"'"
      ]
     },
     "execution_count": 41,
     "metadata": {},
     "output_type": "execute_result"
    }
   ],
   "source": [
    "add2()"
   ]
  },
  {
   "cell_type": "code",
   "execution_count": 43,
   "metadata": {},
   "outputs": [
    {
     "data": {
      "text/plain": [
       "793"
      ]
     },
     "execution_count": 43,
     "metadata": {},
     "output_type": "execute_result"
    }
   ],
   "source": [
    "add2(5,788)"
   ]
  },
  {
   "cell_type": "code",
   "execution_count": 44,
   "metadata": {},
   "outputs": [],
   "source": [
    "# fucntion to check word in string\n",
    "def checkw(instring = 'EMPTY'):\n",
    "    if(\"the\" in instring):\n",
    "        return True\n",
    "    else:\n",
    "        return False\n"
   ]
  },
  {
   "cell_type": "code",
   "execution_count": 46,
   "metadata": {},
   "outputs": [
    {
     "data": {
      "text/plain": [
       "True"
      ]
     },
     "execution_count": 46,
     "metadata": {},
     "output_type": "execute_result"
    }
   ],
   "source": [
    "a  = \"hey this is the day 11 of python\"\n",
    "checkw(a)"
   ]
  },
  {
   "cell_type": "code",
   "execution_count": 47,
   "metadata": {},
   "outputs": [
    {
     "data": {
      "text/plain": [
       "False"
      ]
     },
     "execution_count": 47,
     "metadata": {},
     "output_type": "execute_result"
    }
   ],
   "source": [
    "a  = \"hey this is The day 11 of python\"\n",
    "checkw(a)# case sensitive"
   ]
  },
  {
   "cell_type": "code",
   "execution_count": 48,
   "metadata": {},
   "outputs": [],
   "source": [
    "\n",
    "def checkw(instring = 'EMPTY'):\n",
    "    w = 'the'\n",
    "    if(w.capitalize() or w.title() or w.upper() or w.lower() or w.casefold() in instring):\n",
    "        return True\n",
    "    else:\n",
    "        return False"
   ]
  },
  {
   "cell_type": "code",
   "execution_count": 51,
   "metadata": {},
   "outputs": [
    {
     "data": {
      "text/plain": [
       "True"
      ]
     },
     "execution_count": 51,
     "metadata": {},
     "output_type": "execute_result"
    }
   ],
   "source": [
    "a  = \"hey this is The day 11 of python\"\n",
    "checkw(a.upper())\n",
    "a  = \"hey this is tHe day 11 of python\"\n",
    "checkw(a)"
   ]
  },
  {
   "cell_type": "code",
   "execution_count": 53,
   "metadata": {},
   "outputs": [
    {
     "data": {
      "text/plain": [
       "'\\t\\nMost words in Pig Latin end in \"ay.\" Use the rules below to translate normal English into Pig Latin.\\n\\nIf a word starts with a vowel, put the first letter of the word at the end of the word and add \"ay.\"\\n\\nExample: Happy = appyh + ay = appyhay\\n\\nIf a word doesnot starts with a vowel, put the first letter of the word at the end of the word and add \"ay.\"\\n\\n\\n'"
      ]
     },
     "execution_count": 53,
     "metadata": {},
     "output_type": "execute_result"
    }
   ],
   "source": [
    "# PIG LATIN FUNCTION\n",
    "#RULES :\n",
    "\"\"\"\t\n",
    "Most words in Pig Latin end in \"ay.\" Use the rules below to translate normal English into Pig Latin.\n",
    "\n",
    "If a word starts with a vowel, put the first letter of the word at the end of the word and add \"ay.\"\n",
    "\n",
    "Example: Happy = appyh + ay = appyhay\n",
    "\n",
    "If a word doesnot starts with a vowel, put the first letter of the word at the end of the word and add \"ay.\"\n",
    "\n",
    "\n",
    "\"\"\""
   ]
  },
  {
   "cell_type": "code",
   "execution_count": 57,
   "metadata": {},
   "outputs": [],
   "source": [
    "def pig_latin(w = ':enter a string:'):\n",
    "    fl = w[0] # store first letter in it from word\n",
    "    if (fl in 'aieou'):\n",
    "        w = w +'ay'\n",
    "        return(w)\n",
    "    else:\n",
    "        w = w[1:] + fl +'ay'\n",
    "        return(w)\n",
    "\n"
   ]
  },
  {
   "cell_type": "code",
   "execution_count": 59,
   "metadata": {},
   "outputs": [
    {
     "name": "stdout",
     "output_type": "stream",
     "text": [
      "ayushay alesratay enter a string::ay\n"
     ]
    }
   ],
   "source": [
    "print(pig_latin(\"ayush\"),pig_latin(\"talesra\"),pig_latin())"
   ]
  },
  {
   "cell_type": "code",
   "execution_count": 67,
   "metadata": {},
   "outputs": [],
   "source": [
    "# odd even check function\n",
    "def odc(num = 'Type a Number'):\n",
    "    num  = int(num)\n",
    "    if(num%2==0):\n",
    "        return(\"THE NUMBER IS EVEN\")\n",
    "    else:\n",
    "        return(\"THE NUMBER IS ODD\")"
   ]
  },
  {
   "cell_type": "code",
   "execution_count": 66,
   "metadata": {},
   "outputs": [
    {
     "name": "stdout",
     "output_type": "stream",
     "text": [
      "THE NUMBER IS EVEN,THE NUMBER IS ODD\n"
     ]
    }
   ],
   "source": [
    "print(f\"{odc(2)},{odc(3)}\")"
   ]
  },
  {
   "cell_type": "code",
   "execution_count": 69,
   "metadata": {},
   "outputs": [
    {
     "name": "stdout",
     "output_type": "stream",
     "text": [
      "0\n"
     ]
    }
   ],
   "source": [
    "print(int(.41)) # it will going to round of so 0 is even"
   ]
  },
  {
   "cell_type": "code",
   "execution_count": 68,
   "metadata": {},
   "outputs": [
    {
     "data": {
      "text/plain": [
       "'THE NUMBER IS EVEN'"
      ]
     },
     "execution_count": 68,
     "metadata": {},
     "output_type": "execute_result"
    }
   ],
   "source": [
    "odc(0.41)"
   ]
  },
  {
   "cell_type": "code",
   "execution_count": 86,
   "metadata": {},
   "outputs": [
    {
     "ename": "SyntaxError",
     "evalue": "invalid syntax (2282383755.py, line 1)",
     "output_type": "error",
     "traceback": [
      "\u001b[1;36m  Input \u001b[1;32mIn [86]\u001b[1;36m\u001b[0m\n\u001b[1;33m    def odc(int(input(num = 'Type a Number'))):\u001b[0m\n\u001b[1;37m               ^\u001b[0m\n\u001b[1;31mSyntaxError\u001b[0m\u001b[1;31m:\u001b[0m invalid syntax\n"
     ]
    }
   ],
   "source": [
    "def odc(num = 'Type a Number'):\n",
    "    num = int(num)\n",
    "    if(num>=0):\n",
    "        if(num%2==0):\n",
    "            return(\"THE NUMBER IS EVEN\")\n",
    "        else:\n",
    "            return(\"THE NUMBER IS ODD\")\n",
    "    else:\n",
    "        return(\"THE NUMBER IS LESS THAN 0\")"
   ]
  },
  {
   "cell_type": "code",
   "execution_count": 85,
   "metadata": {},
   "outputs": [
    {
     "data": {
      "text/plain": [
       "'THE NUMBER IS EVEN'"
      ]
     },
     "execution_count": 85,
     "metadata": {},
     "output_type": "execute_result"
    }
   ],
   "source": [
    "odc(0.8978949) # logical problem"
   ]
  },
  {
   "cell_type": "code",
   "execution_count": 87,
   "metadata": {},
   "outputs": [],
   "source": [
    "# odd even check with list function \n",
    "def oecl(ls):\n",
    "    for i in ls:\n",
    "        if(i%2==0):\n",
    "            return True\n",
    "        else:\n",
    "            pass"
   ]
  },
  {
   "cell_type": "code",
   "execution_count": 88,
   "metadata": {},
   "outputs": [
    {
     "data": {
      "text/plain": [
       "True"
      ]
     },
     "execution_count": 88,
     "metadata": {},
     "output_type": "execute_result"
    }
   ],
   "source": [
    "oecl([0,5,8]) # logical problem"
   ]
  },
  {
   "cell_type": "code",
   "execution_count": 102,
   "metadata": {},
   "outputs": [],
   "source": [
    "def oecl(ls):\n",
    "    c=0\n",
    "    for i in ls:\n",
    "        if(i%2==0):\n",
    "            c+=1\n",
    "        else:\n",
    "            pass\n",
    "    if(len(ls)==c):\n",
    "            return True\n",
    "    else:\n",
    "            return False\n"
   ]
  },
  {
   "cell_type": "code",
   "execution_count": 103,
   "metadata": {},
   "outputs": [
    {
     "data": {
      "text/plain": [
       "False"
      ]
     },
     "execution_count": 103,
     "metadata": {},
     "output_type": "execute_result"
    }
   ],
   "source": [
    "oecl([0,2,5])\n",
    "\n"
   ]
  },
  {
   "cell_type": "code",
   "execution_count": 104,
   "metadata": {},
   "outputs": [
    {
     "data": {
      "text/plain": [
       "True"
      ]
     },
     "execution_count": 104,
     "metadata": {},
     "output_type": "execute_result"
    }
   ],
   "source": [
    "oecl([0,2,4])"
   ]
  },
  {
   "cell_type": "code",
   "execution_count": null,
   "metadata": {},
   "outputs": [],
   "source": [
    "#version (2) to sort even odd function"
   ]
  },
  {
   "cell_type": "code",
   "execution_count": 110,
   "metadata": {},
   "outputs": [],
   "source": [
    "def soecl(ls= 'add list'):\n",
    "    e = []\n",
    "    o = []\n",
    "    for i in ls:\n",
    "        if(i%2==0):\n",
    "            e.append(i)\n",
    "        else:\n",
    "            o.append(i)\n",
    "    return(f\"THE EVEN LIST {e},THE ODD LIST {o}\")\n"
   ]
  },
  {
   "cell_type": "code",
   "execution_count": 109,
   "metadata": {},
   "outputs": [
    {
     "data": {
      "text/plain": [
       "'THE EVEN LIST [8],THE ODD LIST [1, 5, 7, 9]'"
      ]
     },
     "execution_count": 109,
     "metadata": {},
     "output_type": "execute_result"
    }
   ],
   "source": [
    "soecl([1,5,7,9,8])"
   ]
  },
  {
   "cell_type": "code",
   "execution_count": 121,
   "metadata": {},
   "outputs": [],
   "source": [
    "#tuple unpacking function\n",
    "hs = [(\"ayush\",8000),(\"vijay\",5000),(\"sonu\",100000)]\n",
    "def highest_pay(t):\n",
    "    max_s =0\n",
    "    n_max =''\n",
    "    for i,j in t:\n",
    "        if(j>max_s):\n",
    "            max_s = j\n",
    "            n_max = i\n",
    "        else:\n",
    "            pass\n",
    "    return((n_max,max_s))\n"
   ]
  },
  {
   "cell_type": "code",
   "execution_count": 122,
   "metadata": {},
   "outputs": [
    {
     "data": {
      "text/plain": [
       "('sonu', 100000)"
      ]
     },
     "execution_count": 122,
     "metadata": {},
     "output_type": "execute_result"
    }
   ],
   "source": [
    "highest_pay(hs)"
   ]
  },
  {
   "cell_type": "code",
   "execution_count": 123,
   "metadata": {},
   "outputs": [],
   "source": [
    "name ,pay = highest_pay(hs)"
   ]
  },
  {
   "cell_type": "code",
   "execution_count": 124,
   "metadata": {},
   "outputs": [
    {
     "name": "stdout",
     "output_type": "stream",
     "text": [
      "sonu 100000\n"
     ]
    }
   ],
   "source": [
    "print(name,pay)"
   ]
  },
  {
   "cell_type": "code",
   "execution_count": 125,
   "metadata": {},
   "outputs": [],
   "source": [
    "# interactions with functions\n"
   ]
  },
  {
   "cell_type": "code",
   "execution_count": 127,
   "metadata": {},
   "outputs": [],
   "source": [
    "# Three Cup Monte function\n",
    "from random import shuffle"
   ]
  },
  {
   "cell_type": "code",
   "execution_count": 128,
   "metadata": {},
   "outputs": [],
   "source": [
    "# shuffle function\n",
    "ls = list(range(0,8))"
   ]
  },
  {
   "cell_type": "code",
   "execution_count": 130,
   "metadata": {},
   "outputs": [
    {
     "name": "stdout",
     "output_type": "stream",
     "text": [
      "[0, 1, 2, 3, 4, 5, 6, 7]\n"
     ]
    }
   ],
   "source": [
    "print(ls)"
   ]
  },
  {
   "cell_type": "code",
   "execution_count": 136,
   "metadata": {},
   "outputs": [
    {
     "name": "stdout",
     "output_type": "stream",
     "text": [
      "[0, 3, 4, 6, 1, 2, 7, 5]\n"
     ]
    }
   ],
   "source": [
    "shuffle(ls)\n",
    "print(ls)"
   ]
  },
  {
   "cell_type": "code",
   "execution_count": 143,
   "metadata": {},
   "outputs": [],
   "source": [
    "cupls = ['O',' ',' ']\n",
    "def rcupls(ls):\n",
    "    shuffle(ls)\n",
    "    return(ls)\n",
    "    \n",
    "\n"
   ]
  },
  {
   "cell_type": "code",
   "execution_count": 147,
   "metadata": {},
   "outputs": [
    {
     "data": {
      "text/plain": [
       "['O', ' ', ' ']"
      ]
     },
     "execution_count": 147,
     "metadata": {},
     "output_type": "execute_result"
    }
   ],
   "source": [
    "rcupls(cupls)"
   ]
  },
  {
   "cell_type": "code",
   "execution_count": 155,
   "metadata": {},
   "outputs": [],
   "source": [
    "def user_guess():\n",
    "    g = ''\n",
    "    while g not in [0,1,2]:\n",
    "        g = int(input(\"ENTER A GUESS NUMBER BETWEEN (0,1,2):\"))\n",
    "\n",
    "    return(g)\n"
   ]
  },
  {
   "cell_type": "code",
   "execution_count": 154,
   "metadata": {},
   "outputs": [
    {
     "data": {
      "text/plain": [
       "3"
      ]
     },
     "execution_count": 154,
     "metadata": {},
     "output_type": "execute_result"
    }
   ],
   "source": [
    "user_guess()"
   ]
  },
  {
   "cell_type": "code",
   "execution_count": 162,
   "metadata": {},
   "outputs": [],
   "source": [
    "def three_cup_monte(lx,gs):\n",
    "    if(lx[gs] == 'O'):\n",
    "        print(\"wright guess\")\n",
    "    else:\n",
    "        print(\"wrong guess\")\n",
    "        print(lx)"
   ]
  },
  {
   "cell_type": "code",
   "execution_count": 163,
   "metadata": {},
   "outputs": [
    {
     "name": "stdout",
     "output_type": "stream",
     "text": [
      "wrong guess\n",
      "[' ', 'O', ' ']\n"
     ]
    }
   ],
   "source": [
    "myls = rcupls(cupls)\n",
    "myguess = user_guess()\n",
    "three_cup_monte(myls,myguess)"
   ]
  },
  {
   "cell_type": "code",
   "execution_count": null,
   "metadata": {},
   "outputs": [],
   "source": []
  }
 ],
 "metadata": {
  "kernelspec": {
   "display_name": "Python 3.10.4 64-bit",
   "language": "python",
   "name": "python3"
  },
  "language_info": {
   "codemirror_mode": {
    "name": "ipython",
    "version": 3
   },
   "file_extension": ".py",
   "mimetype": "text/x-python",
   "name": "python",
   "nbconvert_exporter": "python",
   "pygments_lexer": "ipython3",
   "version": "3.10.4"
  },
  "orig_nbformat": 4,
  "vscode": {
   "interpreter": {
    "hash": "d818f4a5b132e7f66021d3e7c19c2b7a86b89f9388f799e2d6a66075690a4386"
   }
  }
 },
 "nbformat": 4,
 "nbformat_minor": 2
}
