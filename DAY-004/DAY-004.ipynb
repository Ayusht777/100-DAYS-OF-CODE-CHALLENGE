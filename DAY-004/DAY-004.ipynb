{
 "cells": [
  {
   "cell_type": "code",
   "execution_count": null,
   "metadata": {},
   "outputs": [],
   "source": [
    "# Day-4 of 100dayofcode [18/07/2022 monday]\n",
    "# Dictionary "
   ]
  },
  {
   "cell_type": "code",
   "execution_count": 7,
   "metadata": {},
   "outputs": [
    {
     "name": "stdout",
     "output_type": "stream",
     "text": [
      "{'k1': 477, 'k2': 78}\n",
      "{1: 'ayush', 2: 'taslesra'}\n",
      "{'k1': 78}\n",
      "{'k1': [7, 8, 9]}\n"
     ]
    }
   ],
   "source": [
    "#Creating Python Dictionary\n",
    "#synatx -> dict_name = {keys:values}\n",
    "dix = {\"k1\":477,\"k2\":78}\n",
    "print(dix)\n",
    "dix = {1:\"ayush\",2:\"taslesra\"}\n",
    "print(dix)\n",
    "dix = {\"k1\":\"a\",\"k1\":78}# keys name should not be reapted this will conflict the mapping\n",
    "print(dix)\n",
    "dix = {\"k1\":[7,8,9]}\n",
    "print(dix)\n"
   ]
  },
  {
   "cell_type": "code",
   "execution_count": 12,
   "metadata": {},
   "outputs": [
    {
     "name": "stdout",
     "output_type": "stream",
     "text": [
      "788\n"
     ]
    }
   ],
   "source": [
    "#accessing Elements from Dictionary\n",
    "#syntax  -> dict_name[\"keyname\"/keyname]\n",
    "dis = {\"k1\":788,\"k2\":7972,\"k3\":7899}\n",
    "print(dis[\"k1\"])\n",
    "# print(dis[k1])# key doesnot present \n",
    "# print(dis[788])# vlaue cannot be use for accesing element"
   ]
  },
  {
   "cell_type": "code",
   "execution_count": 13,
   "metadata": {},
   "outputs": [
    {
     "name": "stdout",
     "output_type": "stream",
     "text": [
      "{'k1': 788, 'k2': 7972, 'k3': 7899}\n",
      "{'k1': 'ayush', 'k2': 7972, 'k3': 7899}\n",
      "{'k1': 'ayush', 'k2': 7972, 'k3': 7899, 'k4': 'talesra'}\n"
     ]
    }
   ],
   "source": [
    "# changing/updating and Adding Dictionary elements\n",
    "print(dis)\n",
    "dis[\"k1\"] =\"ayush\"\n",
    "print(dis)\n",
    "#adding new element\n",
    "dis[\"k4\"] = \"talesra\"\n",
    "print(dis)"
   ]
  },
  {
   "cell_type": "code",
   "execution_count": 26,
   "metadata": {},
   "outputs": [
    {
     "name": "stdout",
     "output_type": "stream",
     "text": [
      "{'k1.1': 'ahsjsu', 'k2': {'k1': 7828618, 'k7': 'asdas'}}\n",
      "asdas\n"
     ]
    }
   ],
   "source": [
    "# nesting with dictionaries\n",
    "dic1 = {\"k1\":7828618,\"k7\":\"asdas\"}\n",
    "dic2 = {\"k1.1\":\"ahsjsu\",\"k2\":dic1}\n",
    "print(dic2)\n",
    "print(dic2[\"k2\"][\"k7\"])\n"
   ]
  },
  {
   "cell_type": "code",
   "execution_count": 27,
   "metadata": {},
   "outputs": [
    {
     "name": "stdout",
     "output_type": "stream",
     "text": [
      "False\n",
      "True\n"
     ]
    }
   ],
   "source": [
    "#Dictionary Membership Test\n",
    "# it just check any particular key present in the dictionary or not\n",
    "print(\"k1\" in  dic2)\n",
    "print(\"k1\" not in  dic2)#nahi ha "
   ]
  },
  {
   "cell_type": "code",
   "execution_count": 28,
   "metadata": {},
   "outputs": [
    {
     "name": "stdout",
     "output_type": "stream",
     "text": [
      "{'k1.1': 'ahsjsu', 'k2': {'k1': 7828618, 'k7': 'asdas'}}\n",
      "{}\n"
     ]
    }
   ],
   "source": [
    "# Dictionary Methods\n",
    "# clear() method \n",
    "# removes all items from the dictionary.\n",
    "print(dic2)\n",
    "dic2.clear()\n",
    "print(dic2)\n"
   ]
  },
  {
   "cell_type": "code",
   "execution_count": 29,
   "metadata": {},
   "outputs": [
    {
     "name": "stdout",
     "output_type": "stream",
     "text": [
      "{'k1': 7828618, 'k7': 'asdas'}\n"
     ]
    }
   ],
   "source": [
    "#copy() method \n",
    "#it make a copy of any dictionary \n",
    "d = dic1.copy()\n",
    "print(d)"
   ]
  },
  {
   "cell_type": "code",
   "execution_count": 53,
   "metadata": {},
   "outputs": [
    {
     "name": "stdout",
     "output_type": "stream",
     "text": [
      "{1: 'ayush', 2: 'ayush', 4: 'ayush', 5: 'ayush', 7: 'ayush'}\n",
      "{1: None, 2: None, 4: None, 5: None, 7: None}\n",
      "{1: [78, 9, 8, 899], 2: [78, 9, 8, 899], 3: [78, 9, 8, 899], 4: [78, 9, 8, 899], 5: [78, 9, 8, 899]}\n"
     ]
    }
   ],
   "source": [
    "#fromkeys() method \n",
    "#creates a dictionary from the given sequence of keys and values.\n",
    "#synatx = fromkeys(alphabets,number)\n",
    "# alphabets - are the keys that can be any iterables like string, set, list, etc.\n",
    "# numbers (Optional) - are the values that can be of any type or any iterables like string, set, list, etc.\n",
    "keys = [1,2,4,5,7]\n",
    "values = \"ayush\"\n",
    "dic  = {}\n",
    "\n",
    "dic = dic.fromkeys(keys,values)\n",
    "print(dic)\n",
    "# no value\n",
    "dic = dic.fromkeys(keys)\n",
    "print(dic)\n",
    "alpha = [1,2,3,4,5]\n",
    "v = [78,9,8,899]\n",
    "dc= {}\n",
    "dc = dc.fromkeys(alpha,v)\n",
    "print(dc)\n",
    "\n",
    "\n",
    "\n"
   ]
  },
  {
   "cell_type": "code",
   "execution_count": 37,
   "metadata": {},
   "outputs": [
    {
     "name": "stdout",
     "output_type": "stream",
     "text": [
      "{1: [78, 9, 8, 899], 2: [78, 9, 8, 899], 3: [78, 9, 8, 899], 4: [78, 9, 8, 899], 5: [78, 9, 8, 899]}\n",
      "[78, 9, 8, 899]\n",
      "None\n"
     ]
    }
   ],
   "source": [
    "#get() method\n",
    "# gives values from any key\n",
    "#syntax = get(\"keyname\")\n",
    "print(dc)\n",
    "\n",
    "print(dc.get(1))\n",
    "print(dc.get(55))#it will not throw error and the dict[key] will show"
   ]
  },
  {
   "cell_type": "code",
   "execution_count": 38,
   "metadata": {},
   "outputs": [
    {
     "name": "stdout",
     "output_type": "stream",
     "text": [
      "dict_items([(1, None), (2, None), (4, None), (5, None), (7, None)])\n"
     ]
    }
   ],
   "source": [
    "#items() method \n",
    "#that displays a list of dictionary's (key, value) tuple pairs.\n",
    "print(dic.items())\n",
    "\n"
   ]
  },
  {
   "cell_type": "code",
   "execution_count": 41,
   "metadata": {},
   "outputs": [
    {
     "name": "stdout",
     "output_type": "stream",
     "text": [
      "dict_keys(['k1', 'k7'])\n"
     ]
    }
   ],
   "source": [
    "#keys() method \n",
    "# it will print all keys form dictionary\n",
    "print(dic1.keys())"
   ]
  },
  {
   "cell_type": "code",
   "execution_count": 42,
   "metadata": {},
   "outputs": [
    {
     "name": "stdout",
     "output_type": "stream",
     "text": [
      "dict_values([7828618, 'asdas'])\n"
     ]
    }
   ],
   "source": [
    "#values() method\n",
    "#it will print all values form dictionary\n",
    "print(dic1.values())"
   ]
  },
  {
   "cell_type": "code",
   "execution_count": 49,
   "metadata": {},
   "outputs": [
    {
     "name": "stdout",
     "output_type": "stream",
     "text": [
      "{1: [78, 9, 8, 899], 2: [78, 9, 8, 899], 3: [78, 9, 8, 899], 4: [78, 9, 8, 899], 5: [78, 9, 8, 899]}\n",
      "{1: [78, 9, 8, 899], 2: [78, 9, 8, 899], 3: [78, 9, 8, 899], 4: [78, 9, 8, 899]}\n"
     ]
    }
   ],
   "source": [
    "#popitem() method\n",
    "# it removes the last key and value pair from dictionary\n",
    "#synatx = popitmes(keyname,value)\n",
    "print(dc)\n",
    "dc.popitem()\n",
    "print(dc)"
   ]
  },
  {
   "cell_type": "code",
   "execution_count": 54,
   "metadata": {},
   "outputs": [
    {
     "name": "stdout",
     "output_type": "stream",
     "text": [
      "{1: [78, 9, 8, 899], 2: [78, 9, 8, 899], 3: [78, 9, 8, 899], 4: [78, 9, 8, 899], 5: [78, 9, 8, 899]}\n",
      "{2: [78, 9, 8, 899], 3: [78, 9, 8, 899], 4: [78, 9, 8, 899], 5: [78, 9, 8, 899]}\n",
      "{2: [78, 9, 8, 899], 4: [78, 9, 8, 899], 5: [78, 9, 8, 899]}\n"
     ]
    }
   ],
   "source": [
    "#pop() method\n",
    "#it takes key as arg in it and removes the key and value form the dict\n",
    "print(dc)\n",
    "dc.pop(1)\n",
    "print(dc)\n",
    "dc.pop(3,4)\n",
    "print(dc)\n",
    "# if key will not present than it will give the error"
   ]
  },
  {
   "cell_type": "code",
   "execution_count": 59,
   "metadata": {},
   "outputs": [
    {
     "name": "stdout",
     "output_type": "stream",
     "text": [
      "{2: [78, 9, 8, 899], 4: [78, 9, 8, 899], 5: [78, 9, 8, 899], 8: None}\n",
      "{2: [78, 9, 8, 899], 4: [78, 9, 8, 899], 5: [78, 9, 8, 899], 8: None}\n",
      "{2: [78, 9, 8, 899], 4: [78, 9, 8, 899], 5: [78, 9, 8, 899], 8: None, 9: 'adada'}\n"
     ]
    }
   ],
   "source": [
    "#setdefault() method \n",
    "# it check's the key And print the key in the dictionary and if not present than add it if value not provided it will ad value as none\n",
    "#synatx = setdefault(keyname,values(optional))\n",
    "print(dc)\n",
    "dc.setdefault(2)\n",
    "dc.setdefault(8)\n",
    "print(dc)\n",
    "dc.setdefault(9,\"adada\")\n",
    "print(dc)\n"
   ]
  },
  {
   "cell_type": "code",
   "execution_count": 68,
   "metadata": {},
   "outputs": [
    {
     "name": "stdout",
     "output_type": "stream",
     "text": [
      "{'k1': 788, 'k2': 87789, 'k7': 787890} \n",
      " {'k3': 'Saccd'}\n",
      "{'k3': 'Saccd', 'k1': 788, 'k2': 87789, 'k7': 787890}\n"
     ]
    }
   ],
   "source": [
    "#update() method\n",
    "#updates the dictionary with the elements from another dictionary object or from an iterable of key/value pairs.\n",
    "d1 = {\"k1\":788,\"k2\":87789,\"k7\":787890}\n",
    "d2= {\"k3\":\"Saccd\"}\n",
    "print(d1,\"\\n\",d2)\n",
    "d2.update(d1)\n",
    "print(d2)\n"
   ]
  },
  {
   "cell_type": "code",
   "execution_count": 93,
   "metadata": {},
   "outputs": [
    {
     "name": "stdout",
     "output_type": "stream",
     "text": [
      "True\n",
      "False\n"
     ]
    }
   ],
   "source": [
    "# Dictionary Built-in Functions\n",
    "#all() function\n",
    "# checks all the values are true or false\n",
    "# all values are true aor empty than output =True\n",
    "# and other conditions false\n",
    "trued= {1:'True',2:'False'}\n",
    "print(all(trued))\n",
    "tx = {False:4564}\n",
    "print(all(tx))"
   ]
  },
  {
   "cell_type": "code",
   "execution_count": 94,
   "metadata": {},
   "outputs": [
    {
     "name": "stdout",
     "output_type": "stream",
     "text": [
      "False\n",
      "True\n"
     ]
    }
   ],
   "source": [
    "#any() function\n",
    "#any() function returns True if any element of an iterable is True. If not, it returns False.\n",
    "print(any(tx))\n",
    "print(any(trued))"
   ]
  },
  {
   "cell_type": "code",
   "execution_count": 95,
   "metadata": {},
   "outputs": [
    {
     "name": "stdout",
     "output_type": "stream",
     "text": [
      "3\n"
     ]
    }
   ],
   "source": [
    "#len() function\n",
    "# just checks length\n",
    "print(len(d1))\n"
   ]
  },
  {
   "cell_type": "code",
   "execution_count": 103,
   "metadata": {},
   "outputs": [
    {
     "name": "stdout",
     "output_type": "stream",
     "text": [
      "{1: 48949, 8: 7498, 2: 8997}\n",
      "[1, 2, 8]\n",
      "[(1, 48949), (2, 8997), (8, 7498)]\n",
      "[1, 2, 8]\n"
     ]
    }
   ],
   "source": [
    "#sorted() function \n",
    "#sorts the elements and coverts dic into list \n",
    "d1 = {1:48949,8:7498,2:8997}\n",
    "print(d1)\n",
    "print(sorted(d1))#not permanet\n",
    "print(sorted(d1.items()))\n",
    "d1 = sorted(d1)\n",
    "print(d1)\n"
   ]
  }
 ],
 "metadata": {
  "kernelspec": {
   "display_name": "Python 3.10.4 64-bit",
   "language": "python",
   "name": "python3"
  },
  "language_info": {
   "codemirror_mode": {
    "name": "ipython",
    "version": 3
   },
   "file_extension": ".py",
   "mimetype": "text/x-python",
   "name": "python",
   "nbconvert_exporter": "python",
   "pygments_lexer": "ipython3",
   "version": "3.10.4"
  },
  "orig_nbformat": 4,
  "vscode": {
   "interpreter": {
    "hash": "d818f4a5b132e7f66021d3e7c19c2b7a86b89f9388f799e2d6a66075690a4386"
   }
  }
 },
 "nbformat": 4,
 "nbformat_minor": 2
}
