{
 "cells": [
  {
   "cell_type": "markdown",
   "metadata": {},
   "source": [
    "# Day-21 of 100dayofcode [04/08/2022 thursday]"
   ]
  },
  {
   "cell_type": "markdown",
   "metadata": {},
   "source": [
    "## caesar cipher with file handling"
   ]
  },
  {
   "cell_type": "markdown",
   "metadata": {},
   "source": [
    "` 1. user inputed data `"
   ]
  },
  {
   "cell_type": "code",
   "execution_count": 26,
   "metadata": {},
   "outputs": [],
   "source": [
    "user_choice = str(input(\"Type Encode for encoding or Decode for decoding the text :\")).lower()\n",
    "# the user_choice will take input from user to decode the text or encode it \n",
    "user_text = str(input(f\"Enter The Text You Want To {user_choice}:\")).lower()\n",
    "# user_tetx will take the main message or text we want to encode or decode\n",
    "shift_char = int(input(\"Enter No. Of Letter You Want to shift:\"))\n",
    "# shift_char will move the user_text to the inputed numbers\n"
   ]
  },
  {
   "cell_type": "code",
   "execution_count": 27,
   "metadata": {},
   "outputs": [
    {
     "name": "stdout",
     "output_type": "stream",
     "text": [
      "encode hello 5\n"
     ]
    }
   ],
   "source": [
    "print(user_choice,user_text,shift_char) # test check "
   ]
  },
  {
   "cell_type": "markdown",
   "metadata": {},
   "source": [
    "` 2. alphabet list`"
   ]
  },
  {
   "cell_type": "code",
   "execution_count": 39,
   "metadata": {},
   "outputs": [
    {
     "name": "stdout",
     "output_type": "stream",
     "text": [
      "['a', 'b', 'c', 'd', 'e', 'f', 'g', 'h', 'i', 'j', 'k', 'l', 'm', 'n', 'o', 'p', 'q', 'r', 's', 't', 'u', 'v', 'w', 'x', 'y', 'z']\n",
      "26\n",
      "['a', 'b', 'c', 'd', 'e', 'f', 'g', 'h', 'i', 'j', 'k', 'l', 'm', 'n', 'o', 'p', 'q', 'r', 's', 't', 'u', 'v', 'w', 'x', 'y', 'z', 'a', 'b', 'c', 'd', 'e', 'f', 'g', 'h', 'i', 'j', 'k', 'l', 'm', 'n', 'o', 'p', 'q', 'r', 's', 't', 'u', 'v', 'w', 'x', 'y', 'z']\n",
      "52\n"
     ]
    }
   ],
   "source": [
    "# lets make  a alphabet list \n",
    "from string import ascii_lowercase \n",
    "# we want only lower case char list\n",
    "alphabet_list = list(ascii_lowercase)\n",
    "print(alphabet_list)\n",
    "print(len(alphabet_list)) # lenght of the list\n",
    "# but their is  problem when the user_text first letter starts with z or any letter which will exceed the list so we have to double the list \n",
    "# element by start the end of list by 'a' agian\n",
    "alphabet_list =alphabet_list*2\n",
    "print(alphabet_list)\n",
    "print(len(alphabet_list))"
   ]
  },
  {
   "cell_type": "markdown",
   "metadata": {},
   "source": [
    "`3. main fuinction the ceaser_cipher `"
   ]
  },
  {
   "cell_type": "code",
   "execution_count": 55,
   "metadata": {},
   "outputs": [],
   "source": [
    "# main part of the function \n",
    "def caesar_cipher(user_choice,user_text,shift_char):\n",
    "    if (user_choice == \"encode\"):\n",
    "        encoded_str = ''\n",
    "        for char in user_text:\n",
    "            index = alphabet_list.index(char)\n",
    "            new_index = index + shift_char\n",
    "            encoded_str = encoded_str + alphabet_list[new_index]\n",
    "            # or encoded_str +=alphabet_list[new_index]\n",
    "        print(encoded_str)\n",
    "    elif(user_choice == 'decode'):\n",
    "        decoded_str = ''\n",
    "        for char in user_text:\n",
    "            index = alphabet_list.index(char)\n",
    "            new_index = index - shift_char\n",
    "            decoded_str = decoded_str + alphabet_list[new_index]\n",
    "            # or encoded_str +=alphabet_list[new_index]\n",
    "        print(decoded_str)\n",
    "\n"
   ]
  },
  {
   "cell_type": "code",
   "execution_count": 53,
   "metadata": {},
   "outputs": [
    {
     "name": "stdout",
     "output_type": "stream",
     "text": [
      "mjqqt\n"
     ]
    }
   ],
   "source": [
    "caesar_cipher(user_choice,user_text,shift_char) # calling the function and chekcing the working"
   ]
  },
  {
   "cell_type": "markdown",
   "metadata": {},
   "source": [
    "`4. for easy test run we have to crearte a function for user input`"
   ]
  },
  {
   "cell_type": "code",
   "execution_count": 60,
   "metadata": {},
   "outputs": [],
   "source": [
    "def program_input():\n",
    "    user_choice = str(input(\"Type Encode for encoding or Decode for decoding the text :\")).lower()\n",
    "    # the user_choice will take input from user to decode the text or encode it \n",
    "    user_text = str(input(f\"Enter The Text You Want To {user_choice}:\")).lower()\n",
    "    # user_tetx will take the main message or text we want to encode or decode\n",
    "    shift_char = int(input(\"Enter No. Of Letter You Want to shift:\"))\n",
    "    # shift_char will move the user_text to the inputed numbers\n",
    "    return(user_choice,user_text,shift_char)\n",
    "\n"
   ]
  },
  {
   "cell_type": "code",
   "execution_count": 64,
   "metadata": {},
   "outputs": [
    {
     "ename": "TypeError",
     "evalue": "program_input() missing 2 required positional arguments: 'user_choice' and 'user_text'",
     "output_type": "error",
     "traceback": [
      "\u001b[1;31m---------------------------------------------------------------------------\u001b[0m",
      "\u001b[1;31mTypeError\u001b[0m                                 Traceback (most recent call last)",
      "\u001b[1;32me:\\PROGAMMING\\100 DAYS OF CODE CHALLENGE\\DAY-021--[python project on ceaser chipher].ipynb Cell 13\u001b[0m in \u001b[0;36m<cell line: 1>\u001b[1;34m()\u001b[0m\n\u001b[1;32m----> <a href='vscode-notebook-cell:/e%3A/PROGAMMING/100%20DAYS%20OF%20CODE%20CHALLENGE/DAY-021--%5Bpython%20project%20on%20ceaser%20chipher%5D.ipynb#ch0000021?line=0'>1</a>\u001b[0m program_input()\n",
      "\u001b[1;31mTypeError\u001b[0m: program_input() missing 2 required positional arguments: 'user_choice' and 'user_text'"
     ]
    }
   ],
   "source": [
    "program_input()"
   ]
  },
  {
   "cell_type": "code",
   "execution_count": 84,
   "metadata": {},
   "outputs": [
    {
     "ename": "TypeError",
     "evalue": "program_input() takes 0 positional arguments but 3 were given",
     "output_type": "error",
     "traceback": [
      "\u001b[1;31m---------------------------------------------------------------------------\u001b[0m",
      "\u001b[1;31mTypeError\u001b[0m                                 Traceback (most recent call last)",
      "\u001b[1;32me:\\PROGAMMING\\100 DAYS OF CODE CHALLENGE\\DAY-021--[python project on ceaser chipher].ipynb Cell 14\u001b[0m in \u001b[0;36m<cell line: 1>\u001b[1;34m()\u001b[0m\n\u001b[1;32m----> <a href='vscode-notebook-cell:/e%3A/PROGAMMING/100%20DAYS%20OF%20CODE%20CHALLENGE/DAY-021--%5Bpython%20project%20on%20ceaser%20chipher%5D.ipynb#ch0000025?line=0'>1</a>\u001b[0m user_choice,user_text,shift_char \u001b[39m=\u001b[39m program_input(user_choice,user_text,shift_char)\n",
      "\u001b[1;31mTypeError\u001b[0m: program_input() takes 0 positional arguments but 3 were given"
     ]
    }
   ],
   "source": [
    "user_choice,user_text,shift_char = program_input(user_choice,user_text,shift_char)"
   ]
  },
  {
   "cell_type": "code",
   "execution_count": null,
   "metadata": {},
   "outputs": [],
   "source": [
    "caesar_cipher(user_choice,user_text,shift_char)"
   ]
  },
  {
   "cell_type": "markdown",
   "metadata": {},
   "source": [
    "`5. if the shift_char  exceed the number 52 or the shift is so large or out of the range of list`"
   ]
  },
  {
   "cell_type": "code",
   "execution_count": 79,
   "metadata": {},
   "outputs": [],
   "source": [
    "def program_input():\n",
    "    user_choice = str(input(\"Type Encode for encoding or Decode for decoding the text :\")).lower()\n",
    "    # the user_choice will take input from user to decode the text or encode it \n",
    "    user_text = str(input(f\"Enter The Text You Want To {user_choice}:\")).lower()\n",
    "    # user_tetx will take the main message or text we want to encode or decode\n",
    "    shift_char = int(input(\"Enter No. Of Letter You Want to shift:\"))\n",
    "    # shift_char will move the user_text to the inputed numbers\n",
    "    if (shift_char>26):\n",
    "        shift_char = shift_char %26 # it will store the remainder of above nmber\n",
    "    return(user_choice,user_text,shift_char)\n"
   ]
  },
  {
   "cell_type": "code",
   "execution_count": 87,
   "metadata": {},
   "outputs": [],
   "source": [
    "user_choice,user_text,shift_char = program_input()\n"
   ]
  },
  {
   "cell_type": "code",
   "execution_count": 88,
   "metadata": {},
   "outputs": [
    {
     "name": "stdout",
     "output_type": "stream",
     "text": [
      "hello\n"
     ]
    }
   ],
   "source": [
    "caesar_cipher(user_choice,user_text,shift_char)"
   ]
  },
  {
   "cell_type": "markdown",
   "metadata": {},
   "source": [
    "`6. if user inputed some special char like (space,@,! etc) `\n",
    "#### so we need to avoid them to update their value"
   ]
  },
  {
   "cell_type": "code",
   "execution_count": 89,
   "metadata": {},
   "outputs": [
    {
     "ename": "ValueError",
     "evalue": "'!' is not in list",
     "output_type": "error",
     "traceback": [
      "\u001b[1;31m---------------------------------------------------------------------------\u001b[0m",
      "\u001b[1;31mValueError\u001b[0m                                Traceback (most recent call last)",
      "\u001b[1;32me:\\PROGAMMING\\100 DAYS OF CODE CHALLENGE\\DAY-021--[python project on ceaser chipher].ipynb Cell 21\u001b[0m in \u001b[0;36m<cell line: 2>\u001b[1;34m()\u001b[0m\n\u001b[0;32m      <a href='vscode-notebook-cell:/e%3A/PROGAMMING/100%20DAYS%20OF%20CODE%20CHALLENGE/DAY-021--%5Bpython%20project%20on%20ceaser%20chipher%5D.ipynb#ch0000032?line=0'>1</a>\u001b[0m user_choice,user_text,shift_char \u001b[39m=\u001b[39m program_input()\n\u001b[1;32m----> <a href='vscode-notebook-cell:/e%3A/PROGAMMING/100%20DAYS%20OF%20CODE%20CHALLENGE/DAY-021--%5Bpython%20project%20on%20ceaser%20chipher%5D.ipynb#ch0000032?line=1'>2</a>\u001b[0m caesar_cipher(user_choice,user_text,shift_char)\n",
      "\u001b[1;32me:\\PROGAMMING\\100 DAYS OF CODE CHALLENGE\\DAY-021--[python project on ceaser chipher].ipynb Cell 21\u001b[0m in \u001b[0;36mcaesar_cipher\u001b[1;34m(user_choice, user_text, shift_char)\u001b[0m\n\u001b[0;32m      <a href='vscode-notebook-cell:/e%3A/PROGAMMING/100%20DAYS%20OF%20CODE%20CHALLENGE/DAY-021--%5Bpython%20project%20on%20ceaser%20chipher%5D.ipynb#ch0000032?line=3'>4</a>\u001b[0m encoded_str \u001b[39m=\u001b[39m \u001b[39m'\u001b[39m\u001b[39m'\u001b[39m\n\u001b[0;32m      <a href='vscode-notebook-cell:/e%3A/PROGAMMING/100%20DAYS%20OF%20CODE%20CHALLENGE/DAY-021--%5Bpython%20project%20on%20ceaser%20chipher%5D.ipynb#ch0000032?line=4'>5</a>\u001b[0m \u001b[39mfor\u001b[39;00m char \u001b[39min\u001b[39;00m user_text:\n\u001b[1;32m----> <a href='vscode-notebook-cell:/e%3A/PROGAMMING/100%20DAYS%20OF%20CODE%20CHALLENGE/DAY-021--%5Bpython%20project%20on%20ceaser%20chipher%5D.ipynb#ch0000032?line=5'>6</a>\u001b[0m     index \u001b[39m=\u001b[39m alphabet_list\u001b[39m.\u001b[39;49mindex(char)\n\u001b[0;32m      <a href='vscode-notebook-cell:/e%3A/PROGAMMING/100%20DAYS%20OF%20CODE%20CHALLENGE/DAY-021--%5Bpython%20project%20on%20ceaser%20chipher%5D.ipynb#ch0000032?line=6'>7</a>\u001b[0m     new_index \u001b[39m=\u001b[39m index \u001b[39m+\u001b[39m shift_char\n\u001b[0;32m      <a href='vscode-notebook-cell:/e%3A/PROGAMMING/100%20DAYS%20OF%20CODE%20CHALLENGE/DAY-021--%5Bpython%20project%20on%20ceaser%20chipher%5D.ipynb#ch0000032?line=7'>8</a>\u001b[0m     encoded_str \u001b[39m=\u001b[39m encoded_str \u001b[39m+\u001b[39m alphabet_list[new_index]\n",
      "\u001b[1;31mValueError\u001b[0m: '!' is not in list"
     ]
    }
   ],
   "source": [
    "user_choice,user_text,shift_char = program_input()\n",
    "caesar_cipher(user_choice,user_text,shift_char)"
   ]
  },
  {
   "cell_type": "code",
   "execution_count": 98,
   "metadata": {},
   "outputs": [],
   "source": [
    "def caesar_cipher(user_choice,user_text,shift_char):\n",
    "    if (user_choice == \"encode\"):\n",
    "        encoded_str = ''\n",
    "        for char in user_text:\n",
    "            if(char in alphabet_list):\n",
    "                index = alphabet_list.index(char)\n",
    "                new_index = index + shift_char\n",
    "                encoded_str = encoded_str + alphabet_list[new_index]\n",
    "                # or encoded_str +=alphabet_list[new_index]\n",
    "            else:\n",
    "                encoded_str = encoded_str + char\n",
    "        print(encoded_str)\n",
    "    elif(user_choice == 'decode'):\n",
    "        decoded_str = ''\n",
    "        for char in user_text:\n",
    "            if(char in alphabet_list):\n",
    "                index = alphabet_list.index(char)\n",
    "                new_index = index - shift_char\n",
    "                decoded_str = decoded_str + alphabet_list[new_index]\n",
    "                # or encoded_str +=alphabet_list[new_index]\n",
    "            else:\n",
    "                decoded_str = decoded_str + char\n",
    "        print(decoded_str)\n"
   ]
  },
  {
   "cell_type": "code",
   "execution_count": 102,
   "metadata": {},
   "outputs": [
    {
     "name": "stdout",
     "output_type": "stream",
     "text": [
      "hello!\n"
     ]
    }
   ],
   "source": [
    "user_choice,user_text,shift_char = program_input()\n",
    "caesar_cipher(user_choice,user_text,shift_char)"
   ]
  },
  {
   "cell_type": "markdown",
   "metadata": {},
   "source": [
    "`7. menu of the program `"
   ]
  },
  {
   "cell_type": "code",
   "execution_count": 108,
   "metadata": {},
   "outputs": [
    {
     "data": {
      "text/html": [
       "<img src=\"https://i.postimg.cc/xqVTHKxg/Screenshot-28.png\" width=\"1280\" height=\"405\"/>"
      ],
      "text/plain": [
       "<IPython.core.display.Image object>"
      ]
     },
     "execution_count": 108,
     "metadata": {},
     "output_type": "execute_result"
    }
   ],
   "source": [
    "\n",
    "from IPython.display import Image\n",
    "Image(url= \"https://i.postimg.cc/xqVTHKxg/Screenshot-28.png\", width=1280, height=405)"
   ]
  },
  {
   "cell_type": "markdown",
   "metadata": {},
   "source": [
    "### refence url\n",
    "https://towardsdatascience.com/prettify-your-terminal-text-with-termcolor-and-pyfiglet-880de83fda6b"
   ]
  },
  {
   "cell_type": "code",
   "execution_count": 4,
   "metadata": {},
   "outputs": [
    {
     "name": "stdout",
     "output_type": "stream",
     "text": [
      "  _____                  _                              _           \n",
      " / ____|                | |                            | |          \n",
      "| |     _ __ _   _ _ __ | |_ ___   __ _ _ __ __ _ _ __ | |__  _   _ \n",
      "| |    | '__| | | | '_ \\| __/ _ \\ / _` | '__/ _` | '_ \\| '_ \\| | | |\n",
      "| |____| |  | |_| | |_) | || (_) | (_| | | | (_| | |_) | | | | |_| |\n",
      " \\_____|_|   \\__, | .__/ \\__\\___/ \\__, |_|  \\__,_| .__/|_| |_|\\__, |\n",
      "              __/ | |              __/ |         | |           __/ |\n",
      "             |___/|_|             |___/          |_|          |___/ \n",
      "\n"
     ]
    }
   ],
   "source": [
    "\n",
    "#ASCII art using Pyfiglet module\n",
    "import pyfiglet \n",
    "f  = pyfiglet.Figlet(font= 'big')\n",
    "print(f.renderText('Cryptography'))"
   ]
  },
  {
   "cell_type": "code",
   "execution_count": 5,
   "metadata": {},
   "outputs": [],
   "source": [
    "# or \n",
    "\n",
    "text = pyfiglet.Figlet(font= 'big').renderText('     Cryptography')"
   ]
  },
  {
   "cell_type": "code",
   "execution_count": 8,
   "metadata": {},
   "outputs": [],
   "source": [
    "# now lets add colour\n",
    "import termcolor\n"
   ]
  },
  {
   "cell_type": "code",
   "execution_count": 9,
   "metadata": {},
   "outputs": [
    {
     "name": "stdout",
     "output_type": "stream",
     "text": [
      "\u001b[1m\u001b[36m       _____                  _                              _           \n",
      "      / ____|                | |                            | |          \n",
      "     | |     _ __ _   _ _ __ | |_ ___   __ _ _ __ __ _ _ __ | |__  _   _ \n",
      "     | |    | '__| | | | '_ \\| __/ _ \\ / _` | '__/ _` | '_ \\| '_ \\| | | |\n",
      "     | |____| |  | |_| | |_) | || (_) | (_| | | | (_| | |_) | | | | |_| |\n",
      "      \\_____|_|   \\__, | .__/ \\__\\___/ \\__, |_|  \\__,_| .__/|_| |_|\\__, |\n",
      "                   __/ | |              __/ |         | |           __/ |\n",
      "                  |___/|_|             |___/          |_|          |___/ \n",
      "\u001b[0m\n"
     ]
    }
   ],
   "source": [
    "\n",
    "print(termcolor.colored(text,'cyan',attrs=['bold']))\n",
    "# https://pypi.org/project/termcolor/\n",
    "# http://www.figlet.org/examples.html"
   ]
  },
  {
   "cell_type": "code",
   "execution_count": 22,
   "metadata": {},
   "outputs": [
    {
     "name": "stdout",
     "output_type": "stream",
     "text": [
      "\u001b[1m\u001b[31m                                                                            \n",
      " ___ ___ ___ ___ ___ ___ ___ ___ ___ ___ ___ ___ ___ ___ ___ ___ ___ ___ ___\n",
      "                                                                            \n",
      "                                                                            \n",
      "\u001b[0m\n",
      "\u001b[1m\u001b[36m       _____                  _                              _           \n",
      "      / ____|                | |                            | |          \n",
      "     | |     _ __ _   _ _ __ | |_ ___   __ _ _ __ __ _ _ __ | |__  _   _ \n",
      "     | |    | '__| | | | '_ \\| __/ _ \\ / _` | '__/ _` | '_ \\| '_ \\| | | |\n",
      "     | |____| |  | |_| | |_) | || (_) | (_| | | | (_| | |_) | | | | |_| |\n",
      "      \\_____|_|   \\__, | .__/ \\__\\___/ \\__, |_|  \\__,_| .__/|_| |_|\\__, |\n",
      "                   __/ | |              __/ |         | |           __/ |\n",
      "                  |___/|_|             |___/          |_|          |___/ \n",
      "\u001b[0m\n",
      "\u001b[1m\u001b[31m                                                                            \n",
      " ___ ___ ___ ___ ___ ___ ___ ___ ___ ___ ___ ___ ___ ___ ___ ___ ___ ___ ___\n",
      "                                                                            \n",
      "                                                                            \n",
      "\u001b[0m\n",
      "\u001b[2m\u001b[33m   TYPE YES TO CONTINUE OR NO TO EXIT:\u001b[0m\n"
     ]
    }
   ],
   "source": [
    "text1 = pyfiglet.Figlet(font= 'cyberlarge').renderText('-------------------')\n",
    "\n",
    "print(termcolor.colored(text1,'red',attrs=['bold']))\n",
    "\n",
    "print(termcolor.colored(text,'cyan',attrs=['bold']))\n",
    "\n",
    "print(termcolor.colored(text1,'red',attrs=['bold']))\n",
    "\n",
    "print(termcolor.colored(\"   TYPE YES TO CONTINUE OR NO TO EXIT:\",'yellow',attrs=['dark']))\n",
    "command = str(input())"
   ]
  },
  {
   "cell_type": "code",
   "execution_count": 37,
   "metadata": {},
   "outputs": [
    {
     "name": "stdout",
     "output_type": "stream",
     "text": [
      "\u001b[1m\u001b[31m                                                                            \n",
      " ___ ___ ___ ___ ___ ___ ___ ___ ___ ___ ___ ___ ___ ___ ___ ___ ___ ___ ___\n",
      "                                                                            \n",
      "                                                                            \n",
      "\u001b[0m\n"
     ]
    }
   ],
   "source": [
    "import pyfiglet \n",
    "import termcolor\n",
    "from IPython.display import clear_output as cl\n",
    "text = pyfiglet.Figlet(font= 'big').renderText('     Cryptography')\n",
    "text1 = pyfiglet.Figlet(font= 'cyberlarge').renderText('-------------------')\n",
    "\n",
    "print(termcolor.colored(text1,'red',attrs=['bold']))\n",
    "\n",
    "print(termcolor.colored(text,'cyan',attrs=['bold']))\n",
    "\n",
    "print(termcolor.colored(text1,'red',attrs=['bold']))\n",
    "\n",
    "print(termcolor.colored(\"   TYPE YES / y TO CONTINUE OR NO / n TO EXIT:\",'yellow',attrs=['dark']))\n",
    "\n",
    "x = str(input()).lower()\n",
    "\n",
    "if(x=='yes' or x.startswith('y')):\n",
    "    flow_of_menu = True\n",
    "else:\n",
    "    flow_of_menu = False\n",
    "\n",
    "if (flow_of_menu == True):\n",
    "    cl()\n",
    "    print(termcolor.colored(text1,'red',attrs=['bold']))\n",
    "    # path_of_file = str(input(\"ENTER THE PATH OF THE FILE(WITH EXTENSTION .txt ):\"))\n",
    "    \n",
    "\n",
    "    \n"
   ]
  },
  {
   "cell_type": "code",
   "execution_count": 38,
   "metadata": {},
   "outputs": [
    {
     "name": "stdout",
     "output_type": "stream",
     "text": [
      "E:\\PROGAMMING\\100 DAYS OF CODE CHALLENGE\\test.txt\n"
     ]
    }
   ],
   "source": [
    "print(path_of_file)"
   ]
  }
 ],
 "metadata": {
  "kernelspec": {
   "display_name": "Python 3.10.4 64-bit",
   "language": "python",
   "name": "python3"
  },
  "language_info": {
   "codemirror_mode": {
    "name": "ipython",
    "version": 3
   },
   "file_extension": ".py",
   "mimetype": "text/x-python",
   "name": "python",
   "nbconvert_exporter": "python",
   "pygments_lexer": "ipython3",
   "version": "3.10.4"
  },
  "orig_nbformat": 4,
  "vscode": {
   "interpreter": {
    "hash": "d818f4a5b132e7f66021d3e7c19c2b7a86b89f9388f799e2d6a66075690a4386"
   }
  }
 },
 "nbformat": 4,
 "nbformat_minor": 2
}
