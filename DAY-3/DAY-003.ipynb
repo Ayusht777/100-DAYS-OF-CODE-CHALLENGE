{
 "cells": [
  {
   "cell_type": "code",
   "execution_count": null,
   "metadata": {},
   "outputs": [],
   "source": [
    "#Day-3 of 100dayofcode [17/07/2022 sunday]\n",
    "# More string functions \n"
   ]
  },
  {
   "cell_type": "code",
   "execution_count": 2,
   "metadata": {},
   "outputs": [
    {
     "name": "stdout",
     "output_type": "stream",
     "text": [
      "('hello everyone this ', 'the', ' day 3 of 100 days of code')\n",
      "('hello everyone this the day 3 of 100 days of code', '', '')\n"
     ]
    }
   ],
   "source": [
    "# partition() method \n",
    "# it will covert a string into 3 elements tuple\n",
    "# syntax = partition(char/substring)\n",
    "a = \"hello everyone this the day 3 of 100 days of code\"\n",
    "print(a.partition(\"the\"))\n",
    "print(a.partition(\"well\"))# if not found than first element  = full string and other are empty ''ArithmeticError\n"
   ]
  },
  {
   "cell_type": "code",
   "execution_count": 4,
   "metadata": {},
   "outputs": [
    {
     "name": "stdout",
     "output_type": "stream",
     "text": [
      "('hello everyone this ', 'the', ' day 3 of 100 days of code')\n",
      "('', '', 'hello everyone this the day 3 of 100 days of code')\n"
     ]
    }
   ],
   "source": [
    "#rpartition() method \n",
    "#it will covert a string into 3 elements tuple and if not found than last element would the whole string\n",
    "a = \"hello everyone this the day 3 of 100 days of code\"\n",
    "print(a.rpartition(\"the\"))\n",
    "print(a.rpartition(\"well\"))"
   ]
  },
  {
   "cell_type": "code",
   "execution_count": 26,
   "metadata": {},
   "outputs": [
    {
     "name": "stdout",
     "output_type": "stream",
     "text": [
      "{97: 104}\n",
      "ayust\n"
     ]
    }
   ],
   "source": [
    "#maketrans() method \n",
    "# it convert any string in mapping table / dictnoary of unicode \n",
    "#syntax = maketrans(x,y,z)\n",
    "# x = any char in string \n",
    "# y = any char in string \n",
    "# z = any char in string (optional)\n",
    "str = \"ayush\"\n",
    "print(str.maketrans('a','h'))\n",
    "mappt = str.maketrans(\"h\",\"t\") # length of the key(x) = value(y)\n",
    "#translate() method\n",
    "# just translate the maketrans() dict into char \n",
    "#syntax = translate(mapped srting)\n",
    "tran = str.translate(mappt)\n",
    "print(tran)\n"
   ]
  },
  {
   "cell_type": "code",
   "execution_count": 30,
   "metadata": {},
   "outputs": [
    {
     "name": "stdout",
     "output_type": "stream",
     "text": [
      "3\n",
      "yello everyone tyis tye day 3 of 100 days of code\n",
      "hello everyone this the day 3 of 100 days of code\n",
      "hello everyone neis nee day 3 of 100 days of code\n"
     ]
    }
   ],
   "source": [
    "#replace() method \n",
    "# it just replace the string/char into new \n",
    "# syntax = replace(\"old char/string\",\"new char/string\",number of times(optional default =1))\n",
    "a = \"hello everyone this the day 3 of 100 days of code\"\n",
    "print(a.count(\"h\"))\n",
    "print(a.replace(\"h\",\"y\",3))\n",
    "print(a.replace(\"z\",\"y\",3)) # char not in string\n",
    "print(a.replace(\"th\",\"ne\",5))\n"
   ]
  },
  {
   "cell_type": "code",
   "execution_count": 35,
   "metadata": {},
   "outputs": [
    {
     "name": "stdout",
     "output_type": "stream",
     "text": [
      "['hello everyone ', 'his ', 'he day 3 of 100 days of code']\n",
      "['hello', 'everyone', 'this', 'the', 'day', '3', 'of', '100', 'days', 'of', 'code']\n",
      "['hello everyone this the day 3 of 100 days of code']\n"
     ]
    }
   ],
   "source": [
    "# split() method \n",
    "#The split() method breaks up a string at the specified separator and returns a list of strings.\n",
    "# syntax =split(\"char/string\",number of times)\n",
    "a = \"hello everyone this the day 3 of 100 days of code\"\n",
    "print(a.split(\"t\",3))\n",
    "print(a.split(\" \",10))\n",
    "print(a.split(\"/\",7)) # not present char\n"
   ]
  },
  {
   "cell_type": "code",
   "execution_count": 36,
   "metadata": {},
   "outputs": [
    {
     "name": "stdout",
     "output_type": "stream",
     "text": [
      "['hello everyone ', 'his ', 'he day 3 of 100 days of code']\n",
      "['hello', 'everyone', 'this', 'the', 'day', '3', 'of', '100', 'days', 'of', 'code']\n",
      "['hello everyone this the day 3 of 100 days of code']\n"
     ]
    }
   ],
   "source": [
    "#rsplit() method\n",
    "#The rsplit() method splits string from the right at the specified separator and returns a list of strings.\n",
    "#syntax = rsplit(\"char/string\",number of times)\n",
    "a = \"hello everyone this the day 3 of 100 days of code\"\n",
    "print(a.rsplit(\"t\",3))\n",
    "print(a.rsplit(\" \",10))\n",
    "print(a.rsplit(\"/\",7))\n",
    "# similar to above method\n"
   ]
  },
  {
   "cell_type": "code",
   "execution_count": 41,
   "metadata": {},
   "outputs": [
    {
     "name": "stdout",
     "output_type": "stream",
     "text": [
      "'hello\\neveryone\\nthis\\nthe\\nday\\n3\\nof\\n100\\ndays\\nof\\ncode'\n",
      "['hello', 'everyone', 'this', 'the', 'day', '3', 'of', '100', 'days', 'of', 'code']\n",
      "['hello\\n', 'everyone\\n', 'this\\n', 'the\\n', 'day\\n', '3\\n', 'of\\n', '100\\n', 'days\\n', 'of\\n', 'code']\n",
      "['hello', 'everyone', 'this', 'the', 'day', '3', 'of', '100', 'days', 'of', 'code']\n"
     ]
    }
   ],
   "source": [
    "#splitlines() method \n",
    "#the splitlines() method splits the string at line breaks and returns a list.\n",
    "#syntax = splitlines(boolean value)\n",
    "# true or false\n",
    "a = \"hello everyone this the day 3 of 100 days of code\"\n",
    "a = a.replace(\" \",\"\\n\",10)\n",
    "print(\"%r\"%a)\n",
    "print(a.splitlines())\n",
    "print(a.splitlines(True)) # list raw output\n",
    "print(a.splitlines(False))\n",
    "\n"
   ]
  },
  {
   "cell_type": "code",
   "execution_count": 47,
   "metadata": {},
   "outputs": [
    {
     "name": "stdout",
     "output_type": "stream",
     "text": [
      "49\n",
      "000000hello everyone this the day 3 of 100 days of code\n",
      "0hello everyone this the day 3 of 100 days of code\n",
      "hello everyone this the day 3 of 100 days of code\n"
     ]
    }
   ],
   "source": [
    "#zfill() method\n",
    "#The zfill() method returns a copy of the string with '0' characters padded to the left.\n",
    "#zfill(width)\n",
    "# width > len(str)\n",
    "a = \"hello everyone this the day 3 of 100 days of code\"\n",
    "print(len(a))\n",
    "print(a.zfill(55))\n",
    "print(a.zfill(50))\n",
    "print(a.zfill(4))\n"
   ]
  },
  {
   "cell_type": "code",
   "execution_count": 49,
   "metadata": {},
   "outputs": [
    {
     "name": "stdout",
     "output_type": "stream",
     "text": [
      "4455 77\n"
     ]
    }
   ],
   "source": [
    "# format_map() method\n",
    "#it just replace dict value to key in print place holder\n",
    "#syntax = format_map(mapping/dict)\n",
    "di = {\"a\":4455,\"b\":77}\n",
    "print(\"{a} {b}\".format_map(di))\n",
    "# the place holder keyname should be same as the dictionary key name\n",
    "# similar to format method "
   ]
  },
  {
   "cell_type": "code",
   "execution_count": 51,
   "metadata": {},
   "outputs": [
    {
     "name": "stdout",
     "output_type": "stream",
     "text": [
      "[1, 2, 3]\n",
      "['hello', 45, 485.8, [0, 5]]\n"
     ]
    }
   ],
   "source": [
    "# list \n",
    "#syntax = listname = [itmes]\n",
    "ls = [1,2,3]\n",
    "print(ls)\n",
    "ls = [\"hello\",45,485.8,[0,5]]\n",
    "print(ls)"
   ]
  },
  {
   "cell_type": "code",
   "execution_count": 61,
   "metadata": {},
   "outputs": [
    {
     "name": "stdout",
     "output_type": "stream",
     "text": [
      "54646\n",
      "[54646, 897899]\n",
      "[7880, 54646, 897899, 897899, 897899, 485.8, [0, 5]]\n",
      "['455', 54646, 897899, 897899, 897899, 897899, 485.8, [0, 5]]\n",
      "897899\n"
     ]
    }
   ],
   "source": [
    "# indexing and slicing in the list\n",
    "print(ls[1])\n",
    "print(ls[1:3])\n",
    "# let update any element in the list\n",
    "ls[0]=7880\n",
    "print(ls)\n",
    "ls[0:2] =(\"455\",54646,897899)\n",
    "print(ls)\n",
    "print(ls[-5])"
   ]
  },
  {
   "cell_type": "code",
   "execution_count": 66,
   "metadata": {},
   "outputs": [
    {
     "name": "stdout",
     "output_type": "stream",
     "text": [
      "[4555, 879, 69, 777, 88, 9978, 887]\n",
      "[4555, 879, 69, 777, 88, 9978, 887, 4555, 879, 69, 777, 88, 9978, 887]\n",
      "[0, 0, 0, 0, 0]\n"
     ]
    }
   ],
   "source": [
    "#list concatenation\n",
    "ls1 =[4555,879,69]\n",
    "ls2 = [777,88,9978,887]\n",
    "ls3 =ls1+ls2\n",
    "print(ls3)\n",
    "# double the list \n",
    "print(ls3*2)\n",
    "ls = [0]\n",
    "print(ls*5)\n",
    "\n"
   ]
  },
  {
   "cell_type": "code",
   "execution_count": 68,
   "metadata": {},
   "outputs": [
    {
     "name": "stdout",
     "output_type": "stream",
     "text": [
      "[4555, 879, 69, 777, 88, 9978, 887]\n",
      "[4555, 879, 777, 88, 9978, 887]\n"
     ]
    }
   ],
   "source": [
    "#Delete List Elements\n",
    "print(ls3)\n",
    "del ls3[2]\n",
    "print(ls3)"
   ]
  },
  {
   "cell_type": "code",
   "execution_count": 69,
   "metadata": {},
   "outputs": [
    {
     "name": "stdout",
     "output_type": "stream",
     "text": [
      "[4, 78, 8, 9, 9, 69, 6]\n",
      "[4, 78, 8, 9, 9, 69, 6, 7999]\n"
     ]
    }
   ],
   "source": [
    "#List Methods\n",
    "# append() method\n",
    "# syntax = append(item)\n",
    "# it just  add element to new list \n",
    "lsd = [4,78,8,9,9,69,6]\n",
    "print(lsd)\n",
    "lsd.append(7999)\n",
    "print(lsd)"
   ]
  },
  {
   "cell_type": "code",
   "execution_count": 70,
   "metadata": {},
   "outputs": [
    {
     "name": "stdout",
     "output_type": "stream",
     "text": [
      "[0, 4, 78, 8, 9, 9, 69, 6, 7999]\n"
     ]
    }
   ],
   "source": [
    "#extend() method\n",
    "# add all elements of an list to another list\n",
    "lz = [0]\n",
    "lz.extend(lsd)\n",
    "print(lz)"
   ]
  },
  {
   "cell_type": "code",
   "execution_count": 71,
   "metadata": {},
   "outputs": [
    {
     "name": "stdout",
     "output_type": "stream",
     "text": [
      "2\n"
     ]
    }
   ],
   "source": [
    "#index() method \n",
    "# return the index of any purticuler element\n",
    "# syntax = index(element of the list)\n",
    "print(lz.index(78))"
   ]
  },
  {
   "cell_type": "code",
   "execution_count": 75,
   "metadata": {},
   "outputs": [
    {
     "name": "stdout",
     "output_type": "stream",
     "text": [
      "[0, 4, 78, 8, 9, 9, 69, 6, 7999]\n",
      "[0, 4, 78, 8, 'ayush', 9, 9, 69, 6, 7999]\n"
     ]
    }
   ],
   "source": [
    "#insert() method \n",
    "#insert() method inserts an element to the list at the specified index.\n",
    "#syntax = insert(index,elemnet)\n",
    "print(lz)\n",
    "lz.insert(4,\"ayush\")\n",
    "print(lz)"
   ]
  },
  {
   "cell_type": "code",
   "execution_count": 76,
   "metadata": {},
   "outputs": [
    {
     "name": "stdout",
     "output_type": "stream",
     "text": [
      "[0, 4, 78, 8, 9, 9, 69, 6, 7999]\n"
     ]
    }
   ],
   "source": [
    "#remove() method\n",
    "#removes the first matching element (which is passed as an argument) from the list.\n",
    "#syntax = remove(element)\n",
    "lz.remove(\"ayush\")\n",
    "print(lz)\n",
    "# or del or pop method "
   ]
  },
  {
   "cell_type": "code",
   "execution_count": 77,
   "metadata": {},
   "outputs": [
    {
     "name": "stdout",
     "output_type": "stream",
     "text": [
      "[0, 4, 78, 8, 9, 9, 69, 6, 7999]\n",
      "[0, 4, 78, 8, 9, 69, 6, 7999]\n"
     ]
    }
   ],
   "source": [
    "#pop() method\n",
    "#pop() method removes the item at the given index from the list and returns the removed item.\n",
    "# syntax = pop(index)\n",
    "print(lz)\n",
    "lz.pop(4)\n",
    "print(lz)"
   ]
  },
  {
   "cell_type": "code",
   "execution_count": 78,
   "metadata": {},
   "outputs": [
    {
     "name": "stdout",
     "output_type": "stream",
     "text": [
      "2\n"
     ]
    }
   ],
   "source": [
    "#count() method\n",
    "#The count() method returns the number of times the specified element appears in the list.\n",
    "#syntax =count(element)\n",
    "lz.append(9)\n",
    "print(lz.count(9))"
   ]
  },
  {
   "cell_type": "code",
   "execution_count": 82,
   "metadata": {},
   "outputs": [
    {
     "name": "stdout",
     "output_type": "stream",
     "text": [
      "[0, 4, 6, 8, 9, 9, 69, 78, 7999]\n",
      "[7999, 78, 69, 9, 9, 8, 6, 4, 0]\n"
     ]
    }
   ],
   "source": [
    "#reverse() method\n",
    "#it reverse all element the list\n",
    "print(lz)\n",
    "lz.reverse()\n",
    "print(lz)"
   ]
  },
  {
   "cell_type": "code",
   "execution_count": 85,
   "metadata": {},
   "outputs": [
    {
     "name": "stdout",
     "output_type": "stream",
     "text": [
      "[0, 4, 6, 8, 9, 9, 69, 78, 7999]\n",
      "[7999, 78, 69, 9, 9, 8, 6, 4, 0]\n",
      "[0, 4, 6, 8, 9, 9, 69, 78, 7999]\n"
     ]
    }
   ],
   "source": [
    "#sort() method\n",
    "#sort() method sorts the items of a list in ascending or descending order.\n",
    "lz.sort()\n",
    "print(lz)\n",
    "# in descending order\n",
    "lz.sort(reverse=True)\n",
    "print(lz)\n",
    "# or you can use sorted method\n",
    "print(sorted(lz))\n",
    "\n"
   ]
  },
  {
   "cell_type": "code",
   "execution_count": 88,
   "metadata": {},
   "outputs": [
    {
     "name": "stdout",
     "output_type": "stream",
     "text": [
      "[7999, 78, 69, 9, 9, 8, 6, 4, 0]\n"
     ]
    }
   ],
   "source": [
    "#copy() method\n",
    "#copy() method returns a shallow copy of the list.\n",
    "lse = lz.copy()\n",
    "print(lse)\n",
    "\n",
    "\n"
   ]
  },
  {
   "cell_type": "code",
   "execution_count": 89,
   "metadata": {},
   "outputs": [
    {
     "name": "stdout",
     "output_type": "stream",
     "text": [
      "[7999, 78, 69, 9, 9, 8, 6, 4, 0]\n",
      "[]\n"
     ]
    }
   ],
   "source": [
    "#clear() method \n",
    "#clear() method removes all items from the list. \n",
    "print(lse)\n",
    "lse.clear()\n",
    "print(lse)"
   ]
  }
 ],
 "metadata": {
  "kernelspec": {
   "display_name": "Python 3.10.4 64-bit",
   "language": "python",
   "name": "python3"
  },
  "language_info": {
   "codemirror_mode": {
    "name": "ipython",
    "version": 3
   },
   "file_extension": ".py",
   "mimetype": "text/x-python",
   "name": "python",
   "nbconvert_exporter": "python",
   "pygments_lexer": "ipython3",
   "version": "3.10.4"
  },
  "orig_nbformat": 4,
  "vscode": {
   "interpreter": {
    "hash": "d818f4a5b132e7f66021d3e7c19c2b7a86b89f9388f799e2d6a66075690a4386"
   }
  }
 },
 "nbformat": 4,
 "nbformat_minor": 2
}
