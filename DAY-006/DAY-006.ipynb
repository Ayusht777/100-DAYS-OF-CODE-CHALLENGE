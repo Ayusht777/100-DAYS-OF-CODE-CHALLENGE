{
 "cells": [
  {
   "cell_type": "code",
   "execution_count": null,
   "metadata": {},
   "outputs": [],
   "source": [
    "#Day-6 of 100dayofcode [20/07/2022 wednesday]\n",
    "\n"
   ]
  },
  {
   "cell_type": "code",
   "execution_count": null,
   "metadata": {},
   "outputs": [],
   "source": [
    "# to learn booleans more effectively we have to various operators"
   ]
  },
  {
   "cell_type": "markdown",
   "metadata": {},
   "source": [
    "operators"
   ]
  },
  {
   "cell_type": "markdown",
   "metadata": {},
   "source": [
    "Arithmetic operators"
   ]
  },
  {
   "cell_type": "code",
   "execution_count": 5,
   "metadata": {},
   "outputs": [
    {
     "name": "stdout",
     "output_type": "stream",
     "text": [
      "a + b = 7.0 ADDITION OPERATOR\n",
      "a - b = -3.0 SUBSTRACTION OPERATOR\n",
      "a * b = 10.0 MULTIPLICATION OPERATOR\n",
      "a / b = 0.4 DIVISION OPERATOR\n",
      "a // b = 0.0 FLOOR DIVISION OPERATOR\n",
      "a % b = 2.0 MODULUS OPERATOR\n",
      "a ** b = 32.0 EXPONENTIAL OPERATOR\n"
     ]
    }
   ],
   "source": [
    "a = 2.0\n",
    "b = 5.0\n",
    "print(f\"a + b = {a+b} ADDITION OPERATOR\")\n",
    "print(f\"a - b = {a-b} SUBSTRACTION OPERATOR\")\n",
    "print(f\"a * b = {a*b} MULTIPLICATION OPERATOR\")\n",
    "print(f\"a / b = {a/b} DIVISION OPERATOR\")\n",
    "print(f\"a // b = {a//b} FLOOR DIVISION OPERATOR\")\n",
    "print(f\"a % b = {a%b} MODULUS OPERATOR\")\n",
    "print(f\"a ** b = {a**b} EXPONENTIAL OPERATOR\")"
   ]
  },
  {
   "cell_type": "markdown",
   "metadata": {},
   "source": [
    "Assignment operators"
   ]
  },
  {
   "cell_type": "code",
   "execution_count": 22,
   "metadata": {},
   "outputs": [
    {
     "name": "stdout",
     "output_type": "stream",
     "text": [
      "x = x + 1 or x+=1 : 42\n",
      "x = x - 1 or x-=1 : 40\n",
      "x = x * 1 or x*=1 : 41\n",
      "x = x / 1 or x/=1 : 41.0\n",
      "x = x % 1 or x%=1 : 0\n",
      "x = x // 1 or x//=1 : 41\n",
      "x = x ** 1 or x**=1 : 41\n"
     ]
    }
   ],
   "source": [
    "#it  is used to assign values to variables.\n",
    "a = 41\n",
    "a+=1\n",
    "print(f\"x = x + 1 or x+=1 : {a}\")\n",
    "a = 41\n",
    "a-=1\n",
    "print(f\"x = x - 1 or x-=1 : {a}\")\n",
    "a = 41\n",
    "a*=1\n",
    "print(f\"x = x * 1 or x*=1 : {a}\")\n",
    "a = 41\n",
    "a/=1\n",
    "print(f\"x = x / 1 or x/=1 : {a}\")\n",
    "a = 41\n",
    "a%=1\n",
    "print(f\"x = x % 1 or x%=1 : {a}\")\n",
    "a = 41\n",
    "a//=1\n",
    "print(f\"x = x // 1 or x//=1 : {a}\")\n",
    "a = 41\n",
    "a**=1\n",
    "print(f\"x = x ** 1 or x**=1 : {a}\")\n",
    "\n",
    "\n"
   ]
  },
  {
   "cell_type": "markdown",
   "metadata": {},
   "source": [
    "Comparison operators"
   ]
  },
  {
   "cell_type": "code",
   "execution_count": 25,
   "metadata": {},
   "outputs": [
    {
     "name": "stdout",
     "output_type": "stream",
     "text": [
      "a>b : False\n",
      "a<b : True\n",
      "a == b : False\n",
      "a != b : True\n",
      "a >= b : False\n",
      "a <= b : True\n"
     ]
    }
   ],
   "source": [
    "a = 78\n",
    "b = 988\n",
    "print(f\"a>b : {a>b}\")# answer in booleans\n",
    "print(f\"a<b : {a<b}\")\n",
    "print(f\"a == b : {a == b}\")\n",
    "print(f\"a != b : {a != b}\")\n",
    "print(f\"a >= b : {a >= b}\")\n",
    "print(f\"a <= b : {a <= b}\")\n",
    "\n"
   ]
  },
  {
   "cell_type": "markdown",
   "metadata": {},
   "source": [
    "Logical operators"
   ]
  },
  {
   "cell_type": "code",
   "execution_count": 29,
   "metadata": {},
   "outputs": [
    {
     "name": "stdout",
     "output_type": "stream",
     "text": [
      "a and b : False\n",
      "a or b : True\n",
      " not a : False\n",
      " not b : True\n"
     ]
    }
   ],
   "source": [
    "# and if both are true\n",
    "# or if one of them true\n",
    "# not just change true to false and false to true \n",
    "a = True\n",
    "b= False\n",
    "print(f\"a and b : {a and b}\")\n",
    "print(f\"a or b : {a or b}\")\n",
    "print(f\" not a : {not a}\")\n",
    "print(f\" not b : {not b}\")\n"
   ]
  },
  {
   "cell_type": "markdown",
   "metadata": {},
   "source": [
    "Identity operators"
   ]
  },
  {
   "cell_type": "code",
   "execution_count": 30,
   "metadata": {},
   "outputs": [
    {
     "name": "stdout",
     "output_type": "stream",
     "text": [
      "a is b : False\n",
      "a is not b : True\n"
     ]
    }
   ],
   "source": [
    "a = 10 \n",
    "b = 45\n",
    "print(f\"a is b : {a is b}\")\n",
    "print(f\"a is not b : {a is not b}\")"
   ]
  },
  {
   "cell_type": "markdown",
   "metadata": {},
   "source": [
    "Membership operators"
   ]
  },
  {
   "cell_type": "code",
   "execution_count": null,
   "metadata": {},
   "outputs": [],
   "source": [
    "# it checks the value has in the data type"
   ]
  },
  {
   "cell_type": "code",
   "execution_count": 37,
   "metadata": {},
   "outputs": [
    {
     "name": "stdout",
     "output_type": "stream",
     "text": [
      "a in s(string) : True\n",
      "a in not s(string) : False\n",
      "1 in l(list) : True\n",
      "1 in not l(list) : False\n",
      "1 in d(dictionary) : True\n",
      "1 in not d(dictinoary) : False\n",
      "4 in se(set) : True\n",
      "4 in not se(set) : False\n"
     ]
    }
   ],
   "source": [
    "s = \"ayush\"\n",
    "l = [1,2,3,4]\n",
    "d = {1:\"a\",2:'b'}\n",
    "t = (1,5,8)\n",
    "se = {4,7,8}\n",
    "print(f\"a in s(string) : {'a' in s}\")\n",
    "print(f\"a in not s(string) : {'a' not in s}\")\n",
    "print(f\"1 in l(list) : {1 in l}\")\n",
    "print(f\"1 in not l(list) : {1 not in l}\")\n",
    "print(f\"1 in d(dictionary) : {1 in d}\")# cheks only key \n",
    "print(f\"1 in not d(dictinoary) : {1 not in d}\")\n",
    "print(f\"4 in se(set) : {4 in se}\")\n",
    "print(f\"4 in not se(set) : {4 not in se}\")\n",
    "\n"
   ]
  },
  {
   "cell_type": "code",
   "execution_count": null,
   "metadata": {},
   "outputs": [],
   "source": [
    "#Booleans\n",
    "#it is a data type which give true or flase as value"
   ]
  },
  {
   "cell_type": "code",
   "execution_count": 39,
   "metadata": {},
   "outputs": [
    {
     "name": "stdout",
     "output_type": "stream",
     "text": [
      "type <class 'bool'>,<class 'bool'>\n",
      "True , False\n"
     ]
    }
   ],
   "source": [
    "#creating a boolean\n",
    "b = True\n",
    "c = False\n",
    "print(f\"type {type(b)},{type(c)}\")\n",
    "print(b,\",\",c)"
   ]
  },
  {
   "cell_type": "code",
   "execution_count": 41,
   "metadata": {},
   "outputs": [
    {
     "name": "stdout",
     "output_type": "stream",
     "text": [
      "True\n",
      "False\n",
      "50\n",
      "10\n",
      "False\n",
      "False\n"
     ]
    }
   ],
   "source": [
    "a = 10\n",
    "b =50\n",
    "print(a!=b)\n",
    "print(a==b)\n",
    "print(a and b)\n",
    "print (a or b)\n",
    "print(not a)\n",
    "print(not b)"
   ]
  },
  {
   "cell_type": "code",
   "execution_count": null,
   "metadata": {},
   "outputs": [],
   "source": [
    "#Array\n",
    "# just like c we can also create array here\n",
    "# array is collection of single data type"
   ]
  },
  {
   "cell_type": "code",
   "execution_count": 42,
   "metadata": {},
   "outputs": [],
   "source": [
    "# importing array from array module\n",
    "# syntax : import array as (any letter you want as array data type prefix of any new variable)\n",
    "import array as ay \n"
   ]
  },
  {
   "cell_type": "code",
   "execution_count": 94,
   "metadata": {},
   "outputs": [
    {
     "name": "stdout",
     "output_type": "stream",
     "text": [
      "array('i', [4, 8, 9, 99, 97, 7])\n",
      "<class 'int'>\n"
     ]
    }
   ],
   "source": [
    "# Creating Arrays\n",
    "# synatx : vraiblename = ay.array('datatype',[values of the data type])\n",
    "x = ay.array('i',[4,8,9,99,97,7]) # int type array\n",
    "# see the table below\n",
    "print(x)\n",
    "print(type(a))\n"
   ]
  },
  {
   "cell_type": "code",
   "execution_count": 48,
   "metadata": {},
   "outputs": [
    {
     "data": {
      "text/html": [
       "<img src=\"https://media.geeksforgeeks.org/wp-content/uploads/CommonArticleDesign2-min.png\" width=\"1000\" height=\"800\"/>"
      ],
      "text/plain": [
       "<IPython.core.display.Image object>"
      ]
     },
     "execution_count": 48,
     "metadata": {},
     "output_type": "execute_result"
    }
   ],
   "source": [
    "from IPython.display import Image\n",
    "Image(url= \"https://media.geeksforgeeks.org/wp-content/uploads/CommonArticleDesign2-min.png\", width=1000, height=800)"
   ]
  },
  {
   "cell_type": "code",
   "execution_count": 56,
   "metadata": {},
   "outputs": [
    {
     "name": "stdout",
     "output_type": "stream",
     "text": [
      "array('f', [1.0, 7.800000190734863, 9.5])\n",
      "<class 'array.array'>\n"
     ]
    },
    {
     "ename": "TypeError",
     "evalue": "'str' object cannot be interpreted as an integer",
     "output_type": "error",
     "traceback": [
      "\u001b[1;31m---------------------------------------------------------------------------\u001b[0m",
      "\u001b[1;31mTypeError\u001b[0m                                 Traceback (most recent call last)",
      "\u001b[1;32me:\\PROGAMMING\\100 DAYS OF CODE CHALLENGE\\DAY-006.ipynb Cell 24\u001b[0m in \u001b[0;36m<cell line: 6>\u001b[1;34m()\u001b[0m\n\u001b[0;32m      <a href='vscode-notebook-cell:/e%3A/PROGAMMING/100%20DAYS%20OF%20CODE%20CHALLENGE/DAY-006.ipynb#ch0000038?line=3'>4</a>\u001b[0m \u001b[39mprint\u001b[39m(\u001b[39mtype\u001b[39m(f))\n\u001b[0;32m      <a href='vscode-notebook-cell:/e%3A/PROGAMMING/100%20DAYS%20OF%20CODE%20CHALLENGE/DAY-006.ipynb#ch0000038?line=4'>5</a>\u001b[0m \u001b[39m# char type array\u001b[39;00m\n\u001b[1;32m----> <a href='vscode-notebook-cell:/e%3A/PROGAMMING/100%20DAYS%20OF%20CODE%20CHALLENGE/DAY-006.ipynb#ch0000038?line=5'>6</a>\u001b[0m c \u001b[39m=\u001b[39m ay\u001b[39m.\u001b[39;49marray(\u001b[39m'\u001b[39;49m\u001b[39mb\u001b[39;49m\u001b[39m'\u001b[39;49m,[\u001b[39m'\u001b[39;49m\u001b[39ma\u001b[39;49m\u001b[39m'\u001b[39;49m,\u001b[39m'\u001b[39;49m\u001b[39mb\u001b[39;49m\u001b[39m'\u001b[39;49m,\u001b[39m'\u001b[39;49m\u001b[39mc\u001b[39;49m\u001b[39m'\u001b[39;49m])\n\u001b[0;32m      <a href='vscode-notebook-cell:/e%3A/PROGAMMING/100%20DAYS%20OF%20CODE%20CHALLENGE/DAY-006.ipynb#ch0000038?line=6'>7</a>\u001b[0m \u001b[39mprint\u001b[39m(c)\n\u001b[0;32m      <a href='vscode-notebook-cell:/e%3A/PROGAMMING/100%20DAYS%20OF%20CODE%20CHALLENGE/DAY-006.ipynb#ch0000038?line=7'>8</a>\u001b[0m \u001b[39mprint\u001b[39m(\u001b[39mtype\u001b[39m(c))\n",
      "\u001b[1;31mTypeError\u001b[0m: 'str' object cannot be interpreted as an integer"
     ]
    }
   ],
   "source": [
    "# float type array \n",
    "f = ay.array('f',[1.0,7.8,9.5])\n",
    "print(f)\n",
    "print(type(f))\n",
    "# char type array\n",
    "c = ay.array('b',['a','b','c'])\n",
    "print(c)\n",
    "print(type(c))\n",
    "# do not know why i am getting the error"
   ]
  },
  {
   "cell_type": "code",
   "execution_count": 69,
   "metadata": {},
   "outputs": [
    {
     "name": "stdout",
     "output_type": "stream",
     "text": [
      "array('i', [4, 8, 9, 99, 97, 7])\n",
      "first element : 4\n",
      "second element : 8\n",
      "third element : 9\n",
      "forth element : 99 or 97\n",
      "first to last : array('i', [4, 8, 9, 99, 97])\n",
      "elements: array('i', [9, 99, 97])\n",
      "elements: array('i', [7, 97, 99, 9, 8, 4])\n",
      "elements: array('i', [4, 8, 9, 99, 97, 7])\n"
     ]
    }
   ],
   "source": [
    "#Accessing Array Elements\n",
    "# indexing and Slicing in Arrays\n",
    "print(x)\n",
    "print(f\"first element : {x[0]}\")\n",
    "print(f\"second element : {x[1]}\")\n",
    "print(f\"third element : {x[2]}\")\n",
    "print(f\"forth element : {x[3]} or {x[-2]}\")\n",
    "print(f\"first to last : {x[0:5]}\")\n",
    "print(f\"elements: {x[2:5]}\")\n",
    "print(f\"elements: {x[::-1]}\")\n",
    "print(f\"elements: {x[::]}\")"
   ]
  },
  {
   "cell_type": "code",
   "execution_count": 84,
   "metadata": {},
   "outputs": [
    {
     "name": "stdout",
     "output_type": "stream",
     "text": [
      "array('i', [4, 0, 87, 95, 97, 7, 477, 477, 477, 477, 477, 477, 47, 89, 477, 47, 89])\n",
      "the new first element: 55\n",
      "array('i', [4, 55, 87, 95, 97, 7, 477, 477, 477, 477, 477, 477, 47, 89, 477, 47, 89])\n",
      "array('i', [4, 0, 87, 95, 97, 7, 477, 477, 477, 477, 477, 477, 47, 89, 477, 47, 89])\n"
     ]
    }
   ],
   "source": [
    "# Changing and Adding Elements\n",
    "print(x)\n",
    "x[1] = 55#changing first element\n",
    "print(f\"the new first element: {x[1]}\")\n",
    "print(x)\n",
    "x[1:4] = ay.array('i',[0,87,95])\n",
    "print(x)\n",
    "\n"
   ]
  },
  {
   "cell_type": "code",
   "execution_count": 82,
   "metadata": {},
   "outputs": [
    {
     "name": "stdout",
     "output_type": "stream",
     "text": [
      "array('i', [74, 85, 96, 504])\n",
      "array('i', [4, 0, 87, 95, 97, 7, 477, 477, 477, 477, 477, 477, 47, 89, 74, 85, 96, 504])\n"
     ]
    }
   ],
   "source": [
    "#concatenate with arrays\n",
    "y = ay.array('i',[74,85,96,504])\n",
    "print(y)\n",
    "z = x + y\n",
    "print(z)\n"
   ]
  },
  {
   "cell_type": "code",
   "execution_count": null,
   "metadata": {},
   "outputs": [],
   "source": [
    "#array methods"
   ]
  },
  {
   "cell_type": "code",
   "execution_count": 83,
   "metadata": {},
   "outputs": [
    {
     "name": "stdout",
     "output_type": "stream",
     "text": [
      "array('i', [4, 0, 87, 95, 97, 7, 477, 477, 477, 477, 477, 477, 47, 89, 477])\n",
      "array('i', [4, 0, 87, 95, 97, 7, 477, 477, 477, 477, 477, 477, 47, 89, 477, 47, 89])\n"
     ]
    }
   ],
   "source": [
    "# append() method\n",
    "x.append(477)\n",
    "print(x)\n"
   ]
  },
  {
   "cell_type": "code",
   "execution_count": null,
   "metadata": {},
   "outputs": [],
   "source": [
    "# extend() method\n",
    "# synytax : arryname.extend([elements])\n",
    "x.extend([47,89])\n",
    "print(x)"
   ]
  },
  {
   "cell_type": "code",
   "execution_count": 88,
   "metadata": {},
   "outputs": [
    {
     "name": "stdout",
     "output_type": "stream",
     "text": [
      "array('i', [4, 0, 87, 95, 97, 7, 477, 477, 477, 477, 477, 477, 47, 89, 477, 47, 89, 7899])\n",
      "18\n",
      "array('i', [4, 0, 87, 95, 97, 7, 477, 477, 477, 477, 477, 477, 47, 89, 477, 47, 89, 7899, 7899])\n"
     ]
    }
   ],
   "source": [
    "#insert() method\n",
    "# syntax : insert(index,value)\n",
    "print(x)\n",
    "print(len(x))\n",
    "x.insert(17,7899)\n",
    "print(x)"
   ]
  },
  {
   "cell_type": "code",
   "execution_count": 103,
   "metadata": {},
   "outputs": [
    {
     "name": "stdout",
     "output_type": "stream",
     "text": [
      "array('i', [7, 97, 99, 9, 8, 4])\n",
      "array('i', [7, 97, 99, 9, 8, 4, 0, 78, 8, 9, 7])\n"
     ]
    }
   ],
   "source": [
    "# fromlist() method\n",
    "# syntax : fromlist(newlist)\n",
    "ls = [0,78,8,9,7]\n",
    "print(x)\n",
    "x.fromlist(ls)\n",
    "print(x)"
   ]
  },
  {
   "cell_type": "code",
   "execution_count": 90,
   "metadata": {},
   "outputs": [
    {
     "name": "stdout",
     "output_type": "stream",
     "text": [
      "array('i', [4, 0, 87, 95, 97, 7, 477, 477, 477, 477, 477, 477, 47, 89, 477, 47, 89, 7899, 7899])\n",
      "array('i', [4, 0, 95, 97, 7, 477, 477, 477, 477, 477, 477, 47, 89, 477, 47, 89, 7899, 7899])\n"
     ]
    }
   ],
   "source": [
    "# remove() method\n",
    "# syntax : remove(element)\n",
    "print(x)\n",
    "x.remove(87)\n",
    "print(x)"
   ]
  },
  {
   "cell_type": "code",
   "execution_count": 91,
   "metadata": {},
   "outputs": [
    {
     "name": "stdout",
     "output_type": "stream",
     "text": [
      "array('i', [4, 0, 95, 97, 7, 477, 477, 477, 477, 477, 477, 47, 89, 477, 47, 89, 7899, 7899])\n",
      "array('i', [4, 0, 97, 7, 477, 477, 477, 477, 477, 477, 47, 89, 477, 47, 89, 7899, 7899])\n"
     ]
    }
   ],
   "source": [
    "# pop() method\n",
    "# syntax : pop(index)\n",
    "print(x)\n",
    "x.pop(2)\n",
    "print(x)"
   ]
  },
  {
   "cell_type": "code",
   "execution_count": 98,
   "metadata": {},
   "outputs": [
    {
     "name": "stdout",
     "output_type": "stream",
     "text": [
      "array('i', [4, 8, 9, 99, 97, 7])\n",
      "array('i', [7, 97, 99, 9, 8, 4])\n"
     ]
    }
   ],
   "source": [
    "#reverse() method\n",
    "print(x)\n",
    "x.reverse()\n",
    "print(x)\n"
   ]
  },
  {
   "cell_type": "code",
   "execution_count": 99,
   "metadata": {},
   "outputs": [
    {
     "name": "stdout",
     "output_type": "stream",
     "text": [
      "array('i', [7, 97, 99, 9, 8, 4])\n"
     ]
    },
    {
     "data": {
      "text/plain": [
       "1"
      ]
     },
     "execution_count": 99,
     "metadata": {},
     "output_type": "execute_result"
    }
   ],
   "source": [
    "#count() method\n",
    "#syntax : count(element)\n",
    "print(x)\n",
    "print(x.count(4))\n"
   ]
  },
  {
   "cell_type": "code",
   "execution_count": 100,
   "metadata": {},
   "outputs": [
    {
     "name": "stdout",
     "output_type": "stream",
     "text": [
      "array('i', [7, 97, 99, 9, 8, 4])\n",
      "2\n"
     ]
    }
   ],
   "source": [
    "#index() method\n",
    "# syntax : index(index value)\n",
    "print(x)\n",
    "print(x.index(99))"
   ]
  }
 ],
 "metadata": {
  "kernelspec": {
   "display_name": "Python 3.10.4 64-bit",
   "language": "python",
   "name": "python3"
  },
  "language_info": {
   "codemirror_mode": {
    "name": "ipython",
    "version": 3
   },
   "file_extension": ".py",
   "mimetype": "text/x-python",
   "name": "python",
   "nbconvert_exporter": "python",
   "pygments_lexer": "ipython3",
   "version": "3.10.4"
  },
  "orig_nbformat": 4,
  "vscode": {
   "interpreter": {
    "hash": "d818f4a5b132e7f66021d3e7c19c2b7a86b89f9388f799e2d6a66075690a4386"
   }
  }
 },
 "nbformat": 4,
 "nbformat_minor": 2
}
