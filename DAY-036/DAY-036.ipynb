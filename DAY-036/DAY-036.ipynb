{
 "cells": [
  {
   "cell_type": "markdown",
   "metadata": {},
   "source": [
    "# Day-36 of 100dayofcode [20/08/2022 Saturday]\n"
   ]
  },
  {
   "cell_type": "markdown",
   "metadata": {},
   "source": [
    "# Property Decorator – @property"
   ]
  },
  {
   "cell_type": "markdown",
   "metadata": {},
   "source": [
    "This a method which allow to call any method in class as atribute out of it with () and also usage of getter,setter,delete"
   ]
  },
  {
   "cell_type": "code",
   "execution_count": 182,
   "metadata": {},
   "outputs": [],
   "source": [
    "class mail():\n",
    "    def __init__(self,first_name,last_name):\n",
    "        self.first_name = first_name\n",
    "        self.last_name = last_name\n",
    "        self.gmail = self.first_name +\"_\" + self.last_name + \".gmail.com\"\n",
    "        # print(self.first_name +\"_\" + self.last_name + \".gmail.com\")"
   ]
  },
  {
   "cell_type": "code",
   "execution_count": 8,
   "metadata": {},
   "outputs": [
    {
     "name": "stdout",
     "output_type": "stream",
     "text": [
      "ayush_jain.gmail.com\n"
     ]
    }
   ],
   "source": [
    "m = mail('ayush','jain')"
   ]
  },
  {
   "cell_type": "code",
   "execution_count": 10,
   "metadata": {},
   "outputs": [
    {
     "data": {
      "text/plain": [
       "'ayush_jain.gmail.com'"
      ]
     },
     "execution_count": 10,
     "metadata": {},
     "output_type": "execute_result"
    }
   ],
   "source": [
    "m.gmail"
   ]
  },
  {
   "cell_type": "code",
   "execution_count": 11,
   "metadata": {},
   "outputs": [
    {
     "data": {
      "text/plain": [
       "'ayush'"
      ]
     },
     "execution_count": 11,
     "metadata": {},
     "output_type": "execute_result"
    }
   ],
   "source": [
    "m.first_name"
   ]
  },
  {
   "cell_type": "code",
   "execution_count": 12,
   "metadata": {},
   "outputs": [
    {
     "data": {
      "text/plain": [
       "'jain'"
      ]
     },
     "execution_count": 12,
     "metadata": {},
     "output_type": "execute_result"
    }
   ],
   "source": [
    "m.last_name"
   ]
  },
  {
   "cell_type": "code",
   "execution_count": 14,
   "metadata": {},
   "outputs": [],
   "source": [
    "m.last_name = 'sen'"
   ]
  },
  {
   "cell_type": "code",
   "execution_count": 16,
   "metadata": {},
   "outputs": [
    {
     "data": {
      "text/plain": [
       "'ayush_jain.gmail.com'"
      ]
     },
     "execution_count": 16,
     "metadata": {},
     "output_type": "execute_result"
    }
   ],
   "source": [
    "m.gmail # that will be the problem"
   ]
  },
  {
   "cell_type": "code",
   "execution_count": 17,
   "metadata": {},
   "outputs": [],
   "source": [
    "# to slove it we can create a new method\n",
    "\n",
    "\n",
    "class mail():\n",
    "    def __init__(self,first_name,last_name):\n",
    "        self.first_name = first_name\n",
    "        self.last_name = last_name\n",
    "        \n",
    "        # print(self.first_name +\"_\" + self.last_name + \".gmail.com\")\n",
    "    def gmail(self):\n",
    "        return(self.first_name +\"_\" + self.last_name + \".gmail.com\")"
   ]
  },
  {
   "cell_type": "code",
   "execution_count": 18,
   "metadata": {},
   "outputs": [],
   "source": [
    "m = mail(\"ayush\",\"jain\")"
   ]
  },
  {
   "cell_type": "code",
   "execution_count": 20,
   "metadata": {},
   "outputs": [
    {
     "data": {
      "text/plain": [
       "'ayush_jain.gmail.com'"
      ]
     },
     "execution_count": 20,
     "metadata": {},
     "output_type": "execute_result"
    }
   ],
   "source": [
    "m.gmail()"
   ]
  },
  {
   "cell_type": "code",
   "execution_count": 21,
   "metadata": {},
   "outputs": [],
   "source": [
    "m.first_name = 'ravi'"
   ]
  },
  {
   "cell_type": "code",
   "execution_count": 23,
   "metadata": {},
   "outputs": [
    {
     "data": {
      "text/plain": [
       "'ravi_jain.gmail.com'"
      ]
     },
     "execution_count": 23,
     "metadata": {},
     "output_type": "execute_result"
    }
   ],
   "source": [
    "m.gmail() # this works "
   ]
  },
  {
   "cell_type": "code",
   "execution_count": 24,
   "metadata": {},
   "outputs": [],
   "source": [
    "m.first_name = 'ada adasdf' # so thier a problem"
   ]
  },
  {
   "cell_type": "code",
   "execution_count": 26,
   "metadata": {},
   "outputs": [
    {
     "data": {
      "text/plain": [
       "'ada adasdf_jain.gmail.com'"
      ]
     },
     "execution_count": 26,
     "metadata": {},
     "output_type": "execute_result"
    }
   ],
   "source": [
    "m.gmail()"
   ]
  },
  {
   "cell_type": "code",
   "execution_count": 56,
   "metadata": {},
   "outputs": [
    {
     "ename": "AttributeError",
     "evalue": "'function' object has no attribute 'setter'",
     "output_type": "error",
     "traceback": [
      "\u001b[1;31m---------------------------------------------------------------------------\u001b[0m",
      "\u001b[1;31mAttributeError\u001b[0m                            Traceback (most recent call last)",
      "\u001b[1;32me:\\PROGAMMING\\100 DAYS OF CODE CHALLENGE\\DAY-036\\DAY-036.ipynb Cell 18\u001b[0m in \u001b[0;36m<cell line: 1>\u001b[1;34m()\u001b[0m\n\u001b[1;32m----> <a href='vscode-notebook-cell:/e%3A/PROGAMMING/100%20DAYS%20OF%20CODE%20CHALLENGE/DAY-036/DAY-036.ipynb#X25sZmlsZQ%3D%3D?line=0'>1</a>\u001b[0m \u001b[39mclass\u001b[39;00m \u001b[39mmail\u001b[39;00m():\n\u001b[0;32m      <a href='vscode-notebook-cell:/e%3A/PROGAMMING/100%20DAYS%20OF%20CODE%20CHALLENGE/DAY-036/DAY-036.ipynb#X25sZmlsZQ%3D%3D?line=1'>2</a>\u001b[0m     \u001b[39mdef\u001b[39;00m \u001b[39m__init__\u001b[39m(\u001b[39mself\u001b[39m,first_name,last_name):\n\u001b[0;32m      <a href='vscode-notebook-cell:/e%3A/PROGAMMING/100%20DAYS%20OF%20CODE%20CHALLENGE/DAY-036/DAY-036.ipynb#X25sZmlsZQ%3D%3D?line=2'>3</a>\u001b[0m         \u001b[39mself\u001b[39m\u001b[39m.\u001b[39mfirst_name \u001b[39m=\u001b[39m first_name\n",
      "\u001b[1;32me:\\PROGAMMING\\100 DAYS OF CODE CHALLENGE\\DAY-036\\DAY-036.ipynb Cell 18\u001b[0m in \u001b[0;36mmail\u001b[1;34m()\u001b[0m\n\u001b[0;32m     <a href='vscode-notebook-cell:/e%3A/PROGAMMING/100%20DAYS%20OF%20CODE%20CHALLENGE/DAY-036/DAY-036.ipynb#X25sZmlsZQ%3D%3D?line=10'>11</a>\u001b[0m \u001b[39mdef\u001b[39;00m \u001b[39mfullname\u001b[39m(\u001b[39mself\u001b[39m):\n\u001b[0;32m     <a href='vscode-notebook-cell:/e%3A/PROGAMMING/100%20DAYS%20OF%20CODE%20CHALLENGE/DAY-036/DAY-036.ipynb#X25sZmlsZQ%3D%3D?line=11'>12</a>\u001b[0m     \u001b[39mreturn\u001b[39;00m(\u001b[39mf\u001b[39m\u001b[39m\"\u001b[39m\u001b[39m{\u001b[39;00m\u001b[39mself\u001b[39m\u001b[39m.\u001b[39mfirst_name\u001b[39m}\u001b[39;00m\u001b[39m \u001b[39m\u001b[39m{\u001b[39;00m\u001b[39mself\u001b[39m\u001b[39m.\u001b[39mlast_name\u001b[39m}\u001b[39;00m\u001b[39m\"\u001b[39m)\n\u001b[1;32m---> <a href='vscode-notebook-cell:/e%3A/PROGAMMING/100%20DAYS%20OF%20CODE%20CHALLENGE/DAY-036/DAY-036.ipynb#X25sZmlsZQ%3D%3D?line=12'>13</a>\u001b[0m \u001b[39m@fullname\u001b[39m\u001b[39m.\u001b[39;49msetter\n\u001b[0;32m     <a href='vscode-notebook-cell:/e%3A/PROGAMMING/100%20DAYS%20OF%20CODE%20CHALLENGE/DAY-036/DAY-036.ipynb#X25sZmlsZQ%3D%3D?line=13'>14</a>\u001b[0m \u001b[39mdef\u001b[39;00m \u001b[39mfullname\u001b[39m(\u001b[39mself\u001b[39m,name):\n\u001b[0;32m     <a href='vscode-notebook-cell:/e%3A/PROGAMMING/100%20DAYS%20OF%20CODE%20CHALLENGE/DAY-036/DAY-036.ipynb#X25sZmlsZQ%3D%3D?line=14'>15</a>\u001b[0m     \u001b[39mself\u001b[39m\u001b[39m.\u001b[39mfirst_name,\u001b[39mself\u001b[39m\u001b[39m.\u001b[39mlast_name \u001b[39m=\u001b[39m name\u001b[39m.\u001b[39msplit(\u001b[39m\"\u001b[39m\u001b[39m \u001b[39m\u001b[39m\"\u001b[39m)\n",
      "\u001b[1;31mAttributeError\u001b[0m: 'function' object has no attribute 'setter'"
     ]
    }
   ],
   "source": [
    "\n",
    "\n",
    "class mail():\n",
    "    def __init__(self,first_name,last_name):\n",
    "        self.first_name = first_name\n",
    "        self.last_name = last_name\n",
    "        \n",
    "        # print(self.first_name +\"_\" + self.last_name + \".gmail.com\")\n",
    "    @property\n",
    "    def gmail(self):\n",
    "        return(self.first_name +\"_\" + self.last_name + \".gmail.com\")\n",
    "    # @property\n",
    "    def fullname(self):\n",
    "        return(f\"{self.first_name} {self.last_name}\")\n",
    "    @fullname.setter\n",
    "    def fullname(self,name):\n",
    "        self.first_name,self.last_name = name.split(\" \") \n",
    "    \n",
    "    "
   ]
  },
  {
   "cell_type": "code",
   "execution_count": 57,
   "metadata": {},
   "outputs": [],
   "source": [
    "m = mail(\"ayuhs\",'adsasd')"
   ]
  },
  {
   "cell_type": "code",
   "execution_count": 58,
   "metadata": {},
   "outputs": [
    {
     "ename": "TypeError",
     "evalue": "'str' object is not callable",
     "output_type": "error",
     "traceback": [
      "\u001b[1;31m---------------------------------------------------------------------------\u001b[0m",
      "\u001b[1;31mTypeError\u001b[0m                                 Traceback (most recent call last)",
      "\u001b[1;32me:\\PROGAMMING\\100 DAYS OF CODE CHALLENGE\\DAY-036\\DAY-036.ipynb Cell 20\u001b[0m in \u001b[0;36m<cell line: 1>\u001b[1;34m()\u001b[0m\n\u001b[1;32m----> <a href='vscode-notebook-cell:/e%3A/PROGAMMING/100%20DAYS%20OF%20CODE%20CHALLENGE/DAY-036/DAY-036.ipynb#X30sZmlsZQ%3D%3D?line=0'>1</a>\u001b[0m m\u001b[39m.\u001b[39;49mfullname()\n",
      "\u001b[1;31mTypeError\u001b[0m: 'str' object is not callable"
     ]
    }
   ],
   "source": [
    "m.fullname()"
   ]
  },
  {
   "cell_type": "code",
   "execution_count": null,
   "metadata": {},
   "outputs": [],
   "source": [
    "m.fullname = \"nien adadasdd\""
   ]
  },
  {
   "cell_type": "code",
   "execution_count": 59,
   "metadata": {},
   "outputs": [
    {
     "data": {
      "text/plain": [
       "'ayuhs adsasd'"
      ]
     },
     "execution_count": 59,
     "metadata": {},
     "output_type": "execute_result"
    }
   ],
   "source": [
    "m.fullname"
   ]
  },
  {
   "cell_type": "code",
   "execution_count": 60,
   "metadata": {},
   "outputs": [
    {
     "data": {
      "text/plain": [
       "'ayuhs_adsasd.gmail.com'"
      ]
     },
     "execution_count": 60,
     "metadata": {},
     "output_type": "execute_result"
    }
   ],
   "source": [
    "m.gmail"
   ]
  },
  {
   "cell_type": "markdown",
   "metadata": {},
   "source": [
    "# RegEx\n",
    "Regular Expression / RegEx / regexes is a sequence of characters that defines a search pattern"
   ]
  },
  {
   "cell_type": "code",
   "execution_count": 62,
   "metadata": {},
   "outputs": [],
   "source": [
    "# lets you want to find/search a particlur word/letter in string \n",
    "s = \"ayush123\""
   ]
  },
  {
   "cell_type": "code",
   "execution_count": 65,
   "metadata": {},
   "outputs": [
    {
     "data": {
      "text/plain": [
       "True"
      ]
     },
     "execution_count": 65,
     "metadata": {},
     "output_type": "execute_result"
    }
   ],
   "source": [
    "'123' in s"
   ]
  },
  {
   "cell_type": "code",
   "execution_count": 66,
   "metadata": {},
   "outputs": [
    {
     "data": {
      "text/plain": [
       "False"
      ]
     },
     "execution_count": 66,
     "metadata": {},
     "output_type": "execute_result"
    }
   ],
   "source": [
    "\"321\" in s"
   ]
  },
  {
   "cell_type": "code",
   "execution_count": 67,
   "metadata": {},
   "outputs": [
    {
     "data": {
      "text/plain": [
       "5"
      ]
     },
     "execution_count": 67,
     "metadata": {},
     "output_type": "execute_result"
    }
   ],
   "source": [
    "s.find(\"123\")"
   ]
  },
  {
   "cell_type": "code",
   "execution_count": 68,
   "metadata": {},
   "outputs": [
    {
     "data": {
      "text/plain": [
       "5"
      ]
     },
     "execution_count": 68,
     "metadata": {},
     "output_type": "execute_result"
    }
   ],
   "source": [
    "s.index(\"123\")"
   ]
  },
  {
   "cell_type": "code",
   "execution_count": null,
   "metadata": {},
   "outputs": [],
   "source": [
    "# but what if you want sreach in complexe pattern\n",
    "ex1 = \"a123yush\"\n",
    "ex2 = \"456ayush\"\n",
    "ex3 = \"asdss124\"\n"
   ]
  },
  {
   "cell_type": "markdown",
   "metadata": {},
   "source": [
    "# re Module\n",
    "Regex functionality in Python resides in a module named re. The re module contains many useful functions and methods"
   ]
  },
  {
   "cell_type": "markdown",
   "metadata": {},
   "source": [
    "re.search(< regex >, < string >,< flag(optional) >)\n",
    "regex -> particluar pattern or sub-string\n",
    "\n",
    "\n",
    "if found _>  match object\n",
    "\n",
    "non found _> None\n",
    "\n",
    "string -> the main string"
   ]
  },
  {
   "cell_type": "code",
   "execution_count": 69,
   "metadata": {},
   "outputs": [],
   "source": [
    "import re"
   ]
  },
  {
   "cell_type": "code",
   "execution_count": 70,
   "metadata": {},
   "outputs": [
    {
     "data": {
      "text/plain": [
       "<re.Match object; span=(1, 4), match='123'>"
      ]
     },
     "execution_count": 70,
     "metadata": {},
     "output_type": "execute_result"
    }
   ],
   "source": [
    "ex1 = \"a123yush\"\n",
    "ex2 = \"456ayush\"\n",
    "ex3 = \"asdss124\"\n",
    "\n",
    "re.search('123',ex1)\n",
    "\n"
   ]
  },
  {
   "cell_type": "code",
   "execution_count": 71,
   "metadata": {},
   "outputs": [],
   "source": [
    "# <re.Match object; span=(1, 4), match='123'>\n",
    "# span = tell's index of string\n",
    "# match = return bolean and teh string in = "
   ]
  },
  {
   "cell_type": "code",
   "execution_count": 183,
   "metadata": {},
   "outputs": [
    {
     "name": "stdout",
     "output_type": "stream",
     "text": [
      "Not Found !!\n"
     ]
    }
   ],
   "source": [
    "if re.search('123',ex1):\n",
    "    print(\"Found!!\")\n",
    "else:\n",
    "    print(\"Not Found !!\")\n"
   ]
  },
  {
   "cell_type": "code",
   "execution_count": 74,
   "metadata": {},
   "outputs": [
    {
     "name": "stdout",
     "output_type": "stream",
     "text": [
      "Not Found !!\n"
     ]
    }
   ],
   "source": [
    "if re.search('4546',ex1):\n",
    "    print(\"Found!!\")\n",
    "else:\n",
    "    print(\"Not Found !!\")\n"
   ]
  },
  {
   "cell_type": "code",
   "execution_count": 76,
   "metadata": {},
   "outputs": [
    {
     "name": "stdout",
     "output_type": "stream",
     "text": [
      "Not Found !!\n"
     ]
    }
   ],
   "source": [
    "if re.search('454',ex1):\n",
    "    print(\"Found!!\")\n",
    "else:\n",
    "    print(\"Not Found !!\")\n"
   ]
  },
  {
   "cell_type": "markdown",
   "metadata": {},
   "source": [
    "# Regex Metacharacters\n",
    "special characters / metacharacters"
   ]
  },
  {
   "cell_type": "code",
   "execution_count": 77,
   "metadata": {},
   "outputs": [],
   "source": [
    "from IPython.display import Image"
   ]
  },
  {
   "cell_type": "code",
   "execution_count": 79,
   "metadata": {},
   "outputs": [
    {
     "data": {
      "image/png": "[encoded data removed]",
      "text/plain": [
       "<IPython.core.display.Image object>"
      ]
     },
     "execution_count": 79,
     "metadata": {},
     "output_type": "execute_result"
    }
   ],
   "source": [
    "Image(\"https://i.postimg.cc/wvVptS77/Regular-Expressions-Regexes-in-Python-Part-1-Real-Python.png\")"
   ]
  },
  {
   "cell_type": "code",
   "execution_count": 86,
   "metadata": {},
   "outputs": [],
   "source": [
    "# [] simple exmaple\n",
    "ex1 = 'a1s5a5'"
   ]
  },
  {
   "cell_type": "code",
   "execution_count": 87,
   "metadata": {},
   "outputs": [
    {
     "name": "stdout",
     "output_type": "stream",
     "text": [
      "f!\n"
     ]
    }
   ],
   "source": [
    "if re.search('[0-9]',ex1):\n",
    "    print(\"f!\")\n",
    "else:\n",
    "    print(\"nf\")"
   ]
  },
  {
   "cell_type": "markdown",
   "metadata": {},
   "source": [
    "<code> \\ – Backslash <code>\n",
    "\n",
    ">The backslash (\\) makes sure that the character is not treated in a special way. This can be considered a way of escaping metacharacters. For > example, if you want to search for the dot(.) in the string then you will find that dot(.) will be treated as a special character as is one of the metacharacters (as shown in the above table). So for this case, we will use the backslash(\\) just before the dot(.) so that it will lose its specialty. See the below example for a better understanding.\n"
   ]
  },
  {
   "cell_type": "code",
   "execution_count": 105,
   "metadata": {},
   "outputs": [],
   "source": [
    "ex = \"temp@gmail.com\""
   ]
  },
  {
   "cell_type": "code",
   "execution_count": 103,
   "metadata": {},
   "outputs": [
    {
     "data": {
      "text/plain": [
       "<re.Match object; span=(0, 1), match='t'>"
      ]
     },
     "execution_count": 103,
     "metadata": {},
     "output_type": "execute_result"
    }
   ],
   "source": [
    "re.search(\".\",ex) \n",
    "# here you can see the problem in th output index is between (0:1) and match = 't"
   ]
  },
  {
   "cell_type": "code",
   "execution_count": 108,
   "metadata": {},
   "outputs": [
    {
     "name": "stdout",
     "output_type": "stream",
     "text": [
      "t 10\n"
     ]
    }
   ],
   "source": [
    "print(ex[0:1],ex.index(\".\"))"
   ]
  },
  {
   "cell_type": "code",
   "execution_count": 110,
   "metadata": {},
   "outputs": [
    {
     "data": {
      "text/plain": [
       "<re.Match object; span=(0, 1), match='t'>"
      ]
     },
     "execution_count": 110,
     "metadata": {},
     "output_type": "execute_result"
    }
   ],
   "source": [
    "re.search(r\".\",ex) \n",
    "# r for raw"
   ]
  },
  {
   "cell_type": "code",
   "execution_count": 111,
   "metadata": {},
   "outputs": [
    {
     "data": {
      "text/plain": [
       "<re.Match object; span=(10, 11), match='.'>"
      ]
     },
     "execution_count": 111,
     "metadata": {},
     "output_type": "execute_result"
    }
   ],
   "source": [
    "re.search(\"\\.\",ex) \n",
    "# that is the right ouput"
   ]
  },
  {
   "cell_type": "code",
   "execution_count": 112,
   "metadata": {},
   "outputs": [],
   "source": [
    "ex = \"temp.@gmail.com\""
   ]
  },
  {
   "cell_type": "code",
   "execution_count": 121,
   "metadata": {},
   "outputs": [
    {
     "data": {
      "text/plain": [
       "<re.Match object; span=(4, 5), match='.'>"
      ]
     },
     "execution_count": 121,
     "metadata": {},
     "output_type": "execute_result"
    }
   ],
   "source": [
    "re.search(\"\\.\",ex) "
   ]
  },
  {
   "cell_type": "code",
   "execution_count": 124,
   "metadata": {},
   "outputs": [
    {
     "name": "stdout",
     "output_type": "stream",
     "text": [
      "hello\\world\n"
     ]
    }
   ],
   "source": [
    "ex = 'hello\\world'\n",
    "print(ex)\n"
   ]
  },
  {
   "cell_type": "code",
   "execution_count": 123,
   "metadata": {},
   "outputs": [
    {
     "ename": "SyntaxError",
     "evalue": "unterminated string literal (detected at line 1) (2154220483.py, line 1)",
     "output_type": "error",
     "traceback": [
      "\u001b[1;36m  Input \u001b[1;32mIn [123]\u001b[1;36m\u001b[0m\n\u001b[1;33m    re.search(\"\\\",ex)\u001b[0m\n\u001b[1;37m              ^\u001b[0m\n\u001b[1;31mSyntaxError\u001b[0m\u001b[1;31m:\u001b[0m unterminated string literal (detected at line 1)\n"
     ]
    }
   ],
   "source": [
    "re.search(\"\\\",ex)"
   ]
  },
  {
   "cell_type": "code",
   "execution_count": 128,
   "metadata": {},
   "outputs": [
    {
     "ename": "error",
     "evalue": "bad escape (end of pattern) at position 0",
     "output_type": "error",
     "traceback": [
      "\u001b[1;31m---------------------------------------------------------------------------\u001b[0m",
      "\u001b[1;31merror\u001b[0m                                     Traceback (most recent call last)",
      "\u001b[1;32me:\\PROGAMMING\\100 DAYS OF CODE CHALLENGE\\DAY-036\\DAY-036.ipynb Cell 54\u001b[0m in \u001b[0;36m<cell line: 2>\u001b[1;34m()\u001b[0m\n\u001b[0;32m      <a href='vscode-notebook-cell:/e%3A/PROGAMMING/100%20DAYS%20OF%20CODE%20CHALLENGE/DAY-036/DAY-036.ipynb#Y121sZmlsZQ%3D%3D?line=0'>1</a>\u001b[0m \u001b[39m# so to slove above problem will think using double \\\u001b[39;00m\n\u001b[1;32m----> <a href='vscode-notebook-cell:/e%3A/PROGAMMING/100%20DAYS%20OF%20CODE%20CHALLENGE/DAY-036/DAY-036.ipynb#Y121sZmlsZQ%3D%3D?line=1'>2</a>\u001b[0m re\u001b[39m.\u001b[39;49msearch(\u001b[39m\"\u001b[39;49m\u001b[39m\\\\\u001b[39;49;00m\u001b[39m\"\u001b[39;49m,ex)\n",
      "File \u001b[1;32mc:\\Users\\Ayush\\AppData\\Local\\Programs\\Python\\Python310\\lib\\re.py:200\u001b[0m, in \u001b[0;36msearch\u001b[1;34m(pattern, string, flags)\u001b[0m\n\u001b[0;32m    197\u001b[0m \u001b[39mdef\u001b[39;00m \u001b[39msearch\u001b[39m(pattern, string, flags\u001b[39m=\u001b[39m\u001b[39m0\u001b[39m):\n\u001b[0;32m    198\u001b[0m     \u001b[39m\"\"\"Scan through string looking for a match to the pattern, returning\u001b[39;00m\n\u001b[0;32m    199\u001b[0m \u001b[39m    a Match object, or None if no match was found.\"\"\"\u001b[39;00m\n\u001b[1;32m--> 200\u001b[0m     \u001b[39mreturn\u001b[39;00m _compile(pattern, flags)\u001b[39m.\u001b[39msearch(string)\n",
      "File \u001b[1;32mc:\\Users\\Ayush\\AppData\\Local\\Programs\\Python\\Python310\\lib\\re.py:303\u001b[0m, in \u001b[0;36m_compile\u001b[1;34m(pattern, flags)\u001b[0m\n\u001b[0;32m    301\u001b[0m \u001b[39mif\u001b[39;00m \u001b[39mnot\u001b[39;00m sre_compile\u001b[39m.\u001b[39misstring(pattern):\n\u001b[0;32m    302\u001b[0m     \u001b[39mraise\u001b[39;00m \u001b[39mTypeError\u001b[39;00m(\u001b[39m\"\u001b[39m\u001b[39mfirst argument must be string or compiled pattern\u001b[39m\u001b[39m\"\u001b[39m)\n\u001b[1;32m--> 303\u001b[0m p \u001b[39m=\u001b[39m sre_compile\u001b[39m.\u001b[39;49mcompile(pattern, flags)\n\u001b[0;32m    304\u001b[0m \u001b[39mif\u001b[39;00m \u001b[39mnot\u001b[39;00m (flags \u001b[39m&\u001b[39m DEBUG):\n\u001b[0;32m    305\u001b[0m     \u001b[39mif\u001b[39;00m \u001b[39mlen\u001b[39m(_cache) \u001b[39m>\u001b[39m\u001b[39m=\u001b[39m _MAXCACHE:\n\u001b[0;32m    306\u001b[0m         \u001b[39m# Drop the oldest item\u001b[39;00m\n",
      "File \u001b[1;32mc:\\Users\\Ayush\\AppData\\Local\\Programs\\Python\\Python310\\lib\\sre_compile.py:788\u001b[0m, in \u001b[0;36mcompile\u001b[1;34m(p, flags)\u001b[0m\n\u001b[0;32m    786\u001b[0m \u001b[39mif\u001b[39;00m isstring(p):\n\u001b[0;32m    787\u001b[0m     pattern \u001b[39m=\u001b[39m p\n\u001b[1;32m--> 788\u001b[0m     p \u001b[39m=\u001b[39m sre_parse\u001b[39m.\u001b[39;49mparse(p, flags)\n\u001b[0;32m    789\u001b[0m \u001b[39melse\u001b[39;00m:\n\u001b[0;32m    790\u001b[0m     pattern \u001b[39m=\u001b[39m \u001b[39mNone\u001b[39;00m\n",
      "File \u001b[1;32mc:\\Users\\Ayush\\AppData\\Local\\Programs\\Python\\Python310\\lib\\sre_parse.py:947\u001b[0m, in \u001b[0;36mparse\u001b[1;34m(str, flags, state)\u001b[0m\n\u001b[0;32m    944\u001b[0m \u001b[39mdef\u001b[39;00m \u001b[39mparse\u001b[39m(\u001b[39mstr\u001b[39m, flags\u001b[39m=\u001b[39m\u001b[39m0\u001b[39m, state\u001b[39m=\u001b[39m\u001b[39mNone\u001b[39;00m):\n\u001b[0;32m    945\u001b[0m     \u001b[39m# parse 're' pattern into list of (opcode, argument) tuples\u001b[39;00m\n\u001b[1;32m--> 947\u001b[0m     source \u001b[39m=\u001b[39m Tokenizer(\u001b[39mstr\u001b[39;49m)\n\u001b[0;32m    949\u001b[0m     \u001b[39mif\u001b[39;00m state \u001b[39mis\u001b[39;00m \u001b[39mNone\u001b[39;00m:\n\u001b[0;32m    950\u001b[0m         state \u001b[39m=\u001b[39m State()\n",
      "File \u001b[1;32mc:\\Users\\Ayush\\AppData\\Local\\Programs\\Python\\Python310\\lib\\sre_parse.py:233\u001b[0m, in \u001b[0;36mTokenizer.__init__\u001b[1;34m(self, string)\u001b[0m\n\u001b[0;32m    231\u001b[0m \u001b[39mself\u001b[39m\u001b[39m.\u001b[39mindex \u001b[39m=\u001b[39m \u001b[39m0\u001b[39m\n\u001b[0;32m    232\u001b[0m \u001b[39mself\u001b[39m\u001b[39m.\u001b[39mnext \u001b[39m=\u001b[39m \u001b[39mNone\u001b[39;00m\n\u001b[1;32m--> 233\u001b[0m \u001b[39mself\u001b[39;49m\u001b[39m.\u001b[39;49m__next()\n",
      "File \u001b[1;32mc:\\Users\\Ayush\\AppData\\Local\\Programs\\Python\\Python310\\lib\\sre_parse.py:246\u001b[0m, in \u001b[0;36mTokenizer.__next\u001b[1;34m(self)\u001b[0m\n\u001b[0;32m    244\u001b[0m         char \u001b[39m+\u001b[39m\u001b[39m=\u001b[39m \u001b[39mself\u001b[39m\u001b[39m.\u001b[39mdecoded_string[index]\n\u001b[0;32m    245\u001b[0m     \u001b[39mexcept\u001b[39;00m \u001b[39mIndexError\u001b[39;00m:\n\u001b[1;32m--> 246\u001b[0m         \u001b[39mraise\u001b[39;00m error(\u001b[39m\"\u001b[39m\u001b[39mbad escape (end of pattern)\u001b[39m\u001b[39m\"\u001b[39m,\n\u001b[0;32m    247\u001b[0m                     \u001b[39mself\u001b[39m\u001b[39m.\u001b[39mstring, \u001b[39mlen\u001b[39m(\u001b[39mself\u001b[39m\u001b[39m.\u001b[39mstring) \u001b[39m-\u001b[39m \u001b[39m1\u001b[39m) \u001b[39mfrom\u001b[39;00m \u001b[39mNone\u001b[39m\n\u001b[0;32m    248\u001b[0m \u001b[39mself\u001b[39m\u001b[39m.\u001b[39mindex \u001b[39m=\u001b[39m index \u001b[39m+\u001b[39m \u001b[39m1\u001b[39m\n\u001b[0;32m    249\u001b[0m \u001b[39mself\u001b[39m\u001b[39m.\u001b[39mnext \u001b[39m=\u001b[39m char\n",
      "\u001b[1;31merror\u001b[0m: bad escape (end of pattern) at position 0"
     ]
    }
   ],
   "source": [
    "# so to slove above problem will think using double \\\n",
    "re.search(\"\\\\\",ex)\n",
    "# but this will also going to mess it\n"
   ]
  },
  {
   "cell_type": "code",
   "execution_count": 132,
   "metadata": {},
   "outputs": [
    {
     "data": {
      "text/plain": [
       "<re.Match object; span=(5, 6), match='\\\\'>"
      ]
     },
     "execution_count": 132,
     "metadata": {},
     "output_type": "execute_result"
    }
   ],
   "source": [
    "re.search(\"\\\\\\\\\",ex)\n",
    "# but it is messey"
   ]
  },
  {
   "cell_type": "code",
   "execution_count": 135,
   "metadata": {},
   "outputs": [
    {
     "data": {
      "text/plain": [
       "<re.Match object; span=(5, 6), match='\\\\'>"
      ]
     },
     "execution_count": 135,
     "metadata": {},
     "output_type": "execute_result"
    }
   ],
   "source": [
    "re.search(r\"\\\\\",ex)"
   ]
  },
  {
   "cell_type": "markdown",
   "metadata": {},
   "source": [
    "# [ ] – Square Brackets\n",
    ">Square Brackets ([]) represent a character class consisting of a set of characters that we wish to match. For example, the character class [abc] will match any single a, b, or c. \n",
    "\n",
    "We can also specify a range of characters using – inside the square brackets. For example, \n",
    "\n",
    "    [0, 3] is sample as [0123]\n",
    "    [a-c] is same as [abc]"
   ]
  },
  {
   "cell_type": "code",
   "execution_count": 144,
   "metadata": {},
   "outputs": [
    {
     "data": {
      "text/plain": [
       "<re.Match object; span=(5, 6), match='3'>"
      ]
     },
     "execution_count": 144,
     "metadata": {},
     "output_type": "execute_result"
    }
   ],
   "source": [
    "x  = \"ayush321\"\n",
    "re.search(\"[123]\",x)"
   ]
  },
  {
   "cell_type": "code",
   "execution_count": 145,
   "metadata": {},
   "outputs": [
    {
     "data": {
      "text/plain": [
       "<re.Match object; span=(5, 6), match='3'>"
      ]
     },
     "execution_count": 145,
     "metadata": {},
     "output_type": "execute_result"
    }
   ],
   "source": [
    "x  = \"ayush321\"\n",
    "re.search(\"[1,3]\",x)"
   ]
  },
  {
   "cell_type": "code",
   "execution_count": 146,
   "metadata": {},
   "outputs": [
    {
     "data": {
      "text/plain": [
       "<re.Match object; span=(5, 6), match='3'>"
      ]
     },
     "execution_count": 146,
     "metadata": {},
     "output_type": "execute_result"
    }
   ],
   "source": [
    "x  = \"ayush321\"\n",
    "re.search(\"[1-3]\",x)"
   ]
  },
  {
   "cell_type": "code",
   "execution_count": 148,
   "metadata": {},
   "outputs": [
    {
     "data": {
      "text/plain": [
       "<re.Match object; span=(0, 1), match='a'>"
      ]
     },
     "execution_count": 148,
     "metadata": {},
     "output_type": "execute_result"
    }
   ],
   "source": [
    "x  = \"ayush321\"\n",
    "re.search(\"[auc]\",x)"
   ]
  },
  {
   "cell_type": "code",
   "execution_count": 154,
   "metadata": {},
   "outputs": [
    {
     "data": {
      "text/plain": [
       "<re.Match object; span=(18, 19), match='u'>"
      ]
     },
     "execution_count": 154,
     "metadata": {},
     "output_type": "execute_result"
    }
   ],
   "source": [
    "x  = \"yhqqwwpljhvnm,mjg,usa1\"\n",
    "re.search(\"[au]\",x)"
   ]
  },
  {
   "cell_type": "code",
   "execution_count": 160,
   "metadata": {},
   "outputs": [
    {
     "data": {
      "text/plain": [
       "<re.Match object; span=(8, 9), match='b'>"
      ]
     },
     "execution_count": 160,
     "metadata": {},
     "output_type": "execute_result"
    }
   ],
   "source": [
    "x  = \"yhqqwwljbehvnm,mjg,sa1\"\n",
    "re.search(\"[a-e]\",x)\n",
    "# so this will going to fincd any char between this range "
   ]
  },
  {
   "cell_type": "code",
   "execution_count": 165,
   "metadata": {},
   "outputs": [
    {
     "data": {
      "text/plain": [
       "<re.Match object; span=(10, 12), match='sa'>"
      ]
     },
     "execution_count": 165,
     "metadata": {},
     "output_type": "execute_result"
    }
   ],
   "source": [
    "x  ='ayush talesara'\n",
    "re.search(\"s[a-e]\",x)"
   ]
  },
  {
   "cell_type": "code",
   "execution_count": 169,
   "metadata": {},
   "outputs": [
    {
     "data": {
      "text/plain": [
       "<re.Match object; span=(11, 12), match='q'>"
      ]
     },
     "execution_count": 169,
     "metadata": {},
     "output_type": "execute_result"
    }
   ],
   "source": [
    "x  ='!@#$%^**()_q_+1'\n",
    "re.search(\"[1-9-a-z-A-Z]\",x)"
   ]
  },
  {
   "cell_type": "markdown",
   "metadata": {},
   "source": [
    "# ^ – Caret\n",
    "\n",
    ">Caret (^) symbol matches the beginning of the string i.e. checks whether the string starts with the given character(s) or not. For example –  \n",
    "\n",
    "    ^g will check if the string starts with g such as geeks, globe, girl, g, etc.\n",
    "    ^ge will check if the string starts with ge such as geeks, geeksforgeeks, etc.\n",
    "\n",
    "   \n",
    "   We can also invert the character class using the caret(^) symbol. For example, \n",
    "\n",
    "    [^0-3] means any number except 0, 1, 2, or 3\n",
    "    [^a-c] means any character except a, b, or c"
   ]
  },
  {
   "cell_type": "code",
   "execution_count": 170,
   "metadata": {},
   "outputs": [
    {
     "data": {
      "text/plain": [
       "<re.Match object; span=(0, 1), match='a'>"
      ]
     },
     "execution_count": 170,
     "metadata": {},
     "output_type": "execute_result"
    }
   ],
   "source": [
    "x  = \"ayush123\"\n",
    "re.search(\"^a\",x)\n"
   ]
  },
  {
   "cell_type": "code",
   "execution_count": 172,
   "metadata": {},
   "outputs": [],
   "source": [
    "x  = \"yayush123\"\n",
    "re.search(\"^a\",x)\n",
    "# it doesnot found\n"
   ]
  },
  {
   "cell_type": "code",
   "execution_count": 173,
   "metadata": {},
   "outputs": [
    {
     "data": {
      "text/plain": [
       "<re.Match object; span=(3, 4), match='a'>"
      ]
     },
     "execution_count": 173,
     "metadata": {},
     "output_type": "execute_result"
    }
   ],
   "source": [
    "x = \"789ayush\"\n",
    "re.search(\"[^0-9]\",x)"
   ]
  },
  {
   "cell_type": "code",
   "execution_count": 175,
   "metadata": {},
   "outputs": [
    {
     "name": "stderr",
     "output_type": "stream",
     "text": [
      "C:\\Users\\Ayush\\AppData\\Local\\Temp\\ipykernel_12716\\2793734679.py:2: FutureWarning: Possible nested set at position 1\n",
      "  re.search(\"[[]\",x)\n"
     ]
    },
    {
     "data": {
      "text/plain": [
       "<re.Match object; span=(2, 3), match='['>"
      ]
     },
     "execution_count": 175,
     "metadata": {},
     "output_type": "execute_result"
    }
   ],
   "source": [
    "x  = \"ls[1]\"\n",
    "re.search(\"[[]\",x)"
   ]
  },
  {
   "cell_type": "code",
   "execution_count": 180,
   "metadata": {},
   "outputs": [
    {
     "data": {
      "text/plain": [
       "<re.Match object; span=(2, 3), match='['>"
      ]
     },
     "execution_count": 180,
     "metadata": {},
     "output_type": "execute_result"
    }
   ],
   "source": [
    "x  = \"ls[1]\"\n",
    "re.search(r\"[[]\",x)"
   ]
  },
  {
   "cell_type": "code",
   "execution_count": 181,
   "metadata": {},
   "outputs": [
    {
     "data": {
      "text/plain": [
       "<re.Match object; span=(0, 1), match='l'>"
      ]
     },
     "execution_count": 181,
     "metadata": {},
     "output_type": "execute_result"
    }
   ],
   "source": [
    "x  = \"ls[1]\"\n",
    "re.search(\"[^[]\",x)"
   ]
  },
  {
   "cell_type": "code",
   "execution_count": null,
   "metadata": {},
   "outputs": [],
   "source": []
  }
 ],
 "metadata": {
  "kernelspec": {
   "display_name": "Python 3.10.6 64-bit",
   "language": "python",
   "name": "python3"
  },
  "language_info": {
   "codemirror_mode": {
    "name": "ipython",
    "version": 3
   },
   "file_extension": ".py",
   "mimetype": "text/x-python",
   "name": "python",
   "nbconvert_exporter": "python",
   "pygments_lexer": "ipython3",
   "version": "3.10.6"
  },
  "orig_nbformat": 4,
  "vscode": {
   "interpreter": {
    "hash": "d818f4a5b132e7f66021d3e7c19c2b7a86b89f9388f799e2d6a66075690a4386"
   }
  }
 },
 "nbformat": 4,
 "nbformat_minor": 2
}
