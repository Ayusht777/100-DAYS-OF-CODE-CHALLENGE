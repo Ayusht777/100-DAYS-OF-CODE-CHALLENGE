{
 "cells": [
  {
   "cell_type": "code",
   "execution_count": null,
   "metadata": {},
   "outputs": [],
   "source": [
    "# Day-5 of 100dayofcode [19/07/2022 tuesday]\n",
    "# tuple\n",
    "# key diiffernce between tuple and list that tuple cannot be change\n"
   ]
  },
  {
   "cell_type": "code",
   "execution_count": 3,
   "metadata": {},
   "outputs": [
    {
     "name": "stdout",
     "output_type": "stream",
     "text": [
      "(1, 2, 5, 5, 6)\n",
      "('hello', 477, 45.4, [0, 7, 7, 5])\n",
      "4\n"
     ]
    }
   ],
   "source": [
    "# Creating a Tuple\n",
    "t = (1, 2, 5, 5, 6)\n",
    "print(t)\n",
    "t = (\"hello\", 477, 045.4, [0, 7, 7, 5])\n",
    "print(t)\n",
    "print(len(t))\n"
   ]
  },
  {
   "cell_type": "code",
   "execution_count": 4,
   "metadata": {},
   "outputs": [
    {
     "name": "stdout",
     "output_type": "stream",
     "text": [
      "hello\n",
      "('hello', 477)\n",
      "[0, 7, 7, 5]\n",
      "([0, 7, 7, 5], 45.4, 477, 'hello')\n",
      "('hello', 45.4)\n"
     ]
    }
   ],
   "source": [
    "# indexing and slicing with tuple\n",
    "print(t[0])\n",
    "print(t[0:2])\n",
    "print(t[-1])\n",
    "print(t[::-1])\n",
    "print(t[0:5:2])\n",
    "\n"
   ]
  },
  {
   "cell_type": "code",
   "execution_count": 2,
   "metadata": {},
   "outputs": [
    {
     "name": "stdout",
     "output_type": "stream",
     "text": [
      "(1, 2, 3, 5) (1, [0, 4, 7, 5])\n",
      "(1, [0, 4, 799, 5])\n"
     ]
    }
   ],
   "source": [
    "#Changing a Tuple\n",
    "# we cannot changle value of tuple but can change value of list string in the tuple\n",
    "t1 = (1,2,3,5)\n",
    "t2=(1,[0,4,7,5])\n",
    "print(t1,t2)\n",
    "# t1[0] =55 this will give an error\n",
    "t2[1][2] = 799\n",
    "print(t2)"
   ]
  },
  {
   "cell_type": "code",
   "execution_count": 6,
   "metadata": {},
   "outputs": [
    {
     "name": "stdout",
     "output_type": "stream",
     "text": [
      "(1, 2, 3, 5, 1, [0, 4, 799, 5])\n",
      "(1, 2, 3, 5, 1, [0, 4, 799, 5], 1, 2, 3, 5, 1, [0, 4, 799, 5])\n"
     ]
    }
   ],
   "source": [
    "#concatenation with tuple\n",
    "t3 = t1 +t2\n",
    "print(t3)\n",
    "t3 *=2\n",
    "print(t3)"
   ]
  },
  {
   "cell_type": "code",
   "execution_count": 8,
   "metadata": {},
   "outputs": [
    {
     "name": "stdout",
     "output_type": "stream",
     "text": [
      "(1, (1, 2, 3))\n",
      "3\n"
     ]
    }
   ],
   "source": [
    "#Nesting of Tuples\n",
    "t = (1,(1,2,3))\n",
    "print(t)\n",
    "print(t[1][2])"
   ]
  },
  {
   "cell_type": "code",
   "execution_count": null,
   "metadata": {},
   "outputs": [],
   "source": [
    "#Tuple Methods\n",
    "# Methods that add items or remove items are not available with tuple"
   ]
  },
  {
   "cell_type": "code",
   "execution_count": 21,
   "metadata": {},
   "outputs": [
    {
     "name": "stdout",
     "output_type": "stream",
     "text": [
      "{1, 2, 5, 63}\n",
      "{1, 2, 5, 63}\n",
      "{1, 'helllo'}\n",
      "{'ayush'}\n"
     ]
    }
   ],
   "source": [
    "# Sets\n",
    "#Creating Python Sets\n",
    "se = {1,2,5,5,63}# in set duplication is not allow\n",
    "print(se)\n",
    "#se = {1,4,5,[758,8,8,8]} #But a set cannot have mutable elements like lists, sets or dictionaries as its elements.\n",
    "print(se)\n",
    "se = {\"helllo\",1}\n",
    "print(se)\n",
    "se ={'ayush'}\n",
    "print(se)\n"
   ]
  },
  {
   "cell_type": "code",
   "execution_count": 25,
   "metadata": {},
   "outputs": [
    {
     "name": "stdout",
     "output_type": "stream",
     "text": [
      "<class 'dict'>\n",
      "set()\n",
      "<class 'set'>\n"
     ]
    }
   ],
   "source": [
    "#Creating an empty set\n",
    "se = {}\n",
    "print(type(se))# it is not set so \n",
    "se = set(se)\n",
    "print(se)\n",
    "print(type(se))\n"
   ]
  },
  {
   "cell_type": "code",
   "execution_count": 19,
   "metadata": {},
   "outputs": [
    {
     "name": "stdout",
     "output_type": "stream",
     "text": [
      "{1, 2, 3, 4, 5, 6} {2, 3, 4, 5, 6, 7}\n"
     ]
    }
   ],
   "source": [
    "#Set Operations\n",
    "# it is related to maths set\n",
    "s1 = {1,2,3,4,5,6}\n",
    "s2 = {2,3,4,5,6,7}\n",
    "print(s1,s2)\n"
   ]
  },
  {
   "cell_type": "code",
   "execution_count": 4,
   "metadata": {},
   "outputs": [
    {
     "name": "stdout",
     "output_type": "stream",
     "text": [
      "{1, 2, 3, 4, 5, 6, 7}\n"
     ]
    }
   ],
   "source": [
    "#Union\n",
    "# union can be define | operator\n",
    "# all elements of two sets\n",
    "print(s1|s2)"
   ]
  },
  {
   "cell_type": "code",
   "execution_count": 5,
   "metadata": {},
   "outputs": [
    {
     "name": "stdout",
     "output_type": "stream",
     "text": [
      "{2, 3, 4, 5, 6}\n"
     ]
    }
   ],
   "source": [
    "#Intersection\n",
    "# Intersection can be define & operator\n",
    "# all common elements of two set\n",
    "print(s1&s2)"
   ]
  },
  {
   "cell_type": "code",
   "execution_count": 6,
   "metadata": {},
   "outputs": [
    {
     "name": "stdout",
     "output_type": "stream",
     "text": [
      "{1}\n",
      "{7}\n"
     ]
    }
   ],
   "source": [
    "#Difference\n",
    "#Difference can be define - operator\n",
    "# all uncommon elements\n",
    "print(s1-s2)\n",
    "print(s2-s1)\n"
   ]
  },
  {
   "cell_type": "code",
   "execution_count": 7,
   "metadata": {},
   "outputs": [
    {
     "name": "stdout",
     "output_type": "stream",
     "text": [
      "{1, 7}\n",
      "{1, 7}\n"
     ]
    }
   ],
   "source": [
    "#Symmetric Difference\n",
    "#Symmetric Difference can be define ^ operator\n",
    "# removing all common element\n",
    "print(s1^s2)\n"
   ]
  },
  {
   "cell_type": "code",
   "execution_count": 10,
   "metadata": {},
   "outputs": [
    {
     "name": "stdout",
     "output_type": "stream",
     "text": [
      "{1, 2, 3, 4, 5, 6}\n",
      "{1, 2, 3, 4, 5, 6, 77}\n",
      "{1, 2, 3, 4, 5, 6, 77}\n"
     ]
    }
   ],
   "source": [
    "#Set Methods\n",
    "#add() method \n",
    "#add single element at a time presented than it will not add it\n",
    "print(s1)\n",
    "s1.add(77)\n",
    "print(s1)\n",
    "s1.add(5)\n",
    "print(s1)"
   ]
  },
  {
   "cell_type": "code",
   "execution_count": 17,
   "metadata": {},
   "outputs": [
    {
     "name": "stdout",
     "output_type": "stream",
     "text": [
      "{1, 2, 3, 4, 5, 6, 77}\n",
      "{1, 2, 3, 4, 5, 6, 77} {1, 2, 3, 4, 5, 6, 'k2', 77, 'k1'}\n",
      "{1, 2, 3, 4, 5, 6, 'k2', 77, 'k1'}\n",
      "{1, 2, 3, 4, 5, 6, 'k2', 77, 'k1'}\n"
     ]
    }
   ],
   "source": [
    "#update() method \n",
    "#it can add multiple element at time from a set \n",
    "print(s1)\n",
    "s2.update(s1)\n",
    "\n",
    "print(s1,s2)\n",
    "print(s2)\n",
    "dic = {'k1':788,'k2':78980}#it just add key only\n",
    "s2.update(dic)\n",
    "print(s2)"
   ]
  },
  {
   "cell_type": "code",
   "execution_count": 20,
   "metadata": {},
   "outputs": [
    {
     "name": "stdout",
     "output_type": "stream",
     "text": [
      "{2, 3, 4, 5, 6, 7}\n",
      "{2, 3, 4, 5, 6}\n"
     ]
    }
   ],
   "source": [
    "#remove() method\n",
    "#removes the specified element from the set.\n",
    "print(s2)\n",
    "s2.remove(7) # if not present than it will give an error\n",
    "print(s2)"
   ]
  },
  {
   "cell_type": "code",
   "execution_count": 23,
   "metadata": {},
   "outputs": [
    {
     "name": "stdout",
     "output_type": "stream",
     "text": [
      "{2, 3, 5, 6}\n",
      "{2, 3, 5, 6}\n"
     ]
    }
   ],
   "source": [
    "#discard() method\n",
    "# same as remove() method if element not presnet than it will not give an error\n",
    "print(s2)\n",
    "s2.discard(4)\n",
    "print(s2)\n",
    "s2.discard(99)\n"
   ]
  },
  {
   "cell_type": "code",
   "execution_count": 27,
   "metadata": {},
   "outputs": [
    {
     "name": "stdout",
     "output_type": "stream",
     "text": [
      "{2, 3, 5, 6}\n",
      "{2, 3, 5, 6}\n"
     ]
    }
   ],
   "source": [
    "#copy() method\n",
    "#create a copy of set\n",
    "s3 = {}\n",
    "s3 = set(s3) \n",
    "s3 = s2.copy()\n",
    "print(s3)\n",
    "# with = operator\n",
    "s4 = s3\n",
    "print(s4)"
   ]
  },
  {
   "cell_type": "code",
   "execution_count": 28,
   "metadata": {},
   "outputs": [
    {
     "name": "stdout",
     "output_type": "stream",
     "text": [
      "{2, 3, 5, 6}\n",
      "set()\n"
     ]
    }
   ],
   "source": [
    "#clear() method \n",
    "# it remove all element in set\n",
    "print(s4)\n",
    "s4.clear()\n",
    "print(s4)"
   ]
  },
  {
   "cell_type": "code",
   "execution_count": 31,
   "metadata": {},
   "outputs": [
    {
     "name": "stdout",
     "output_type": "stream",
     "text": [
      "{2, 3, 5, 6}\n",
      "{3, 5, 6}\n"
     ]
    }
   ],
   "source": [
    "#pop() method \n",
    "# it randomly remove any element from set\n",
    "print(s2)\n",
    "s2.pop()\n",
    "print(s2)"
   ]
  },
  {
   "cell_type": "code",
   "execution_count": 35,
   "metadata": {},
   "outputs": [
    {
     "name": "stdout",
     "output_type": "stream",
     "text": [
      "{4, 70, 678, 9, 78} {2, 4, 5, 6, 7, 8, 9} {48, 4, 9, 156, 894, 78799}\n",
      "s1 U s2 : {2, 4, 5, 70, 678, 6, 9, 7, 8, 78}\n",
      "s2 U s1 : {2, 4, 5, 6, 7, 8, 9, 70, 678, 78}\n",
      "s1 U s2 U s3 : {2, 4, 5, 70, 678, 6, 9, 7, 8, 78, 78799, 48, 156, 894}\n"
     ]
    }
   ],
   "source": [
    "#union() method\n",
    "#returns a new set with distinct elements from all the sets.\n",
    "s1 = {4,78,9,9,678,70}\n",
    "s2 = {7,8,9,7,5,6,7,9,2,4}\n",
    "s3 ={78799,156,4,894,9,48,4}\n",
    "print(s1,s2,s3)\n",
    "print(\"s1 U s2 :\",s1.union(s2))\n",
    "print(\"s2 U s1 :\",s2.union(s1)) #same\n",
    "print(\"s1 U s2 U s3 :\",s1.union(s2,s3))\n"
   ]
  },
  {
   "cell_type": "code",
   "execution_count": 36,
   "metadata": {},
   "outputs": [
    {
     "name": "stdout",
     "output_type": "stream",
     "text": [
      "{4, 70, 678, 9, 78} {2, 4, 5, 6, 7, 8, 9} {48, 4, 9, 156, 894, 78799}\n",
      "s1 - s2 : {78, 678, 70}\n",
      "s2 - s1 : {2, 5, 6, 7, 8}\n",
      "(s1 - s2) - s3 : {78, 678, 70}\n"
     ]
    }
   ],
   "source": [
    "#difference() method \n",
    "#the difference of two sets and returns items that are unique to the first set.\n",
    "print(s1,s2,s3)\n",
    "print(\"s1 - s2 :\",s1.difference(s2))\n",
    "print(\"s2 - s1 :\",s2.difference(s1)) #same\n",
    "print(\"(s1 - s2) - s3 :\",s1.difference(s2,s3))\n"
   ]
  },
  {
   "cell_type": "code",
   "execution_count": 37,
   "metadata": {},
   "outputs": [
    {
     "name": "stdout",
     "output_type": "stream",
     "text": [
      "{4, 70, 678, 9, 78} {2, 4, 5, 6, 7, 8, 9}\n",
      "{70, 678, 78}\n"
     ]
    }
   ],
   "source": [
    "#difference_update() method\n",
    "#he difference between two sets (A - B) and updates set A with the resulting set. it change the orignal set\n",
    "print(s1,s2)\n",
    "s1.difference_update(s2)\n",
    "print(s1)"
   ]
  },
  {
   "cell_type": "code",
   "execution_count": 41,
   "metadata": {},
   "outputs": [
    {
     "name": "stdout",
     "output_type": "stream",
     "text": [
      "{9, 4}\n",
      "{9, 4}\n"
     ]
    }
   ],
   "source": [
    "#intersection() method \n",
    "#returns a new set with elements that are common to all sets.\n",
    "s1 = {4,78,9,9,678,70}\n",
    "s2 = {7,8,9,7,5,6,7,9,2,4}\n",
    "s3 ={78799,156,4,894,9,48,4}\n",
    "print(s1.intersection(s2))\n",
    "print(s1.intersection(s2,s3))\n",
    "\n"
   ]
  },
  {
   "cell_type": "code",
   "execution_count": 42,
   "metadata": {},
   "outputs": [
    {
     "name": "stdout",
     "output_type": "stream",
     "text": [
      "{4, 70, 678, 9, 78}\n",
      "{9, 4}\n"
     ]
    }
   ],
   "source": [
    "#intersection_update() method\n",
    "# it update the set with common elments of two or more set\n",
    "print(s1)\n",
    "s1.intersection_update(s2,s3)\n",
    "print(s1)"
   ]
  },
  {
   "cell_type": "code",
   "execution_count": 44,
   "metadata": {},
   "outputs": [
    {
     "name": "stdout",
     "output_type": "stream",
     "text": [
      "{2, 5, 6, 7, 8, 70, 78, 678}\n"
     ]
    }
   ],
   "source": [
    "# symmetric_difference() method\n",
    "# returns a new set with all uncommon element of an set \n",
    "s1 = {4,78,9,9,678,70}\n",
    "s2 = {7,8,9,7,5,6,7,9,2,4}\n",
    "s3 ={78799,156,4,894,9,48,4}\n",
    "print(s1.symmetric_difference(s2))\n"
   ]
  },
  {
   "cell_type": "code",
   "execution_count": 46,
   "metadata": {},
   "outputs": [
    {
     "name": "stdout",
     "output_type": "stream",
     "text": [
      "{2, 5, 70, 7, 6, 8, 78, 678}\n",
      "{4, 70, 9, 78, 678}\n"
     ]
    }
   ],
   "source": [
    "#symmetric_difference_update() method\n",
    "# update the set with all uncommon elements of it\n",
    "print(s1)\n",
    "s1.symmetric_difference_update(s2)\n",
    "print(s1)"
   ]
  },
  {
   "cell_type": "code",
   "execution_count": 52,
   "metadata": {},
   "outputs": [
    {
     "name": "stdout",
     "output_type": "stream",
     "text": [
      "{4, 70, 9, 78, 678}\n",
      "{2, 4, 5, 6, 7, 8, 9}\n",
      "{48, 4, 9, 156, 894, 78799}\n",
      "False\n",
      "False\n"
     ]
    }
   ],
   "source": [
    "#isdisjoint() method \n",
    "#true if do not have any common element \n",
    "# false if they common elment\n",
    "print(f\"{s1}\\n{s2}\\n{s3}\")\n",
    "print(s1.isdisjoint(s2))\n",
    "print(s2.isdisjoint(s3))\n"
   ]
  },
  {
   "cell_type": "code",
   "execution_count": 54,
   "metadata": {},
   "outputs": [
    {
     "name": "stdout",
     "output_type": "stream",
     "text": [
      "False\n",
      "True\n"
     ]
    }
   ],
   "source": [
    "#issubset() method\n",
    "# true if A is subset of B or if all the elements of set A are present in set B\n",
    "#false  else\n",
    "a = {1,2,3,4,5,6}\n",
    "b ={3,4,5}\n",
    "print(a.issubset(b))\n",
    "print(b.issubset(a))\n",
    "\n"
   ]
  },
  {
   "cell_type": "code",
   "execution_count": 55,
   "metadata": {},
   "outputs": [
    {
     "name": "stdout",
     "output_type": "stream",
     "text": [
      "True\n",
      "False\n"
     ]
    }
   ],
   "source": [
    "#issuperset() method\n",
    "# true if A is superset of B or if all the elements of set A are present in set B\n",
    "#false  else\n",
    "a = {1,2,3,4,5,6}\n",
    "b ={3,4,5}\n",
    "print(a.issuperset(b))\n",
    "print(b.issuperset(a))"
   ]
  },
  {
   "cell_type": "code",
   "execution_count": 59,
   "metadata": {},
   "outputs": [
    {
     "name": "stdout",
     "output_type": "stream",
     "text": [
      "<class 'set'>\n",
      "<class 'frozenset'>\n"
     ]
    },
    {
     "ename": "AttributeError",
     "evalue": "'frozenset' object has no attribute 'add'",
     "output_type": "error",
     "traceback": [
      "\u001b[1;31m---------------------------------------------------------------------------\u001b[0m",
      "\u001b[1;31mAttributeError\u001b[0m                            Traceback (most recent call last)",
      "\u001b[1;32me:\\PROGAMMING\\100 DAYS OF CODE CHALLENGE\\DAY-005.ipynb Cell 32\u001b[0m in \u001b[0;36m<cell line: 8>\u001b[1;34m()\u001b[0m\n\u001b[0;32m      <a href='vscode-notebook-cell:/e%3A/PROGAMMING/100%20DAYS%20OF%20CODE%20CHALLENGE/DAY-005.ipynb#ch0000033?line=5'>6</a>\u001b[0m s \u001b[39m=\u001b[39m \u001b[39mfrozenset\u001b[39m(s)\n\u001b[0;32m      <a href='vscode-notebook-cell:/e%3A/PROGAMMING/100%20DAYS%20OF%20CODE%20CHALLENGE/DAY-005.ipynb#ch0000033?line=6'>7</a>\u001b[0m \u001b[39mprint\u001b[39m(\u001b[39mtype\u001b[39m(s))\n\u001b[1;32m----> <a href='vscode-notebook-cell:/e%3A/PROGAMMING/100%20DAYS%20OF%20CODE%20CHALLENGE/DAY-005.ipynb#ch0000033?line=7'>8</a>\u001b[0m s\u001b[39m.\u001b[39;49madd(\u001b[39m5\u001b[39m)\n",
      "\u001b[1;31mAttributeError\u001b[0m: 'frozenset' object has no attribute 'add'"
     ]
    }
   ],
   "source": [
    "# frozenset()\n",
    "#Frozen set is just an immutable version of a  set \n",
    "# (set/dict/tuple)\n",
    "s = {1,778,8,9}\n",
    "print(type(s))\n",
    "s = frozenset(s)\n",
    "print(type(s))\n",
    "# s.add(5) it will give error due to frozenset\n"
   ]
  },
  {
   "cell_type": "code",
   "execution_count": 60,
   "metadata": {},
   "outputs": [
    {
     "name": "stdout",
     "output_type": "stream",
     "text": [
      "<class 'dict'>\n",
      "frozenset({'k2', 'k1'})\n",
      "<class 'frozenset'>\n"
     ]
    }
   ],
   "source": [
    "# dict to forzenset()\n",
    "dic = {'k1':78,\"k2\":786}\n",
    "print(type(dic))\n",
    "fdic = frozenset(dic)#only key\n",
    "print(fdic)\n",
    "print(type(fdic))\n"
   ]
  }
 ],
 "metadata": {
  "kernelspec": {
   "display_name": "Python 3.10.4 64-bit",
   "language": "python",
   "name": "python3"
  },
  "language_info": {
   "codemirror_mode": {
    "name": "ipython",
    "version": 3
   },
   "file_extension": ".py",
   "mimetype": "text/x-python",
   "name": "python",
   "nbconvert_exporter": "python",
   "pygments_lexer": "ipython3",
   "version": "3.10.4"
  },
  "orig_nbformat": 4,
  "vscode": {
   "interpreter": {
    "hash": "d818f4a5b132e7f66021d3e7c19c2b7a86b89f9388f799e2d6a66075690a4386"
   }
  }
 },
 "nbformat": 4,
 "nbformat_minor": 2
}
