{
 "cells": [
  {
   "cell_type": "markdown",
   "metadata": {},
   "source": [
    "# Day- 5️3 of 100dayofcode [07/09/2022 Wednesay]"
   ]
  },
  {
   "cell_type": "markdown",
   "metadata": {},
   "source": [
    "## Projetc-4\n",
    "### GUI Register And Login System Project Using Tkinter"
   ]
  },
  {
   "cell_type": "code",
   "execution_count": 91,
   "metadata": {},
   "outputs": [],
   "source": [
    "from tkinter import *\n",
    "from PIL import ImageTk, Image\n",
    "from tkinter import messagebox\n",
    "\n",
    "root = Tk()\n",
    "root.geometry(\"950x500+300+150\")\n",
    "root.title(\"Login\")\n",
    "root.config(bg=\"#005ae6\")\n",
    "root.resizable(0,0)\n",
    "    \n",
    "img = ImageTk.PhotoImage(Image.open(\"a1.jpg\"))\n",
    "l = Label(root, image=img,bg='#005ae6').place(x=0,y=-10)\n",
    "\n",
    "f  = Frame(root,width=400,height=400,bg=\"#005ae6\")\n",
    "f.place(x=500,y=40)\n",
    "\n",
    "sign = Label(f,text='Sign in',fg=\"white\",bg=\"#005ae6\",font=(\"Microsoft YaHei UI Light\",20,\"bold\")).place(x=150,y=10)\n",
    "#________________________________________________________________________________________________\n",
    "#________________________________________________________________________________________________\n",
    "def on_enter(event):\n",
    "    signw.delete(0,\"end\")\n",
    "    \n",
    "def on_leave(event):\n",
    "    name = signw.get()\n",
    "    if name ==\"\":\n",
    "        signw.insert(0,\"Username \")\n",
    "    \n",
    "\n",
    "\n",
    "\n",
    "signw = Entry(f,width=50,fg=\"white\",bg=\"#005ae6\",bd=0,font=(\"Microsoft YaHei UI Light\",11),cursor=\"xterm\",insertbackground=\"white\")\n",
    "signw.place(x=20,y=70)\n",
    "signw.insert(0,\"Username \")\n",
    "Frame(f,width=500,height=2,bg='black').place(x=20,y=90)\n",
    "signw.bind(\"<FocusIn>\",on_enter)\n",
    "signw.bind(\"<FocusOut>\",on_leave)\n",
    "\n",
    "#________________________________________________________________________________________________\n",
    "#________________________________________________________________________________________________\n",
    "\n",
    "def on_enter(event):\n",
    "    passw.delete(0,\"end\")\n",
    "    \n",
    "def on_leave(event):\n",
    "    npass = passw.get()\n",
    "    if npass ==\"\":\n",
    "        passw.insert(0,\"Password \")\n",
    "    \n",
    "    \n",
    "passw = Entry(f,width=50,fg=\"white\",bg=\"#005ae6\",bd=0,font=(\"Microsoft YaHei UI Light\",11),cursor=\"xterm\",insertbackground=\"white\")\n",
    "passw.place(x=20,y=120)\n",
    "passw.insert(0,\"Password \")\n",
    "Frame(f,width=500,height=2,bg='black').place(x=20,y=140)\n",
    "\n",
    "passw.bind(\"<FocusIn>\",on_enter)\n",
    "passw.bind(\"<FocusOut>\",on_leave)\n",
    "#________________________________________________________________________________________________\n",
    "#________________________________________________________________________________________________\n",
    "def sign_up():\n",
    "    username = signw.get()\n",
    "    password = passw.get()\n",
    "    if(username == \"ayush\" and password == \"1234\"):\n",
    "        toplevel = Toplevel(root)\n",
    "        toplevel.title(\"LOGGED-In\")\n",
    "        toplevel.geometry(\"300x300+400+300\")\n",
    "        toplevel.config(bg=\"#75e6da\")\n",
    "        Label(toplevel,text=f\"Hey {username}\",font=(\"Microsoft YaHei UI Light\",20),fg='#05445e',bg=\"#75e6da\").pack(expand=True)\n",
    "    elif(username != \"ayush\" and password != \"1234\"):\n",
    "           m =  messagebox.showerror(\"Invaild\",\"Invaild Username and Password\")\n",
    "    elif(username != \"ayush\"):\n",
    "       m =  messagebox.showerror(\"Invaild\",\"Invaild Username\")\n",
    "    elif(password != \"1234\"):\n",
    "       m =  messagebox.showerror(\"Invaild\",\"Invaild Password\")\n",
    "    \n",
    "    \n",
    "\n",
    "Button(f,text=\"Sign in\",font=(\"Microsoft YaHei UI Light\",12),fg=\"white\",bg=\"#05207A\",width=40,height=1,bd=0,command=sign_up).place(x=27,y=180)\n",
    "bl = Label(f,text=\"Don't have an account?\",font=(\"Microsoft YaHei UI Light\",11),fg='#ffb600',bg=\"#005ae6\").place(x=90,y=230)\n",
    "sign_upb = Button(f,text='Sign up',font=(\"Microsoft YaHei UI Light\",10,),fg=\"white\",bg=\"#005ae6\",bd=0,cursor=\"hand2\").place(x=265,y=227)\n",
    "        \n",
    "\n",
    "root.mainloop() "
   ]
  },
  {
   "cell_type": "code",
   "execution_count": null,
   "metadata": {},
   "outputs": [],
   "source": []
  },
  {
   "cell_type": "code",
   "execution_count": null,
   "metadata": {},
   "outputs": [],
   "source": []
  },
  {
   "cell_type": "code",
   "execution_count": null,
   "metadata": {},
   "outputs": [],
   "source": []
  },
  {
   "cell_type": "code",
   "execution_count": null,
   "metadata": {},
   "outputs": [],
   "source": []
  },
  {
   "cell_type": "code",
   "execution_count": null,
   "metadata": {},
   "outputs": [],
   "source": []
  }
 ],
 "metadata": {
  "kernelspec": {
   "display_name": "Python 3.10.6 64-bit",
   "language": "python",
   "name": "python3"
  },
  "language_info": {
   "codemirror_mode": {
    "name": "ipython",
    "version": 3
   },
   "file_extension": ".py",
   "mimetype": "text/x-python",
   "name": "python",
   "nbconvert_exporter": "python",
   "pygments_lexer": "ipython3",
   "version": "3.10.6"
  },
  "orig_nbformat": 4,
  "vscode": {
   "interpreter": {
    "hash": "d818f4a5b132e7f66021d3e7c19c2b7a86b89f9388f799e2d6a66075690a4386"
   }
  }
 },
 "nbformat": 4,
 "nbformat_minor": 2
}
